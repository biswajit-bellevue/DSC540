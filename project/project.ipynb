{
 "cells": [
  {
   "cell_type": "markdown",
   "id": "f6d0da19-2be8-4704-8b88-d7ccec520e39",
   "metadata": {},
   "source": [
    "# Term Project"
   ]
  },
  {
   "cell_type": "markdown",
   "id": "219aadf5-0668-4f80-8785-37657c61ef50",
   "metadata": {},
   "source": [
    "## Relationship between Population, Air pollution and Respiratory diseases like COPD and Asthma"
   ]
  },
  {
   "cell_type": "markdown",
   "id": "1ac89d1f-5201-4502-bade-847df575ec01",
   "metadata": {},
   "source": [
    "It is well known that _respiratory diseases_ are closely related to _air pollution_. Air pollutants can significantly affect the lungs and other parts of the respiratory system. When we breathe in air with pollutants that reach the lungs and other parts of the respiratory tract, it might cause irritation, inflammation, and damage. There are various factors that add to air pollution in a city, state, or country. Different locations within a state like counties could have different amounts of air pollution. <br>\n",
    "\n",
    "_Population_ may also effect air pollution. The increased population can lead to increased transportation, deforestation, factories and industries, house cooking, and heating. All of these aid in increasing air pollution. Therefore, regions with higher populations will also have increased air pollution and higher prevalence of respiratory diseases like COPD and Asthma. This study will investigate if there is _any relationship between population and air pollution, which in turn increases the risk of respiratory diseases._"
   ]
  },
  {
   "cell_type": "markdown",
   "id": "ac0ddc10-d854-4a80-8c8e-f68ef77d46de",
   "metadata": {},
   "source": [
    "##### Data sources"
   ]
  },
  {
   "cell_type": "markdown",
   "id": "a1f513bb-7a6d-4136-8785-b5ff60140afd",
   "metadata": {},
   "source": [
    " 1. **Flat Files**\n",
    "    - **2021 SMART: BRFSS City and County Data**\n",
    "    The Behavioral Risk Factor Surveillance System (BRFSS) is the nation’s premier system of health-related telephone surveys that collect state data about U.S. residents regarding their health-related risk behaviors, chronic health conditions, and use of preventive services. The Behavioral Risk Factor Surveillance System (BRFSS) Selected Metropolitan/Micropolitan Area Risk Trends (SMART) is a documented and verified subset of the 2021 BRFSS that has been produced to provide some local-area estimates (CDC. n.d.).\n",
    "This file contains BRFSS survey data released on November 2022. Dataset is in ASCII fixed width format. There are many varibales in dataset some of which are coded and transformed. Dataset variable layout can be refered [here][1] and The defination of calculated varibales can be refered in [BRFSS website][2].\n",
    "\n",
    "**[Link to dataset][3]**\n",
    "\n",
    "The variables will be extracted and used in this study from this dataset.\n",
    "* _SEX - Gender\n",
    "* _RACE - Race\n",
    "* _AGE_G - Age category (e.g. 1: 18-24, 2: 25-34)\n",
    "* WTKG3 - Weight in Kgs\n",
    "* HTIN4 - Height in inches\n",
    "* _BMI5 - Calculated Body mass index\n",
    "* _SMOKER3 - Smoking status level (e.g. 1: current smoker, smokes ever day, 2: current smoker, smokes some days)\n",
    "* _CURECI1 - Denotes whether repondent uses e-cigarette\n",
    "* _LTASTH1 - Denotes whether repondent reported that they ever had Asthma\n",
    "* _CASTHM1 - Denotes whether repondent reported that they currently have Asthma\n",
    "* MMSANAME - Metropolitan Statistical Area name. This variable provides both state and county/main city name of the repondent\n",
    "\n",
    "    - **Estimated COPD prevalance by County**\n",
    "    This dataset contains modeled COPD prevalence based on BRFSS survey data for counties. This dataset is a comma-separated file containing estimated COPD prevalance and its $95$% confidence interval, county name and state name.\n",
    "**[Link to dataset][4]**\n",
    "\n",
    "The below variables will used or referred in this study from this dataset.\n",
    "* FullGeoName - Name of the location including State code and County\n",
    "* StateDesc - State full nme\n",
    "* County - County name\n",
    "* Percent_COPD - Percentage estimates of COPD in a county.\n",
    "\n",
    "\n",
    "[1]:https://www.cdc.gov/brfss/annual_data/2021/pdf/MMSA_VarLayout_21-508.pdf\n",
    "[2]:https://www.cdc.gov/brfss/annual_data/2021/pdf/2021-calculated-variables-version4-508.pdf\n",
    "[3]:https://www.cdc.gov/brfss/annual_data/2021/files/MMSA2021_ASC.zip\n",
    "[4]:https://www.cdc.gov/copd/data-and-statistics/county-estimates.html"
   ]
  },
  {
   "cell_type": "markdown",
   "id": "2aab630d-dff7-4d17-a71b-7a4b20be8677",
   "metadata": {},
   "source": [
    "2. **API**\n",
    "   - **Air Pollution API**\n",
    "     Air pollution api from OpenWeather provides current air pollution data like air quality index and particulates for a set of coordinates (latitude and longitude). We can pass latitude and longitude in the api request call to retrive current air pollution data for that location.\n",
    "     [Link to API documentation][1]\n",
    "\n",
    "\n",
    "   - **Geocoding API**\n",
    "     Geocoding api provides geographical coordinates (latitude and longitude) by using location area name like city or county. We can pass location area name (e.g. town), state code and a ISO 3166 coutry code (like US, UK, etc.) to retrieve latitude and longitude for that location area.\n",
    "     [Link to API documentation][2]\n",
    "\n",
    "\n",
    "For this study the below fields from the air pollution api response will be extracted and used:\n",
    "* _aqi_ - Air Quality Index.\n",
    "* _co_ - Concentration of Carbon monoxide\n",
    "* _no_ - Concentration of Nitrogen monoxide\n",
    "* _no2_ - Concentration of Nitrogen dioxide\n",
    "* _o3_ - Concentration of Ozone\n",
    "* _pm2_5_ - Concentration of [Fine particles matter][3]\n",
    "* _pm10_ - Concentration of [Coarse particulate matter][4]\n",
    "* _nh3_ - Concentration of Ammonia\n",
    "\n",
    "Possible values and levels mapping (e.g. low, high, moderate, etc.) can be referred in this [link][5].\n",
    "\n",
    "[1]:https://openweathermap.org/api/air-pollution\n",
    "[2]:https://openweathermap.org/api/geocoding-api#direct\n",
    "[3]:https://en.wikipedia.org/wiki/Particulates\n",
    "[4]:https://en.wikipedia.org/wiki/Particulates#Size,_shape_and_solubility_matter\n",
    "[5]:https://openweathermap.org/air-pollution-index-levels\n"
   ]
  },
  {
   "cell_type": "markdown",
   "id": "948dbd14-a297-4695-b7da-118f18ca7031",
   "metadata": {},
   "source": [
    "3. **Website**\n",
    "   - **Wikipedia - County statistics of the United States**\n",
    "     Wikipedia [County statistics of the United States][1] page contains the links to further Wikipedia pages with county statistics for US states. These state level Wikipedia pages contain data like Population, Area, etc. and main city for each counties in a state [e.g. Texas][2].\n",
    "     \n",
    "   ![Image][3]\n",
    "   <center>Fig 1. Website snip from the Texas Wiki page showinf data layout</center>\n",
    "\n",
    "From the _wiki_ website page, `County name`, `County Seat/Largest Town`, `Fips Code`, `Population` and `Area` will be extracted for this study. `County Seat` is similar to main town within in a county.\n",
    "    \n",
    "[1]:https://en.wikipedia.org/wiki/County_statistics_of_the_United_States\n",
    "[2]:https://en.wikipedia.org/wiki/List_of_counties_in_Texas\n",
    "[3]:./texas.jpg\n"
   ]
  },
  {
   "cell_type": "markdown",
   "id": "f087f6e4-0579-47d6-a24d-9c372c124b5a",
   "metadata": {},
   "source": [
    "<br>"
   ]
  },
  {
   "cell_type": "markdown",
   "id": "5cc72f8d-38a4-4ad3-804d-22be41147175",
   "metadata": {},
   "source": [
    "#### Relationship"
   ]
  },
  {
   "cell_type": "markdown",
   "id": "652bfd65-e505-4f29-8d24-1ec8c3350b05",
   "metadata": {},
   "source": [
    "**Flat Files**: _BRFSS Ascii format fixed width file_ contains survey data from respondents which includes various health related indicators including Asthma and also the location(county/town and state) the respondent belongs.\n",
    "_COPD prevalence csv dataset_ contains the estimated COPD prevalence percentage by location(county and state).\n",
    "\n",
    "**API**: _Geocoding Api_ provides latitude and longitude based on a location (town and state). _Air pollution api_ provides air pollution indicators based on latitude and longitude. Therefore, combining thes two apis we can retrieve air pollution indicators for a location.\n",
    "\n",
    "**Website**: _Wikipedia_ website provides the population data by county, main town (county seat) and state.\n",
    "\n",
    "The above `three` data sources are related by _location(county/town and state)_."
   ]
  },
  {
   "cell_type": "markdown",
   "id": "08ae52f1-4b8f-4f2d-bb10-f969485a2750",
   "metadata": {},
   "source": [
    "<br>"
   ]
  },
  {
   "cell_type": "markdown",
   "id": "dbac50c5-bf48-4e9b-ae8b-3d0d110d840e",
   "metadata": {},
   "source": [
    "HTML pages of the website will be parsed using _web scraping_ to retrieve the area, population, county name, main town for each US state. This extracted data will be stored in a database table which will provide population for all counties for all US states. The latitude and longitude for the main town of a county will be identified utilizing the Geocoding API. Latitude and longitude will be then subsequently used to retrieve air pollution indicators for that town. Thus, air pollution indicators for the all the counties will be retrieved and stored in a database table. The ASCII flat file will be parsed to retrieve each respondent's Asthma response and smoking habits. The responses must be rolled up at the county level to calculate the Asthma prevalence and smoking habits percentage for each county. This data will be joined with the COPD prevalence CSV flat file and loaded in a single database table, which will serve as a source for both COPD and Asthma prevalence for all the counties. <br>\n",
    "\n",
    "In each stage of retrieving and cleaning data from the source, the detection and the removal of outliers will also be performed. Further transformations like grouping, subsetting, whitespace removal, string manipulation may also need to be implemented to cleanse or parse data.<br> \n",
    "\n",
    "After the data from each source has been organized at the county level, those will be joined using county and state to create a single table or dataset, which will then serve as the source to generate visualizations for investigation of the relationship between population, air polution and repiratory diseases.<br>\n",
    "\n",
    "There are some known limitations in this study like _sampling bias_, _measurement error_, and lack of _causality_ inference. As the BRFSS SMART data is a telephonic interview, the sample of respondendents answered the interview might not be a whole representation of the population because some persons might not be willing to participate in the survey and hence there are chances some communities are under representated introducing sampling bias. There are also chances that respondents mistakenly provide incorrect information or round up values which will introduce measurement error. This study will not be able to provide any causality to conclude increased population causes increased air pollution and which causes increases in repiratory diseases. Such cause and effect inferences can not be confirmed by this study. This study will be able to establish if relationship exists between population, air pollution and respiratory diseases, but not conclude whether one is caused by the other.<br>\n",
    "\n",
    "Ethical considerations are important in any research study to ensure data privacy and the integrity of the research process. The BRFSS SMART survey data is anynomous and there is no information available to idenify the respondents. Also all the other datasets do not contain any personaly identifiable data. Therefore there are no risks of data privacy associated with this study. However, the outcome of the study must be reported with transparency and integrity irrespective of whether the results are consistent with the expectations and hypothesis."
   ]
  },
  {
   "cell_type": "markdown",
   "id": "6dbcb165-ae33-43f7-aebc-c80adfe5bef0",
   "metadata": {},
   "source": [
    "#### Cleaning/Formatting Flat File Source"
   ]
  },
  {
   "cell_type": "markdown",
   "id": "223741a6-fc89-4d9e-8a59-b19dc290f11f",
   "metadata": {},
   "source": [
    "##### Step 1: Format ASCII data to read using fixed width only certain columns "
   ]
  },
  {
   "cell_type": "code",
   "execution_count": 10,
   "id": "96ddc907-2c43-4bcc-81fb-737793cd93b6",
   "metadata": {},
   "outputs": [],
   "source": [
    "import PyPDF2\n",
    "import os\n",
    "import re\n",
    "import pandas as pd\n",
    "from matplotlib import pyplot as plt"
   ]
  },
  {
   "cell_type": "code",
   "execution_count": 11,
   "id": "761b58a0-eeab-4313-90fe-dd0f6e80feb8",
   "metadata": {},
   "outputs": [],
   "source": [
    "# var_info = [\n",
    "#         ('age', 101, 102, int),\n",
    "#         ('sex', 143, 143, int),\n",
    "#         ('wtyrago', 127, 130, int),\n",
    "#         ('finalwt', 799, 808, int),\n",
    "#         ('wtkg2', 1254, 1258, int),\n",
    "#         ('htm3', 1251, 1253, int),\n",
    "#         ]\n",
    "\n",
    "# columns = ['name', 'start', 'end', 'type']\n",
    "\n",
    "# variables = pd.DataFrame(var_info, columns=columns)\n",
    "# variables"
   ]
  },
  {
   "cell_type": "code",
   "execution_count": 12,
   "id": "b137c031-c41c-4901-a4ab-66ed0ee4e122",
   "metadata": {},
   "outputs": [],
   "source": [
    "# variables.end += 1\n",
    "\n",
    "# variables"
   ]
  },
  {
   "cell_type": "code",
   "execution_count": 13,
   "id": "7b6b9803-866c-4d2b-b26a-7a7acc405de9",
   "metadata": {},
   "outputs": [],
   "source": [
    "\n",
    "# colspecs = variables[[\"start\", \"end\"]] - 1"
   ]
  },
  {
   "cell_type": "code",
   "execution_count": 14,
   "id": "e2084884-9bc3-4349-bdf9-c1998327f5a5",
   "metadata": {},
   "outputs": [],
   "source": [
    "# colspecs"
   ]
  },
  {
   "cell_type": "code",
   "execution_count": 15,
   "id": "99faba3c-f2a4-4630-8e2f-8d3bd5ec7a9d",
   "metadata": {},
   "outputs": [],
   "source": [
    "# # convert colspecs to a list of pair of int\n",
    "# colspecs = colspecs.astype(int).values.tolist()\n",
    "# names = variables[\"name\"]"
   ]
  },
  {
   "cell_type": "code",
   "execution_count": 16,
   "id": "62fa5919-b471-4603-8961-f2b19ca5a0dd",
   "metadata": {},
   "outputs": [],
   "source": [
    "# colspecs"
   ]
  },
  {
   "cell_type": "code",
   "execution_count": 17,
   "id": "1b6a6aac-1be9-4316-a848-c47108101c1b",
   "metadata": {},
   "outputs": [],
   "source": [
    "data = []\n",
    "with open('./datasets/MMSA_VarLayout_21-508.pdf', 'rb') as pdfFileObj:\n",
    "    # creating a pdf reader object\n",
    "    pdfReader = PyPDF2.PdfReader(pdfFileObj)\n",
    "    for each_page in pdfReader.pages:\n",
    "        # pageObj = pdfReader.pages[0]\n",
    "        # extracting text from page\n",
    "        # print(each_page.extract_text())\n",
    "        for text in each_page.extract_text().split(\"\\n\"):\n",
    "            matches = re.findall(\"^(\\d{1,3})\\s(\\w+)\\s+(\\d{1,2})\", text)\n",
    "            if matches:\n",
    "                data.append([matches[0][0],matches[0][1], matches[0][2]])"
   ]
  },
  {
   "cell_type": "code",
   "execution_count": 18,
   "id": "06e077b2-90fe-49bb-bc5f-98314c5a4358",
   "metadata": {},
   "outputs": [],
   "source": [
    "colnames_df = pd.DataFrame(data, columns=[\"start\", \"colname\", \"field_length\"])"
   ]
  },
  {
   "cell_type": "code",
   "execution_count": 19,
   "id": "04c3336c-89ed-45e0-b38c-8402322168e1",
   "metadata": {},
   "outputs": [
    {
     "data": {
      "text/html": [
       "<div>\n",
       "<style scoped>\n",
       "    .dataframe tbody tr th:only-of-type {\n",
       "        vertical-align: middle;\n",
       "    }\n",
       "\n",
       "    .dataframe tbody tr th {\n",
       "        vertical-align: top;\n",
       "    }\n",
       "\n",
       "    .dataframe thead th {\n",
       "        text-align: right;\n",
       "    }\n",
       "</style>\n",
       "<table border=\"1\" class=\"dataframe\">\n",
       "  <thead>\n",
       "    <tr style=\"text-align: right;\">\n",
       "      <th></th>\n",
       "      <th>start</th>\n",
       "      <th>colname</th>\n",
       "      <th>field_length</th>\n",
       "    </tr>\n",
       "  </thead>\n",
       "  <tbody>\n",
       "    <tr>\n",
       "      <th>0</th>\n",
       "      <td>1</td>\n",
       "      <td>DISPCODE</td>\n",
       "      <td>4</td>\n",
       "    </tr>\n",
       "    <tr>\n",
       "      <th>1</th>\n",
       "      <td>5</td>\n",
       "      <td>SEQNO</td>\n",
       "      <td>10</td>\n",
       "    </tr>\n",
       "    <tr>\n",
       "      <th>2</th>\n",
       "      <td>15</td>\n",
       "      <td>STATERE1</td>\n",
       "      <td>1</td>\n",
       "    </tr>\n",
       "    <tr>\n",
       "      <th>3</th>\n",
       "      <td>16</td>\n",
       "      <td>CELPHON1</td>\n",
       "      <td>1</td>\n",
       "    </tr>\n",
       "    <tr>\n",
       "      <th>4</th>\n",
       "      <td>17</td>\n",
       "      <td>LADULT1</td>\n",
       "      <td>1</td>\n",
       "    </tr>\n",
       "  </tbody>\n",
       "</table>\n",
       "</div>"
      ],
      "text/plain": [
       "  start   colname field_length\n",
       "0     1  DISPCODE            4\n",
       "1     5     SEQNO           10\n",
       "2    15  STATERE1            1\n",
       "3    16  CELPHON1            1\n",
       "4    17   LADULT1            1"
      ]
     },
     "execution_count": 19,
     "metadata": {},
     "output_type": "execute_result"
    }
   ],
   "source": [
    "colnames_df.head()"
   ]
  },
  {
   "cell_type": "code",
   "execution_count": 20,
   "id": "edacbef5-b848-4ecc-9018-d64d9c6e06b9",
   "metadata": {},
   "outputs": [
    {
     "data": {
      "text/html": [
       "<div>\n",
       "<style scoped>\n",
       "    .dataframe tbody tr th:only-of-type {\n",
       "        vertical-align: middle;\n",
       "    }\n",
       "\n",
       "    .dataframe tbody tr th {\n",
       "        vertical-align: top;\n",
       "    }\n",
       "\n",
       "    .dataframe thead th {\n",
       "        text-align: right;\n",
       "    }\n",
       "</style>\n",
       "<table border=\"1\" class=\"dataframe\">\n",
       "  <thead>\n",
       "    <tr style=\"text-align: right;\">\n",
       "      <th></th>\n",
       "      <th>start</th>\n",
       "      <th>colname</th>\n",
       "      <th>field_length</th>\n",
       "    </tr>\n",
       "  </thead>\n",
       "  <tbody>\n",
       "    <tr>\n",
       "      <th>147</th>\n",
       "      <td>251</td>\n",
       "      <td>_FRUITE1</td>\n",
       "      <td>1</td>\n",
       "    </tr>\n",
       "    <tr>\n",
       "      <th>148</th>\n",
       "      <td>252</td>\n",
       "      <td>_VEGETE1</td>\n",
       "      <td>1</td>\n",
       "    </tr>\n",
       "    <tr>\n",
       "      <th>149</th>\n",
       "      <td>253</td>\n",
       "      <td>_MMSAWT</td>\n",
       "      <td>10</td>\n",
       "    </tr>\n",
       "    <tr>\n",
       "      <th>150</th>\n",
       "      <td>263</td>\n",
       "      <td>MMSANAME</td>\n",
       "      <td>10</td>\n",
       "    </tr>\n",
       "    <tr>\n",
       "      <th>151</th>\n",
       "      <td>363</td>\n",
       "      <td>_MMSA</td>\n",
       "      <td>5</td>\n",
       "    </tr>\n",
       "  </tbody>\n",
       "</table>\n",
       "</div>"
      ],
      "text/plain": [
       "    start   colname field_length\n",
       "147   251  _FRUITE1            1\n",
       "148   252  _VEGETE1            1\n",
       "149   253   _MMSAWT           10\n",
       "150   263  MMSANAME           10\n",
       "151   363     _MMSA            5"
      ]
     },
     "execution_count": 20,
     "metadata": {},
     "output_type": "execute_result"
    }
   ],
   "source": [
    "colnames_df.tail()"
   ]
  },
  {
   "cell_type": "code",
   "execution_count": 21,
   "id": "9259e251-d5e4-4f38-be8f-e71fdd6b010e",
   "metadata": {},
   "outputs": [],
   "source": [
    "col_list = [\n",
    "    \"SEQNO\",\n",
    "    \"STATERE1\",\n",
    "    \"_SEX\",\n",
    "    \"_RACE\",\n",
    "    \"_AGE_G\",\n",
    "    \"WTKG3\",\n",
    "    \"_BMI5\",\n",
    "    \"_SMOKER3\",\n",
    "    \"_PNEUMO3\",\n",
    "    \"ASTHMA3\",\n",
    "    \"ASTHNOW\",\n",
    "    \"MMSANAME\",\n",
    "    \"_MMSA\",\n",
    "]"
   ]
  },
  {
   "cell_type": "code",
   "execution_count": 22,
   "id": "fee0e07c-500c-45a9-be01-5368e8bc1a0d",
   "metadata": {},
   "outputs": [],
   "source": [
    "required_colnames = colnames_df.query(f\"colname in {col_list}\").reset_index(drop=True)"
   ]
  },
  {
   "cell_type": "code",
   "execution_count": 23,
   "id": "5a4967aa-a92f-485a-9b1b-b0f51f7ec674",
   "metadata": {},
   "outputs": [],
   "source": [
    "required_colnames[\"start\"] = required_colnames[\"start\"].astype(\"int\") - 1"
   ]
  },
  {
   "cell_type": "code",
   "execution_count": 24,
   "id": "fdf0a758-a155-4810-b132-6b6cb0e83460",
   "metadata": {},
   "outputs": [],
   "source": [
    "required_colnames[\"end\"] = required_colnames[\"start\"] + required_colnames[\"field_length\"].astype(\"int\") "
   ]
  },
  {
   "cell_type": "code",
   "execution_count": 25,
   "id": "5b19df06-d84e-45bf-b1f9-49608a6eb3c2",
   "metadata": {},
   "outputs": [
    {
     "data": {
      "text/html": [
       "<div>\n",
       "<style scoped>\n",
       "    .dataframe tbody tr th:only-of-type {\n",
       "        vertical-align: middle;\n",
       "    }\n",
       "\n",
       "    .dataframe tbody tr th {\n",
       "        vertical-align: top;\n",
       "    }\n",
       "\n",
       "    .dataframe thead th {\n",
       "        text-align: right;\n",
       "    }\n",
       "</style>\n",
       "<table border=\"1\" class=\"dataframe\">\n",
       "  <thead>\n",
       "    <tr style=\"text-align: right;\">\n",
       "      <th></th>\n",
       "      <th>start</th>\n",
       "      <th>colname</th>\n",
       "      <th>field_length</th>\n",
       "      <th>end</th>\n",
       "    </tr>\n",
       "  </thead>\n",
       "  <tbody>\n",
       "    <tr>\n",
       "      <th>0</th>\n",
       "      <td>4</td>\n",
       "      <td>SEQNO</td>\n",
       "      <td>10</td>\n",
       "      <td>14</td>\n",
       "    </tr>\n",
       "    <tr>\n",
       "      <th>1</th>\n",
       "      <td>14</td>\n",
       "      <td>STATERE1</td>\n",
       "      <td>1</td>\n",
       "      <td>15</td>\n",
       "    </tr>\n",
       "    <tr>\n",
       "      <th>2</th>\n",
       "      <td>47</td>\n",
       "      <td>ASTHMA3</td>\n",
       "      <td>1</td>\n",
       "      <td>48</td>\n",
       "    </tr>\n",
       "    <tr>\n",
       "      <th>3</th>\n",
       "      <td>48</td>\n",
       "      <td>ASTHNOW</td>\n",
       "      <td>1</td>\n",
       "      <td>49</td>\n",
       "    </tr>\n",
       "    <tr>\n",
       "      <th>4</th>\n",
       "      <td>168</td>\n",
       "      <td>_RACE</td>\n",
       "      <td>1</td>\n",
       "      <td>169</td>\n",
       "    </tr>\n",
       "    <tr>\n",
       "      <th>5</th>\n",
       "      <td>172</td>\n",
       "      <td>_SEX</td>\n",
       "      <td>1</td>\n",
       "      <td>173</td>\n",
       "    </tr>\n",
       "    <tr>\n",
       "      <th>6</th>\n",
       "      <td>178</td>\n",
       "      <td>_AGE_G</td>\n",
       "      <td>1</td>\n",
       "      <td>179</td>\n",
       "    </tr>\n",
       "    <tr>\n",
       "      <th>7</th>\n",
       "      <td>179</td>\n",
       "      <td>WTKG3</td>\n",
       "      <td>5</td>\n",
       "      <td>184</td>\n",
       "    </tr>\n",
       "    <tr>\n",
       "      <th>8</th>\n",
       "      <td>184</td>\n",
       "      <td>_BMI5</td>\n",
       "      <td>4</td>\n",
       "      <td>188</td>\n",
       "    </tr>\n",
       "    <tr>\n",
       "      <th>9</th>\n",
       "      <td>192</td>\n",
       "      <td>_SMOKER3</td>\n",
       "      <td>1</td>\n",
       "      <td>193</td>\n",
       "    </tr>\n",
       "    <tr>\n",
       "      <th>10</th>\n",
       "      <td>204</td>\n",
       "      <td>_PNEUMO3</td>\n",
       "      <td>1</td>\n",
       "      <td>205</td>\n",
       "    </tr>\n",
       "    <tr>\n",
       "      <th>11</th>\n",
       "      <td>262</td>\n",
       "      <td>MMSANAME</td>\n",
       "      <td>10</td>\n",
       "      <td>272</td>\n",
       "    </tr>\n",
       "    <tr>\n",
       "      <th>12</th>\n",
       "      <td>362</td>\n",
       "      <td>_MMSA</td>\n",
       "      <td>5</td>\n",
       "      <td>367</td>\n",
       "    </tr>\n",
       "  </tbody>\n",
       "</table>\n",
       "</div>"
      ],
      "text/plain": [
       "    start   colname field_length  end\n",
       "0       4     SEQNO           10   14\n",
       "1      14  STATERE1            1   15\n",
       "2      47   ASTHMA3            1   48\n",
       "3      48   ASTHNOW            1   49\n",
       "4     168     _RACE            1  169\n",
       "5     172      _SEX            1  173\n",
       "6     178    _AGE_G            1  179\n",
       "7     179     WTKG3            5  184\n",
       "8     184     _BMI5            4  188\n",
       "9     192  _SMOKER3            1  193\n",
       "10    204  _PNEUMO3            1  205\n",
       "11    262  MMSANAME           10  272\n",
       "12    362     _MMSA            5  367"
      ]
     },
     "execution_count": 25,
     "metadata": {},
     "output_type": "execute_result"
    }
   ],
   "source": [
    "required_colnames"
   ]
  },
  {
   "cell_type": "code",
   "execution_count": 6,
   "id": "a65da0f6-1c09-4671-826a-e9a78a361ed4",
   "metadata": {},
   "outputs": [
    {
     "data": {
      "text/plain": [
       "73"
      ]
     },
     "execution_count": 6,
     "metadata": {},
     "output_type": "execute_result"
    }
   ],
   "source": [
    "output_file = open(\"./datasets/asthma_data.csv\", \"w\")\n",
    "output_file.write(\n",
    "    \"_LTASTH1\" + \"|\" \n",
    "    + \"_CASTHM1\" + \"|\" \n",
    "    + \"_ASTHMS1\" + \"|\" \n",
    "    + \"MMSANAME_COUNTY\" + \"|\" \n",
    "    + \"MMSANAME_STATE\" + \"|\"\n",
    "    + \"_MMSA\" + \"|\" \n",
    "    + \"STATERE1\" + \"\\n\"\n",
    ")"
   ]
  },
  {
   "cell_type": "code",
   "execution_count": 7,
   "id": "602852b3-ee70-4a4f-806f-f07f72fd8163",
   "metadata": {},
   "outputs": [],
   "source": [
    "with open(\"./datasets/MMSA21.ASC\", \"r\", errors=\"ignore\",encoding=\"ascii\") as ascfile:\n",
    "    for idx, line in enumerate(ascfile):\n",
    "        # if idx > 1000:\n",
    "        #     break\n",
    "        # line_data = line.decode(\"ascii\",errors=\"replace\")\n",
    "        line_data = line\n",
    "        _LTASTH1 = line_data[157:158]\n",
    "        _CASTHM1 = line_data[158:159]\n",
    "        _ASTHMS1 = line_data[159:159]\n",
    "        MMSANAME = line_data[262:362].split(\",\")\n",
    "        MMSANAME_COUNTY = MMSANAME [0]\n",
    "        MMSANAME_STATE = MMSANAME[1]\n",
    "        _MMSA = line_data[362:367]\n",
    "        STATERE1 = line_data[14:15]\n",
    "        # print(_LTASTH1 + \"|\" \n",
    "        #                   + _CASTHM1+ \"|\" +\n",
    "        #                   _ASTHMS1+ \"|\" \n",
    "        #                   + MMSANAME+ \"|\" +\n",
    "        #                   _MMSA+ \"|\" +\n",
    "        #                   STATERE1 + \"\\n\")\n",
    "        output_file.write(_LTASTH1 + \"|\" \n",
    "                          + _CASTHM1+ \"|\" +\n",
    "                          _ASTHMS1+ \"|\" +\n",
    "                          MMSANAME_COUNTY + \"|\" +\n",
    "                          MMSANAME_STATE + \"|\" +\n",
    "                          _MMSA+ \"|\" +\n",
    "                          STATERE1 + \"\\n\")"
   ]
  },
  {
   "cell_type": "code",
   "execution_count": 8,
   "id": "bed29036-1911-4373-868e-48d7be7e8a90",
   "metadata": {},
   "outputs": [],
   "source": [
    "output_file.close()"
   ]
  },
  {
   "cell_type": "markdown",
   "id": "c8a4c96b-6705-4ea1-96a9-483d623d9695",
   "metadata": {},
   "source": [
    "_LTASTH1, _CASTHM1, _ASTHMS1, MMSANAME, _MMSA"
   ]
  },
  {
   "cell_type": "code",
   "execution_count": 9,
   "id": "59ed84ef-f052-4b75-bf67-d5691c824bb9",
   "metadata": {},
   "outputs": [],
   "source": [
    "# Read asthama data\n",
    "df_asthma = pd.read_csv(\"./datasets/asthma_data.csv\", sep=\"|\")"
   ]
  },
  {
   "cell_type": "code",
   "execution_count": 10,
   "id": "2a590730-40de-4252-9662-45c4814bc949",
   "metadata": {},
   "outputs": [
    {
     "data": {
      "text/html": [
       "<div>\n",
       "<style scoped>\n",
       "    .dataframe tbody tr th:only-of-type {\n",
       "        vertical-align: middle;\n",
       "    }\n",
       "\n",
       "    .dataframe tbody tr th {\n",
       "        vertical-align: top;\n",
       "    }\n",
       "\n",
       "    .dataframe thead th {\n",
       "        text-align: right;\n",
       "    }\n",
       "</style>\n",
       "<table border=\"1\" class=\"dataframe\">\n",
       "  <thead>\n",
       "    <tr style=\"text-align: right;\">\n",
       "      <th></th>\n",
       "      <th>_LTASTH1</th>\n",
       "      <th>_CASTHM1</th>\n",
       "      <th>_ASTHMS1</th>\n",
       "      <th>MMSANAME_COUNTY</th>\n",
       "      <th>MMSANAME_STATE</th>\n",
       "      <th>_MMSA</th>\n",
       "      <th>STATERE1</th>\n",
       "    </tr>\n",
       "  </thead>\n",
       "  <tbody>\n",
       "    <tr>\n",
       "      <th>0</th>\n",
       "      <td>1</td>\n",
       "      <td>1</td>\n",
       "      <td>NaN</td>\n",
       "      <td>Aberdeen</td>\n",
       "      <td>SD</td>\n",
       "      <td>10100</td>\n",
       "      <td></td>\n",
       "    </tr>\n",
       "    <tr>\n",
       "      <th>1</th>\n",
       "      <td>1</td>\n",
       "      <td>1</td>\n",
       "      <td>NaN</td>\n",
       "      <td>Aberdeen</td>\n",
       "      <td>SD</td>\n",
       "      <td>10100</td>\n",
       "      <td></td>\n",
       "    </tr>\n",
       "    <tr>\n",
       "      <th>2</th>\n",
       "      <td>2</td>\n",
       "      <td>1</td>\n",
       "      <td>NaN</td>\n",
       "      <td>Aberdeen</td>\n",
       "      <td>SD</td>\n",
       "      <td>10100</td>\n",
       "      <td></td>\n",
       "    </tr>\n",
       "    <tr>\n",
       "      <th>3</th>\n",
       "      <td>1</td>\n",
       "      <td>1</td>\n",
       "      <td>NaN</td>\n",
       "      <td>Aberdeen</td>\n",
       "      <td>SD</td>\n",
       "      <td>10100</td>\n",
       "      <td></td>\n",
       "    </tr>\n",
       "    <tr>\n",
       "      <th>4</th>\n",
       "      <td>1</td>\n",
       "      <td>1</td>\n",
       "      <td>NaN</td>\n",
       "      <td>Aberdeen</td>\n",
       "      <td>SD</td>\n",
       "      <td>10100</td>\n",
       "      <td></td>\n",
       "    </tr>\n",
       "  </tbody>\n",
       "</table>\n",
       "</div>"
      ],
      "text/plain": [
       "   _LTASTH1  _CASTHM1  _ASTHMS1 MMSANAME_COUNTY MMSANAME_STATE  _MMSA STATERE1\n",
       "0         1         1       NaN        Aberdeen             SD  10100         \n",
       "1         1         1       NaN        Aberdeen             SD  10100         \n",
       "2         2         1       NaN        Aberdeen             SD  10100         \n",
       "3         1         1       NaN        Aberdeen             SD  10100         \n",
       "4         1         1       NaN        Aberdeen             SD  10100         "
      ]
     },
     "execution_count": 10,
     "metadata": {},
     "output_type": "execute_result"
    }
   ],
   "source": [
    "df_asthma.head()"
   ]
  },
  {
   "cell_type": "code",
   "execution_count": 11,
   "id": "5e03282a-572c-4631-8462-3c47972ab7df",
   "metadata": {},
   "outputs": [
    {
     "data": {
      "text/plain": [
       "array([1, 2, 9], dtype=int64)"
      ]
     },
     "execution_count": 11,
     "metadata": {},
     "output_type": "execute_result"
    }
   ],
   "source": [
    "df_asthma[\"_CASTHM1\"].unique()"
   ]
  },
  {
   "cell_type": "code",
   "execution_count": 12,
   "id": "9979c6ac-5648-46d6-9179-64f84135a610",
   "metadata": {},
   "outputs": [
    {
     "data": {
      "text/plain": [
       "array([' SD', ' OH', ' NY', ' NM', ' AK', ' GA', ' GA-SC', ' TX', ' MD',\n",
       "       ' LA', ' WV', ' MT', ' AL', ' ND', ' ID', ' MA', ' VT', ' NJ',\n",
       "       ' IA', ' SC', ' NC-SC', ' TN-GA', ' IL-IN-WI', ' OH-KY-IN', ' CO',\n",
       "       ' MD-WV', ' MN-WI', ' ND-MN', ' AR', ' IN', ' NE', ' MI', ' CT',\n",
       "       ' UT', ' WV-KY-OH', ' MS', ' MO-KS', ' TN', ' NH-VT', ' CA',\n",
       "       ' KY-IN', ' KS', ' TN-MS-AR', ' WI', ' PA', ' SC-NC', ' NJ-PA',\n",
       "       ' NY-NJ', ' OK', ' NE-IA', ' AZ', ' ME', ' OR-WA', ' RI-MA', ' NC',\n",
       "       ' NV', ' VA', ' NH', ' MO-IL', ' OR', ' MD-DE', ' PR', ' WA',\n",
       "       ' IA-NE-SD', ' VA-NC', ' DC-VA-MD-WV', ' DE-MD-NJ', ' MA-CT',\n",
       "       ' OH-PA'], dtype=object)"
      ]
     },
     "execution_count": 12,
     "metadata": {},
     "output_type": "execute_result"
    }
   ],
   "source": [
    "df_asthma[\"MMSANAME_STATE\"].unique()"
   ]
  },
  {
   "cell_type": "code",
   "execution_count": 13,
   "id": "868b73e0-1a8d-46ae-b466-5576d23b826e",
   "metadata": {},
   "outputs": [
    {
     "data": {
      "text/plain": [
       "array([1, 2, 9], dtype=int64)"
      ]
     },
     "execution_count": 13,
     "metadata": {},
     "output_type": "execute_result"
    }
   ],
   "source": [
    "df_asthma[\"_LTASTH1\"].unique()"
   ]
  },
  {
   "cell_type": "code",
   "execution_count": 14,
   "id": "22d1ac08-a5e8-4d00-916d-84735e161cd9",
   "metadata": {},
   "outputs": [],
   "source": [
    "df_subset = df_asthma[[\"_LTASTH1\", \"_CASTHM1\", \"MMSANAME_COUNTY\", \"MMSANAME_STATE\"]].drop_duplicates()"
   ]
  },
  {
   "cell_type": "code",
   "execution_count": 18,
   "id": "cafed693-4f61-4b54-b7cb-c26fb02abc1f",
   "metadata": {},
   "outputs": [
    {
     "data": {
      "text/html": [
       "<div>\n",
       "<style scoped>\n",
       "    .dataframe tbody tr th:only-of-type {\n",
       "        vertical-align: middle;\n",
       "    }\n",
       "\n",
       "    .dataframe tbody tr th {\n",
       "        vertical-align: top;\n",
       "    }\n",
       "\n",
       "    .dataframe thead th {\n",
       "        text-align: right;\n",
       "    }\n",
       "</style>\n",
       "<table border=\"1\" class=\"dataframe\">\n",
       "  <thead>\n",
       "    <tr style=\"text-align: right;\">\n",
       "      <th></th>\n",
       "      <th>_LTASTH1</th>\n",
       "      <th>_CASTHM1</th>\n",
       "      <th>MMSANAME_COUNTY</th>\n",
       "      <th>MMSANAME_STATE</th>\n",
       "    </tr>\n",
       "  </thead>\n",
       "  <tbody>\n",
       "    <tr>\n",
       "      <th>0</th>\n",
       "      <td>1</td>\n",
       "      <td>1</td>\n",
       "      <td>Aberdeen</td>\n",
       "      <td>SD</td>\n",
       "    </tr>\n",
       "    <tr>\n",
       "      <th>2</th>\n",
       "      <td>2</td>\n",
       "      <td>1</td>\n",
       "      <td>Aberdeen</td>\n",
       "      <td>SD</td>\n",
       "    </tr>\n",
       "    <tr>\n",
       "      <th>20</th>\n",
       "      <td>2</td>\n",
       "      <td>2</td>\n",
       "      <td>Aberdeen</td>\n",
       "      <td>SD</td>\n",
       "    </tr>\n",
       "    <tr>\n",
       "      <th>77</th>\n",
       "      <td>2</td>\n",
       "      <td>9</td>\n",
       "      <td>Aberdeen</td>\n",
       "      <td>SD</td>\n",
       "    </tr>\n",
       "    <tr>\n",
       "      <th>272</th>\n",
       "      <td>9</td>\n",
       "      <td>9</td>\n",
       "      <td>Aberdeen</td>\n",
       "      <td>SD</td>\n",
       "    </tr>\n",
       "  </tbody>\n",
       "</table>\n",
       "</div>"
      ],
      "text/plain": [
       "     _LTASTH1  _CASTHM1 MMSANAME_COUNTY MMSANAME_STATE\n",
       "0           1         1        Aberdeen             SD\n",
       "2           2         1        Aberdeen             SD\n",
       "20          2         2        Aberdeen             SD\n",
       "77          2         9        Aberdeen             SD\n",
       "272         9         9        Aberdeen             SD"
      ]
     },
     "execution_count": 18,
     "metadata": {},
     "output_type": "execute_result"
    }
   ],
   "source": [
    "df_subset.head()"
   ]
  },
  {
   "cell_type": "code",
   "execution_count": 21,
   "id": "d97eda0a-9eb7-4d95-ba0c-67e51b3424ff",
   "metadata": {},
   "outputs": [],
   "source": [
    "df_subset[\"MMSANAME_STATE\"] = df_subset[\"MMSANAME_STATE\"].apply(lambda x: x.strip())"
   ]
  },
  {
   "cell_type": "code",
   "execution_count": 23,
   "id": "3552206b-31f3-4e29-9303-e5ed0549c088",
   "metadata": {},
   "outputs": [
    {
     "data": {
      "text/html": [
       "<div>\n",
       "<style scoped>\n",
       "    .dataframe tbody tr th:only-of-type {\n",
       "        vertical-align: middle;\n",
       "    }\n",
       "\n",
       "    .dataframe tbody tr th {\n",
       "        vertical-align: top;\n",
       "    }\n",
       "\n",
       "    .dataframe thead th {\n",
       "        text-align: right;\n",
       "    }\n",
       "</style>\n",
       "<table border=\"1\" class=\"dataframe\">\n",
       "  <thead>\n",
       "    <tr style=\"text-align: right;\">\n",
       "      <th></th>\n",
       "      <th>_LTASTH1</th>\n",
       "      <th>_CASTHM1</th>\n",
       "      <th>MMSANAME_COUNTY</th>\n",
       "      <th>MMSANAME_STATE</th>\n",
       "    </tr>\n",
       "  </thead>\n",
       "  <tbody>\n",
       "    <tr>\n",
       "      <th>7781</th>\n",
       "      <td>2</td>\n",
       "      <td>1</td>\n",
       "      <td>Atlanta-Sandy Springs-Alpharetta</td>\n",
       "      <td>GA</td>\n",
       "    </tr>\n",
       "    <tr>\n",
       "      <th>7782</th>\n",
       "      <td>1</td>\n",
       "      <td>1</td>\n",
       "      <td>Atlanta-Sandy Springs-Alpharetta</td>\n",
       "      <td>GA</td>\n",
       "    </tr>\n",
       "    <tr>\n",
       "      <th>7783</th>\n",
       "      <td>2</td>\n",
       "      <td>2</td>\n",
       "      <td>Atlanta-Sandy Springs-Alpharetta</td>\n",
       "      <td>GA</td>\n",
       "    </tr>\n",
       "    <tr>\n",
       "      <th>8119</th>\n",
       "      <td>2</td>\n",
       "      <td>9</td>\n",
       "      <td>Atlanta-Sandy Springs-Alpharetta</td>\n",
       "      <td>GA</td>\n",
       "    </tr>\n",
       "    <tr>\n",
       "      <th>8485</th>\n",
       "      <td>9</td>\n",
       "      <td>9</td>\n",
       "      <td>Atlanta-Sandy Springs-Alpharetta</td>\n",
       "      <td>GA</td>\n",
       "    </tr>\n",
       "  </tbody>\n",
       "</table>\n",
       "</div>"
      ],
      "text/plain": [
       "      _LTASTH1  _CASTHM1                   MMSANAME_COUNTY MMSANAME_STATE\n",
       "7781         2         1  Atlanta-Sandy Springs-Alpharetta             GA\n",
       "7782         1         1  Atlanta-Sandy Springs-Alpharetta             GA\n",
       "7783         2         2  Atlanta-Sandy Springs-Alpharetta             GA\n",
       "8119         2         9  Atlanta-Sandy Springs-Alpharetta             GA\n",
       "8485         9         9  Atlanta-Sandy Springs-Alpharetta             GA"
      ]
     },
     "execution_count": 23,
     "metadata": {},
     "output_type": "execute_result"
    }
   ],
   "source": [
    "df_subset[df_subset[\"MMSANAME_STATE\"] == \"GA\"].apply(lambda x : True if \"Baxley\" in x.lower() else False)"
   ]
  },
  {
   "cell_type": "code",
   "execution_count": 137,
   "id": "d8c6bfd3-4cc0-40ac-9051-853a30e664bb",
   "metadata": {},
   "outputs": [],
   "source": [
    "df_having_asthma = df_subset[df_subset[\"_LTASTH1\"] == 2].groupby(\"MMSANAME_STATE\").count().reset_index()"
   ]
  },
  {
   "cell_type": "code",
   "execution_count": 138,
   "id": "585b3e78-d8c5-4fde-b53d-50782fb777b0",
   "metadata": {},
   "outputs": [
    {
     "data": {
      "text/html": [
       "<div>\n",
       "<style scoped>\n",
       "    .dataframe tbody tr th:only-of-type {\n",
       "        vertical-align: middle;\n",
       "    }\n",
       "\n",
       "    .dataframe tbody tr th {\n",
       "        vertical-align: top;\n",
       "    }\n",
       "\n",
       "    .dataframe thead th {\n",
       "        text-align: right;\n",
       "    }\n",
       "</style>\n",
       "<table border=\"1\" class=\"dataframe\">\n",
       "  <thead>\n",
       "    <tr style=\"text-align: right;\">\n",
       "      <th></th>\n",
       "      <th>MMSANAME_STATE</th>\n",
       "      <th>_LTASTH1</th>\n",
       "      <th>_CASTHM1</th>\n",
       "      <th>MMSANAME_COUNTY</th>\n",
       "    </tr>\n",
       "  </thead>\n",
       "  <tbody>\n",
       "    <tr>\n",
       "      <th>0</th>\n",
       "      <td>AK</td>\n",
       "      <td>3</td>\n",
       "      <td>3</td>\n",
       "      <td>3</td>\n",
       "    </tr>\n",
       "    <tr>\n",
       "      <th>1</th>\n",
       "      <td>AL</td>\n",
       "      <td>6</td>\n",
       "      <td>6</td>\n",
       "      <td>6</td>\n",
       "    </tr>\n",
       "    <tr>\n",
       "      <th>2</th>\n",
       "      <td>AR</td>\n",
       "      <td>6</td>\n",
       "      <td>6</td>\n",
       "      <td>6</td>\n",
       "    </tr>\n",
       "    <tr>\n",
       "      <th>3</th>\n",
       "      <td>AZ</td>\n",
       "      <td>3</td>\n",
       "      <td>3</td>\n",
       "      <td>3</td>\n",
       "    </tr>\n",
       "    <tr>\n",
       "      <th>4</th>\n",
       "      <td>CA</td>\n",
       "      <td>12</td>\n",
       "      <td>12</td>\n",
       "      <td>12</td>\n",
       "    </tr>\n",
       "    <tr>\n",
       "      <th>...</th>\n",
       "      <td>...</td>\n",
       "      <td>...</td>\n",
       "      <td>...</td>\n",
       "      <td>...</td>\n",
       "    </tr>\n",
       "    <tr>\n",
       "      <th>64</th>\n",
       "      <td>VT</td>\n",
       "      <td>3</td>\n",
       "      <td>3</td>\n",
       "      <td>3</td>\n",
       "    </tr>\n",
       "    <tr>\n",
       "      <th>65</th>\n",
       "      <td>WA</td>\n",
       "      <td>6</td>\n",
       "      <td>6</td>\n",
       "      <td>6</td>\n",
       "    </tr>\n",
       "    <tr>\n",
       "      <th>66</th>\n",
       "      <td>WI</td>\n",
       "      <td>3</td>\n",
       "      <td>3</td>\n",
       "      <td>3</td>\n",
       "    </tr>\n",
       "    <tr>\n",
       "      <th>67</th>\n",
       "      <td>WV</td>\n",
       "      <td>6</td>\n",
       "      <td>6</td>\n",
       "      <td>6</td>\n",
       "    </tr>\n",
       "    <tr>\n",
       "      <th>68</th>\n",
       "      <td>WV-KY-OH</td>\n",
       "      <td>3</td>\n",
       "      <td>3</td>\n",
       "      <td>3</td>\n",
       "    </tr>\n",
       "  </tbody>\n",
       "</table>\n",
       "<p>69 rows × 4 columns</p>\n",
       "</div>"
      ],
      "text/plain": [
       "   MMSANAME_STATE  _LTASTH1  _CASTHM1  MMSANAME_COUNTY\n",
       "0              AK         3         3                3\n",
       "1              AL         6         6                6\n",
       "2              AR         6         6                6\n",
       "3              AZ         3         3                3\n",
       "4              CA        12        12               12\n",
       "..            ...       ...       ...              ...\n",
       "64             VT         3         3                3\n",
       "65             WA         6         6                6\n",
       "66             WI         3         3                3\n",
       "67             WV         6         6                6\n",
       "68       WV-KY-OH         3         3                3\n",
       "\n",
       "[69 rows x 4 columns]"
      ]
     },
     "execution_count": 138,
     "metadata": {},
     "output_type": "execute_result"
    }
   ],
   "source": [
    "df_having_asthma"
   ]
  },
  {
   "cell_type": "code",
   "execution_count": 142,
   "id": "1748543c-c002-47ab-b505-c72146025b90",
   "metadata": {},
   "outputs": [
    {
     "data": {
      "image/png": "[encoded data removed]",
      "text/plain": [
       "<Figure size 1200x400 with 1 Axes>"
      ]
     },
     "metadata": {},
     "output_type": "display_data"
    }
   ],
   "source": [
    "df_having_asthma.plot.bar(x=\"MMSANAME_STATE\",y=\"_LTASTH1\", figsize=(12,4), rot=90)\n",
    "plt.show()"
   ]
  },
  {
   "cell_type": "code",
   "execution_count": 146,
   "id": "4a70fb1d-0b69-4461-8286-1e2c88038a25",
   "metadata": {},
   "outputs": [
    {
     "data": {
      "text/plain": [
       "<Axes: ylabel='Frequency'>"
      ]
     },
     "execution_count": 146,
     "metadata": {},
     "output_type": "execute_result"
    },
    {
     "data": {
      "image/png": "[encoded data removed]",
      "text/plain": [
       "<Figure size 640x480 with 1 Axes>"
      ]
     },
     "metadata": {},
     "output_type": "display_data"
    }
   ],
   "source": [
    "df_having_asthma.plot.hist(x=\"_LTASTH1\", bins=10)"
   ]
  },
  {
   "cell_type": "code",
   "execution_count": 147,
   "id": "da2e793e-6cc5-457b-b017-a5a838cff5b7",
   "metadata": {},
   "outputs": [
    {
     "data": {
      "text/plain": [
       "<Axes: >"
      ]
     },
     "execution_count": 147,
     "metadata": {},
     "output_type": "execute_result"
    },
    {
     "data": {
      "image/png": "[encoded data removed]",
      "text/plain": [
       "<Figure size 640x480 with 1 Axes>"
      ]
     },
     "metadata": {},
     "output_type": "display_data"
    }
   ],
   "source": [
    "df_having_asthma.plot.box(y=\"_LTASTH1\")"
   ]
  },
  {
   "cell_type": "markdown",
   "id": "831f8c76-1b52-4c03-9c5d-504e26a7a097",
   "metadata": {},
   "source": [
    "df_having_asthma[\"_LTASTH1\"].describe()"
   ]
  },
  {
   "cell_type": "markdown",
   "id": "3ceee83f-34d3-4616-a9d9-87809ac27c3c",
   "metadata": {},
   "source": [
    "## References\n",
    "About BRFSS. (n.d.). _CDC_. **https://www.cdc.gov/brfss/about/index.htm**"
   ]
  },
  {
   "cell_type": "code",
   "execution_count": null,
   "id": "c1f2e7d4-d086-47df-ad0c-b7918e325cf2",
   "metadata": {},
   "outputs": [],
   "source": []
  }
 ],
 "metadata": {
  "kernelspec": {
   "display_name": "Python 3 (ipykernel)",
   "language": "python",
   "name": "python3"
  },
  "language_info": {
   "codemirror_mode": {
    "name": "ipython",
    "version": 3
   },
   "file_extension": ".py",
   "mimetype": "text/x-python",
   "name": "python",
   "nbconvert_exporter": "python",
   "pygments_lexer": "ipython3",
   "version": "3.11.4"
  }
 },
 "nbformat": 4,
 "nbformat_minor": 5
}
