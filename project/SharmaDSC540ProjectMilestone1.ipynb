{
 "cells": [
  {
   "cell_type": "markdown",
   "id": "219aadf5-0668-4f80-8785-37657c61ef50",
   "metadata": {},
   "source": [
    "# Relationship between Population, Air pollution and Respiratory diseases like COPD and Asthma"
   ]
  },
  {
   "cell_type": "markdown",
   "id": "1ac89d1f-5201-4502-bade-847df575ec01",
   "metadata": {},
   "source": [
    "It is well known that _respiratory diseases_ are closely related to _air pollution_. Air pollutants can significantly affect the lungs and other parts of the respiratory system. When we breathe in air with pollutants that reach the lungs and other parts of the respiratory tract, it can cause irritation, inflammation, and damage. There are various factors that add to air pollution in a city, state, or country. Even different locations within a state, like counties, could have different amounts of air pollution. <br>\n",
    "\n",
    "_Population_ may also affect air pollution. The increased population can lead to increased transportation, deforestation, factories and industries, house cooking, and heating. All of these aid in increasing air pollution. Therefore, regions with higher populations will also have increased air pollution and higher prevalence of respiratory diseases like COPD and Asthma. This study will investigate if there is _any relationship between population and air pollution, which in turn increases the risk of respiratory diseases (COPD and Asthma)._"
   ]
  },
  {
   "cell_type": "markdown",
   "id": "ac0ddc10-d854-4a80-8c8e-f68ef77d46de",
   "metadata": {},
   "source": [
    "##### Data sources"
   ]
  },
  {
   "cell_type": "markdown",
   "id": "a1f513bb-7a6d-4136-8785-b5ff60140afd",
   "metadata": {},
   "source": [
    " 1. **Flat Files**\n",
    "- **2021 SMART: BRFSS City and County Data**: \n",
    "    The Behavioral Risk Factor Surveillance System (BRFSS) is the nation’s premier system of health-related telephone surveys that collect state data about U.S. residents regarding their health-related risk behaviors, chronic health conditions, and use of preventive services. The Behavioral Risk Factor Surveillance System (BRFSS) Selected Metropolitan/Micropolitan Area Risk Trends (SMART) is a documented and verified subset of the 2021 BRFSS survey data that has been produced to provide some local-area estimates (CDC. n.d.).\n",
    "This file contains BRFSS survey data released on 2021. The sataset is in ASCII fixed-width format. There are many variables in the dataset and some of which are coded and transformed. The dataset variable layout can be referred **[here][1]** and The definition of calculated variables can be referred in **[BRFSS website][2]**.\n",
    "\n",
    "**[Link to dataset][3]**\n",
    "\n",
    "The below variables will be extracted and used in this study from this dataset.\n",
    "\n",
    "* _SEX - Gender\n",
    "* _RACE - Race\n",
    "* _AGE_G - Age category (e.g. 1: 18-24, 2: 25-34)\n",
    "* WTKG3 - Weight in Kgs\n",
    "* HEIGHT3 - Height in inches\n",
    "* _BMI5 - Calculated Body mass index\n",
    "* _SMOKER3 - Smoking status level (e.g. 1: current smoker, smokes ever day, 2: current smoker, smokes some days)\n",
    "* _CURECI1 - Denotes whether repondent uses e-cigarette\n",
    "* _LTASTH1 - Denotes whether repondent reported that they ever had Asthma\n",
    "* _CASTHM1 - Denotes whether repondent reported that they currently have Asthma\n",
    "* MMSANAME - Metropolitan Statistical Area name. This variable provides both state and county/main city name of the repondent\n",
    "\n",
    "<br>.\n",
    "\n",
    "- **Estimated COPD prevalance by County**: \n",
    "    This dataset contains estimated COPD prevalence based on BRFSS survey data for counties. This dataset is a comma-separated file containing estimated COPD prevalence and its $95$% confidence interval, county name and state name.\n",
    "\n",
    "**[Link to dataset][4]**\n",
    "\n",
    "The below variables will used or referred in this study from this dataset.\n",
    "\n",
    "* FullGeoName - Name of the location including State code and County\n",
    "* StateDesc - State full nme\n",
    "* County - County name\n",
    "* Percent_COPD - Percentage estimates of COPD in a county.\n",
    "\n",
    "<br>.\n",
    "\n",
    "[1]:https://www.cdc.gov/brfss/annual_data/2021/pdf/MMSA_VarLayout_21-508.pdf\n",
    "[2]:https://www.cdc.gov/brfss/annual_data/2021/pdf/2021-calculated-variables-version4-508.pdf\n",
    "[3]:https://www.cdc.gov/brfss/annual_data/2021/files/MMSA2021_ASC.zip\n",
    "[4]:https://www.cdc.gov/copd/data-and-statistics/county-estimates.html"
   ]
  },
  {
   "cell_type": "markdown",
   "id": "46010c54-4aa0-4443-a161-b1c0f9c1c3f0",
   "metadata": {},
   "source": [
    "2. **API**\n",
    "- **Air Pollution API**:\n",
    "Air pollution api from OpenWeather provides current air pollution data like air quality index and particulates for a set of coordinates (latitude and longitude). We can pass latitude and longitude in the api request call to retrieve current air pollution data for that location.\n",
    "\n",
    "[Link to API documentation][1]\n",
    "\n",
    "- **Geocoding API**:\n",
    "Geocoding API from OpenWeather provides geographical coordinates (latitude and longitude) using the location area name as input. We can pass the location area name (e.g., town), state code, and an ISO 3166 country code (like the US, UK, etc.) to retrieve the latitude and longitude for that location area.\n",
    "\n",
    "[Link to API documentation][2]\n",
    "\n",
    "\n",
    "For this study the below fields from the air pollution api response will be extracted and used\n",
    "\n",
    "* _aqi_ - Air Quality Index.\n",
    "* _co_ - Concentration of Carbon monoxide\n",
    "* _no_ - Concentration of Nitrogen monoxide\n",
    "* _no2_ - Concentration of Nitrogen dioxide\n",
    "* _o3_ - Concentration of Ozone\n",
    "* _pm2_5_ - Concentration of [Fine particles matter][3]\n",
    "* _pm10_ - Concentration of [Coarse particulate matter][4]\n",
    "* _nh3_ - Concentration of Ammonia\n",
    "\n",
    "Possible values and levels mapping (e.g. low, high, moderate, etc.) can be referred in this [link][5].\n",
    "\n",
    "<br>.\n",
    "\n",
    "[1]:https://openweathermap.org/api/air-pollution\n",
    "[2]:https://openweathermap.org/api/geocoding-api#direct\n",
    "[3]:https://en.wikipedia.org/wiki/Particulates\n",
    "[4]:https://en.wikipedia.org/wiki/Particulates#Size,_shape_and_solubility_matter\n",
    "[5]:https://openweathermap.org/air-pollution-index-levels"
   ]
  },
  {
   "cell_type": "markdown",
   "id": "ecc60eec-0ec8-4249-8d52-d025c255cf26",
   "metadata": {},
   "source": [
    "3. **Website**\n",
    "- **Wikipedia - County statistics of the United States**:\n",
    "Wikipedia [County statistics of the United States][1] page contains the links to further Wikipedia pages with county level statistics for the US states. These state level Wikipedia pages contain data like Population, Area, County seat or Main town for each counties within a state [e.g. Texas][2].\n",
    "     \n",
    "   ![Image][3]\n",
    "   <center>Fig 1. Website snip from the Texas Wiki page showinf data layout</center>\n",
    "\n",
    "**[Link to Website][4]**\n",
    "\n",
    "From the _wikipedia_ website page, `County name`, `County Seat/Largest Town`, `Fips Code`, `Population` and `Area` will be extracted for this study. `County Seat` refers to the _main town_ within in a county.\n",
    "    \n",
    "[1]:https://en.wikipedia.org/wiki/County_statistics_of_the_United_States\n",
    "[2]:https://en.wikipedia.org/wiki/List_of_counties_in_Texas\n",
    "[3]:./texas.jpg\n",
    "[4]:https://en.wikipedia.org/wiki/County_statistics_of_the_United_States\n",
    "\n",
    "<br>."
   ]
  },
  {
   "cell_type": "markdown",
   "id": "f087f6e4-0579-47d6-a24d-9c372c124b5a",
   "metadata": {},
   "source": [
    "<br>"
   ]
  },
  {
   "cell_type": "markdown",
   "id": "d499c9e4-6745-4552-b927-69f96c7145af",
   "metadata": {},
   "source": [
    "##### Relationships"
   ]
  },
  {
   "cell_type": "markdown",
   "id": "6c0f6ddb-9c07-4521-9cff-257796cc0ce3",
   "metadata": {},
   "source": [
    "<br>."
   ]
  },
  {
   "cell_type": "markdown",
   "id": "b2f261c1-a3c9-4c4e-9c6f-7cb22c83db06",
   "metadata": {},
   "source": [
    "**Flat Files**: _BRFSS Ascii format fixed width file_ contains survey data from respondents which includes various health related indicators including Asthma and also the location(county/town and state) the respondent belongs.\n",
    "_COPD prevalence csv dataset_ contains the estimated COPD prevalence percentage by location(county and state).\n",
    "\n",
    "**API**: _Geocoding Api_ provides latitude and longitude based on a location (town and state). _Air pollution api_ provides air pollution indicators based on latitude and longitude. Therefore, combining thes two apis we can retrieve air pollution indicators for a location (county main town and state).\n",
    "\n",
    "**Website**: _Wikipedia_ website provides the population data by county, main town (county seat) and state.\n",
    "\n",
    "The above `three` data sources are related by _location(county/town and state)_."
   ]
  },
  {
   "cell_type": "markdown",
   "id": "08ae52f1-4b8f-4f2d-bb10-f969485a2750",
   "metadata": {},
   "source": [
    "<br>"
   ]
  },
  {
   "cell_type": "markdown",
   "id": "dbac50c5-bf48-4e9b-ae8b-3d0d110d840e",
   "metadata": {},
   "source": [
    "HTML pages of the website will be parsed using _web scraping_ to retrieve the area, population, county name, main town for each US state. This extracted data will be stored in a database table which will provide population for all counties for all US states. The latitude and longitude for the main town of a county will be identified utilizing the Geocoding API. Latitude and longitude will be then subsequently used to retrieve air pollution indicators for that town. Thus, air pollution indicators for the all the counties will be retrieved and stored in a database table. The ASCII flat file will be parsed to retrieve each respondent's Asthma response and smoking habits. The responses must be rolled up at the county level to calculate the Asthma prevalence and smoking habits percentage for each county. This data will be joined with the COPD prevalence CSV flat file and loaded in a single database table, which will serve as a source for both COPD and Asthma prevalence for all the counties. <br>\n",
    "\n",
    "In each stage of retrieving and cleaning data from the source, the detection and the removal of outliers will also be performed. Further transformations like aggregation, grouping, filtering, subsetting, whitespace removal, string manipulation may also need to be implemented to cleanse or parse data. There might be challenges to read ASCII fixed width format data directly and custom data read functions might be needed to parse and read such data format<br> \n",
    "\n",
    "After the data from each source has been organized at the county level, those will be joined using county and state to create a single table or dataset, which will then serve as the source to generate visualizations for investigation of the relationship between population, air pollution and repiratory diseases.<br>\n",
    "\n",
    "This study has some limitations such as _sampling bias_, _measurement error_, and lack of _causality_ inference. As the BRFSS SMART data is a telephonic survey, the sample of respondents who answered the interview might not be a complete representation of the population because some persons might not be willing to participate in the survey, and hence, there are chances that some communities are under-represented introducing sampling bias. Respondents may also mistakenly provide incorrect information or round up values, which will introduce measurement errors. The COPD prevalence dataset provides an estimated COPD percentage with a 95% confidence interval, which may deviate to a small extent from the actual COPD prevalence in a county. This study will not be able to offer any causality to conclude that increased population causes increased air pollution, which cause increases in respiratory diseases. This study can not confirm such cause-and-effect inferences. This study will be able to establish if a relationship exists between population, air pollution, and respiratory diseases but not conclude whether one is caused by the other.<br>\n",
    "\n",
    "Ethical considerations are essential in any research study to ensure data privacy and the integrity of the research process. The BRFSS SMART survey data is anonymous, and no personal information is available to identify the respondents. Also, none of the other datasets contain any personally identifiable information. Therefore, there are no risks to data privacy associated with this study. The outcome of the study must be reported with transparency and integrity, irrespective of whether the results are consistent with the expectations and hypothesis."
   ]
  },
  {
   "cell_type": "markdown",
   "id": "e7491d5b-1ae6-4eb2-9b5a-313f753c1ff4",
   "metadata": {},
   "source": [
    "#### Cleaning/Formatting Flat File Sources - Project Milestone 2"
   ]
  },
  {
   "cell_type": "markdown",
   "id": "d1cb8347-ba2e-4334-b136-cfb9ac3c0610",
   "metadata": {},
   "source": [
    "##### Step 1: Format BRFSS SMART fixed width ASCII dataset to a readable dataframe. Read all the flat files and keep only columns needed for this study\n",
    "\n",
    "The data dictionary of BRFSS SMART ascii dataset is a pdf file. We need to parse the pdf file to get the column names,start positions and field lengths that are needed to read the ascii flat file. Read the ascii dataset into a readable pandas dataframe with only the variables needed for this study. Also read the COPD prevalence dataset and create a pandas dataframe with only the variables needed for this study. Convert the COPD dataset header names to lower case."
   ]
  },
  {
   "cell_type": "markdown",
   "id": "97b620b8-dc0f-4a3c-8fd1-d1f21cde624c",
   "metadata": {},
   "source": [
    "###### BRFSS SMART dataset"
   ]
  },
  {
   "cell_type": "code",
   "execution_count": 137,
   "id": "b04afe29-5790-4eea-a347-b8ab866d8b6a",
   "metadata": {},
   "outputs": [],
   "source": [
    "import PyPDF2\n",
    "import os\n",
    "import re\n",
    "import pandas as pd\n",
    "from matplotlib import pyplot as plt"
   ]
  },
  {
   "cell_type": "code",
   "execution_count": 138,
   "id": "0db28206-e791-48d2-9cce-907dc4bc39cc",
   "metadata": {},
   "outputs": [],
   "source": [
    "# The data dictionary for BRFSS SMART fixed width dataset is a pdf file. \n",
    "# We need to parse the pdf file to retrive column start position, column name, and and column length\n",
    "data = []\n",
    "with open('./datasets/MMSA_VarLayout_21-508.pdf', 'rb') as pdfFileObj:\n",
    "    # creating a pdf reader object\n",
    "    pdfReader = PyPDF2.PdfReader(pdfFileObj)\n",
    "    for each_page in pdfReader.pages:\n",
    "        # pageObj = pdfReader.pages[0]\n",
    "        # extracting text from page\n",
    "        # print(each_page.extract_text())\n",
    "        for text in each_page.extract_text().split(\"\\n\"):\n",
    "            # using regex to match and extract column start position, column name, and column length\n",
    "            matches = re.findall(\"^(\\d{1,3})\\s(\\w+)\\s+(\\d{1,3})\", text)\n",
    "            if matches:\n",
    "                data.append([matches[0][0],matches[0][1], matches[0][2]])"
   ]
  },
  {
   "cell_type": "code",
   "execution_count": 139,
   "id": "075c43f7-bc53-4c8b-82af-5a0326a8a1e2",
   "metadata": {},
   "outputs": [
    {
     "data": {
      "text/plain": [
       "[['1', 'DISPCODE', '4'],\n",
       " ['5', 'SEQNO', '10'],\n",
       " ['15', 'STATERE1', '1'],\n",
       " ['16', 'CELPHON1', '1'],\n",
       " ['17', 'LADULT1', '1']]"
      ]
     },
     "execution_count": 139,
     "metadata": {},
     "output_type": "execute_result"
    }
   ],
   "source": [
    "# Lets check few items in extracted data\n",
    "data[0:5]"
   ]
  },
  {
   "cell_type": "code",
   "execution_count": 140,
   "id": "3466fddc-9742-4cfc-815f-1a4f4b4cf2b1",
   "metadata": {},
   "outputs": [],
   "source": [
    "# convert to a column name datafarme\n",
    "colnames_df = pd.DataFrame(data, columns=[\"start\", \"colname\", \"field_length\"])"
   ]
  },
  {
   "cell_type": "code",
   "execution_count": 141,
   "id": "f037c8d5-3a9a-43c4-a34a-452efc6a9d70",
   "metadata": {},
   "outputs": [
    {
     "data": {
      "text/html": [
       "<div>\n",
       "<style scoped>\n",
       "    .dataframe tbody tr th:only-of-type {\n",
       "        vertical-align: middle;\n",
       "    }\n",
       "\n",
       "    .dataframe tbody tr th {\n",
       "        vertical-align: top;\n",
       "    }\n",
       "\n",
       "    .dataframe thead th {\n",
       "        text-align: right;\n",
       "    }\n",
       "</style>\n",
       "<table border=\"1\" class=\"dataframe\">\n",
       "  <thead>\n",
       "    <tr style=\"text-align: right;\">\n",
       "      <th></th>\n",
       "      <th>start</th>\n",
       "      <th>colname</th>\n",
       "      <th>field_length</th>\n",
       "    </tr>\n",
       "  </thead>\n",
       "  <tbody>\n",
       "    <tr>\n",
       "      <th>0</th>\n",
       "      <td>1</td>\n",
       "      <td>DISPCODE</td>\n",
       "      <td>4</td>\n",
       "    </tr>\n",
       "    <tr>\n",
       "      <th>1</th>\n",
       "      <td>5</td>\n",
       "      <td>SEQNO</td>\n",
       "      <td>10</td>\n",
       "    </tr>\n",
       "    <tr>\n",
       "      <th>2</th>\n",
       "      <td>15</td>\n",
       "      <td>STATERE1</td>\n",
       "      <td>1</td>\n",
       "    </tr>\n",
       "    <tr>\n",
       "      <th>3</th>\n",
       "      <td>16</td>\n",
       "      <td>CELPHON1</td>\n",
       "      <td>1</td>\n",
       "    </tr>\n",
       "    <tr>\n",
       "      <th>4</th>\n",
       "      <td>17</td>\n",
       "      <td>LADULT1</td>\n",
       "      <td>1</td>\n",
       "    </tr>\n",
       "  </tbody>\n",
       "</table>\n",
       "</div>"
      ],
      "text/plain": [
       "  start   colname field_length\n",
       "0     1  DISPCODE            4\n",
       "1     5     SEQNO           10\n",
       "2    15  STATERE1            1\n",
       "3    16  CELPHON1            1\n",
       "4    17   LADULT1            1"
      ]
     },
     "execution_count": 141,
     "metadata": {},
     "output_type": "execute_result"
    }
   ],
   "source": [
    "# Chek few rows of colnames df\n",
    "colnames_df.head()"
   ]
  },
  {
   "cell_type": "code",
   "execution_count": 143,
   "id": "64c3b158-eac4-4c00-835b-f9918da7da94",
   "metadata": {},
   "outputs": [],
   "source": [
    "# List of column to be extracted for BRFSS SMART ascii fixed width dataset for this study\n",
    "col_list = [\n",
    "    \"_SEX\", \n",
    "    \"_RACE\", \n",
    "    \"_AGE_G\",\n",
    "    \"WTKG3\", \n",
    "    \"HEIGHT3\",\n",
    "    \"_BMI5\",\n",
    "    \"_SMOKER3\",\n",
    "    \"_CURECI1\",\n",
    "    \"_LTASTH1\",\n",
    "    \"_CASTHM1\",\n",
    "    \"MMSANAME\"\n",
    "]"
   ]
  },
  {
   "cell_type": "code",
   "execution_count": 145,
   "id": "8cf88152-7ab4-40e9-907b-3a385e1faf82",
   "metadata": {},
   "outputs": [],
   "source": [
    "# Filter only rows from colnames df needed for this study\n",
    "required_colnames = colnames_df.query(f\"colname in {col_list}\").reset_index(drop=True)"
   ]
  },
  {
   "cell_type": "code",
   "execution_count": 146,
   "id": "14de56f0-c298-4e95-b05b-e7e2d14f594e",
   "metadata": {},
   "outputs": [],
   "source": [
    "# As python indexess starts 0, so need to set start position accordingly\n",
    "required_colnames[\"start\"] = required_colnames[\"start\"].astype(\"int\") - 1"
   ]
  },
  {
   "cell_type": "code",
   "execution_count": 147,
   "id": "055415b2-4917-4ab6-8863-ffe53682c786",
   "metadata": {},
   "outputs": [],
   "source": [
    "# Add end position column by claculating end position = start + length\n",
    "required_colnames[\"end\"] = required_colnames[\"start\"] + required_colnames[\"field_length\"].astype(\"int\") "
   ]
  },
  {
   "cell_type": "code",
   "execution_count": 148,
   "id": "d5a41795-efd8-4fb8-ba8d-7ee6046dc3a6",
   "metadata": {},
   "outputs": [
    {
     "data": {
      "text/html": [
       "<div>\n",
       "<style scoped>\n",
       "    .dataframe tbody tr th:only-of-type {\n",
       "        vertical-align: middle;\n",
       "    }\n",
       "\n",
       "    .dataframe tbody tr th {\n",
       "        vertical-align: top;\n",
       "    }\n",
       "\n",
       "    .dataframe thead th {\n",
       "        text-align: right;\n",
       "    }\n",
       "</style>\n",
       "<table border=\"1\" class=\"dataframe\">\n",
       "  <thead>\n",
       "    <tr style=\"text-align: right;\">\n",
       "      <th></th>\n",
       "      <th>start</th>\n",
       "      <th>colname</th>\n",
       "      <th>field_length</th>\n",
       "      <th>end</th>\n",
       "    </tr>\n",
       "  </thead>\n",
       "  <tbody>\n",
       "    <tr>\n",
       "      <th>0</th>\n",
       "      <td>81</td>\n",
       "      <td>HEIGHT3</td>\n",
       "      <td>4</td>\n",
       "      <td>85</td>\n",
       "    </tr>\n",
       "    <tr>\n",
       "      <th>1</th>\n",
       "      <td>157</td>\n",
       "      <td>_LTASTH1</td>\n",
       "      <td>1</td>\n",
       "      <td>158</td>\n",
       "    </tr>\n",
       "    <tr>\n",
       "      <th>2</th>\n",
       "      <td>158</td>\n",
       "      <td>_CASTHM1</td>\n",
       "      <td>1</td>\n",
       "      <td>159</td>\n",
       "    </tr>\n",
       "    <tr>\n",
       "      <th>3</th>\n",
       "      <td>168</td>\n",
       "      <td>_RACE</td>\n",
       "      <td>1</td>\n",
       "      <td>169</td>\n",
       "    </tr>\n",
       "    <tr>\n",
       "      <th>4</th>\n",
       "      <td>172</td>\n",
       "      <td>_SEX</td>\n",
       "      <td>1</td>\n",
       "      <td>173</td>\n",
       "    </tr>\n",
       "    <tr>\n",
       "      <th>5</th>\n",
       "      <td>178</td>\n",
       "      <td>_AGE_G</td>\n",
       "      <td>1</td>\n",
       "      <td>179</td>\n",
       "    </tr>\n",
       "    <tr>\n",
       "      <th>6</th>\n",
       "      <td>179</td>\n",
       "      <td>WTKG3</td>\n",
       "      <td>5</td>\n",
       "      <td>184</td>\n",
       "    </tr>\n",
       "    <tr>\n",
       "      <th>7</th>\n",
       "      <td>184</td>\n",
       "      <td>_BMI5</td>\n",
       "      <td>4</td>\n",
       "      <td>188</td>\n",
       "    </tr>\n",
       "    <tr>\n",
       "      <th>8</th>\n",
       "      <td>192</td>\n",
       "      <td>_SMOKER3</td>\n",
       "      <td>1</td>\n",
       "      <td>193</td>\n",
       "    </tr>\n",
       "    <tr>\n",
       "      <th>9</th>\n",
       "      <td>194</td>\n",
       "      <td>_CURECI1</td>\n",
       "      <td>1</td>\n",
       "      <td>195</td>\n",
       "    </tr>\n",
       "    <tr>\n",
       "      <th>10</th>\n",
       "      <td>262</td>\n",
       "      <td>MMSANAME</td>\n",
       "      <td>100</td>\n",
       "      <td>362</td>\n",
       "    </tr>\n",
       "  </tbody>\n",
       "</table>\n",
       "</div>"
      ],
      "text/plain": [
       "    start   colname field_length  end\n",
       "0      81   HEIGHT3            4   85\n",
       "1     157  _LTASTH1            1  158\n",
       "2     158  _CASTHM1            1  159\n",
       "3     168     _RACE            1  169\n",
       "4     172      _SEX            1  173\n",
       "5     178    _AGE_G            1  179\n",
       "6     179     WTKG3            5  184\n",
       "7     184     _BMI5            4  188\n",
       "8     192  _SMOKER3            1  193\n",
       "9     194  _CURECI1            1  195\n",
       "10    262  MMSANAME          100  362"
      ]
     },
     "execution_count": 148,
     "metadata": {},
     "output_type": "execute_result"
    }
   ],
   "source": [
    "# View required columns start and end position\n",
    "required_colnames"
   ]
  },
  {
   "cell_type": "code",
   "execution_count": 149,
   "id": "45ce92f8-b5c0-4748-a6b2-f4f9d03c29e8",
   "metadata": {},
   "outputs": [],
   "source": [
    "# Converting to a list of start and end positions to be used as colspecs in pandas fixed width read\n",
    "colspecs = required_colnames[[\"start\", \"end\"]].values.tolist()"
   ]
  },
  {
   "cell_type": "code",
   "execution_count": 150,
   "id": "53d903d3-ecfa-47c7-a82c-16f21f511fdd",
   "metadata": {},
   "outputs": [],
   "source": [
    "col_list = required_colnames[\"colname\"].tolist()"
   ]
  },
  {
   "cell_type": "code",
   "execution_count": 1,
   "id": "9dbb3840-9ce9-4796-9e46-2bcd32ec6d79",
   "metadata": {},
   "outputs": [
    {
     "ename": "NameError",
     "evalue": "name 'col_list' is not defined",
     "output_type": "error",
     "traceback": [
      "\u001b[1;31m---------------------------------------------------------------------------\u001b[0m",
      "\u001b[1;31mNameError\u001b[0m                                 Traceback (most recent call last)",
      "Cell \u001b[1;32mIn[1], line 2\u001b[0m\n\u001b[0;32m      1\u001b[0m \u001b[38;5;66;03m# Check column list\u001b[39;00m\n\u001b[1;32m----> 2\u001b[0m \u001b[43mcol_list\u001b[49m\n",
      "\u001b[1;31mNameError\u001b[0m: name 'col_list' is not defined"
     ]
    }
   ],
   "source": [
    "# Check column list\n",
    "col_list"
   ]
  },
  {
   "cell_type": "code",
   "execution_count": 152,
   "id": "e2c2c3b4-5589-4941-9d0b-5d531b183614",
   "metadata": {},
   "outputs": [],
   "source": [
    "#read the ascii file into a dataframe using the column specifications created above, replace any encoding errors with ? if encountered\n",
    "df = pd.read_fwf(\"./datasets/MMSA21.ASC\", colspecs=colspecs, names=col_list, encoding_errors=\"replace\")"
   ]
  },
  {
   "cell_type": "code",
   "execution_count": 153,
   "id": "912f04c3-ad54-428c-b350-893f58d8d6b4",
   "metadata": {},
   "outputs": [
    {
     "data": {
      "text/html": [
       "<div>\n",
       "<style scoped>\n",
       "    .dataframe tbody tr th:only-of-type {\n",
       "        vertical-align: middle;\n",
       "    }\n",
       "\n",
       "    .dataframe tbody tr th {\n",
       "        vertical-align: top;\n",
       "    }\n",
       "\n",
       "    .dataframe thead th {\n",
       "        text-align: right;\n",
       "    }\n",
       "</style>\n",
       "<table border=\"1\" class=\"dataframe\">\n",
       "  <thead>\n",
       "    <tr style=\"text-align: right;\">\n",
       "      <th></th>\n",
       "      <th>HEIGHT3</th>\n",
       "      <th>_LTASTH1</th>\n",
       "      <th>_CASTHM1</th>\n",
       "      <th>_RACE</th>\n",
       "      <th>_SEX</th>\n",
       "      <th>_AGE_G</th>\n",
       "      <th>WTKG3</th>\n",
       "      <th>_BMI5</th>\n",
       "      <th>_SMOKER3</th>\n",
       "      <th>_CURECI1</th>\n",
       "      <th>MMSANAME</th>\n",
       "    </tr>\n",
       "  </thead>\n",
       "  <tbody>\n",
       "    <tr>\n",
       "      <th>0</th>\n",
       "      <td>509.0</td>\n",
       "      <td>1</td>\n",
       "      <td>1</td>\n",
       "      <td>1</td>\n",
       "      <td>1</td>\n",
       "      <td>3</td>\n",
       "      <td>10886.0</td>\n",
       "      <td>3544.0</td>\n",
       "      <td>3</td>\n",
       "      <td>1</td>\n",
       "      <td>Aberdeen, SD, Micropolitan Statistical Area</td>\n",
       "    </tr>\n",
       "    <tr>\n",
       "      <th>1</th>\n",
       "      <td>602.0</td>\n",
       "      <td>1</td>\n",
       "      <td>1</td>\n",
       "      <td>1</td>\n",
       "      <td>1</td>\n",
       "      <td>4</td>\n",
       "      <td>9979.0</td>\n",
       "      <td>2825.0</td>\n",
       "      <td>4</td>\n",
       "      <td>1</td>\n",
       "      <td>Aberdeen, SD, Micropolitan Statistical Area</td>\n",
       "    </tr>\n",
       "    <tr>\n",
       "      <th>2</th>\n",
       "      <td>507.0</td>\n",
       "      <td>2</td>\n",
       "      <td>1</td>\n",
       "      <td>1</td>\n",
       "      <td>2</td>\n",
       "      <td>3</td>\n",
       "      <td>7484.0</td>\n",
       "      <td>2584.0</td>\n",
       "      <td>4</td>\n",
       "      <td>1</td>\n",
       "      <td>Aberdeen, SD, Micropolitan Statistical Area</td>\n",
       "    </tr>\n",
       "    <tr>\n",
       "      <th>3</th>\n",
       "      <td>511.0</td>\n",
       "      <td>1</td>\n",
       "      <td>1</td>\n",
       "      <td>1</td>\n",
       "      <td>1</td>\n",
       "      <td>2</td>\n",
       "      <td>9299.0</td>\n",
       "      <td>2859.0</td>\n",
       "      <td>4</td>\n",
       "      <td>1</td>\n",
       "      <td>Aberdeen, SD, Micropolitan Statistical Area</td>\n",
       "    </tr>\n",
       "    <tr>\n",
       "      <th>4</th>\n",
       "      <td>506.0</td>\n",
       "      <td>1</td>\n",
       "      <td>1</td>\n",
       "      <td>1</td>\n",
       "      <td>2</td>\n",
       "      <td>5</td>\n",
       "      <td>7938.0</td>\n",
       "      <td>2825.0</td>\n",
       "      <td>4</td>\n",
       "      <td>1</td>\n",
       "      <td>Aberdeen, SD, Micropolitan Statistical Area</td>\n",
       "    </tr>\n",
       "  </tbody>\n",
       "</table>\n",
       "</div>"
      ],
      "text/plain": [
       "   HEIGHT3  _LTASTH1  _CASTHM1  _RACE  _SEX  _AGE_G    WTKG3   _BMI5  \\\n",
       "0    509.0         1         1      1     1       3  10886.0  3544.0   \n",
       "1    602.0         1         1      1     1       4   9979.0  2825.0   \n",
       "2    507.0         2         1      1     2       3   7484.0  2584.0   \n",
       "3    511.0         1         1      1     1       2   9299.0  2859.0   \n",
       "4    506.0         1         1      1     2       5   7938.0  2825.0   \n",
       "\n",
       "   _SMOKER3  _CURECI1                                     MMSANAME  \n",
       "0         3         1  Aberdeen, SD, Micropolitan Statistical Area  \n",
       "1         4         1  Aberdeen, SD, Micropolitan Statistical Area  \n",
       "2         4         1  Aberdeen, SD, Micropolitan Statistical Area  \n",
       "3         4         1  Aberdeen, SD, Micropolitan Statistical Area  \n",
       "4         4         1  Aberdeen, SD, Micropolitan Statistical Area  "
      ]
     },
     "execution_count": 153,
     "metadata": {},
     "output_type": "execute_result"
    }
   ],
   "source": [
    "# View few rows of the BRFSS dataframe\n",
    "df.head()"
   ]
  },
  {
   "cell_type": "code",
   "execution_count": 154,
   "id": "0fed3de6-36c4-4614-a982-24142ed20eab",
   "metadata": {},
   "outputs": [
    {
     "data": {
      "text/plain": [
       "(0, 11)"
      ]
     },
     "execution_count": 154,
     "metadata": {},
     "output_type": "execute_result"
    }
   ],
   "source": [
    "# check if we have \"?\" in the MMSANAME name column\n",
    "df[df[\"MMSANAME\"].str.contains(\" \\?\")].shape"
   ]
  },
  {
   "cell_type": "markdown",
   "id": "0588e59b-3ef9-4d72-aa6e-c3b3d7b05b1e",
   "metadata": {},
   "source": [
    "###### COPD dataset"
   ]
  },
  {
   "cell_type": "code",
   "execution_count": 155,
   "id": "5bb32738-913b-4adc-8d46-e4c1b818f11a",
   "metadata": {},
   "outputs": [],
   "source": [
    "#Read the COPD prevalence csv file into a dataframe\n",
    "copd_df = pd.read_csv(\"./datasets/County_COPD_prevalence.csv\")"
   ]
  },
  {
   "cell_type": "code",
   "execution_count": 156,
   "id": "f24f379a-9fe8-4bc3-9a79-3044b5673e1a",
   "metadata": {},
   "outputs": [
    {
     "data": {
      "text/html": [
       "<div>\n",
       "<style scoped>\n",
       "    .dataframe tbody tr th:only-of-type {\n",
       "        vertical-align: middle;\n",
       "    }\n",
       "\n",
       "    .dataframe tbody tr th {\n",
       "        vertical-align: top;\n",
       "    }\n",
       "\n",
       "    .dataframe thead th {\n",
       "        text-align: right;\n",
       "    }\n",
       "</style>\n",
       "<table border=\"1\" class=\"dataframe\">\n",
       "  <thead>\n",
       "    <tr style=\"text-align: right;\">\n",
       "      <th></th>\n",
       "      <th>FullGeoName</th>\n",
       "      <th>LocationID</th>\n",
       "      <th>Public_Health_Jurisdiction</th>\n",
       "      <th>StateDesc</th>\n",
       "      <th>County</th>\n",
       "      <th>Percent_COPD</th>\n",
       "      <th>95% Confidence Interval</th>\n",
       "      <th>Quartile</th>\n",
       "    </tr>\n",
       "  </thead>\n",
       "  <tbody>\n",
       "    <tr>\n",
       "      <th>0</th>\n",
       "      <td>AL, Autauga</td>\n",
       "      <td>1001</td>\n",
       "      <td>AL</td>\n",
       "      <td>Alabama</td>\n",
       "      <td>Autauga</td>\n",
       "      <td>7.5</td>\n",
       "      <td>6.5 - 8.5</td>\n",
       "      <td>7.3 - 8.6</td>\n",
       "    </tr>\n",
       "    <tr>\n",
       "      <th>1</th>\n",
       "      <td>AL, Baldwin</td>\n",
       "      <td>1003</td>\n",
       "      <td>AL</td>\n",
       "      <td>Alabama</td>\n",
       "      <td>Baldwin</td>\n",
       "      <td>6.9</td>\n",
       "      <td>5.9 - 8.0</td>\n",
       "      <td>6.0 - 7.2</td>\n",
       "    </tr>\n",
       "    <tr>\n",
       "      <th>2</th>\n",
       "      <td>AL, Barbour</td>\n",
       "      <td>1005</td>\n",
       "      <td>AL</td>\n",
       "      <td>Alabama</td>\n",
       "      <td>Barbour</td>\n",
       "      <td>10.7</td>\n",
       "      <td>9.6 - 11.8</td>\n",
       "      <td>8.7 - 15.5</td>\n",
       "    </tr>\n",
       "    <tr>\n",
       "      <th>3</th>\n",
       "      <td>AL, Bibb</td>\n",
       "      <td>1007</td>\n",
       "      <td>AL</td>\n",
       "      <td>Alabama</td>\n",
       "      <td>Bibb</td>\n",
       "      <td>9.2</td>\n",
       "      <td>8.2 - 10.1</td>\n",
       "      <td>8.7 - 15.5</td>\n",
       "    </tr>\n",
       "    <tr>\n",
       "      <th>4</th>\n",
       "      <td>AL, Blount</td>\n",
       "      <td>1009</td>\n",
       "      <td>AL</td>\n",
       "      <td>Alabama</td>\n",
       "      <td>Blount</td>\n",
       "      <td>8.7</td>\n",
       "      <td>7.6 - 9.8</td>\n",
       "      <td>8.7 - 15.5</td>\n",
       "    </tr>\n",
       "  </tbody>\n",
       "</table>\n",
       "</div>"
      ],
      "text/plain": [
       "   FullGeoName  LocationID Public_Health_Jurisdiction StateDesc   County  \\\n",
       "0  AL, Autauga        1001                         AL   Alabama  Autauga   \n",
       "1  AL, Baldwin        1003                         AL   Alabama  Baldwin   \n",
       "2  AL, Barbour        1005                         AL   Alabama  Barbour   \n",
       "3     AL, Bibb        1007                         AL   Alabama     Bibb   \n",
       "4   AL, Blount        1009                         AL   Alabama   Blount   \n",
       "\n",
       "   Percent_COPD 95% Confidence Interval    Quartile  \n",
       "0           7.5               6.5 - 8.5   7.3 - 8.6  \n",
       "1           6.9               5.9 - 8.0   6.0 - 7.2  \n",
       "2          10.7              9.6 - 11.8  8.7 - 15.5  \n",
       "3           9.2              8.2 - 10.1  8.7 - 15.5  \n",
       "4           8.7               7.6 - 9.8  8.7 - 15.5  "
      ]
     },
     "execution_count": 156,
     "metadata": {},
     "output_type": "execute_result"
    }
   ],
   "source": [
    "#view few rows\n",
    "copd_df.head()"
   ]
  },
  {
   "cell_type": "code",
   "execution_count": 157,
   "id": "51dbce7f-532f-4ebc-8899-56935daf4710",
   "metadata": {},
   "outputs": [],
   "source": [
    "# create subset for only columns to be used from COPD dataset\n",
    "copd_df = copd_df[[\"FullGeoName\",\"StateDesc\",\"County\",\"Percent_COPD\"]]"
   ]
  },
  {
   "cell_type": "code",
   "execution_count": 158,
   "id": "d163b96d-cc19-41e6-b21e-aefcc52313dc",
   "metadata": {},
   "outputs": [],
   "source": [
    "# convert all column names to lower case\n",
    "renamed_col_dict = {cols:cols.lower() for cols in copd_df.columns}\n",
    "copd_df = copd_df.rename(columns=renamed_col_dict)"
   ]
  },
  {
   "cell_type": "code",
   "execution_count": 159,
   "id": "8fb30d70-627d-4b7f-b381-29411ea82a02",
   "metadata": {},
   "outputs": [
    {
     "data": {
      "text/html": [
       "<div>\n",
       "<style scoped>\n",
       "    .dataframe tbody tr th:only-of-type {\n",
       "        vertical-align: middle;\n",
       "    }\n",
       "\n",
       "    .dataframe tbody tr th {\n",
       "        vertical-align: top;\n",
       "    }\n",
       "\n",
       "    .dataframe thead th {\n",
       "        text-align: right;\n",
       "    }\n",
       "</style>\n",
       "<table border=\"1\" class=\"dataframe\">\n",
       "  <thead>\n",
       "    <tr style=\"text-align: right;\">\n",
       "      <th></th>\n",
       "      <th>fullgeoname</th>\n",
       "      <th>statedesc</th>\n",
       "      <th>county</th>\n",
       "      <th>percent_copd</th>\n",
       "    </tr>\n",
       "  </thead>\n",
       "  <tbody>\n",
       "    <tr>\n",
       "      <th>0</th>\n",
       "      <td>AL, Autauga</td>\n",
       "      <td>Alabama</td>\n",
       "      <td>Autauga</td>\n",
       "      <td>7.5</td>\n",
       "    </tr>\n",
       "    <tr>\n",
       "      <th>1</th>\n",
       "      <td>AL, Baldwin</td>\n",
       "      <td>Alabama</td>\n",
       "      <td>Baldwin</td>\n",
       "      <td>6.9</td>\n",
       "    </tr>\n",
       "    <tr>\n",
       "      <th>2</th>\n",
       "      <td>AL, Barbour</td>\n",
       "      <td>Alabama</td>\n",
       "      <td>Barbour</td>\n",
       "      <td>10.7</td>\n",
       "    </tr>\n",
       "    <tr>\n",
       "      <th>3</th>\n",
       "      <td>AL, Bibb</td>\n",
       "      <td>Alabama</td>\n",
       "      <td>Bibb</td>\n",
       "      <td>9.2</td>\n",
       "    </tr>\n",
       "    <tr>\n",
       "      <th>4</th>\n",
       "      <td>AL, Blount</td>\n",
       "      <td>Alabama</td>\n",
       "      <td>Blount</td>\n",
       "      <td>8.7</td>\n",
       "    </tr>\n",
       "  </tbody>\n",
       "</table>\n",
       "</div>"
      ],
      "text/plain": [
       "   fullgeoname statedesc   county  percent_copd\n",
       "0  AL, Autauga   Alabama  Autauga           7.5\n",
       "1  AL, Baldwin   Alabama  Baldwin           6.9\n",
       "2  AL, Barbour   Alabama  Barbour          10.7\n",
       "3     AL, Bibb   Alabama     Bibb           9.2\n",
       "4   AL, Blount   Alabama   Blount           8.7"
      ]
     },
     "execution_count": 159,
     "metadata": {},
     "output_type": "execute_result"
    }
   ],
   "source": [
    "#check few rows after column rename\n",
    "copd_df.head()"
   ]
  },
  {
   "cell_type": "markdown",
   "id": "168ae9d6-b90d-42e9-bb94-e309b4d19adc",
   "metadata": {},
   "source": [
    "##### Step 2: Check for missing values and remove missing data\n",
    "Check for NA or missing values in any columns and remove those for both the datasets. Missing value will skew the findings."
   ]
  },
  {
   "cell_type": "markdown",
   "id": "41b9c0e1-41ac-400c-ad2f-c4bb5281489d",
   "metadata": {},
   "source": [
    "###### BRFSS SMART dataset"
   ]
  },
  {
   "cell_type": "code",
   "execution_count": 160,
   "id": "34a4f0a7-0253-4025-aae3-b40476feacbc",
   "metadata": {},
   "outputs": [
    {
     "data": {
      "text/plain": [
       "HEIGHT3      7408\n",
       "_LTASTH1        0\n",
       "_CASTHM1        0\n",
       "_RACE           0\n",
       "_SEX            0\n",
       "_AGE_G          0\n",
       "WTKG3       22711\n",
       "_BMI5       26341\n",
       "_SMOKER3        0\n",
       "_CURECI1        0\n",
       "MMSANAME        0\n",
       "dtype: int64"
      ]
     },
     "execution_count": 160,
     "metadata": {},
     "output_type": "execute_result"
    }
   ],
   "source": [
    "#check for NA\n",
    "df.isna().sum()"
   ]
  },
  {
   "cell_type": "code",
   "execution_count": 161,
   "id": "b9c991fd-9d6e-4ee1-b2bc-c06fdf7a3e8f",
   "metadata": {},
   "outputs": [],
   "source": [
    "#drop Rows having nulls in HEIGHT3, WTKG3 and _BMI5\n",
    "df = df.dropna(subset=[\"HEIGHT3\",\"WTKG3\",\"_BMI5\"])"
   ]
  },
  {
   "cell_type": "code",
   "execution_count": 162,
   "id": "915af35b-8ad7-46fb-abe3-a28c6567398b",
   "metadata": {},
   "outputs": [
    {
     "data": {
      "text/plain": [
       "HEIGHT3     0\n",
       "_LTASTH1    0\n",
       "_CASTHM1    0\n",
       "_RACE       0\n",
       "_SEX        0\n",
       "_AGE_G      0\n",
       "WTKG3       0\n",
       "_BMI5       0\n",
       "_SMOKER3    0\n",
       "_CURECI1    0\n",
       "MMSANAME    0\n",
       "dtype: int64"
      ]
     },
     "execution_count": 162,
     "metadata": {},
     "output_type": "execute_result"
    }
   ],
   "source": [
    "df.isna().sum()"
   ]
  },
  {
   "cell_type": "code",
   "execution_count": 163,
   "id": "135ee932-1536-4046-aa0c-7900b0b42647",
   "metadata": {},
   "outputs": [
    {
     "data": {
      "text/plain": [
       "HEIGHT3     0\n",
       "_LTASTH1    0\n",
       "_CASTHM1    0\n",
       "_RACE       0\n",
       "_SEX        0\n",
       "_AGE_G      0\n",
       "WTKG3       0\n",
       "_BMI5       0\n",
       "_SMOKER3    0\n",
       "_CURECI1    0\n",
       "MMSANAME    0\n",
       "dtype: int64"
      ]
     },
     "execution_count": 163,
     "metadata": {},
     "output_type": "execute_result"
    }
   ],
   "source": [
    "#Check no NAs remain\n",
    "df.isna().sum()"
   ]
  },
  {
   "cell_type": "markdown",
   "id": "50e5ee00-2c9b-4aa5-93db-7eee4364c253",
   "metadata": {},
   "source": [
    "###### COPD dataset"
   ]
  },
  {
   "cell_type": "code",
   "execution_count": 164,
   "id": "24119224-fd11-4383-867e-6dd74a62cd0b",
   "metadata": {},
   "outputs": [
    {
     "data": {
      "text/plain": [
       "fullgeoname      0\n",
       "statedesc        0\n",
       "county           0\n",
       "percent_copd    23\n",
       "dtype: int64"
      ]
     },
     "execution_count": 164,
     "metadata": {},
     "output_type": "execute_result"
    }
   ],
   "source": [
    "copd_df.isna().sum()"
   ]
  },
  {
   "cell_type": "code",
   "execution_count": 165,
   "id": "65e4523d-d9bc-46d6-8d70-11f4e48f65d3",
   "metadata": {},
   "outputs": [],
   "source": [
    "#dropping the NAs in percent_copd column\n",
    "copd_df = copd_df.dropna(subset=[\"percent_copd\"])"
   ]
  },
  {
   "cell_type": "code",
   "execution_count": 166,
   "id": "b3e6fd4c-cba7-401f-8ed2-8f2ce5268ac5",
   "metadata": {},
   "outputs": [
    {
     "data": {
      "text/plain": [
       "fullgeoname     0\n",
       "statedesc       0\n",
       "county          0\n",
       "percent_copd    0\n",
       "dtype: int64"
      ]
     },
     "execution_count": 166,
     "metadata": {},
     "output_type": "execute_result"
    }
   ],
   "source": [
    "#Check no NAs remain\n",
    "copd_df.isna().sum()"
   ]
  },
  {
   "cell_type": "markdown",
   "id": "db0df666-94fb-4d36-acba-3dcd2422ca6b",
   "metadata": {},
   "source": [
    "##### Step 3: Drop duplicate rows\n",
    "Drop rows that are duplicate for both the datasets as those will skew the findings."
   ]
  },
  {
   "cell_type": "markdown",
   "id": "99ae95f8-bc73-475e-a035-704599172677",
   "metadata": {},
   "source": [
    "###### BRFSS SMART dataset"
   ]
  },
  {
   "cell_type": "code",
   "execution_count": 167,
   "id": "8fa4a00d-75db-4eb6-b0a2-38c99c6f08cf",
   "metadata": {},
   "outputs": [],
   "source": [
    "df = df.drop_duplicates()"
   ]
  },
  {
   "cell_type": "code",
   "execution_count": 168,
   "id": "26a2ecb5-9f6a-4fa2-ad15-400d02672588",
   "metadata": {},
   "outputs": [
    {
     "data": {
      "text/plain": [
       "(186868, 11)"
      ]
     },
     "execution_count": 168,
     "metadata": {},
     "output_type": "execute_result"
    }
   ],
   "source": [
    "#Shape after dropping the duplicates\n",
    "df.shape"
   ]
  },
  {
   "cell_type": "markdown",
   "id": "2cb3dfa9-42be-4dfb-8b4e-a14eee1dac42",
   "metadata": {},
   "source": [
    "###### COPD dataset"
   ]
  },
  {
   "cell_type": "code",
   "execution_count": 169,
   "id": "7ac636c2-6194-4b6f-b893-965314bc7c30",
   "metadata": {},
   "outputs": [],
   "source": [
    "copd_df = copd_df.drop_duplicates()"
   ]
  },
  {
   "cell_type": "code",
   "execution_count": 170,
   "id": "784b3b77-8147-4fa4-9f0b-56e6f9b65153",
   "metadata": {},
   "outputs": [
    {
     "data": {
      "text/plain": [
       "(3121, 4)"
      ]
     },
     "execution_count": 170,
     "metadata": {},
     "output_type": "execute_result"
    }
   ],
   "source": [
    "#Shape after dropping the duplicates\n",
    "copd_df.shape"
   ]
  },
  {
   "cell_type": "markdown",
   "id": "44cea3e5-81e4-4996-945d-a58f52897048",
   "metadata": {},
   "source": [
    "##### Step 4:Format numerical column values to proper scale for BRFSS SMART dataset\n",
    "\n",
    "Numerical columns like height, weight and BMI contain the decimal parts within the valueitself. For example, 101.01 value is stored as 10101. We need to scale it to its corrected 2 decimal places form, e.g. 10101 to 101.01"
   ]
  },
  {
   "cell_type": "code",
   "execution_count": 171,
   "id": "b90e06ff-f5a5-4e3b-b303-97ff48513722",
   "metadata": {},
   "outputs": [],
   "source": [
    "numerical_columns = [\"HEIGHT3\",\"WTKG3\",\"_BMI5\"]"
   ]
  },
  {
   "cell_type": "code",
   "execution_count": 172,
   "id": "4588b422-8ed4-4fa4-88ff-6f93d29affc6",
   "metadata": {},
   "outputs": [],
   "source": [
    "#The dataset capture 2 decimal places values as part of the Weight, Height and BMI data.\n",
    "# Lets convert to include the decimal places by diving with 100\n",
    "for cols in numerical_columns:\n",
    "    df[cols] = df[cols]/100"
   ]
  },
  {
   "cell_type": "code",
   "execution_count": 173,
   "id": "9bbb5090-401d-476e-9580-69547263cba1",
   "metadata": {},
   "outputs": [
    {
     "data": {
      "text/html": [
       "<div>\n",
       "<style scoped>\n",
       "    .dataframe tbody tr th:only-of-type {\n",
       "        vertical-align: middle;\n",
       "    }\n",
       "\n",
       "    .dataframe tbody tr th {\n",
       "        vertical-align: top;\n",
       "    }\n",
       "\n",
       "    .dataframe thead th {\n",
       "        text-align: right;\n",
       "    }\n",
       "</style>\n",
       "<table border=\"1\" class=\"dataframe\">\n",
       "  <thead>\n",
       "    <tr style=\"text-align: right;\">\n",
       "      <th></th>\n",
       "      <th>HEIGHT3</th>\n",
       "      <th>_LTASTH1</th>\n",
       "      <th>_CASTHM1</th>\n",
       "      <th>_RACE</th>\n",
       "      <th>_SEX</th>\n",
       "      <th>_AGE_G</th>\n",
       "      <th>WTKG3</th>\n",
       "      <th>_BMI5</th>\n",
       "      <th>_SMOKER3</th>\n",
       "      <th>_CURECI1</th>\n",
       "      <th>MMSANAME</th>\n",
       "    </tr>\n",
       "  </thead>\n",
       "  <tbody>\n",
       "    <tr>\n",
       "      <th>0</th>\n",
       "      <td>5.09</td>\n",
       "      <td>1</td>\n",
       "      <td>1</td>\n",
       "      <td>1</td>\n",
       "      <td>1</td>\n",
       "      <td>3</td>\n",
       "      <td>108.86</td>\n",
       "      <td>35.44</td>\n",
       "      <td>3</td>\n",
       "      <td>1</td>\n",
       "      <td>Aberdeen, SD, Micropolitan Statistical Area</td>\n",
       "    </tr>\n",
       "    <tr>\n",
       "      <th>1</th>\n",
       "      <td>6.02</td>\n",
       "      <td>1</td>\n",
       "      <td>1</td>\n",
       "      <td>1</td>\n",
       "      <td>1</td>\n",
       "      <td>4</td>\n",
       "      <td>99.79</td>\n",
       "      <td>28.25</td>\n",
       "      <td>4</td>\n",
       "      <td>1</td>\n",
       "      <td>Aberdeen, SD, Micropolitan Statistical Area</td>\n",
       "    </tr>\n",
       "    <tr>\n",
       "      <th>2</th>\n",
       "      <td>5.07</td>\n",
       "      <td>2</td>\n",
       "      <td>1</td>\n",
       "      <td>1</td>\n",
       "      <td>2</td>\n",
       "      <td>3</td>\n",
       "      <td>74.84</td>\n",
       "      <td>25.84</td>\n",
       "      <td>4</td>\n",
       "      <td>1</td>\n",
       "      <td>Aberdeen, SD, Micropolitan Statistical Area</td>\n",
       "    </tr>\n",
       "    <tr>\n",
       "      <th>3</th>\n",
       "      <td>5.11</td>\n",
       "      <td>1</td>\n",
       "      <td>1</td>\n",
       "      <td>1</td>\n",
       "      <td>1</td>\n",
       "      <td>2</td>\n",
       "      <td>92.99</td>\n",
       "      <td>28.59</td>\n",
       "      <td>4</td>\n",
       "      <td>1</td>\n",
       "      <td>Aberdeen, SD, Micropolitan Statistical Area</td>\n",
       "    </tr>\n",
       "    <tr>\n",
       "      <th>4</th>\n",
       "      <td>5.06</td>\n",
       "      <td>1</td>\n",
       "      <td>1</td>\n",
       "      <td>1</td>\n",
       "      <td>2</td>\n",
       "      <td>5</td>\n",
       "      <td>79.38</td>\n",
       "      <td>28.25</td>\n",
       "      <td>4</td>\n",
       "      <td>1</td>\n",
       "      <td>Aberdeen, SD, Micropolitan Statistical Area</td>\n",
       "    </tr>\n",
       "  </tbody>\n",
       "</table>\n",
       "</div>"
      ],
      "text/plain": [
       "   HEIGHT3  _LTASTH1  _CASTHM1  _RACE  _SEX  _AGE_G   WTKG3  _BMI5  _SMOKER3  \\\n",
       "0     5.09         1         1      1     1       3  108.86  35.44         3   \n",
       "1     6.02         1         1      1     1       4   99.79  28.25         4   \n",
       "2     5.07         2         1      1     2       3   74.84  25.84         4   \n",
       "3     5.11         1         1      1     1       2   92.99  28.59         4   \n",
       "4     5.06         1         1      1     2       5   79.38  28.25         4   \n",
       "\n",
       "   _CURECI1                                     MMSANAME  \n",
       "0         1  Aberdeen, SD, Micropolitan Statistical Area  \n",
       "1         1  Aberdeen, SD, Micropolitan Statistical Area  \n",
       "2         1  Aberdeen, SD, Micropolitan Statistical Area  \n",
       "3         1  Aberdeen, SD, Micropolitan Statistical Area  \n",
       "4         1  Aberdeen, SD, Micropolitan Statistical Area  "
      ]
     },
     "execution_count": 173,
     "metadata": {},
     "output_type": "execute_result"
    }
   ],
   "source": [
    "# Check few rows\n",
    "df.head()"
   ]
  },
  {
   "cell_type": "markdown",
   "id": "a85e35d9-31b9-4686-b170-07f3c72897c6",
   "metadata": {},
   "source": [
    "##### Step 5:Check outliers and remove if needed\n",
    "\n",
    "Explore if numerical columns have any outliers and remove those outliers. Outliers  can skew results and introduce bias."
   ]
  },
  {
   "cell_type": "markdown",
   "id": "698e9ef9-a659-43a9-a637-6a321603d80c",
   "metadata": {},
   "source": [
    "###### BRFSS SMART dataset"
   ]
  },
  {
   "cell_type": "code",
   "execution_count": 174,
   "id": "9f1b60fc-deb8-45c1-9b06-d960100c5e87",
   "metadata": {},
   "outputs": [
    {
     "data": {
      "text/html": [
       "<div>\n",
       "<style scoped>\n",
       "    .dataframe tbody tr th:only-of-type {\n",
       "        vertical-align: middle;\n",
       "    }\n",
       "\n",
       "    .dataframe tbody tr th {\n",
       "        vertical-align: top;\n",
       "    }\n",
       "\n",
       "    .dataframe thead th {\n",
       "        text-align: right;\n",
       "    }\n",
       "</style>\n",
       "<table border=\"1\" class=\"dataframe\">\n",
       "  <thead>\n",
       "    <tr style=\"text-align: right;\">\n",
       "      <th></th>\n",
       "      <th>HEIGHT3</th>\n",
       "      <th>WTKG3</th>\n",
       "      <th>_BMI5</th>\n",
       "    </tr>\n",
       "  </thead>\n",
       "  <tbody>\n",
       "    <tr>\n",
       "      <th>count</th>\n",
       "      <td>186868.000000</td>\n",
       "      <td>186868.000000</td>\n",
       "      <td>186868.000000</td>\n",
       "    </tr>\n",
       "    <tr>\n",
       "      <th>mean</th>\n",
       "      <td>5.932287</td>\n",
       "      <td>83.142562</td>\n",
       "      <td>28.495618</td>\n",
       "    </tr>\n",
       "    <tr>\n",
       "      <th>std</th>\n",
       "      <td>7.882888</td>\n",
       "      <td>21.513664</td>\n",
       "      <td>6.631116</td>\n",
       "    </tr>\n",
       "    <tr>\n",
       "      <th>min</th>\n",
       "      <td>3.000000</td>\n",
       "      <td>26.760000</td>\n",
       "      <td>12.000000</td>\n",
       "    </tr>\n",
       "    <tr>\n",
       "      <th>25%</th>\n",
       "      <td>5.040000</td>\n",
       "      <td>68.040000</td>\n",
       "      <td>23.990000</td>\n",
       "    </tr>\n",
       "    <tr>\n",
       "      <th>50%</th>\n",
       "      <td>5.070000</td>\n",
       "      <td>80.740000</td>\n",
       "      <td>27.400000</td>\n",
       "    </tr>\n",
       "    <tr>\n",
       "      <th>75%</th>\n",
       "      <td>5.100000</td>\n",
       "      <td>95.250000</td>\n",
       "      <td>31.660000</td>\n",
       "    </tr>\n",
       "    <tr>\n",
       "      <th>max</th>\n",
       "      <td>92.060000</td>\n",
       "      <td>285.760000</td>\n",
       "      <td>99.330000</td>\n",
       "    </tr>\n",
       "  </tbody>\n",
       "</table>\n",
       "</div>"
      ],
      "text/plain": [
       "             HEIGHT3          WTKG3          _BMI5\n",
       "count  186868.000000  186868.000000  186868.000000\n",
       "mean        5.932287      83.142562      28.495618\n",
       "std         7.882888      21.513664       6.631116\n",
       "min         3.000000      26.760000      12.000000\n",
       "25%         5.040000      68.040000      23.990000\n",
       "50%         5.070000      80.740000      27.400000\n",
       "75%         5.100000      95.250000      31.660000\n",
       "max        92.060000     285.760000      99.330000"
      ]
     },
     "execution_count": 174,
     "metadata": {},
     "output_type": "execute_result"
    }
   ],
   "source": [
    "#summary statistics of te numerical columns\n",
    "df[numerical_columns].describe()"
   ]
  },
  {
   "cell_type": "code",
   "execution_count": 175,
   "id": "c2eedb18-c070-4659-8558-5ba1a5a920d2",
   "metadata": {},
   "outputs": [
    {
     "data": {
      "image/png": "[encoded data removed]",
      "text/plain": [
       "<Figure size 640x480 with 1 Axes>"
      ]
     },
     "metadata": {},
     "output_type": "display_data"
    },
    {
     "data": {
      "image/png": "[encoded data removed]",
      "text/plain": [
       "<Figure size 640x480 with 1 Axes>"
      ]
     },
     "metadata": {},
     "output_type": "display_data"
    },
    {
     "data": {
      "image/png": "[encoded data removed]",
      "text/plain": [
       "<Figure size 640x480 with 1 Axes>"
      ]
     },
     "metadata": {},
     "output_type": "display_data"
    }
   ],
   "source": [
    "# Plot histogram for these numerical columns\n",
    "for cols in numerical_columns:\n",
    "    plt.hist(df[cols], bins=40)\n",
    "    plt.title(f\"Histogram of {cols}\")\n",
    "    plt.ylabel(\"Frequency\")\n",
    "    plt.show()"
   ]
  },
  {
   "cell_type": "markdown",
   "id": "c270e58f-6866-4688-a9a4-9745b2712b07",
   "metadata": {},
   "source": [
    "The histograms clearly thow that we have potential outliers for Height column as we see some disconnected values at the far right end of the plot.\n",
    "We also see that Weight and BMI are right skewed probably due to outliers at higer end values."
   ]
  },
  {
   "cell_type": "code",
   "execution_count": 176,
   "id": "ae2c06f8-eae0-40ce-9ed9-2853f9d46c32",
   "metadata": {},
   "outputs": [
    {
     "data": {
      "image/png": "[encoded data removed]",
      "text/plain": [
       "<Figure size 640x480 with 1 Axes>"
      ]
     },
     "metadata": {},
     "output_type": "display_data"
    },
    {
     "data": {
      "image/png": "[encoded data removed]",
      "text/plain": [
       "<Figure size 640x480 with 1 Axes>"
      ]
     },
     "metadata": {},
     "output_type": "display_data"
    },
    {
     "data": {
      "image/png": "[encoded data removed]",
      "text/plain": [
       "<Figure size 640x480 with 1 Axes>"
      ]
     },
     "metadata": {},
     "output_type": "display_data"
    }
   ],
   "source": [
    "# Lets plot box plot to further check for outliers\n",
    "for cols in numerical_columns:\n",
    "    plt.boxplot(df[cols])\n",
    "    plt.title(f\"Boxplot of {cols}\")\n",
    "    plt.show()"
   ]
  },
  {
   "cell_type": "code",
   "execution_count": 177,
   "id": "69b0d79e-7c9d-4373-90eb-94b49497082e",
   "metadata": {},
   "outputs": [],
   "source": [
    "# Lets drop anything above 9 feet for height as anything above this value is potential outlier\n",
    "df = df[df[\"HEIGHT3\"] <= 9]"
   ]
  },
  {
   "cell_type": "code",
   "execution_count": 178,
   "id": "2dbe1fec-e4cf-4fdf-a16b-7efbc263e6a7",
   "metadata": {},
   "outputs": [],
   "source": [
    "# Lets drop anything above  for BMI above 60 as anything above this value is potential outlier\n",
    "df = df[df[\"_BMI5\"] <= 60]"
   ]
  },
  {
   "cell_type": "markdown",
   "id": "4a78e511-a4c6-4112-b3af-01b6e55bab67",
   "metadata": {},
   "source": [
    "###### COPD dataset"
   ]
  },
  {
   "cell_type": "code",
   "execution_count": 179,
   "id": "bbc5110f-8b0c-457f-810d-c0de1951df59",
   "metadata": {},
   "outputs": [
    {
     "data": {
      "image/png": "[encoded data removed]",
      "text/plain": [
       "<Figure size 640x480 with 1 Axes>"
      ]
     },
     "metadata": {},
     "output_type": "display_data"
    }
   ],
   "source": [
    "# Plot histogram for percent_copd column\n",
    "plt.hist(copd_df[\"percent_copd\"], bins=50)\n",
    "plt.title(f\"Histogram of COPD Percentage\")\n",
    "plt.ylabel(\"Frequency\")\n",
    "plt.show()"
   ]
  },
  {
   "cell_type": "code",
   "execution_count": 180,
   "id": "7b58d31b-da9c-49d9-9909-8818aeafc75e",
   "metadata": {},
   "outputs": [
    {
     "data": {
      "image/png": "[encoded data removed]",
      "text/plain": [
       "<Figure size 640x480 with 1 Axes>"
      ]
     },
     "metadata": {},
     "output_type": "display_data"
    }
   ],
   "source": [
    "# Plot boxplot for percent_copd column\n",
    "plt.boxplot(copd_df[\"percent_copd\"])\n",
    "plt.title(f\"Boxplot of COPD Percentage\")\n",
    "plt.ylabel(\"Count\")\n",
    "plt.show()"
   ]
  },
  {
   "cell_type": "code",
   "execution_count": 181,
   "id": "96d2eb81-5c62-4ff2-871f-37f37b7f5752",
   "metadata": {},
   "outputs": [
    {
     "data": {
      "text/plain": [
       "count    3121.000000\n",
       "mean        7.406216\n",
       "std         1.835876\n",
       "min         3.200000\n",
       "25%         6.000000\n",
       "50%         7.200000\n",
       "75%         8.700000\n",
       "max        15.500000\n",
       "Name: percent_copd, dtype: float64"
      ]
     },
     "execution_count": 181,
     "metadata": {},
     "output_type": "execute_result"
    }
   ],
   "source": [
    "# Summary statistics for percent_copd column\n",
    "copd_df[\"percent_copd\"].describe()"
   ]
  },
  {
   "cell_type": "markdown",
   "id": "bb2916d2-ea4f-4390-bd82-b2e198db0ebb",
   "metadata": {},
   "source": [
    "From the histogram and box plot we can see that COPD percentage is right skewed and for some couties it is quite high. However these might be valid values as air poolution and repiratory diseases can be higher in some states. Therefore for this study it does not make sense to drop those high cases."
   ]
  },
  {
   "cell_type": "markdown",
   "id": "9d96bdbf-ce53-4d6d-84c1-f26a6e393b53",
   "metadata": {},
   "source": [
    "##### Step 6:Clean categorical columns\n",
    "Check for invalid categories in categorical columns. Missing data or no response from respondents coded as a category 9 in BRFSS dataset. We need to identify invalid data values and clean the ctegorical columns."
   ]
  },
  {
   "cell_type": "code",
   "execution_count": 182,
   "id": "6bcfb979-d4a4-44ee-9cf7-b20c1c7a6ca8",
   "metadata": {},
   "outputs": [],
   "source": [
    "# Create a list of categorical columns\n",
    "categorical_columns = [cols for cols in list(df.columns) if cols not in numerical_columns]"
   ]
  },
  {
   "cell_type": "code",
   "execution_count": 183,
   "id": "e1a48dba-4819-4794-b668-444ddb556762",
   "metadata": {},
   "outputs": [
    {
     "name": "stdout",
     "output_type": "stream",
     "text": [
      "Categries count for _LTASTH1 column\n",
      " _LTASTH1\n",
      "1    156097\n",
      "2     28191\n",
      "9       657\n",
      "Name: HEIGHT3, dtype: int64 \n",
      "================================\n",
      "Categries count for _CASTHM1 column\n",
      " _CASTHM1\n",
      "1    164282\n",
      "2     19169\n",
      "9      1494\n",
      "Name: HEIGHT3, dtype: int64 \n",
      "================================\n",
      "Categries count for _RACE column\n",
      " _RACE\n",
      "1    131049\n",
      "2     18682\n",
      "3      1790\n",
      "4      5314\n",
      "5       366\n",
      "6      1964\n",
      "7      3777\n",
      "8     18070\n",
      "9      3933\n",
      "Name: HEIGHT3, dtype: int64 \n",
      "================================\n",
      "Categries count for _SEX column\n",
      " _SEX\n",
      "1    90669\n",
      "2    94276\n",
      "Name: HEIGHT3, dtype: int64 \n",
      "================================\n",
      "Categries count for _AGE_G column\n",
      " _AGE_G\n",
      "1    12347\n",
      "2    22478\n",
      "3    27223\n",
      "4    29556\n",
      "5    34560\n",
      "6    58781\n",
      "Name: HEIGHT3, dtype: int64 \n",
      "================================\n",
      "Categries count for _SMOKER3 column\n",
      " _SMOKER3\n",
      "1     16382\n",
      "2      6923\n",
      "3     49301\n",
      "4    107432\n",
      "9      4907\n",
      "Name: HEIGHT3, dtype: int64 \n",
      "================================\n",
      "Categries count for _CURECI1 column\n",
      " _CURECI1\n",
      "1    170862\n",
      "2      9562\n",
      "9      4521\n",
      "Name: HEIGHT3, dtype: int64 \n",
      "================================\n",
      "Categries count for MMSANAME column\n",
      " MMSANAME\n",
      "Aberdeen, SD, Micropolitan Statistical Area                          610\n",
      "Akron, OH, Metropolitan Statistical Area                             571\n",
      "Albany-Schenectady-Troy, NY, Metropolitan Statistical Area          2351\n",
      "Albuquerque, NM, Metropolitan Statistical Area                      1332\n",
      "Anchorage, AK, Metropolitan Statistical Area                        1658\n",
      "                                                                    ... \n",
      "Watertown, SD, Micropolitan Statistical Area                         750\n",
      "Wichita, KS, Metropolitan Statistical Area                          2768\n",
      "Wilmington, DE-MD-NJ, Metropolitan Division                         1386\n",
      "Worcester, MA-CT, Metropolitan Statistical Area                     1202\n",
      "Youngstown-Warren-Boardman, OH-PA, Metropolitan Statistical Area     544\n",
      "Name: HEIGHT3, Length: 126, dtype: int64 \n",
      "================================\n"
     ]
    }
   ],
   "source": [
    "# Check categories and counts for each categorical columns\n",
    "for cols in categorical_columns:\n",
    "    print(f\"Categries count for {cols} column\\n\",df.groupby(cols).count()[\"HEIGHT3\"], \"\\n================================\")"
   ]
  },
  {
   "cell_type": "markdown",
   "id": "b5c19151-370b-4af9-ad8f-17381ac69b7c",
   "metadata": {},
   "source": [
    "We can that there is \"9\" for some columns. 9 stands for category where repondents didn't repond to question or missing information. "
   ]
  },
  {
   "cell_type": "code",
   "execution_count": 184,
   "id": "78201b69-a7e7-4176-9ece-883966f4533f",
   "metadata": {},
   "outputs": [],
   "source": [
    "# Remove rows with value as 9 in categorical columns\n",
    "for cols in [\"_LTASTH1\",\"_CASTHM1\",\"_RACE\",\"_SMOKER3\",\"_CURECI1\"]:\n",
    "    df = df[df[cols] != 9]"
   ]
  },
  {
   "cell_type": "markdown",
   "id": "65e734a3-6b30-447e-a9f3-7f70a0ee9d92",
   "metadata": {},
   "source": [
    "##### Step 7:Extract State Code and County Name from column\n",
    "Both the datasets have State code and Cointy name name fused together in a single column. Perform transformation to extract and separte the State code and County name in separate columns."
   ]
  },
  {
   "cell_type": "markdown",
   "id": "54fcde6d-f955-41d1-87fb-9bfa2e484d74",
   "metadata": {},
   "source": [
    "###### BRFSS SMART dataset"
   ]
  },
  {
   "cell_type": "code",
   "execution_count": 185,
   "id": "6728c8e7-4008-44d9-80bf-72c7f63a6ce0",
   "metadata": {},
   "outputs": [
    {
     "data": {
      "text/plain": [
       "0                           Aberdeen\n",
       "1                           Aberdeen\n",
       "2                           Aberdeen\n",
       "3                           Aberdeen\n",
       "4                           Aberdeen\n",
       "                     ...            \n",
       "227787    Youngstown-Warren-Boardman\n",
       "227788    Youngstown-Warren-Boardman\n",
       "227789    Youngstown-Warren-Boardman\n",
       "227790    Youngstown-Warren-Boardman\n",
       "227791    Youngstown-Warren-Boardman\n",
       "Name: MMSANAME, Length: 174009, dtype: object"
      ]
     },
     "execution_count": 185,
     "metadata": {},
     "output_type": "execute_result"
    }
   ],
   "source": [
    "df[\"MMSANAME\"].apply(lambda x: x.split(\",\")[0])"
   ]
  },
  {
   "cell_type": "code",
   "execution_count": 186,
   "id": "fceac57a-c531-4ba3-b2a8-8b6e44600ede",
   "metadata": {},
   "outputs": [],
   "source": [
    "df[\"COUNTY\"] = df[\"MMSANAME\"].apply(lambda x: x.split(\",\")[0])"
   ]
  },
  {
   "cell_type": "markdown",
   "id": "a6a7e142-cb24-4517-86ee-67a99db63af0",
   "metadata": {},
   "source": [
    "We see that some County names are combined using '-' in the MMSANAME columns, most probably for smaller counties which are too small in size to be consisered as MMSA."
   ]
  },
  {
   "cell_type": "code",
   "execution_count": 187,
   "id": "afc3950a-0be5-40c4-b5ce-a27b7336dfb0",
   "metadata": {},
   "outputs": [],
   "source": [
    "#Split those combined county names and store as a list in a temp_column\n",
    "df[\"temp_county\"] = df[\"COUNTY\"].str.split(\"-\")"
   ]
  },
  {
   "cell_type": "code",
   "execution_count": 188,
   "id": "6af3d3ae-c966-48be-bfd6-48bc099bfc36",
   "metadata": {},
   "outputs": [
    {
     "data": {
      "text/plain": [
       "0                             [Aberdeen]\n",
       "1                             [Aberdeen]\n",
       "2                             [Aberdeen]\n",
       "3                             [Aberdeen]\n",
       "4                             [Aberdeen]\n",
       "                       ...              \n",
       "227787    [Youngstown, Warren, Boardman]\n",
       "227788    [Youngstown, Warren, Boardman]\n",
       "227789    [Youngstown, Warren, Boardman]\n",
       "227790    [Youngstown, Warren, Boardman]\n",
       "227791    [Youngstown, Warren, Boardman]\n",
       "Name: temp_county, Length: 174009, dtype: object"
      ]
     },
     "execution_count": 188,
     "metadata": {},
     "output_type": "execute_result"
    }
   ],
   "source": [
    "# view temp column values to see it is stored as list of splitted combined names\n",
    "df[\"temp_county\"]"
   ]
  },
  {
   "cell_type": "code",
   "execution_count": 189,
   "id": "d15e8278-f54a-4e2c-b215-16db2b75a5e4",
   "metadata": {},
   "outputs": [],
   "source": [
    "#Now as the combined county names is splitted, lets create separate rows for each values of the county names using explode\n",
    "df = df.explode(\"temp_county\")"
   ]
  },
  {
   "cell_type": "code",
   "execution_count": 190,
   "id": "d6f33862-a604-4f31-bfee-105f66de6a9b",
   "metadata": {},
   "outputs": [
    {
     "data": {
      "text/html": [
       "<div>\n",
       "<style scoped>\n",
       "    .dataframe tbody tr th:only-of-type {\n",
       "        vertical-align: middle;\n",
       "    }\n",
       "\n",
       "    .dataframe tbody tr th {\n",
       "        vertical-align: top;\n",
       "    }\n",
       "\n",
       "    .dataframe thead th {\n",
       "        text-align: right;\n",
       "    }\n",
       "</style>\n",
       "<table border=\"1\" class=\"dataframe\">\n",
       "  <thead>\n",
       "    <tr style=\"text-align: right;\">\n",
       "      <th></th>\n",
       "      <th>HEIGHT3</th>\n",
       "      <th>_LTASTH1</th>\n",
       "      <th>_CASTHM1</th>\n",
       "      <th>_RACE</th>\n",
       "      <th>_SEX</th>\n",
       "      <th>_AGE_G</th>\n",
       "      <th>WTKG3</th>\n",
       "      <th>_BMI5</th>\n",
       "      <th>_SMOKER3</th>\n",
       "      <th>_CURECI1</th>\n",
       "      <th>MMSANAME</th>\n",
       "      <th>COUNTY</th>\n",
       "      <th>temp_county</th>\n",
       "    </tr>\n",
       "  </thead>\n",
       "  <tbody>\n",
       "    <tr>\n",
       "      <th>227790</th>\n",
       "      <td>4.10</td>\n",
       "      <td>1</td>\n",
       "      <td>1</td>\n",
       "      <td>1</td>\n",
       "      <td>2</td>\n",
       "      <td>2</td>\n",
       "      <td>72.57</td>\n",
       "      <td>33.44</td>\n",
       "      <td>3</td>\n",
       "      <td>2</td>\n",
       "      <td>Youngstown-Warren-Boardman, OH-PA, Metropolita...</td>\n",
       "      <td>Youngstown-Warren-Boardman</td>\n",
       "      <td>Warren</td>\n",
       "    </tr>\n",
       "    <tr>\n",
       "      <th>227790</th>\n",
       "      <td>4.10</td>\n",
       "      <td>1</td>\n",
       "      <td>1</td>\n",
       "      <td>1</td>\n",
       "      <td>2</td>\n",
       "      <td>2</td>\n",
       "      <td>72.57</td>\n",
       "      <td>33.44</td>\n",
       "      <td>3</td>\n",
       "      <td>2</td>\n",
       "      <td>Youngstown-Warren-Boardman, OH-PA, Metropolita...</td>\n",
       "      <td>Youngstown-Warren-Boardman</td>\n",
       "      <td>Boardman</td>\n",
       "    </tr>\n",
       "    <tr>\n",
       "      <th>227791</th>\n",
       "      <td>5.09</td>\n",
       "      <td>1</td>\n",
       "      <td>1</td>\n",
       "      <td>1</td>\n",
       "      <td>1</td>\n",
       "      <td>5</td>\n",
       "      <td>88.45</td>\n",
       "      <td>28.80</td>\n",
       "      <td>4</td>\n",
       "      <td>1</td>\n",
       "      <td>Youngstown-Warren-Boardman, OH-PA, Metropolita...</td>\n",
       "      <td>Youngstown-Warren-Boardman</td>\n",
       "      <td>Youngstown</td>\n",
       "    </tr>\n",
       "    <tr>\n",
       "      <th>227791</th>\n",
       "      <td>5.09</td>\n",
       "      <td>1</td>\n",
       "      <td>1</td>\n",
       "      <td>1</td>\n",
       "      <td>1</td>\n",
       "      <td>5</td>\n",
       "      <td>88.45</td>\n",
       "      <td>28.80</td>\n",
       "      <td>4</td>\n",
       "      <td>1</td>\n",
       "      <td>Youngstown-Warren-Boardman, OH-PA, Metropolita...</td>\n",
       "      <td>Youngstown-Warren-Boardman</td>\n",
       "      <td>Warren</td>\n",
       "    </tr>\n",
       "    <tr>\n",
       "      <th>227791</th>\n",
       "      <td>5.09</td>\n",
       "      <td>1</td>\n",
       "      <td>1</td>\n",
       "      <td>1</td>\n",
       "      <td>1</td>\n",
       "      <td>5</td>\n",
       "      <td>88.45</td>\n",
       "      <td>28.80</td>\n",
       "      <td>4</td>\n",
       "      <td>1</td>\n",
       "      <td>Youngstown-Warren-Boardman, OH-PA, Metropolita...</td>\n",
       "      <td>Youngstown-Warren-Boardman</td>\n",
       "      <td>Boardman</td>\n",
       "    </tr>\n",
       "  </tbody>\n",
       "</table>\n",
       "</div>"
      ],
      "text/plain": [
       "        HEIGHT3  _LTASTH1  _CASTHM1  _RACE  _SEX  _AGE_G  WTKG3  _BMI5  \\\n",
       "227790     4.10         1         1      1     2       2  72.57  33.44   \n",
       "227790     4.10         1         1      1     2       2  72.57  33.44   \n",
       "227791     5.09         1         1      1     1       5  88.45  28.80   \n",
       "227791     5.09         1         1      1     1       5  88.45  28.80   \n",
       "227791     5.09         1         1      1     1       5  88.45  28.80   \n",
       "\n",
       "        _SMOKER3  _CURECI1                                           MMSANAME  \\\n",
       "227790         3         2  Youngstown-Warren-Boardman, OH-PA, Metropolita...   \n",
       "227790         3         2  Youngstown-Warren-Boardman, OH-PA, Metropolita...   \n",
       "227791         4         1  Youngstown-Warren-Boardman, OH-PA, Metropolita...   \n",
       "227791         4         1  Youngstown-Warren-Boardman, OH-PA, Metropolita...   \n",
       "227791         4         1  Youngstown-Warren-Boardman, OH-PA, Metropolita...   \n",
       "\n",
       "                            COUNTY temp_county  \n",
       "227790  Youngstown-Warren-Boardman      Warren  \n",
       "227790  Youngstown-Warren-Boardman    Boardman  \n",
       "227791  Youngstown-Warren-Boardman  Youngstown  \n",
       "227791  Youngstown-Warren-Boardman      Warren  \n",
       "227791  Youngstown-Warren-Boardman    Boardman  "
      ]
     },
     "execution_count": 190,
     "metadata": {},
     "output_type": "execute_result"
    }
   ],
   "source": [
    "# Check last few rows to make sure that the explode worked and now the county names are exploded in separate rows\n",
    "df.tail()"
   ]
  },
  {
   "cell_type": "code",
   "execution_count": 191,
   "id": "55ec95f6-eff1-4562-a9d0-1a4202704cb9",
   "metadata": {},
   "outputs": [],
   "source": [
    "# Replace the county column with the seprated county name\n",
    "df[\"COUNTY\"] = df[\"temp_county\"].str.strip()\n",
    "df = df.drop(columns=[\"temp_county\"])"
   ]
  },
  {
   "cell_type": "code",
   "execution_count": 192,
   "id": "8688d34b-a527-4734-91fa-7abb4ab1dd3a",
   "metadata": {},
   "outputs": [],
   "source": [
    "df[\"STATE\"] = df[\"MMSANAME\"].apply(lambda x: x.split(\",\")[1])"
   ]
  },
  {
   "cell_type": "code",
   "execution_count": 193,
   "id": "7deb66b3-245d-490b-8545-674ee12330b6",
   "metadata": {},
   "outputs": [
    {
     "data": {
      "text/plain": [
       "(0     SD\n",
       " 1     SD\n",
       " 2     SD\n",
       " 3     SD\n",
       " 4     SD\n",
       " Name: STATE, dtype: object,\n",
       " 227790     OH-PA\n",
       " 227790     OH-PA\n",
       " 227791     OH-PA\n",
       " 227791     OH-PA\n",
       " 227791     OH-PA\n",
       " Name: STATE, dtype: object)"
      ]
     },
     "execution_count": 193,
     "metadata": {},
     "output_type": "execute_result"
    }
   ],
   "source": [
    "df[\"STATE\"].head(),df[\"STATE\"].tail()"
   ]
  },
  {
   "cell_type": "markdown",
   "id": "47c12a95-be8c-4b24-bd4e-606a7c33fff1",
   "metadata": {},
   "source": [
    "We see similiar combined State name with `-`. Lets split into separate rows."
   ]
  },
  {
   "cell_type": "code",
   "execution_count": 194,
   "id": "8e9cd7c4-8a97-49dc-ae6a-81565e9bc48c",
   "metadata": {},
   "outputs": [],
   "source": [
    "#Split those combined state names and store as a list in a temp_column\n",
    "df[\"temp_state\"] = df[\"STATE\"].str.split(\"-\")"
   ]
  },
  {
   "cell_type": "code",
   "execution_count": 195,
   "id": "ac71e5b9-0c64-47bc-9951-5a7fcaf59513",
   "metadata": {},
   "outputs": [
    {
     "data": {
      "text/plain": [
       "(0    [ SD]\n",
       " 1    [ SD]\n",
       " 2    [ SD]\n",
       " 3    [ SD]\n",
       " 4    [ SD]\n",
       " Name: temp_state, dtype: object,\n",
       " 227790    [ OH, PA]\n",
       " 227790    [ OH, PA]\n",
       " 227791    [ OH, PA]\n",
       " 227791    [ OH, PA]\n",
       " 227791    [ OH, PA]\n",
       " Name: temp_state, dtype: object)"
      ]
     },
     "execution_count": 195,
     "metadata": {},
     "output_type": "execute_result"
    }
   ],
   "source": [
    "# view temp column values to see it is stored as list of splitted combined names\n",
    "df[\"temp_state\"].head(),df[\"temp_state\"].tail()"
   ]
  },
  {
   "cell_type": "code",
   "execution_count": 196,
   "id": "23264edd-ceec-44b6-8fb5-1dd504d29e51",
   "metadata": {},
   "outputs": [],
   "source": [
    "#Now as the combined state names is splitted, lets create separate rows for each values of the state names using explode\n",
    "df = df.explode(\"temp_state\")"
   ]
  },
  {
   "cell_type": "code",
   "execution_count": 197,
   "id": "aae9a777-6bcb-4384-9af9-7fad6ae2e4b7",
   "metadata": {},
   "outputs": [
    {
     "data": {
      "text/plain": [
       "(   HEIGHT3  _LTASTH1  _CASTHM1  _RACE  _SEX  _AGE_G   WTKG3  _BMI5  _SMOKER3  \\\n",
       " 0     5.09         1         1      1     1       3  108.86  35.44         3   \n",
       " 1     6.02         1         1      1     1       4   99.79  28.25         4   \n",
       " 2     5.07         2         1      1     2       3   74.84  25.84         4   \n",
       " 3     5.11         1         1      1     1       2   92.99  28.59         4   \n",
       " 4     5.06         1         1      1     2       5   79.38  28.25         4   \n",
       " \n",
       "    _CURECI1                                     MMSANAME    COUNTY STATE  \\\n",
       " 0         1  Aberdeen, SD, Micropolitan Statistical Area  Aberdeen    SD   \n",
       " 1         1  Aberdeen, SD, Micropolitan Statistical Area  Aberdeen    SD   \n",
       " 2         1  Aberdeen, SD, Micropolitan Statistical Area  Aberdeen    SD   \n",
       " 3         1  Aberdeen, SD, Micropolitan Statistical Area  Aberdeen    SD   \n",
       " 4         1  Aberdeen, SD, Micropolitan Statistical Area  Aberdeen    SD   \n",
       " \n",
       "   temp_state  \n",
       " 0         SD  \n",
       " 1         SD  \n",
       " 2         SD  \n",
       " 3         SD  \n",
       " 4         SD  ,\n",
       "         HEIGHT3  _LTASTH1  _CASTHM1  _RACE  _SEX  _AGE_G  WTKG3  _BMI5  \\\n",
       " 227791     5.09         1         1      1     1       5  88.45   28.8   \n",
       " 227791     5.09         1         1      1     1       5  88.45   28.8   \n",
       " 227791     5.09         1         1      1     1       5  88.45   28.8   \n",
       " 227791     5.09         1         1      1     1       5  88.45   28.8   \n",
       " 227791     5.09         1         1      1     1       5  88.45   28.8   \n",
       " \n",
       "         _SMOKER3  _CURECI1                                           MMSANAME  \\\n",
       " 227791         4         1  Youngstown-Warren-Boardman, OH-PA, Metropolita...   \n",
       " 227791         4         1  Youngstown-Warren-Boardman, OH-PA, Metropolita...   \n",
       " 227791         4         1  Youngstown-Warren-Boardman, OH-PA, Metropolita...   \n",
       " 227791         4         1  Youngstown-Warren-Boardman, OH-PA, Metropolita...   \n",
       " 227791         4         1  Youngstown-Warren-Boardman, OH-PA, Metropolita...   \n",
       " \n",
       "             COUNTY   STATE temp_state  \n",
       " 227791  Youngstown   OH-PA         PA  \n",
       " 227791      Warren   OH-PA         OH  \n",
       " 227791      Warren   OH-PA         PA  \n",
       " 227791    Boardman   OH-PA         OH  \n",
       " 227791    Boardman   OH-PA         PA  )"
      ]
     },
     "execution_count": 197,
     "metadata": {},
     "output_type": "execute_result"
    }
   ],
   "source": [
    "# Check first & last few rows to make sure that the explode worked and now the county names are exploded in separate rows\n",
    "df.head(), df.tail()"
   ]
  },
  {
   "cell_type": "code",
   "execution_count": 198,
   "id": "5d7c1b00-d4d1-40bf-8baf-56c3703a46a6",
   "metadata": {},
   "outputs": [],
   "source": [
    "# Replace the county column with the seprated county name\n",
    "df[\"STATE\"] = df[\"temp_state\"].str.strip()\n",
    "df = df.drop(columns=[\"temp_state\"])"
   ]
  },
  {
   "cell_type": "code",
   "execution_count": 199,
   "id": "7ac8614e-73ad-4123-a28f-a7828cdd712c",
   "metadata": {},
   "outputs": [
    {
     "data": {
      "text/plain": [
       "(   HEIGHT3  _LTASTH1  _CASTHM1  _RACE  _SEX  _AGE_G   WTKG3  _BMI5  _SMOKER3  \\\n",
       " 0     5.09         1         1      1     1       3  108.86  35.44         3   \n",
       " 1     6.02         1         1      1     1       4   99.79  28.25         4   \n",
       " 2     5.07         2         1      1     2       3   74.84  25.84         4   \n",
       " 3     5.11         1         1      1     1       2   92.99  28.59         4   \n",
       " 4     5.06         1         1      1     2       5   79.38  28.25         4   \n",
       " \n",
       "    _CURECI1                                     MMSANAME    COUNTY STATE  \n",
       " 0         1  Aberdeen, SD, Micropolitan Statistical Area  Aberdeen    SD  \n",
       " 1         1  Aberdeen, SD, Micropolitan Statistical Area  Aberdeen    SD  \n",
       " 2         1  Aberdeen, SD, Micropolitan Statistical Area  Aberdeen    SD  \n",
       " 3         1  Aberdeen, SD, Micropolitan Statistical Area  Aberdeen    SD  \n",
       " 4         1  Aberdeen, SD, Micropolitan Statistical Area  Aberdeen    SD  ,\n",
       "         HEIGHT3  _LTASTH1  _CASTHM1  _RACE  _SEX  _AGE_G  WTKG3  _BMI5  \\\n",
       " 227791     5.09         1         1      1     1       5  88.45   28.8   \n",
       " 227791     5.09         1         1      1     1       5  88.45   28.8   \n",
       " 227791     5.09         1         1      1     1       5  88.45   28.8   \n",
       " 227791     5.09         1         1      1     1       5  88.45   28.8   \n",
       " 227791     5.09         1         1      1     1       5  88.45   28.8   \n",
       " \n",
       "         _SMOKER3  _CURECI1                                           MMSANAME  \\\n",
       " 227791         4         1  Youngstown-Warren-Boardman, OH-PA, Metropolita...   \n",
       " 227791         4         1  Youngstown-Warren-Boardman, OH-PA, Metropolita...   \n",
       " 227791         4         1  Youngstown-Warren-Boardman, OH-PA, Metropolita...   \n",
       " 227791         4         1  Youngstown-Warren-Boardman, OH-PA, Metropolita...   \n",
       " 227791         4         1  Youngstown-Warren-Boardman, OH-PA, Metropolita...   \n",
       " \n",
       "             COUNTY STATE  \n",
       " 227791  Youngstown    PA  \n",
       " 227791      Warren    OH  \n",
       " 227791      Warren    PA  \n",
       " 227791    Boardman    OH  \n",
       " 227791    Boardman    PA  )"
      ]
     },
     "execution_count": 199,
     "metadata": {},
     "output_type": "execute_result"
    }
   ],
   "source": [
    "df.head(), df.tail()"
   ]
  },
  {
   "cell_type": "markdown",
   "id": "436373a2-f425-48dd-a7f0-d5e546c69a67",
   "metadata": {},
   "source": [
    "###### COPD dataset"
   ]
  },
  {
   "cell_type": "code",
   "execution_count": 200,
   "id": "37fab919-f896-4a3f-8100-3a7d7764c43b",
   "metadata": {},
   "outputs": [],
   "source": [
    "copd_df[\"state\"] = copd_df[\"fullgeoname\"].apply(lambda x: x.split(\",\")[0])"
   ]
  },
  {
   "cell_type": "code",
   "execution_count": 201,
   "id": "d7a712a1-555a-42de-b860-0816d97d19b3",
   "metadata": {},
   "outputs": [
    {
     "data": {
      "text/html": [
       "<div>\n",
       "<style scoped>\n",
       "    .dataframe tbody tr th:only-of-type {\n",
       "        vertical-align: middle;\n",
       "    }\n",
       "\n",
       "    .dataframe tbody tr th {\n",
       "        vertical-align: top;\n",
       "    }\n",
       "\n",
       "    .dataframe thead th {\n",
       "        text-align: right;\n",
       "    }\n",
       "</style>\n",
       "<table border=\"1\" class=\"dataframe\">\n",
       "  <thead>\n",
       "    <tr style=\"text-align: right;\">\n",
       "      <th></th>\n",
       "      <th>fullgeoname</th>\n",
       "      <th>statedesc</th>\n",
       "      <th>county</th>\n",
       "      <th>percent_copd</th>\n",
       "      <th>state</th>\n",
       "    </tr>\n",
       "  </thead>\n",
       "  <tbody>\n",
       "    <tr>\n",
       "      <th>0</th>\n",
       "      <td>AL, Autauga</td>\n",
       "      <td>Alabama</td>\n",
       "      <td>Autauga</td>\n",
       "      <td>7.5</td>\n",
       "      <td>AL</td>\n",
       "    </tr>\n",
       "    <tr>\n",
       "      <th>1</th>\n",
       "      <td>AL, Baldwin</td>\n",
       "      <td>Alabama</td>\n",
       "      <td>Baldwin</td>\n",
       "      <td>6.9</td>\n",
       "      <td>AL</td>\n",
       "    </tr>\n",
       "    <tr>\n",
       "      <th>2</th>\n",
       "      <td>AL, Barbour</td>\n",
       "      <td>Alabama</td>\n",
       "      <td>Barbour</td>\n",
       "      <td>10.7</td>\n",
       "      <td>AL</td>\n",
       "    </tr>\n",
       "    <tr>\n",
       "      <th>3</th>\n",
       "      <td>AL, Bibb</td>\n",
       "      <td>Alabama</td>\n",
       "      <td>Bibb</td>\n",
       "      <td>9.2</td>\n",
       "      <td>AL</td>\n",
       "    </tr>\n",
       "    <tr>\n",
       "      <th>4</th>\n",
       "      <td>AL, Blount</td>\n",
       "      <td>Alabama</td>\n",
       "      <td>Blount</td>\n",
       "      <td>8.7</td>\n",
       "      <td>AL</td>\n",
       "    </tr>\n",
       "  </tbody>\n",
       "</table>\n",
       "</div>"
      ],
      "text/plain": [
       "   fullgeoname statedesc   county  percent_copd state\n",
       "0  AL, Autauga   Alabama  Autauga           7.5    AL\n",
       "1  AL, Baldwin   Alabama  Baldwin           6.9    AL\n",
       "2  AL, Barbour   Alabama  Barbour          10.7    AL\n",
       "3     AL, Bibb   Alabama     Bibb           9.2    AL\n",
       "4   AL, Blount   Alabama   Blount           8.7    AL"
      ]
     },
     "execution_count": 201,
     "metadata": {},
     "output_type": "execute_result"
    }
   ],
   "source": [
    "copd_df.head()"
   ]
  },
  {
   "cell_type": "markdown",
   "id": "64ff9709-e063-4d7b-8921-728707267949",
   "metadata": {},
   "source": [
    "##### Step 8:Agrregate BRFSS SMART dataset for summarizing at County level \n",
    "We will need to aggretage to calculate below summary at County level. This is required because all other datasources at county level and our study is being performed at county level but the the BRFSS SMART dataset not at County level. For all the counties we will calculate:\n",
    "- Average Weight\n",
    "- Average Height\n",
    "- Average BMI\n",
    "- Gender Percentage\n",
    "- Age Group Percentae\n",
    "- Race percentage\n",
    "- Asthma Percentage\n",
    "- Smoker Percentage\n",
    "- Ecigarrets Smoker Percentage"
   ]
  },
  {
   "cell_type": "code",
   "execution_count": 202,
   "id": "1a92cf35-72bd-4274-8074-065b70ff2835",
   "metadata": {},
   "outputs": [
    {
     "data": {
      "text/plain": [
       "STATE\n",
       "AK     2312\n",
       "AL     3812\n",
       "AR     8460\n",
       "AZ    15930\n",
       "CA    14295\n",
       "CO    17584\n",
       "CT    12888\n",
       "DC    28437\n",
       "DE     4738\n",
       "GA    14652\n",
       "IA    15027\n",
       "ID     3400\n",
       "IL    14389\n",
       "IN    26344\n",
       "KS    13944\n",
       "KY     6787\n",
       "LA     5520\n",
       "MA    27620\n",
       "MD    65358\n",
       "ME     7832\n",
       "MI    11024\n",
       "MN    32662\n",
       "MO    10352\n",
       "MS     1724\n",
       "MT      974\n",
       "NC    18116\n",
       "ND     2335\n",
       "NE    14643\n",
       "NH     5937\n",
       "NJ    41682\n",
       "NM     1908\n",
       "NV      903\n",
       "NY    66139\n",
       "OH    16576\n",
       "OK     3378\n",
       "OR    12186\n",
       "PA    10648\n",
       "PR    10794\n",
       "RI    13492\n",
       "SC    20279\n",
       "SD     7316\n",
       "TN     8898\n",
       "TX    21193\n",
       "UT    12867\n",
       "VA    37987\n",
       "VT     6025\n",
       "WA    27640\n",
       "WI    45419\n",
       "WV    37514\n",
       "Name: _SEX, dtype: int64"
      ]
     },
     "execution_count": 202,
     "metadata": {},
     "output_type": "execute_result"
    }
   ],
   "source": [
    "df.groupby([\"STATE\"]).sum(\"_SEX\")[\"_SEX\"]"
   ]
  },
  {
   "cell_type": "code",
   "execution_count": 209,
   "id": "0d0c434f-4005-428a-9d54-e12fcb1c9749",
   "metadata": {},
   "outputs": [
    {
     "data": {
      "text/html": [
       "<div>\n",
       "<style scoped>\n",
       "    .dataframe tbody tr th:only-of-type {\n",
       "        vertical-align: middle;\n",
       "    }\n",
       "\n",
       "    .dataframe tbody tr th {\n",
       "        vertical-align: top;\n",
       "    }\n",
       "\n",
       "    .dataframe thead th {\n",
       "        text-align: right;\n",
       "    }\n",
       "</style>\n",
       "<table border=\"1\" class=\"dataframe\">\n",
       "  <thead>\n",
       "    <tr style=\"text-align: right;\">\n",
       "      <th></th>\n",
       "      <th>HEIGHT3</th>\n",
       "      <th>_LTASTH1</th>\n",
       "      <th>_CASTHM1</th>\n",
       "      <th>_RACE</th>\n",
       "      <th>_AGE_G</th>\n",
       "      <th>WTKG3</th>\n",
       "      <th>_BMI5</th>\n",
       "      <th>_SMOKER3</th>\n",
       "      <th>_CURECI1</th>\n",
       "      <th>MMSANAME</th>\n",
       "      <th>COUNTY</th>\n",
       "      <th>STATE</th>\n",
       "    </tr>\n",
       "  </thead>\n",
       "  <tbody>\n",
       "    <tr>\n",
       "      <th>0</th>\n",
       "      <td>260216</td>\n",
       "      <td>260216</td>\n",
       "      <td>260216</td>\n",
       "      <td>260216</td>\n",
       "      <td>260216</td>\n",
       "      <td>260216</td>\n",
       "      <td>260216</td>\n",
       "      <td>260216</td>\n",
       "      <td>260216</td>\n",
       "      <td>260216</td>\n",
       "      <td>260216</td>\n",
       "      <td>260216</td>\n",
       "    </tr>\n",
       "    <tr>\n",
       "      <th>1</th>\n",
       "      <td>260216</td>\n",
       "      <td>260216</td>\n",
       "      <td>260216</td>\n",
       "      <td>260216</td>\n",
       "      <td>260216</td>\n",
       "      <td>260216</td>\n",
       "      <td>260216</td>\n",
       "      <td>260216</td>\n",
       "      <td>260216</td>\n",
       "      <td>260216</td>\n",
       "      <td>260216</td>\n",
       "      <td>260216</td>\n",
       "    </tr>\n",
       "    <tr>\n",
       "      <th>2</th>\n",
       "      <td>274862</td>\n",
       "      <td>274862</td>\n",
       "      <td>274862</td>\n",
       "      <td>274862</td>\n",
       "      <td>274862</td>\n",
       "      <td>274862</td>\n",
       "      <td>274862</td>\n",
       "      <td>274862</td>\n",
       "      <td>274862</td>\n",
       "      <td>274862</td>\n",
       "      <td>274862</td>\n",
       "      <td>274862</td>\n",
       "    </tr>\n",
       "    <tr>\n",
       "      <th>3</th>\n",
       "      <td>260216</td>\n",
       "      <td>260216</td>\n",
       "      <td>260216</td>\n",
       "      <td>260216</td>\n",
       "      <td>260216</td>\n",
       "      <td>260216</td>\n",
       "      <td>260216</td>\n",
       "      <td>260216</td>\n",
       "      <td>260216</td>\n",
       "      <td>260216</td>\n",
       "      <td>260216</td>\n",
       "      <td>260216</td>\n",
       "    </tr>\n",
       "    <tr>\n",
       "      <th>4</th>\n",
       "      <td>274862</td>\n",
       "      <td>274862</td>\n",
       "      <td>274862</td>\n",
       "      <td>274862</td>\n",
       "      <td>274862</td>\n",
       "      <td>274862</td>\n",
       "      <td>274862</td>\n",
       "      <td>274862</td>\n",
       "      <td>274862</td>\n",
       "      <td>274862</td>\n",
       "      <td>274862</td>\n",
       "      <td>274862</td>\n",
       "    </tr>\n",
       "    <tr>\n",
       "      <th>...</th>\n",
       "      <td>...</td>\n",
       "      <td>...</td>\n",
       "      <td>...</td>\n",
       "      <td>...</td>\n",
       "      <td>...</td>\n",
       "      <td>...</td>\n",
       "      <td>...</td>\n",
       "      <td>...</td>\n",
       "      <td>...</td>\n",
       "      <td>...</td>\n",
       "      <td>...</td>\n",
       "      <td>...</td>\n",
       "    </tr>\n",
       "    <tr>\n",
       "      <th>227791</th>\n",
       "      <td>260216</td>\n",
       "      <td>260216</td>\n",
       "      <td>260216</td>\n",
       "      <td>260216</td>\n",
       "      <td>260216</td>\n",
       "      <td>260216</td>\n",
       "      <td>260216</td>\n",
       "      <td>260216</td>\n",
       "      <td>260216</td>\n",
       "      <td>260216</td>\n",
       "      <td>260216</td>\n",
       "      <td>260216</td>\n",
       "    </tr>\n",
       "    <tr>\n",
       "      <th>227791</th>\n",
       "      <td>260216</td>\n",
       "      <td>260216</td>\n",
       "      <td>260216</td>\n",
       "      <td>260216</td>\n",
       "      <td>260216</td>\n",
       "      <td>260216</td>\n",
       "      <td>260216</td>\n",
       "      <td>260216</td>\n",
       "      <td>260216</td>\n",
       "      <td>260216</td>\n",
       "      <td>260216</td>\n",
       "      <td>260216</td>\n",
       "    </tr>\n",
       "    <tr>\n",
       "      <th>227791</th>\n",
       "      <td>260216</td>\n",
       "      <td>260216</td>\n",
       "      <td>260216</td>\n",
       "      <td>260216</td>\n",
       "      <td>260216</td>\n",
       "      <td>260216</td>\n",
       "      <td>260216</td>\n",
       "      <td>260216</td>\n",
       "      <td>260216</td>\n",
       "      <td>260216</td>\n",
       "      <td>260216</td>\n",
       "      <td>260216</td>\n",
       "    </tr>\n",
       "    <tr>\n",
       "      <th>227791</th>\n",
       "      <td>260216</td>\n",
       "      <td>260216</td>\n",
       "      <td>260216</td>\n",
       "      <td>260216</td>\n",
       "      <td>260216</td>\n",
       "      <td>260216</td>\n",
       "      <td>260216</td>\n",
       "      <td>260216</td>\n",
       "      <td>260216</td>\n",
       "      <td>260216</td>\n",
       "      <td>260216</td>\n",
       "      <td>260216</td>\n",
       "    </tr>\n",
       "    <tr>\n",
       "      <th>227791</th>\n",
       "      <td>260216</td>\n",
       "      <td>260216</td>\n",
       "      <td>260216</td>\n",
       "      <td>260216</td>\n",
       "      <td>260216</td>\n",
       "      <td>260216</td>\n",
       "      <td>260216</td>\n",
       "      <td>260216</td>\n",
       "      <td>260216</td>\n",
       "      <td>260216</td>\n",
       "      <td>260216</td>\n",
       "      <td>260216</td>\n",
       "    </tr>\n",
       "  </tbody>\n",
       "</table>\n",
       "<p>535078 rows × 12 columns</p>\n",
       "</div>"
      ],
      "text/plain": [
       "        HEIGHT3  _LTASTH1  _CASTHM1   _RACE  _AGE_G   WTKG3   _BMI5  _SMOKER3  \\\n",
       "0        260216    260216    260216  260216  260216  260216  260216    260216   \n",
       "1        260216    260216    260216  260216  260216  260216  260216    260216   \n",
       "2        274862    274862    274862  274862  274862  274862  274862    274862   \n",
       "3        260216    260216    260216  260216  260216  260216  260216    260216   \n",
       "4        274862    274862    274862  274862  274862  274862  274862    274862   \n",
       "...         ...       ...       ...     ...     ...     ...     ...       ...   \n",
       "227791   260216    260216    260216  260216  260216  260216  260216    260216   \n",
       "227791   260216    260216    260216  260216  260216  260216  260216    260216   \n",
       "227791   260216    260216    260216  260216  260216  260216  260216    260216   \n",
       "227791   260216    260216    260216  260216  260216  260216  260216    260216   \n",
       "227791   260216    260216    260216  260216  260216  260216  260216    260216   \n",
       "\n",
       "        _CURECI1  MMSANAME  COUNTY   STATE  \n",
       "0         260216    260216  260216  260216  \n",
       "1         260216    260216  260216  260216  \n",
       "2         274862    274862  274862  274862  \n",
       "3         260216    260216  260216  260216  \n",
       "4         274862    274862  274862  274862  \n",
       "...          ...       ...     ...     ...  \n",
       "227791    260216    260216  260216  260216  \n",
       "227791    260216    260216  260216  260216  \n",
       "227791    260216    260216  260216  260216  \n",
       "227791    260216    260216  260216  260216  \n",
       "227791    260216    260216  260216  260216  \n",
       "\n",
       "[535078 rows x 12 columns]"
      ]
     },
     "execution_count": 209,
     "metadata": {},
     "output_type": "execute_result"
    }
   ],
   "source": []
  },
  {
   "cell_type": "code",
   "execution_count": 221,
   "id": "cde0ef83-18c6-44cc-881e-f9d3dc5a14a7",
   "metadata": {},
   "outputs": [],
   "source": [
    "def calculate_percentage(data):\n",
    "    return data.count()[\"COUNTY\"]/data.shape[0]"
   ]
  },
  {
   "cell_type": "code",
   "execution_count": 222,
   "id": "fa8121ba-647f-439f-b986-e391484c5ed6",
   "metadata": {},
   "outputs": [
    {
     "data": {
      "text/plain": [
       "STATE  _SEX\n",
       "AK     1       1.0\n",
       "       2       1.0\n",
       "AL     1       1.0\n",
       "       2       1.0\n",
       "AR     1       1.0\n",
       "              ... \n",
       "WA     2       1.0\n",
       "WI     1       1.0\n",
       "       2       1.0\n",
       "WV     1       1.0\n",
       "       2       1.0\n",
       "Length: 98, dtype: float64"
      ]
     },
     "execution_count": 222,
     "metadata": {},
     "output_type": "execute_result"
    }
   ],
   "source": [
    "df.groupby([\"STATE\",\"_SEX\"]).apply(calculate_percentage)"
   ]
  },
  {
   "cell_type": "code",
   "execution_count": 205,
   "id": "7b4fcc0d-32a5-4330-9f97-dd452d865adf",
   "metadata": {},
   "outputs": [
    {
     "data": {
      "text/html": [
       "<div>\n",
       "<style scoped>\n",
       "    .dataframe tbody tr th:only-of-type {\n",
       "        vertical-align: middle;\n",
       "    }\n",
       "\n",
       "    .dataframe tbody tr th {\n",
       "        vertical-align: top;\n",
       "    }\n",
       "\n",
       "    .dataframe thead tr th {\n",
       "        text-align: left;\n",
       "    }\n",
       "\n",
       "    .dataframe thead tr:last-of-type th {\n",
       "        text-align: right;\n",
       "    }\n",
       "</style>\n",
       "<table border=\"1\" class=\"dataframe\">\n",
       "  <thead>\n",
       "    <tr>\n",
       "      <th></th>\n",
       "      <th colspan=\"8\" halign=\"left\">HEIGHT3</th>\n",
       "      <th colspan=\"2\" halign=\"left\">_LTASTH1</th>\n",
       "      <th>...</th>\n",
       "      <th colspan=\"2\" halign=\"left\">_SMOKER3</th>\n",
       "      <th colspan=\"8\" halign=\"left\">_CURECI1</th>\n",
       "    </tr>\n",
       "    <tr>\n",
       "      <th></th>\n",
       "      <th>count</th>\n",
       "      <th>mean</th>\n",
       "      <th>std</th>\n",
       "      <th>min</th>\n",
       "      <th>25%</th>\n",
       "      <th>50%</th>\n",
       "      <th>75%</th>\n",
       "      <th>max</th>\n",
       "      <th>count</th>\n",
       "      <th>mean</th>\n",
       "      <th>...</th>\n",
       "      <th>75%</th>\n",
       "      <th>max</th>\n",
       "      <th>count</th>\n",
       "      <th>mean</th>\n",
       "      <th>std</th>\n",
       "      <th>min</th>\n",
       "      <th>25%</th>\n",
       "      <th>50%</th>\n",
       "      <th>75%</th>\n",
       "      <th>max</th>\n",
       "    </tr>\n",
       "    <tr>\n",
       "      <th>_SEX</th>\n",
       "      <th></th>\n",
       "      <th></th>\n",
       "      <th></th>\n",
       "      <th></th>\n",
       "      <th></th>\n",
       "      <th></th>\n",
       "      <th></th>\n",
       "      <th></th>\n",
       "      <th></th>\n",
       "      <th></th>\n",
       "      <th></th>\n",
       "      <th></th>\n",
       "      <th></th>\n",
       "      <th></th>\n",
       "      <th></th>\n",
       "      <th></th>\n",
       "      <th></th>\n",
       "      <th></th>\n",
       "      <th></th>\n",
       "      <th></th>\n",
       "      <th></th>\n",
       "    </tr>\n",
       "  </thead>\n",
       "  <tbody>\n",
       "    <tr>\n",
       "      <th>1</th>\n",
       "      <td>804.0</td>\n",
       "      <td>5.432575</td>\n",
       "      <td>0.453389</td>\n",
       "      <td>5.01</td>\n",
       "      <td>5.08</td>\n",
       "      <td>5.10</td>\n",
       "      <td>6.00</td>\n",
       "      <td>7.01</td>\n",
       "      <td>804.0</td>\n",
       "      <td>1.134328</td>\n",
       "      <td>...</td>\n",
       "      <td>4.0</td>\n",
       "      <td>4.0</td>\n",
       "      <td>804.0</td>\n",
       "      <td>1.062189</td>\n",
       "      <td>0.241649</td>\n",
       "      <td>1.0</td>\n",
       "      <td>1.0</td>\n",
       "      <td>1.0</td>\n",
       "      <td>1.0</td>\n",
       "      <td>2.0</td>\n",
       "    </tr>\n",
       "    <tr>\n",
       "      <th>2</th>\n",
       "      <td>754.0</td>\n",
       "      <td>5.026645</td>\n",
       "      <td>0.211047</td>\n",
       "      <td>4.07</td>\n",
       "      <td>5.03</td>\n",
       "      <td>5.04</td>\n",
       "      <td>5.07</td>\n",
       "      <td>6.05</td>\n",
       "      <td>754.0</td>\n",
       "      <td>1.152520</td>\n",
       "      <td>...</td>\n",
       "      <td>4.0</td>\n",
       "      <td>4.0</td>\n",
       "      <td>754.0</td>\n",
       "      <td>1.046419</td>\n",
       "      <td>0.210531</td>\n",
       "      <td>1.0</td>\n",
       "      <td>1.0</td>\n",
       "      <td>1.0</td>\n",
       "      <td>1.0</td>\n",
       "      <td>2.0</td>\n",
       "    </tr>\n",
       "  </tbody>\n",
       "</table>\n",
       "<p>2 rows × 72 columns</p>\n",
       "</div>"
      ],
      "text/plain": [
       "     HEIGHT3                                                   _LTASTH1  \\\n",
       "       count      mean       std   min   25%   50%   75%   max    count   \n",
       "_SEX                                                                      \n",
       "1      804.0  5.432575  0.453389  5.01  5.08  5.10  6.00  7.01    804.0   \n",
       "2      754.0  5.026645  0.211047  4.07  5.03  5.04  5.07  6.05    754.0   \n",
       "\n",
       "                ... _SMOKER3      _CURECI1                                     \\\n",
       "          mean  ...      75%  max    count      mean       std  min  25%  50%   \n",
       "_SEX            ...                                                             \n",
       "1     1.134328  ...      4.0  4.0    804.0  1.062189  0.241649  1.0  1.0  1.0   \n",
       "2     1.152520  ...      4.0  4.0    754.0  1.046419  0.210531  1.0  1.0  1.0   \n",
       "\n",
       "                \n",
       "      75%  max  \n",
       "_SEX            \n",
       "1     1.0  2.0  \n",
       "2     1.0  2.0  \n",
       "\n",
       "[2 rows x 72 columns]"
      ]
     },
     "execution_count": 205,
     "metadata": {},
     "output_type": "execute_result"
    }
   ],
   "source": [
    "df[df[\"STATE\"] == \"AK\"].groupby(\"_SEX\").describe()"
   ]
  },
  {
   "cell_type": "markdown",
   "id": "d5c01f01-7531-4434-950c-7223ad1ce4b6",
   "metadata": {},
   "source": [
    "##### Step 9:Merge BRFSS dataframe and COPD dataframe on County and State name to create a single dataframe\n",
    "We will need to merge the BRFSS dataframe and COPD dataframe in order to have a single dataframe containing both COPD prevalence and Asthma prevalencae "
   ]
  },
  {
   "cell_type": "markdown",
   "id": "763edc2a-ddab-451b-859b-fec5355fe222",
   "metadata": {},
   "source": [
    "#### Ethical Implications\n",
    "\n",
    "The BRFSS SMART and COPD prevalence datasets do not contain personally identifiable data, and there is no risk of data privacy breaches. These open datasets are freely available for use and redistribution without restrictions. These datasets do not contain any licensed data or copyrighted data. The COPD dataset contains estimated COPD prevalence, which deviates from the actual COPD prevalence, and the outcomes of this study may not be an exact representation of the population. As part of data wrangling, records in the BRFSS SMART dataset where respondents didn't provide responses or missing data have been dropped. Therefore, the sample may not be an accurate representation of the population. For some records in the BRFSS SMART dataset, the County and State of respondents are combined into one record. As part of data wrangling,  such records were split into multiple records with the assumption that the same record belongs to each separate County and State, and the records are combined because the respondent's location does not belong to a single County. This approach and assumption may not be an actual case, and oversampling the records in this approach may introduce bias. Hence, outcomes may not be an exact representation of the population. Response records in the BRFSS SMART dataset are aggregated at the County and State levels to calculate the prevalence percentages and averages. These prevalence percentages and averages may not represent the population because not all residents participated in the survey, and information that was missing was dropped for this study."
   ]
  },
  {
   "cell_type": "markdown",
   "id": "3ceee83f-34d3-4616-a9d9-87809ac27c3c",
   "metadata": {},
   "source": [
    "## References\n",
    "About BRFSS. (n.d.). _CDC_. **https://www.cdc.gov/brfss/about/index.htm**"
   ]
  }
 ],
 "metadata": {
  "kernelspec": {
   "display_name": "Python 3 (ipykernel)",
   "language": "python",
   "name": "python3"
  },
  "language_info": {
   "codemirror_mode": {
    "name": "ipython",
    "version": 3
   },
   "file_extension": ".py",
   "mimetype": "text/x-python",
   "name": "python",
   "nbconvert_exporter": "python",
   "pygments_lexer": "ipython3",
   "version": "3.11.4"
  }
 },
 "nbformat": 4,
 "nbformat_minor": 5
}
