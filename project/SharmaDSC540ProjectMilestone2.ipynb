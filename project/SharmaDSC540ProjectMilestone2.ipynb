{
 "cells": [
  {
   "cell_type": "markdown",
   "id": "219aadf5-0668-4f80-8785-37657c61ef50",
   "metadata": {},
   "source": [
    "# Relationship between Population, Air pollution and Respiratory diseases like COPD and Asthma"
   ]
  },
  {
   "cell_type": "markdown",
   "id": "1ac89d1f-5201-4502-bade-847df575ec01",
   "metadata": {},
   "source": [
    "It is well known that _respiratory diseases_ are closely related to _air pollution_. Air pollutants can significantly affect the lungs and other parts of the respiratory system. When we breathe in air with pollutants that reach the lungs and other parts of the respiratory tract, it can cause irritation, inflammation, and damage. There are various factors that add to air pollution in a city, state, or country. Even different locations within a state, like counties, could have different amounts of air pollution. <br>\n",
    "\n",
    "_Population_ may also affect air pollution. The increased population can lead to increased transportation, deforestation, factories and industries, house cooking, and heating. All of these aid in increasing air pollution. Therefore, regions with higher populations will also have increased air pollution and higher prevalence of respiratory diseases like COPD and Asthma. This study will investigate if there is _any relationship between population and air pollution, which in turn increases the risk of respiratory diseases (COPD and Asthma)._"
   ]
  },
  {
   "cell_type": "markdown",
   "id": "ac0ddc10-d854-4a80-8c8e-f68ef77d46de",
   "metadata": {
    "jp-MarkdownHeadingCollapsed": true
   },
   "source": [
    "### Project Milestone 1 - Identify Sources"
   ]
  },
  {
   "cell_type": "markdown",
   "id": "015d5e9d-0e29-48c5-b029-02e09f0e0de0",
   "metadata": {},
   "source": [
    "#### Data Sources"
   ]
  },
  {
   "cell_type": "markdown",
   "id": "a1f513bb-7a6d-4136-8785-b5ff60140afd",
   "metadata": {},
   "source": [
    " 1. **Flat Files**\n",
    "- **2021 SMART: BRFSS City and County Data**: \n",
    "    The Behavioral Risk Factor Surveillance System (BRFSS) is the nation’s premier system of health-related telephone surveys that collect state data about U.S. residents regarding their health-related risk behaviors, chronic health conditions, and use of preventive services. The Behavioral Risk Factor Surveillance System (BRFSS) Selected Metropolitan/Micropolitan Area Risk Trends (SMART) is a documented and verified subset of the 2021 BRFSS survey data that has been produced to provide some local-area estimates (CDC. n.d.).\n",
    "This file contains BRFSS survey data released on 2021. The sataset is in ASCII fixed-width format. There are many variables in the dataset and some of which are coded and transformed. The dataset variable layout can be referred **[here][1]** and The definition of calculated variables can be referred in **[BRFSS website][2]**.\n",
    "\n",
    "**[Link to dataset][3]**\n",
    "\n",
    "The below variables will be extracted and used in this study from this dataset.\n",
    "\n",
    "* _SEX - Gender\n",
    "* WTKG3 - Weight in Kgs\n",
    "* HEIGHT3 - Height in inches\n",
    "* _BMI5 - Calculated Body mass index\n",
    "* _SMOKER3 - Smoking status level (e.g. 1: current smoker, smokes ever day, 2: current smoker, smokes some days)\n",
    "* _CURECI1 - Denotes whether repondent uses e-cigarette\n",
    "* _LTASTH1 - Denotes whether repondent reported that they ever had Asthma\n",
    "* _CASTHM1 - Denotes whether repondent reported that they currently have Asthma\n",
    "* MMSANAME - Metropolitan Statistical Area name. This variable provides both state and county/main city name of the repondent\n",
    "\n",
    "<br>\n",
    "\n",
    "- **Estimated COPD prevalance by County**: \n",
    "    This dataset contains estimated COPD prevalence based on BRFSS survey data for counties. This dataset is a comma-separated file containing estimated COPD prevalence and its $95$% confidence interval, county name and state name.\n",
    "\n",
    "**[Link to dataset][4]**\n",
    "\n",
    "The below variables will used or referred in this study from this dataset.\n",
    "\n",
    "* FullGeoName - Name of the location including State code and County\n",
    "* StateDesc - State full nme\n",
    "* County - County name\n",
    "* Percent_COPD - Percentage estimates of COPD in a county.\n",
    "<br>\n",
    "\n",
    "[1]:https://www.cdc.gov/brfss/annual_data/2021/pdf/MMSA_VarLayout_21-508.pdf\n",
    "[2]:https://www.cdc.gov/brfss/annual_data/2021/pdf/2021-calculated-variables-version4-508.pdf\n",
    "[3]:https://www.cdc.gov/brfss/annual_data/2021/files/MMSA2021_ASC.zip\n",
    "[4]:https://www.cdc.gov/copd/data-and-statistics/county-estimates.html"
   ]
  },
  {
   "cell_type": "markdown",
   "id": "46010c54-4aa0-4443-a161-b1c0f9c1c3f0",
   "metadata": {},
   "source": [
    "2. **API**\n",
    "- **Air Pollution API**:\n",
    "Air pollution api from OpenWeather provides current air pollution data like air quality index and particulates for a set of coordinates (latitude and longitude). We can pass latitude and longitude in the api request call to retrieve current air pollution data for that location.\n",
    "\n",
    "[Link to API documentation][1]\n",
    "\n",
    "- **Geocoding API**:\n",
    "Geocoding API from OpenWeather provides geographical coordinates (latitude and longitude) using the location area name as input. We can pass the location area name (e.g., town), state code, and an ISO 3166 country code (like the US, UK, etc.) to retrieve the latitude and longitude for that location area.\n",
    "\n",
    "[Link to API documentation][2]\n",
    "\n",
    "\n",
    "For this study the below fields from the air pollution api response will be extracted and used\n",
    "\n",
    "* _aqi_ - Air Quality Index.\n",
    "* _co_ - Concentration of Carbon monoxide\n",
    "* _no_ - Concentration of Nitrogen monoxide\n",
    "* _no2_ - Concentration of Nitrogen dioxide\n",
    "* _o3_ - Concentration of Ozone\n",
    "* _pm2_5_ - Concentration of [Fine particles matter][3]\n",
    "* _pm10_ - Concentration of [Coarse particulate matter][4]\n",
    "* _nh3_ - Concentration of Ammonia\n",
    "\n",
    "Possible values and levels mapping (e.g. low, high, moderate, etc.) can be referred in this [link][5].\n",
    "<br>\n",
    "\n",
    "[1]:https://openweathermap.org/api/air-pollution\n",
    "[2]:https://openweathermap.org/api/geocoding-api#direct\n",
    "[3]:https://en.wikipedia.org/wiki/Particulates\n",
    "[4]:https://en.wikipedia.org/wiki/Particulates#Size,_shape_and_solubility_matter\n",
    "[5]:https://openweathermap.org/air-pollution-index-levels"
   ]
  },
  {
   "cell_type": "markdown",
   "id": "ecc60eec-0ec8-4249-8d52-d025c255cf26",
   "metadata": {},
   "source": [
    "3. **Website**\n",
    "- **Wikipedia - County statistics of the United States**:\n",
    "Wikipedia [County statistics of the United States][1] page contains the links to further Wikipedia pages with county level statistics for the US states. These state level Wikipedia pages contain data like Population, Area, County seat or Main town for each counties within a state [e.g. Texas][2].\n",
    "     \n",
    "   ![Image][3]\n",
    "   <center>Fig 1. Website snip from the Texas Wiki page showinf data layout</center>\n",
    "\n",
    "**[Link to Website][4]**\n",
    "\n",
    "From the _wikipedia_ website page, `County name`, `County Seat/Largest Town`, `Fips Code`, `Population` and `Area` will be extracted for this study. `County Seat` refers to the _main town_ within in a county.\n",
    "    \n",
    "[1]:https://en.wikipedia.org/wiki/County_statistics_of_the_United_States\n",
    "[2]:https://en.wikipedia.org/wiki/List_of_counties_in_Texas\n",
    "[3]:./texas.jpg\n",
    "[4]:https://en.wikipedia.org/wiki/County_statistics_of_the_United_States\n"
   ]
  },
  {
   "cell_type": "markdown",
   "id": "f087f6e4-0579-47d6-a24d-9c372c124b5a",
   "metadata": {},
   "source": [
    "<br>"
   ]
  },
  {
   "cell_type": "markdown",
   "id": "d499c9e4-6745-4552-b927-69f96c7145af",
   "metadata": {},
   "source": [
    "#### Relationships"
   ]
  },
  {
   "cell_type": "markdown",
   "id": "b2f261c1-a3c9-4c4e-9c6f-7cb22c83db06",
   "metadata": {},
   "source": [
    "**Flat Files**: _BRFSS Ascii format fixed width file_ contains survey data from respondents which includes various health related indicators including Asthma and also the location(county/town and state) the respondent belongs.\n",
    "_COPD prevalence csv dataset_ contains the estimated COPD prevalence percentage by location(county and state).\n",
    "\n",
    "**API**: _Geocoding Api_ provides latitude and longitude based on a location (town and state). _Air pollution api_ provides air pollution indicators based on latitude and longitude. Therefore, combining thes two apis we can retrieve air pollution indicators for a location (county main town and state).\n",
    "\n",
    "**Website**: _Wikipedia_ website provides the population data by county, main town (county seat) and state.\n",
    "\n",
    "The above `three` data sources are related by _location(county/town and state)_."
   ]
  },
  {
   "cell_type": "markdown",
   "id": "dbac50c5-bf48-4e9b-ae8b-3d0d110d840e",
   "metadata": {},
   "source": [
    "HTML pages of the website will be parsed using _web scraping_ to retrieve the area, population, county name, main town for each US state. This extracted data will be stored in a database table which will provide population for all counties for all US states. The latitude and longitude for the main town of a county will be identified utilizing the Geocoding API. Latitude and longitude will be then subsequently used to retrieve air pollution indicators for that town. Thus, air pollution indicators for the all the counties will be retrieved and stored in a database table. The ASCII flat file will be parsed to retrieve each respondent's Asthma response and smoking habits. The responses must be rolled up at the county level to calculate the Asthma prevalence and smoking habits percentage for each county. This data will be joined with the COPD prevalence CSV flat file and loaded in a single database table, which will serve as a source for both COPD and Asthma prevalence for all the counties. <br>\n",
    "\n",
    "In each stage of retrieving and cleaning data from the source, the detection and the removal of outliers will also be performed. Further transformations like aggregation, grouping, filtering, subsetting, whitespace removal, string manipulation may also need to be implemented to cleanse or parse data. There might be challenges to read ASCII fixed width format data directly and custom data read functions might be needed to parse and read such data format<br> \n",
    "\n",
    "After the data from each source has been organized at the county level, those will be joined using county and state to create a single table or dataset, which will then serve as the source to generate visualizations for investigation of the relationship between population, air pollution and repiratory diseases.<br>\n",
    "\n",
    "This study has some limitations such as _sampling bias_, _measurement error_, and lack of _causality_ inference. As the BRFSS SMART data is a telephonic survey, the sample of respondents who answered the interview might not be a complete representation of the population because some persons might not be willing to participate in the survey, and hence, there are chances that some communities are under-represented introducing sampling bias. Respondents may also mistakenly provide incorrect information or round up values, which will introduce measurement errors. The COPD prevalence dataset provides an estimated COPD percentage with a 95% confidence interval, which may deviate to a small extent from the actual COPD prevalence in a county. This study will not be able to offer any causality to conclude that increased population causes increased air pollution, which cause increases in respiratory diseases. This study can not confirm such cause-and-effect inferences. This study will be able to establish if a relationship exists between population, air pollution, and respiratory diseases but not conclude whether one is caused by the other.<br>\n",
    "\n",
    "Ethical considerations are essential in any research study to ensure data privacy and the integrity of the research process. The BRFSS SMART survey data is anonymous, and no personal information is available to identify the respondents. Also, none of the other datasets contain any personally identifiable information. Therefore, there are no risks to data privacy associated with this study. The outcome of the study must be reported with transparency and integrity, irrespective of whether the results are consistent with the expectations and hypothesis."
   ]
  },
  {
   "cell_type": "markdown",
   "id": "e7491d5b-1ae6-4eb2-9b5a-313f753c1ff4",
   "metadata": {
    "jp-MarkdownHeadingCollapsed": true
   },
   "source": [
    "### Project Milestone 2 - Cleaning/Formatting Flat File Sources"
   ]
  },
  {
   "cell_type": "markdown",
   "id": "d1cb8347-ba2e-4334-b136-cfb9ac3c0610",
   "metadata": {},
   "source": [
    "##### Step 1: Format BRFSS SMART fixed width ASCII dataset to a readable dataframe. Rename columns to lower case and subset only columns needed for this study.\n",
    "\n",
    "The data dictionary of the BRFSS SMART ASCII dataset is a pdf file. We need to parse the pdf file to get the column names, start positions, and field lengths required to read the ASCII flat file. Convert the ascii dataset into a pandas dataframe with variable information extracted from the pdf file. Also, read the COPD prevalence dataset and create a pandas data frame. Convert the variable names to lowercase for consistency in column names."
   ]
  },
  {
   "cell_type": "markdown",
   "id": "97b620b8-dc0f-4a3c-8fd1-d1f21cde624c",
   "metadata": {},
   "source": [
    "###### BRFSS SMART dataset"
   ]
  },
  {
   "cell_type": "code",
   "execution_count": 66,
   "id": "b04afe29-5790-4eea-a347-b8ab866d8b6a",
   "metadata": {},
   "outputs": [],
   "source": [
    "# import required packages\n",
    "\n",
    "import PyPDF2\n",
    "import os\n",
    "import re\n",
    "import pandas as pd\n",
    "from matplotlib import pyplot as plt"
   ]
  },
  {
   "cell_type": "code",
   "execution_count": 67,
   "id": "0db28206-e791-48d2-9cce-907dc4bc39cc",
   "metadata": {},
   "outputs": [],
   "source": [
    "# The data dictionary for BRFSS SMART fixed width dataset is a pdf file - MMSA_VarLayout_21-508.pdf.\n",
    "# We need to parse the pdf file to retrive column start position, column name, and and column length and store in a pandas dataframe for later use to\n",
    "# read the ascii data file\n",
    "data = []\n",
    "with open('./datasets/MMSA_VarLayout_21-508.pdf', 'rb') as pdfFileObj:\n",
    "    # creating a pdf reader object\n",
    "    pdfReader = PyPDF2.PdfReader(pdfFileObj)\n",
    "    for each_page in pdfReader.pages:\n",
    "        # extracting text from page\n",
    "        for text in each_page.extract_text().split(\"\\n\"):\n",
    "            # using regex to match and extract column start position, column name, and column length\n",
    "            matches = re.findall(\"^(\\d{1,3})\\s(\\w+)\\s+(\\d{1,3})\", text)\n",
    "            if matches:\n",
    "                data.append([matches[0][0],matches[0][1], matches[0][2]])"
   ]
  },
  {
   "cell_type": "code",
   "execution_count": 68,
   "id": "075c43f7-bc53-4c8b-82af-5a0326a8a1e2",
   "metadata": {},
   "outputs": [
    {
     "data": {
      "text/plain": [
       "[['1', 'DISPCODE', '4'],\n",
       " ['5', 'SEQNO', '10'],\n",
       " ['15', 'STATERE1', '1'],\n",
       " ['16', 'CELPHON1', '1'],\n",
       " ['17', 'LADULT1', '1']]"
      ]
     },
     "execution_count": 68,
     "metadata": {},
     "output_type": "execute_result"
    }
   ],
   "source": [
    "# Lets check few items in extracted data\n",
    "data[0:5]"
   ]
  },
  {
   "cell_type": "code",
   "execution_count": 69,
   "id": "3466fddc-9742-4cfc-815f-1a4f4b4cf2b1",
   "metadata": {},
   "outputs": [],
   "source": [
    "# convert the extracted data to a datafarme\n",
    "colnames_df = pd.DataFrame(data, columns=[\"start\", \"colname\", \"field_length\"])"
   ]
  },
  {
   "cell_type": "code",
   "execution_count": 70,
   "id": "f037c8d5-3a9a-43c4-a34a-452efc6a9d70",
   "metadata": {},
   "outputs": [
    {
     "data": {
      "text/html": [
       "<div>\n",
       "<style scoped>\n",
       "    .dataframe tbody tr th:only-of-type {\n",
       "        vertical-align: middle;\n",
       "    }\n",
       "\n",
       "    .dataframe tbody tr th {\n",
       "        vertical-align: top;\n",
       "    }\n",
       "\n",
       "    .dataframe thead th {\n",
       "        text-align: right;\n",
       "    }\n",
       "</style>\n",
       "<table border=\"1\" class=\"dataframe\">\n",
       "  <thead>\n",
       "    <tr style=\"text-align: right;\">\n",
       "      <th></th>\n",
       "      <th>start</th>\n",
       "      <th>colname</th>\n",
       "      <th>field_length</th>\n",
       "    </tr>\n",
       "  </thead>\n",
       "  <tbody>\n",
       "    <tr>\n",
       "      <th>0</th>\n",
       "      <td>1</td>\n",
       "      <td>DISPCODE</td>\n",
       "      <td>4</td>\n",
       "    </tr>\n",
       "    <tr>\n",
       "      <th>1</th>\n",
       "      <td>5</td>\n",
       "      <td>SEQNO</td>\n",
       "      <td>10</td>\n",
       "    </tr>\n",
       "    <tr>\n",
       "      <th>2</th>\n",
       "      <td>15</td>\n",
       "      <td>STATERE1</td>\n",
       "      <td>1</td>\n",
       "    </tr>\n",
       "    <tr>\n",
       "      <th>3</th>\n",
       "      <td>16</td>\n",
       "      <td>CELPHON1</td>\n",
       "      <td>1</td>\n",
       "    </tr>\n",
       "    <tr>\n",
       "      <th>4</th>\n",
       "      <td>17</td>\n",
       "      <td>LADULT1</td>\n",
       "      <td>1</td>\n",
       "    </tr>\n",
       "  </tbody>\n",
       "</table>\n",
       "</div>"
      ],
      "text/plain": [
       "  start   colname field_length\n",
       "0     1  DISPCODE            4\n",
       "1     5     SEQNO           10\n",
       "2    15  STATERE1            1\n",
       "3    16  CELPHON1            1\n",
       "4    17   LADULT1            1"
      ]
     },
     "execution_count": 70,
     "metadata": {},
     "output_type": "execute_result"
    }
   ],
   "source": [
    "# Chek few rows of colnames dataframe\n",
    "colnames_df.head()"
   ]
  },
  {
   "cell_type": "code",
   "execution_count": 71,
   "id": "64c3b158-eac4-4c00-835b-f9918da7da94",
   "metadata": {},
   "outputs": [],
   "source": [
    "# create subset of variable names to be extracted from BRFSS SMART ascii fixed width dataset\n",
    "col_list = [\n",
    "    \"_SEX\",\n",
    "    \"WTKG3\", \n",
    "    \"HEIGHT3\",\n",
    "    \"_BMI5\",\n",
    "    \"_SMOKER3\",\n",
    "    \"_CURECI1\",\n",
    "    \"_LTASTH1\",\n",
    "    \"_CASTHM1\",\n",
    "    \"MMSANAME\"\n",
    "]"
   ]
  },
  {
   "cell_type": "code",
   "execution_count": 72,
   "id": "8cf88152-7ab4-40e9-907b-3a385e1faf82",
   "metadata": {},
   "outputs": [],
   "source": [
    "# Filter only rows from colnames df needed for this study\n",
    "required_colnames = colnames_df.query(f\"colname in {col_list}\").reset_index(drop=True)"
   ]
  },
  {
   "cell_type": "code",
   "execution_count": 73,
   "id": "14de56f0-c298-4e95-b05b-e7e2d14f594e",
   "metadata": {},
   "outputs": [],
   "source": [
    "# As python index starts 0, need to set start position accordingly\n",
    "required_colnames[\"start\"] = required_colnames[\"start\"].astype(\"int\") - 1"
   ]
  },
  {
   "cell_type": "code",
   "execution_count": 74,
   "id": "055415b2-4917-4ab6-8863-ffe53682c786",
   "metadata": {},
   "outputs": [],
   "source": [
    "# Add end position column by claculating end position = start + length\n",
    "required_colnames[\"end\"] = required_colnames[\"start\"] + required_colnames[\"field_length\"].astype(\"int\") "
   ]
  },
  {
   "cell_type": "code",
   "execution_count": 75,
   "id": "d5a41795-efd8-4fb8-ba8d-7ee6046dc3a6",
   "metadata": {},
   "outputs": [
    {
     "data": {
      "text/html": [
       "<div>\n",
       "<style scoped>\n",
       "    .dataframe tbody tr th:only-of-type {\n",
       "        vertical-align: middle;\n",
       "    }\n",
       "\n",
       "    .dataframe tbody tr th {\n",
       "        vertical-align: top;\n",
       "    }\n",
       "\n",
       "    .dataframe thead th {\n",
       "        text-align: right;\n",
       "    }\n",
       "</style>\n",
       "<table border=\"1\" class=\"dataframe\">\n",
       "  <thead>\n",
       "    <tr style=\"text-align: right;\">\n",
       "      <th></th>\n",
       "      <th>start</th>\n",
       "      <th>colname</th>\n",
       "      <th>field_length</th>\n",
       "      <th>end</th>\n",
       "    </tr>\n",
       "  </thead>\n",
       "  <tbody>\n",
       "    <tr>\n",
       "      <th>0</th>\n",
       "      <td>81</td>\n",
       "      <td>HEIGHT3</td>\n",
       "      <td>4</td>\n",
       "      <td>85</td>\n",
       "    </tr>\n",
       "    <tr>\n",
       "      <th>1</th>\n",
       "      <td>157</td>\n",
       "      <td>_LTASTH1</td>\n",
       "      <td>1</td>\n",
       "      <td>158</td>\n",
       "    </tr>\n",
       "    <tr>\n",
       "      <th>2</th>\n",
       "      <td>158</td>\n",
       "      <td>_CASTHM1</td>\n",
       "      <td>1</td>\n",
       "      <td>159</td>\n",
       "    </tr>\n",
       "    <tr>\n",
       "      <th>3</th>\n",
       "      <td>172</td>\n",
       "      <td>_SEX</td>\n",
       "      <td>1</td>\n",
       "      <td>173</td>\n",
       "    </tr>\n",
       "    <tr>\n",
       "      <th>4</th>\n",
       "      <td>179</td>\n",
       "      <td>WTKG3</td>\n",
       "      <td>5</td>\n",
       "      <td>184</td>\n",
       "    </tr>\n",
       "    <tr>\n",
       "      <th>5</th>\n",
       "      <td>184</td>\n",
       "      <td>_BMI5</td>\n",
       "      <td>4</td>\n",
       "      <td>188</td>\n",
       "    </tr>\n",
       "    <tr>\n",
       "      <th>6</th>\n",
       "      <td>192</td>\n",
       "      <td>_SMOKER3</td>\n",
       "      <td>1</td>\n",
       "      <td>193</td>\n",
       "    </tr>\n",
       "    <tr>\n",
       "      <th>7</th>\n",
       "      <td>194</td>\n",
       "      <td>_CURECI1</td>\n",
       "      <td>1</td>\n",
       "      <td>195</td>\n",
       "    </tr>\n",
       "    <tr>\n",
       "      <th>8</th>\n",
       "      <td>262</td>\n",
       "      <td>MMSANAME</td>\n",
       "      <td>100</td>\n",
       "      <td>362</td>\n",
       "    </tr>\n",
       "  </tbody>\n",
       "</table>\n",
       "</div>"
      ],
      "text/plain": [
       "   start   colname field_length  end\n",
       "0     81   HEIGHT3            4   85\n",
       "1    157  _LTASTH1            1  158\n",
       "2    158  _CASTHM1            1  159\n",
       "3    172      _SEX            1  173\n",
       "4    179     WTKG3            5  184\n",
       "5    184     _BMI5            4  188\n",
       "6    192  _SMOKER3            1  193\n",
       "7    194  _CURECI1            1  195\n",
       "8    262  MMSANAME          100  362"
      ]
     },
     "execution_count": 75,
     "metadata": {},
     "output_type": "execute_result"
    }
   ],
   "source": [
    "# View required columns start and end position are calculated correctly\n",
    "required_colnames"
   ]
  },
  {
   "cell_type": "code",
   "execution_count": 76,
   "id": "45ce92f8-b5c0-4748-a6b2-f4f9d03c29e8",
   "metadata": {},
   "outputs": [],
   "source": [
    "# Converting to a list of start and end positions to be used as colspecs in pandas fixed width read (read_fwf function)\n",
    "colspecs = required_colnames[[\"start\", \"end\"]].values.tolist()"
   ]
  },
  {
   "cell_type": "code",
   "execution_count": 77,
   "id": "53d903d3-ecfa-47c7-a82c-16f21f511fdd",
   "metadata": {},
   "outputs": [],
   "source": [
    "# creating a list of variable names from the colname column\n",
    "col_list = required_colnames[\"colname\"].tolist()"
   ]
  },
  {
   "cell_type": "code",
   "execution_count": 78,
   "id": "9dbb3840-9ce9-4796-9e46-2bcd32ec6d79",
   "metadata": {},
   "outputs": [
    {
     "data": {
      "text/plain": [
       "['HEIGHT3',\n",
       " '_LTASTH1',\n",
       " '_CASTHM1',\n",
       " '_SEX',\n",
       " 'WTKG3',\n",
       " '_BMI5',\n",
       " '_SMOKER3',\n",
       " '_CURECI1',\n",
       " 'MMSANAME']"
      ]
     },
     "execution_count": 78,
     "metadata": {},
     "output_type": "execute_result"
    }
   ],
   "source": [
    "# Check column list to confirm required variables\n",
    "col_list"
   ]
  },
  {
   "cell_type": "code",
   "execution_count": 79,
   "id": "e2c2c3b4-5589-4941-9d0b-5d531b183614",
   "metadata": {},
   "outputs": [],
   "source": [
    "# Read the ascii file into a dataframe using the column specifications created above, replace any encoding errors with ? \n",
    "brfss_df = pd.read_fwf(\"./datasets/MMSA21.ASC\", colspecs=colspecs, names=col_list, encoding_errors=\"replace\")"
   ]
  },
  {
   "cell_type": "code",
   "execution_count": 80,
   "id": "912f04c3-ad54-428c-b350-893f58d8d6b4",
   "metadata": {},
   "outputs": [
    {
     "data": {
      "text/html": [
       "<div>\n",
       "<style scoped>\n",
       "    .dataframe tbody tr th:only-of-type {\n",
       "        vertical-align: middle;\n",
       "    }\n",
       "\n",
       "    .dataframe tbody tr th {\n",
       "        vertical-align: top;\n",
       "    }\n",
       "\n",
       "    .dataframe thead th {\n",
       "        text-align: right;\n",
       "    }\n",
       "</style>\n",
       "<table border=\"1\" class=\"dataframe\">\n",
       "  <thead>\n",
       "    <tr style=\"text-align: right;\">\n",
       "      <th></th>\n",
       "      <th>HEIGHT3</th>\n",
       "      <th>_LTASTH1</th>\n",
       "      <th>_CASTHM1</th>\n",
       "      <th>_SEX</th>\n",
       "      <th>WTKG3</th>\n",
       "      <th>_BMI5</th>\n",
       "      <th>_SMOKER3</th>\n",
       "      <th>_CURECI1</th>\n",
       "      <th>MMSANAME</th>\n",
       "    </tr>\n",
       "  </thead>\n",
       "  <tbody>\n",
       "    <tr>\n",
       "      <th>0</th>\n",
       "      <td>509.0</td>\n",
       "      <td>1</td>\n",
       "      <td>1</td>\n",
       "      <td>1</td>\n",
       "      <td>10886.0</td>\n",
       "      <td>3544.0</td>\n",
       "      <td>3</td>\n",
       "      <td>1</td>\n",
       "      <td>Aberdeen, SD, Micropolitan Statistical Area</td>\n",
       "    </tr>\n",
       "    <tr>\n",
       "      <th>1</th>\n",
       "      <td>602.0</td>\n",
       "      <td>1</td>\n",
       "      <td>1</td>\n",
       "      <td>1</td>\n",
       "      <td>9979.0</td>\n",
       "      <td>2825.0</td>\n",
       "      <td>4</td>\n",
       "      <td>1</td>\n",
       "      <td>Aberdeen, SD, Micropolitan Statistical Area</td>\n",
       "    </tr>\n",
       "    <tr>\n",
       "      <th>2</th>\n",
       "      <td>507.0</td>\n",
       "      <td>2</td>\n",
       "      <td>1</td>\n",
       "      <td>2</td>\n",
       "      <td>7484.0</td>\n",
       "      <td>2584.0</td>\n",
       "      <td>4</td>\n",
       "      <td>1</td>\n",
       "      <td>Aberdeen, SD, Micropolitan Statistical Area</td>\n",
       "    </tr>\n",
       "    <tr>\n",
       "      <th>3</th>\n",
       "      <td>511.0</td>\n",
       "      <td>1</td>\n",
       "      <td>1</td>\n",
       "      <td>1</td>\n",
       "      <td>9299.0</td>\n",
       "      <td>2859.0</td>\n",
       "      <td>4</td>\n",
       "      <td>1</td>\n",
       "      <td>Aberdeen, SD, Micropolitan Statistical Area</td>\n",
       "    </tr>\n",
       "    <tr>\n",
       "      <th>4</th>\n",
       "      <td>506.0</td>\n",
       "      <td>1</td>\n",
       "      <td>1</td>\n",
       "      <td>2</td>\n",
       "      <td>7938.0</td>\n",
       "      <td>2825.0</td>\n",
       "      <td>4</td>\n",
       "      <td>1</td>\n",
       "      <td>Aberdeen, SD, Micropolitan Statistical Area</td>\n",
       "    </tr>\n",
       "  </tbody>\n",
       "</table>\n",
       "</div>"
      ],
      "text/plain": [
       "   HEIGHT3  _LTASTH1  _CASTHM1  _SEX    WTKG3   _BMI5  _SMOKER3  _CURECI1  \\\n",
       "0    509.0         1         1     1  10886.0  3544.0         3         1   \n",
       "1    602.0         1         1     1   9979.0  2825.0         4         1   \n",
       "2    507.0         2         1     2   7484.0  2584.0         4         1   \n",
       "3    511.0         1         1     1   9299.0  2859.0         4         1   \n",
       "4    506.0         1         1     2   7938.0  2825.0         4         1   \n",
       "\n",
       "                                      MMSANAME  \n",
       "0  Aberdeen, SD, Micropolitan Statistical Area  \n",
       "1  Aberdeen, SD, Micropolitan Statistical Area  \n",
       "2  Aberdeen, SD, Micropolitan Statistical Area  \n",
       "3  Aberdeen, SD, Micropolitan Statistical Area  \n",
       "4  Aberdeen, SD, Micropolitan Statistical Area  "
      ]
     },
     "execution_count": 80,
     "metadata": {},
     "output_type": "execute_result"
    }
   ],
   "source": [
    "# View few rows of the BRFSS dataframe\n",
    "brfss_df.head()"
   ]
  },
  {
   "cell_type": "code",
   "execution_count": 81,
   "id": "0fed3de6-36c4-4614-a982-24142ed20eab",
   "metadata": {},
   "outputs": [
    {
     "data": {
      "text/plain": [
       "(0, 9)"
      ]
     },
     "execution_count": 81,
     "metadata": {},
     "output_type": "execute_result"
    }
   ],
   "source": [
    "# check if we have \"?\" in the MMSANAME name column as we used replace for any encoding_errors while reading dataset\n",
    "brfss_df[brfss_df[\"MMSANAME\"].str.contains(\" \\?\")].shape"
   ]
  },
  {
   "cell_type": "code",
   "execution_count": 82,
   "id": "0691a024-ace2-43ca-932a-e037bad536ae",
   "metadata": {},
   "outputs": [],
   "source": [
    "# convert all column names to lower case\n",
    "renamed_col_dict = {cols:cols.lower() for cols in brfss_df.columns}\n",
    "brfss_df = brfss_df.rename(columns=renamed_col_dict)"
   ]
  },
  {
   "cell_type": "code",
   "execution_count": 83,
   "id": "1336c673-8345-41e8-a5cd-9effe67ff9db",
   "metadata": {},
   "outputs": [
    {
     "data": {
      "text/html": [
       "<div>\n",
       "<style scoped>\n",
       "    .dataframe tbody tr th:only-of-type {\n",
       "        vertical-align: middle;\n",
       "    }\n",
       "\n",
       "    .dataframe tbody tr th {\n",
       "        vertical-align: top;\n",
       "    }\n",
       "\n",
       "    .dataframe thead th {\n",
       "        text-align: right;\n",
       "    }\n",
       "</style>\n",
       "<table border=\"1\" class=\"dataframe\">\n",
       "  <thead>\n",
       "    <tr style=\"text-align: right;\">\n",
       "      <th></th>\n",
       "      <th>height3</th>\n",
       "      <th>_ltasth1</th>\n",
       "      <th>_casthm1</th>\n",
       "      <th>_sex</th>\n",
       "      <th>wtkg3</th>\n",
       "      <th>_bmi5</th>\n",
       "      <th>_smoker3</th>\n",
       "      <th>_cureci1</th>\n",
       "      <th>mmsaname</th>\n",
       "    </tr>\n",
       "  </thead>\n",
       "  <tbody>\n",
       "    <tr>\n",
       "      <th>0</th>\n",
       "      <td>509.0</td>\n",
       "      <td>1</td>\n",
       "      <td>1</td>\n",
       "      <td>1</td>\n",
       "      <td>10886.0</td>\n",
       "      <td>3544.0</td>\n",
       "      <td>3</td>\n",
       "      <td>1</td>\n",
       "      <td>Aberdeen, SD, Micropolitan Statistical Area</td>\n",
       "    </tr>\n",
       "    <tr>\n",
       "      <th>1</th>\n",
       "      <td>602.0</td>\n",
       "      <td>1</td>\n",
       "      <td>1</td>\n",
       "      <td>1</td>\n",
       "      <td>9979.0</td>\n",
       "      <td>2825.0</td>\n",
       "      <td>4</td>\n",
       "      <td>1</td>\n",
       "      <td>Aberdeen, SD, Micropolitan Statistical Area</td>\n",
       "    </tr>\n",
       "    <tr>\n",
       "      <th>2</th>\n",
       "      <td>507.0</td>\n",
       "      <td>2</td>\n",
       "      <td>1</td>\n",
       "      <td>2</td>\n",
       "      <td>7484.0</td>\n",
       "      <td>2584.0</td>\n",
       "      <td>4</td>\n",
       "      <td>1</td>\n",
       "      <td>Aberdeen, SD, Micropolitan Statistical Area</td>\n",
       "    </tr>\n",
       "    <tr>\n",
       "      <th>3</th>\n",
       "      <td>511.0</td>\n",
       "      <td>1</td>\n",
       "      <td>1</td>\n",
       "      <td>1</td>\n",
       "      <td>9299.0</td>\n",
       "      <td>2859.0</td>\n",
       "      <td>4</td>\n",
       "      <td>1</td>\n",
       "      <td>Aberdeen, SD, Micropolitan Statistical Area</td>\n",
       "    </tr>\n",
       "    <tr>\n",
       "      <th>4</th>\n",
       "      <td>506.0</td>\n",
       "      <td>1</td>\n",
       "      <td>1</td>\n",
       "      <td>2</td>\n",
       "      <td>7938.0</td>\n",
       "      <td>2825.0</td>\n",
       "      <td>4</td>\n",
       "      <td>1</td>\n",
       "      <td>Aberdeen, SD, Micropolitan Statistical Area</td>\n",
       "    </tr>\n",
       "  </tbody>\n",
       "</table>\n",
       "</div>"
      ],
      "text/plain": [
       "   height3  _ltasth1  _casthm1  _sex    wtkg3   _bmi5  _smoker3  _cureci1  \\\n",
       "0    509.0         1         1     1  10886.0  3544.0         3         1   \n",
       "1    602.0         1         1     1   9979.0  2825.0         4         1   \n",
       "2    507.0         2         1     2   7484.0  2584.0         4         1   \n",
       "3    511.0         1         1     1   9299.0  2859.0         4         1   \n",
       "4    506.0         1         1     2   7938.0  2825.0         4         1   \n",
       "\n",
       "                                      mmsaname  \n",
       "0  Aberdeen, SD, Micropolitan Statistical Area  \n",
       "1  Aberdeen, SD, Micropolitan Statistical Area  \n",
       "2  Aberdeen, SD, Micropolitan Statistical Area  \n",
       "3  Aberdeen, SD, Micropolitan Statistical Area  \n",
       "4  Aberdeen, SD, Micropolitan Statistical Area  "
      ]
     },
     "execution_count": 83,
     "metadata": {},
     "output_type": "execute_result"
    }
   ],
   "source": [
    "# View few rows of BRFSS dataset at this point\n",
    "brfss_df.head()"
   ]
  },
  {
   "cell_type": "markdown",
   "id": "0588e59b-3ef9-4d72-aa6e-c3b3d7b05b1e",
   "metadata": {},
   "source": [
    "###### COPD dataset"
   ]
  },
  {
   "cell_type": "code",
   "execution_count": 84,
   "id": "5bb32738-913b-4adc-8d46-e4c1b818f11a",
   "metadata": {},
   "outputs": [],
   "source": [
    "#Read the COPD prevalence csv file into a dataframe\n",
    "copd_df = pd.read_csv(\"./datasets/County_COPD_prevalence.csv\")"
   ]
  },
  {
   "cell_type": "code",
   "execution_count": 85,
   "id": "f24f379a-9fe8-4bc3-9a79-3044b5673e1a",
   "metadata": {},
   "outputs": [
    {
     "data": {
      "text/html": [
       "<div>\n",
       "<style scoped>\n",
       "    .dataframe tbody tr th:only-of-type {\n",
       "        vertical-align: middle;\n",
       "    }\n",
       "\n",
       "    .dataframe tbody tr th {\n",
       "        vertical-align: top;\n",
       "    }\n",
       "\n",
       "    .dataframe thead th {\n",
       "        text-align: right;\n",
       "    }\n",
       "</style>\n",
       "<table border=\"1\" class=\"dataframe\">\n",
       "  <thead>\n",
       "    <tr style=\"text-align: right;\">\n",
       "      <th></th>\n",
       "      <th>FullGeoName</th>\n",
       "      <th>LocationID</th>\n",
       "      <th>Public_Health_Jurisdiction</th>\n",
       "      <th>StateDesc</th>\n",
       "      <th>County</th>\n",
       "      <th>Percent_COPD</th>\n",
       "      <th>95% Confidence Interval</th>\n",
       "      <th>Quartile</th>\n",
       "    </tr>\n",
       "  </thead>\n",
       "  <tbody>\n",
       "    <tr>\n",
       "      <th>0</th>\n",
       "      <td>AL, Autauga</td>\n",
       "      <td>1001</td>\n",
       "      <td>AL</td>\n",
       "      <td>Alabama</td>\n",
       "      <td>Autauga</td>\n",
       "      <td>7.5</td>\n",
       "      <td>6.5 - 8.5</td>\n",
       "      <td>7.3 - 8.6</td>\n",
       "    </tr>\n",
       "    <tr>\n",
       "      <th>1</th>\n",
       "      <td>AL, Baldwin</td>\n",
       "      <td>1003</td>\n",
       "      <td>AL</td>\n",
       "      <td>Alabama</td>\n",
       "      <td>Baldwin</td>\n",
       "      <td>6.9</td>\n",
       "      <td>5.9 - 8.0</td>\n",
       "      <td>6.0 - 7.2</td>\n",
       "    </tr>\n",
       "    <tr>\n",
       "      <th>2</th>\n",
       "      <td>AL, Barbour</td>\n",
       "      <td>1005</td>\n",
       "      <td>AL</td>\n",
       "      <td>Alabama</td>\n",
       "      <td>Barbour</td>\n",
       "      <td>10.7</td>\n",
       "      <td>9.6 - 11.8</td>\n",
       "      <td>8.7 - 15.5</td>\n",
       "    </tr>\n",
       "    <tr>\n",
       "      <th>3</th>\n",
       "      <td>AL, Bibb</td>\n",
       "      <td>1007</td>\n",
       "      <td>AL</td>\n",
       "      <td>Alabama</td>\n",
       "      <td>Bibb</td>\n",
       "      <td>9.2</td>\n",
       "      <td>8.2 - 10.1</td>\n",
       "      <td>8.7 - 15.5</td>\n",
       "    </tr>\n",
       "    <tr>\n",
       "      <th>4</th>\n",
       "      <td>AL, Blount</td>\n",
       "      <td>1009</td>\n",
       "      <td>AL</td>\n",
       "      <td>Alabama</td>\n",
       "      <td>Blount</td>\n",
       "      <td>8.7</td>\n",
       "      <td>7.6 - 9.8</td>\n",
       "      <td>8.7 - 15.5</td>\n",
       "    </tr>\n",
       "  </tbody>\n",
       "</table>\n",
       "</div>"
      ],
      "text/plain": [
       "   FullGeoName  LocationID Public_Health_Jurisdiction StateDesc   County  \\\n",
       "0  AL, Autauga        1001                         AL   Alabama  Autauga   \n",
       "1  AL, Baldwin        1003                         AL   Alabama  Baldwin   \n",
       "2  AL, Barbour        1005                         AL   Alabama  Barbour   \n",
       "3     AL, Bibb        1007                         AL   Alabama     Bibb   \n",
       "4   AL, Blount        1009                         AL   Alabama   Blount   \n",
       "\n",
       "   Percent_COPD 95% Confidence Interval    Quartile  \n",
       "0           7.5               6.5 - 8.5   7.3 - 8.6  \n",
       "1           6.9               5.9 - 8.0   6.0 - 7.2  \n",
       "2          10.7              9.6 - 11.8  8.7 - 15.5  \n",
       "3           9.2              8.2 - 10.1  8.7 - 15.5  \n",
       "4           8.7               7.6 - 9.8  8.7 - 15.5  "
      ]
     },
     "execution_count": 85,
     "metadata": {},
     "output_type": "execute_result"
    }
   ],
   "source": [
    "#view few rows\n",
    "copd_df.head()"
   ]
  },
  {
   "cell_type": "code",
   "execution_count": 86,
   "id": "51dbce7f-532f-4ebc-8899-56935daf4710",
   "metadata": {},
   "outputs": [],
   "source": [
    "# create subset for only columns to be used from COPD dataset\n",
    "copd_df = copd_df[[\"FullGeoName\",\"StateDesc\",\"County\",\"Percent_COPD\"]]"
   ]
  },
  {
   "cell_type": "code",
   "execution_count": 87,
   "id": "d163b96d-cc19-41e6-b21e-aefcc52313dc",
   "metadata": {},
   "outputs": [],
   "source": [
    "# convert all column names to lower case\n",
    "renamed_col_dict = {cols:cols.lower() for cols in copd_df.columns}\n",
    "copd_df = copd_df.rename(columns=renamed_col_dict)"
   ]
  },
  {
   "cell_type": "code",
   "execution_count": 88,
   "id": "8fb30d70-627d-4b7f-b381-29411ea82a02",
   "metadata": {},
   "outputs": [
    {
     "data": {
      "text/html": [
       "<div>\n",
       "<style scoped>\n",
       "    .dataframe tbody tr th:only-of-type {\n",
       "        vertical-align: middle;\n",
       "    }\n",
       "\n",
       "    .dataframe tbody tr th {\n",
       "        vertical-align: top;\n",
       "    }\n",
       "\n",
       "    .dataframe thead th {\n",
       "        text-align: right;\n",
       "    }\n",
       "</style>\n",
       "<table border=\"1\" class=\"dataframe\">\n",
       "  <thead>\n",
       "    <tr style=\"text-align: right;\">\n",
       "      <th></th>\n",
       "      <th>fullgeoname</th>\n",
       "      <th>statedesc</th>\n",
       "      <th>county</th>\n",
       "      <th>percent_copd</th>\n",
       "    </tr>\n",
       "  </thead>\n",
       "  <tbody>\n",
       "    <tr>\n",
       "      <th>0</th>\n",
       "      <td>AL, Autauga</td>\n",
       "      <td>Alabama</td>\n",
       "      <td>Autauga</td>\n",
       "      <td>7.5</td>\n",
       "    </tr>\n",
       "    <tr>\n",
       "      <th>1</th>\n",
       "      <td>AL, Baldwin</td>\n",
       "      <td>Alabama</td>\n",
       "      <td>Baldwin</td>\n",
       "      <td>6.9</td>\n",
       "    </tr>\n",
       "    <tr>\n",
       "      <th>2</th>\n",
       "      <td>AL, Barbour</td>\n",
       "      <td>Alabama</td>\n",
       "      <td>Barbour</td>\n",
       "      <td>10.7</td>\n",
       "    </tr>\n",
       "    <tr>\n",
       "      <th>3</th>\n",
       "      <td>AL, Bibb</td>\n",
       "      <td>Alabama</td>\n",
       "      <td>Bibb</td>\n",
       "      <td>9.2</td>\n",
       "    </tr>\n",
       "    <tr>\n",
       "      <th>4</th>\n",
       "      <td>AL, Blount</td>\n",
       "      <td>Alabama</td>\n",
       "      <td>Blount</td>\n",
       "      <td>8.7</td>\n",
       "    </tr>\n",
       "  </tbody>\n",
       "</table>\n",
       "</div>"
      ],
      "text/plain": [
       "   fullgeoname statedesc   county  percent_copd\n",
       "0  AL, Autauga   Alabama  Autauga           7.5\n",
       "1  AL, Baldwin   Alabama  Baldwin           6.9\n",
       "2  AL, Barbour   Alabama  Barbour          10.7\n",
       "3     AL, Bibb   Alabama     Bibb           9.2\n",
       "4   AL, Blount   Alabama   Blount           8.7"
      ]
     },
     "execution_count": 88,
     "metadata": {},
     "output_type": "execute_result"
    }
   ],
   "source": [
    "#check few rows after column rename\n",
    "copd_df.head()"
   ]
  },
  {
   "cell_type": "markdown",
   "id": "168ae9d6-b90d-42e9-bb94-e309b4d19adc",
   "metadata": {},
   "source": [
    "##### Step 2: Check for missing values and remove missing data\n",
    "Check for NA in any columns and remove those for both the datasets. Missing value will skew the findings."
   ]
  },
  {
   "cell_type": "markdown",
   "id": "41b9c0e1-41ac-400c-ad2f-c4bb5281489d",
   "metadata": {},
   "source": [
    "###### BRFSS SMART dataset"
   ]
  },
  {
   "cell_type": "code",
   "execution_count": 89,
   "id": "34a4f0a7-0253-4025-aae3-b40476feacbc",
   "metadata": {},
   "outputs": [
    {
     "data": {
      "text/plain": [
       "height3      7408\n",
       "_ltasth1        0\n",
       "_casthm1        0\n",
       "_sex            0\n",
       "wtkg3       22711\n",
       "_bmi5       26341\n",
       "_smoker3        0\n",
       "_cureci1        0\n",
       "mmsaname        0\n",
       "dtype: int64"
      ]
     },
     "execution_count": 89,
     "metadata": {},
     "output_type": "execute_result"
    }
   ],
   "source": [
    "#check for NAs\n",
    "brfss_df.isna().sum()"
   ]
  },
  {
   "cell_type": "code",
   "execution_count": 90,
   "id": "b9c991fd-9d6e-4ee1-b2bc-c06fdf7a3e8f",
   "metadata": {},
   "outputs": [],
   "source": [
    "# Drop rows having nulls in 'height3', 'wtkg3' and '_bmi5'\n",
    "brfss_df = brfss_df.dropna(subset=['height3', 'wtkg3', '_bmi5'])"
   ]
  },
  {
   "cell_type": "code",
   "execution_count": 91,
   "id": "135ee932-1536-4046-aa0c-7900b0b42647",
   "metadata": {},
   "outputs": [
    {
     "data": {
      "text/plain": [
       "height3     0\n",
       "_ltasth1    0\n",
       "_casthm1    0\n",
       "_sex        0\n",
       "wtkg3       0\n",
       "_bmi5       0\n",
       "_smoker3    0\n",
       "_cureci1    0\n",
       "mmsaname    0\n",
       "dtype: int64"
      ]
     },
     "execution_count": 91,
     "metadata": {},
     "output_type": "execute_result"
    }
   ],
   "source": [
    "# Check no NAs remain in dataset\n",
    "brfss_df.isna().sum()"
   ]
  },
  {
   "cell_type": "markdown",
   "id": "50e5ee00-2c9b-4aa5-93db-7eee4364c253",
   "metadata": {},
   "source": [
    "###### COPD dataset"
   ]
  },
  {
   "cell_type": "code",
   "execution_count": 92,
   "id": "24119224-fd11-4383-867e-6dd74a62cd0b",
   "metadata": {},
   "outputs": [
    {
     "data": {
      "text/plain": [
       "fullgeoname      0\n",
       "statedesc        0\n",
       "county           0\n",
       "percent_copd    23\n",
       "dtype: int64"
      ]
     },
     "execution_count": 92,
     "metadata": {},
     "output_type": "execute_result"
    }
   ],
   "source": [
    "copd_df.isna().sum()"
   ]
  },
  {
   "cell_type": "code",
   "execution_count": 93,
   "id": "65e4523d-d9bc-46d6-8d70-11f4e48f65d3",
   "metadata": {},
   "outputs": [],
   "source": [
    "#dropping the NAs in percent_copd column\n",
    "copd_df = copd_df.dropna(subset=[\"percent_copd\"])"
   ]
  },
  {
   "cell_type": "code",
   "execution_count": 94,
   "id": "b3e6fd4c-cba7-401f-8ed2-8f2ce5268ac5",
   "metadata": {},
   "outputs": [
    {
     "data": {
      "text/plain": [
       "fullgeoname     0\n",
       "statedesc       0\n",
       "county          0\n",
       "percent_copd    0\n",
       "dtype: int64"
      ]
     },
     "execution_count": 94,
     "metadata": {},
     "output_type": "execute_result"
    }
   ],
   "source": [
    "#Check no NAs remain\n",
    "copd_df.isna().sum()"
   ]
  },
  {
   "cell_type": "markdown",
   "id": "db0df666-94fb-4d36-acba-3dcd2422ca6b",
   "metadata": {},
   "source": [
    "##### Step 3: Drop duplicate rows\n",
    "Drop rows that are duplicate for both the datasets as those will skew the findings."
   ]
  },
  {
   "cell_type": "markdown",
   "id": "99ae95f8-bc73-475e-a035-704599172677",
   "metadata": {},
   "source": [
    "###### BRFSS SMART dataset"
   ]
  },
  {
   "cell_type": "code",
   "execution_count": 95,
   "id": "8fa4a00d-75db-4eb6-b0a2-38c99c6f08cf",
   "metadata": {},
   "outputs": [],
   "source": [
    "brfss_df = brfss_df.drop_duplicates()"
   ]
  },
  {
   "cell_type": "code",
   "execution_count": 96,
   "id": "26a2ecb5-9f6a-4fa2-ad15-400d02672588",
   "metadata": {},
   "outputs": [
    {
     "data": {
      "text/plain": [
       "(148939, 9)"
      ]
     },
     "execution_count": 96,
     "metadata": {},
     "output_type": "execute_result"
    }
   ],
   "source": [
    "#Shape after dropping the duplicates\n",
    "brfss_df.shape"
   ]
  },
  {
   "cell_type": "markdown",
   "id": "2cb3dfa9-42be-4dfb-8b4e-a14eee1dac42",
   "metadata": {},
   "source": [
    "###### COPD dataset"
   ]
  },
  {
   "cell_type": "code",
   "execution_count": 97,
   "id": "7ac636c2-6194-4b6f-b893-965314bc7c30",
   "metadata": {},
   "outputs": [],
   "source": [
    "copd_df = copd_df.drop_duplicates()"
   ]
  },
  {
   "cell_type": "code",
   "execution_count": 98,
   "id": "784b3b77-8147-4fa4-9f0b-56e6f9b65153",
   "metadata": {},
   "outputs": [
    {
     "data": {
      "text/plain": [
       "(3121, 4)"
      ]
     },
     "execution_count": 98,
     "metadata": {},
     "output_type": "execute_result"
    }
   ],
   "source": [
    "#Shape after dropping the duplicates\n",
    "copd_df.shape"
   ]
  },
  {
   "cell_type": "markdown",
   "id": "44cea3e5-81e4-4996-945d-a58f52897048",
   "metadata": {},
   "source": [
    "##### Step 4: Format numerical column values to proper scale for BRFSS SMART dataset\n",
    "\n",
    "Numerical columns like height, weight and BMI contain the decimal parts within the value itself. For example, $101.01$ value is stored as $10101$. We need to scale it to its corrected $2$ decimal places form, e.g. $10101$ to $101.01$"
   ]
  },
  {
   "cell_type": "code",
   "execution_count": 99,
   "id": "b90e06ff-f5a5-4e3b-b303-97ff48513722",
   "metadata": {},
   "outputs": [],
   "source": [
    "numerical_columns = ['height3', 'wtkg3', '_bmi5']"
   ]
  },
  {
   "cell_type": "code",
   "execution_count": 100,
   "id": "4588b422-8ed4-4fa4-88ff-6f93d29affc6",
   "metadata": {},
   "outputs": [],
   "source": [
    "# Convert to include the decimal places by diving with 100\n",
    "for cols in numerical_columns:\n",
    "    brfss_df[cols] = brfss_df[cols]/100"
   ]
  },
  {
   "cell_type": "code",
   "execution_count": 101,
   "id": "9bbb5090-401d-476e-9580-69547263cba1",
   "metadata": {},
   "outputs": [
    {
     "data": {
      "text/html": [
       "<div>\n",
       "<style scoped>\n",
       "    .dataframe tbody tr th:only-of-type {\n",
       "        vertical-align: middle;\n",
       "    }\n",
       "\n",
       "    .dataframe tbody tr th {\n",
       "        vertical-align: top;\n",
       "    }\n",
       "\n",
       "    .dataframe thead th {\n",
       "        text-align: right;\n",
       "    }\n",
       "</style>\n",
       "<table border=\"1\" class=\"dataframe\">\n",
       "  <thead>\n",
       "    <tr style=\"text-align: right;\">\n",
       "      <th></th>\n",
       "      <th>height3</th>\n",
       "      <th>wtkg3</th>\n",
       "      <th>_bmi5</th>\n",
       "    </tr>\n",
       "  </thead>\n",
       "  <tbody>\n",
       "    <tr>\n",
       "      <th>0</th>\n",
       "      <td>5.09</td>\n",
       "      <td>108.86</td>\n",
       "      <td>35.44</td>\n",
       "    </tr>\n",
       "    <tr>\n",
       "      <th>1</th>\n",
       "      <td>6.02</td>\n",
       "      <td>99.79</td>\n",
       "      <td>28.25</td>\n",
       "    </tr>\n",
       "    <tr>\n",
       "      <th>2</th>\n",
       "      <td>5.07</td>\n",
       "      <td>74.84</td>\n",
       "      <td>25.84</td>\n",
       "    </tr>\n",
       "    <tr>\n",
       "      <th>3</th>\n",
       "      <td>5.11</td>\n",
       "      <td>92.99</td>\n",
       "      <td>28.59</td>\n",
       "    </tr>\n",
       "    <tr>\n",
       "      <th>4</th>\n",
       "      <td>5.06</td>\n",
       "      <td>79.38</td>\n",
       "      <td>28.25</td>\n",
       "    </tr>\n",
       "  </tbody>\n",
       "</table>\n",
       "</div>"
      ],
      "text/plain": [
       "   height3   wtkg3  _bmi5\n",
       "0     5.09  108.86  35.44\n",
       "1     6.02   99.79  28.25\n",
       "2     5.07   74.84  25.84\n",
       "3     5.11   92.99  28.59\n",
       "4     5.06   79.38  28.25"
      ]
     },
     "execution_count": 101,
     "metadata": {},
     "output_type": "execute_result"
    }
   ],
   "source": [
    "# Check few rows to confirm that the columns are having right decimal places\n",
    "brfss_df[['height3', 'wtkg3', '_bmi5']].head()"
   ]
  },
  {
   "cell_type": "markdown",
   "id": "a85e35d9-31b9-4686-b170-07f3c72897c6",
   "metadata": {},
   "source": [
    "##### Step 5: Check outliers and remove if needed\n",
    "\n",
    "Explore if numerical columns have any outliers and remove those outliers. Outliers  can skew results and introduce bias."
   ]
  },
  {
   "cell_type": "markdown",
   "id": "698e9ef9-a659-43a9-a637-6a321603d80c",
   "metadata": {},
   "source": [
    "###### BRFSS SMART dataset"
   ]
  },
  {
   "cell_type": "code",
   "execution_count": 102,
   "id": "9f1b60fc-deb8-45c1-9b06-d960100c5e87",
   "metadata": {},
   "outputs": [
    {
     "data": {
      "text/html": [
       "<div>\n",
       "<style scoped>\n",
       "    .dataframe tbody tr th:only-of-type {\n",
       "        vertical-align: middle;\n",
       "    }\n",
       "\n",
       "    .dataframe tbody tr th {\n",
       "        vertical-align: top;\n",
       "    }\n",
       "\n",
       "    .dataframe thead th {\n",
       "        text-align: right;\n",
       "    }\n",
       "</style>\n",
       "<table border=\"1\" class=\"dataframe\">\n",
       "  <thead>\n",
       "    <tr style=\"text-align: right;\">\n",
       "      <th></th>\n",
       "      <th>height3</th>\n",
       "      <th>wtkg3</th>\n",
       "      <th>_bmi5</th>\n",
       "    </tr>\n",
       "  </thead>\n",
       "  <tbody>\n",
       "    <tr>\n",
       "      <th>count</th>\n",
       "      <td>148939.000000</td>\n",
       "      <td>148939.000000</td>\n",
       "      <td>148939.000000</td>\n",
       "    </tr>\n",
       "    <tr>\n",
       "      <th>mean</th>\n",
       "      <td>6.109208</td>\n",
       "      <td>83.972681</td>\n",
       "      <td>28.801336</td>\n",
       "    </tr>\n",
       "    <tr>\n",
       "      <th>std</th>\n",
       "      <td>8.785028</td>\n",
       "      <td>22.583691</td>\n",
       "      <td>7.029037</td>\n",
       "    </tr>\n",
       "    <tr>\n",
       "      <th>min</th>\n",
       "      <td>3.000000</td>\n",
       "      <td>26.760000</td>\n",
       "      <td>12.000000</td>\n",
       "    </tr>\n",
       "    <tr>\n",
       "      <th>25%</th>\n",
       "      <td>5.040000</td>\n",
       "      <td>68.040000</td>\n",
       "      <td>23.910000</td>\n",
       "    </tr>\n",
       "    <tr>\n",
       "      <th>50%</th>\n",
       "      <td>5.070000</td>\n",
       "      <td>81.650000</td>\n",
       "      <td>27.460000</td>\n",
       "    </tr>\n",
       "    <tr>\n",
       "      <th>75%</th>\n",
       "      <td>5.100000</td>\n",
       "      <td>96.160000</td>\n",
       "      <td>32.280000</td>\n",
       "    </tr>\n",
       "    <tr>\n",
       "      <th>max</th>\n",
       "      <td>92.060000</td>\n",
       "      <td>285.760000</td>\n",
       "      <td>99.330000</td>\n",
       "    </tr>\n",
       "  </tbody>\n",
       "</table>\n",
       "</div>"
      ],
      "text/plain": [
       "             height3          wtkg3          _bmi5\n",
       "count  148939.000000  148939.000000  148939.000000\n",
       "mean        6.109208      83.972681      28.801336\n",
       "std         8.785028      22.583691       7.029037\n",
       "min         3.000000      26.760000      12.000000\n",
       "25%         5.040000      68.040000      23.910000\n",
       "50%         5.070000      81.650000      27.460000\n",
       "75%         5.100000      96.160000      32.280000\n",
       "max        92.060000     285.760000      99.330000"
      ]
     },
     "execution_count": 102,
     "metadata": {},
     "output_type": "execute_result"
    }
   ],
   "source": [
    "# Summary statistics of the numerical columns\n",
    "brfss_df[numerical_columns].describe()"
   ]
  },
  {
   "cell_type": "code",
   "execution_count": 103,
   "id": "c2eedb18-c070-4659-8558-5ba1a5a920d2",
   "metadata": {},
   "outputs": [
    {
     "data": {
      "image/png": "[encoded data removed]",
      "text/plain": [
       "<Figure size 640x480 with 1 Axes>"
      ]
     },
     "metadata": {},
     "output_type": "display_data"
    },
    {
     "data": {
      "image/png": "[encoded data removed]",
      "text/plain": [
       "<Figure size 640x480 with 1 Axes>"
      ]
     },
     "metadata": {},
     "output_type": "display_data"
    },
    {
     "data": {
      "image/png": "[encoded data removed]",
      "text/plain": [
       "<Figure size 640x480 with 1 Axes>"
      ]
     },
     "metadata": {},
     "output_type": "display_data"
    }
   ],
   "source": [
    "# Plot histogram for these numerical columns\n",
    "for cols in numerical_columns:\n",
    "    plt.hist(brfss_df[cols], bins=40)\n",
    "    plt.title(f\"Histogram of {cols}\")\n",
    "    plt.ylabel(\"Frequency\")\n",
    "    plt.show()"
   ]
  },
  {
   "cell_type": "markdown",
   "id": "c270e58f-6866-4688-a9a4-9745b2712b07",
   "metadata": {},
   "source": [
    "The histograms clearly thow that we have potential outliers for Height column as we see some disconnected values at the far right end of the plot.\n",
    "We also see that Weight and BMI are right skewed probably due to outliers at higer end values."
   ]
  },
  {
   "cell_type": "code",
   "execution_count": 104,
   "id": "ae2c06f8-eae0-40ce-9ed9-2853f9d46c32",
   "metadata": {},
   "outputs": [
    {
     "data": {
      "image/png": "[encoded data removed]",
      "text/plain": [
       "<Figure size 640x480 with 1 Axes>"
      ]
     },
     "metadata": {},
     "output_type": "display_data"
    },
    {
     "data": {
      "image/png": "[encoded data removed]",
      "text/plain": [
       "<Figure size 640x480 with 1 Axes>"
      ]
     },
     "metadata": {},
     "output_type": "display_data"
    },
    {
     "data": {
      "image/png": "[encoded data removed]",
      "text/plain": [
       "<Figure size 640x480 with 1 Axes>"
      ]
     },
     "metadata": {},
     "output_type": "display_data"
    }
   ],
   "source": [
    "# Lets plot box plot to further check for outliers\n",
    "for cols in numerical_columns:\n",
    "    plt.boxplot(brfss_df[cols])\n",
    "    plt.title(f\"Boxplot of {cols}\")\n",
    "    plt.show()"
   ]
  },
  {
   "cell_type": "code",
   "execution_count": 105,
   "id": "69b0d79e-7c9d-4373-90eb-94b49497082e",
   "metadata": {},
   "outputs": [],
   "source": [
    "# Drop anything above 9 feet for height as anything above this value is potential outlier\n",
    "brfss_df = brfss_df[brfss_df[\"height3\"] <= 9]"
   ]
  },
  {
   "cell_type": "code",
   "execution_count": 106,
   "id": "2dbe1fec-e4cf-4fdf-a16b-7efbc263e6a7",
   "metadata": {},
   "outputs": [],
   "source": [
    "# Drop anything above  for BMI above 60 as anything above this value is potential outlier\n",
    "brfss_df = brfss_df[brfss_df[\"_bmi5\"] <= 60]"
   ]
  },
  {
   "cell_type": "markdown",
   "id": "4a78e511-a4c6-4112-b3af-01b6e55bab67",
   "metadata": {},
   "source": [
    "###### COPD dataset"
   ]
  },
  {
   "cell_type": "code",
   "execution_count": 107,
   "id": "bbc5110f-8b0c-457f-810d-c0de1951df59",
   "metadata": {},
   "outputs": [
    {
     "data": {
      "image/png": "[encoded data removed]",
      "text/plain": [
       "<Figure size 640x480 with 1 Axes>"
      ]
     },
     "metadata": {},
     "output_type": "display_data"
    }
   ],
   "source": [
    "# Plot histogram for percent_copd column\n",
    "plt.hist(copd_df[\"percent_copd\"], bins=50)\n",
    "plt.title(f\"Histogram of COPD Percentage\")\n",
    "plt.ylabel(\"Frequency\")\n",
    "plt.show()"
   ]
  },
  {
   "cell_type": "code",
   "execution_count": 108,
   "id": "7b58d31b-da9c-49d9-9909-8818aeafc75e",
   "metadata": {},
   "outputs": [
    {
     "data": {
      "image/png": "[encoded data removed]",
      "text/plain": [
       "<Figure size 640x480 with 1 Axes>"
      ]
     },
     "metadata": {},
     "output_type": "display_data"
    }
   ],
   "source": [
    "# Plot boxplot for percent_copd column\n",
    "plt.boxplot(copd_df[\"percent_copd\"])\n",
    "plt.title(f\"Boxplot of COPD Percentage\")\n",
    "plt.ylabel(\"Count\")\n",
    "plt.show()"
   ]
  },
  {
   "cell_type": "code",
   "execution_count": 109,
   "id": "96d2eb81-5c62-4ff2-871f-37f37b7f5752",
   "metadata": {},
   "outputs": [
    {
     "data": {
      "text/plain": [
       "count    3121.000000\n",
       "mean        7.406216\n",
       "std         1.835876\n",
       "min         3.200000\n",
       "25%         6.000000\n",
       "50%         7.200000\n",
       "75%         8.700000\n",
       "max        15.500000\n",
       "Name: percent_copd, dtype: float64"
      ]
     },
     "execution_count": 109,
     "metadata": {},
     "output_type": "execute_result"
    }
   ],
   "source": [
    "# Summary statistics for percent_copd column\n",
    "copd_df[\"percent_copd\"].describe()"
   ]
  },
  {
   "cell_type": "markdown",
   "id": "bb2916d2-ea4f-4390-bd82-b2e198db0ebb",
   "metadata": {},
   "source": [
    "From the histogram and box plot we can see that COPD percentage is right skewed and for some couties it is quite high. However these might be valid values as air pollution and repiratory diseases can be higher in some counties. Therefore for this study it does not make sense to drop those high cases."
   ]
  },
  {
   "cell_type": "markdown",
   "id": "9d96bdbf-ce53-4d6d-84c1-f26a6e393b53",
   "metadata": {},
   "source": [
    "##### Step 6: Clean categorical columns\n",
    "Check for invalid categories in categorical columns. \n",
    "Missing data or no response from respondents coded as a category 9 in BRFSS dataset. Identify invalid data values and clean the categorical columns."
   ]
  },
  {
   "cell_type": "code",
   "execution_count": 110,
   "id": "6bcfb979-d4a4-44ee-9cf7-b20c1c7a6ca8",
   "metadata": {},
   "outputs": [],
   "source": [
    "# Create a list of categorical columns\n",
    "categorical_columns = [cols for cols in list(brfss_df.columns) if cols not in numerical_columns]"
   ]
  },
  {
   "cell_type": "code",
   "execution_count": 111,
   "id": "e1a48dba-4819-4794-b668-444ddb556762",
   "metadata": {},
   "outputs": [
    {
     "name": "stdout",
     "output_type": "stream",
     "text": [
      "Categries count for _ltasth1 column\n",
      " _ltasth1\n",
      "1    119356\n",
      "2     27016\n",
      "9       657\n",
      "Name: height3, dtype: int64 \n",
      "================================\n",
      "Categries count for _casthm1 column\n",
      " _casthm1\n",
      "1    127348\n",
      "2     18188\n",
      "9      1493\n",
      "Name: height3, dtype: int64 \n",
      "================================\n",
      "Categries count for _sex column\n",
      " _sex\n",
      "1    71909\n",
      "2    75120\n",
      "Name: height3, dtype: int64 \n",
      "================================\n",
      "Categries count for _smoker3 column\n",
      " _smoker3\n",
      "1    15412\n",
      "2     6729\n",
      "3    42274\n",
      "4    77828\n",
      "9     4786\n",
      "Name: height3, dtype: int64 \n",
      "================================\n",
      "Categries count for _cureci1 column\n",
      " _cureci1\n",
      "1    133230\n",
      "2      9393\n",
      "9      4406\n",
      "Name: height3, dtype: int64 \n",
      "================================\n",
      "Categries count for mmsaname column\n",
      " mmsaname\n",
      "Aberdeen, SD, Micropolitan Statistical Area                          553\n",
      "Akron, OH, Metropolitan Statistical Area                             533\n",
      "Albany-Schenectady-Troy, NY, Metropolitan Statistical Area          1881\n",
      "Albuquerque, NM, Metropolitan Statistical Area                      1101\n",
      "Anchorage, AK, Metropolitan Statistical Area                        1368\n",
      "                                                                    ... \n",
      "Watertown, SD, Micropolitan Statistical Area                         664\n",
      "Wichita, KS, Metropolitan Statistical Area                          2120\n",
      "Wilmington, DE-MD-NJ, Metropolitan Division                         1166\n",
      "Worcester, MA-CT, Metropolitan Statistical Area                     1056\n",
      "Youngstown-Warren-Boardman, OH-PA, Metropolitan Statistical Area     511\n",
      "Name: height3, Length: 126, dtype: int64 \n",
      "================================\n"
     ]
    }
   ],
   "source": [
    "# Check categories and counts for each categorical columns\n",
    "for cols in categorical_columns:\n",
    "    print(f\"Categries count for {cols} column\\n\",brfss_df.groupby(cols).count()[\"height3\"], \"\\n================================\")"
   ]
  },
  {
   "cell_type": "markdown",
   "id": "b5c19151-370b-4af9-ad8f-17381ac69b7c",
   "metadata": {},
   "source": [
    "We can see that there is \"9\" category for some columns. 9 stands for category where repondents didn't repond to question or missing information. "
   ]
  },
  {
   "cell_type": "code",
   "execution_count": 112,
   "id": "78201b69-a7e7-4176-9ece-883966f4533f",
   "metadata": {},
   "outputs": [],
   "source": [
    "# Remove rows with value as 9 in categorical columns\n",
    "for cols in ['_ltasth1', '_casthm1', '_smoker3', '_cureci1']:\n",
    "    brfss_df = brfss_df[brfss_df[cols] != 9]"
   ]
  },
  {
   "cell_type": "markdown",
   "id": "65e734a3-6b30-447e-a9f3-7f70a0ee9d92",
   "metadata": {},
   "source": [
    "##### Step 7: Extract State Code and County Name from column\n",
    "Both the datasets have State code and County name name fused together in a single column. Perform transformation to extract and separte the State code and County name in separate columns."
   ]
  },
  {
   "cell_type": "markdown",
   "id": "54fcde6d-f955-41d1-87fb-9bfa2e484d74",
   "metadata": {},
   "source": [
    "###### BRFSS SMART dataset"
   ]
  },
  {
   "cell_type": "code",
   "execution_count": 113,
   "id": "fceac57a-c531-4ba3-b2a8-8b6e44600ede",
   "metadata": {},
   "outputs": [],
   "source": [
    "# Splitting mmsaname column at \",\" to separate stae and county name\n",
    "brfss_df[\"county\"] = brfss_df[\"mmsaname\"].apply(lambda x: x.split(\",\")[0])\n",
    "brfss_df[\"state\"] = brfss_df[\"mmsaname\"].apply(lambda x: x.split(\",\")[1])"
   ]
  },
  {
   "cell_type": "markdown",
   "id": "a6a7e142-cb24-4517-86ee-67a99db63af0",
   "metadata": {},
   "source": [
    "We see that some County names are combined using '-' in the MMSANAME columns, most probably for smaller counties which are too small in size to be consisered as MMSA."
   ]
  },
  {
   "cell_type": "code",
   "execution_count": 114,
   "id": "afc3950a-0be5-40c4-b5ce-a27b7336dfb0",
   "metadata": {},
   "outputs": [],
   "source": [
    "# Split those combined county names and store as a list\n",
    "brfss_df[\"temp_county\"] = brfss_df[\"county\"].str.split(\"-\")"
   ]
  },
  {
   "cell_type": "code",
   "execution_count": 115,
   "id": "d15e8278-f54a-4e2c-b215-16db2b75a5e4",
   "metadata": {},
   "outputs": [],
   "source": [
    "# Now as the combined county names is splitted, create separate rows for each values of the county names using explode function\n",
    "brfss_df = brfss_df.explode(\"temp_county\")\n",
    "brfss_df[\"county\"] = brfss_df[\"temp_county\"].str.strip()\n",
    "brfss_df = brfss_df.drop(columns=[\"temp_county\"])"
   ]
  },
  {
   "cell_type": "code",
   "execution_count": 116,
   "id": "d6f33862-a604-4f31-bfee-105f66de6a9b",
   "metadata": {},
   "outputs": [
    {
     "data": {
      "text/plain": [
       "(0    Aberdeen\n",
       " 1    Aberdeen\n",
       " 2    Aberdeen\n",
       " 3    Aberdeen\n",
       " 4    Aberdeen\n",
       " Name: county, dtype: object,\n",
       " 227790        Warren\n",
       " 227790      Boardman\n",
       " 227791    Youngstown\n",
       " 227791        Warren\n",
       " 227791      Boardman\n",
       " Name: county, dtype: object)"
      ]
     },
     "execution_count": 116,
     "metadata": {},
     "output_type": "execute_result"
    }
   ],
   "source": [
    "# Check first & last few rows to make sure that the explode worked and now the county names are exploded in separate rows\n",
    "brfss_df[\"county\"].head(),brfss_df[\"county\"].tail()"
   ]
  },
  {
   "cell_type": "code",
   "execution_count": 117,
   "id": "7deb66b3-245d-490b-8545-674ee12330b6",
   "metadata": {},
   "outputs": [
    {
     "data": {
      "text/plain": [
       "(0     SD\n",
       " 1     SD\n",
       " 2     SD\n",
       " 3     SD\n",
       " 4     SD\n",
       " Name: state, dtype: object,\n",
       " 227790     OH-PA\n",
       " 227790     OH-PA\n",
       " 227791     OH-PA\n",
       " 227791     OH-PA\n",
       " 227791     OH-PA\n",
       " Name: state, dtype: object)"
      ]
     },
     "execution_count": 117,
     "metadata": {},
     "output_type": "execute_result"
    }
   ],
   "source": [
    "brfss_df[\"state\"].head(),brfss_df[\"state\"].tail()"
   ]
  },
  {
   "cell_type": "markdown",
   "id": "47c12a95-be8c-4b24-bd4e-606a7c33fff1",
   "metadata": {},
   "source": [
    "We see similiar combined State name with `-`. Lets split into separate rows similar to county."
   ]
  },
  {
   "cell_type": "code",
   "execution_count": 118,
   "id": "8e9cd7c4-8a97-49dc-ae6a-81565e9bc48c",
   "metadata": {},
   "outputs": [],
   "source": [
    "#Split combined state names and store as a list\n",
    "brfss_df[\"temp_state\"] = brfss_df[\"state\"].str.split(\"-\")\n",
    "\n",
    "#Now as the combined state names is splitted, create separate rows for each values of the state names using explode function\n",
    "brfss_df = brfss_df.explode(\"temp_state\")\n",
    "brfss_df[\"state\"] = brfss_df[\"temp_state\"].str.strip()\n",
    "brfss_df = brfss_df.drop(columns=[\"temp_state\"])"
   ]
  },
  {
   "cell_type": "code",
   "execution_count": 119,
   "id": "7ac8614e-73ad-4123-a28f-a7828cdd712c",
   "metadata": {},
   "outputs": [
    {
     "data": {
      "text/plain": [
       "(0    SD\n",
       " 1    SD\n",
       " 2    SD\n",
       " 3    SD\n",
       " 4    SD\n",
       " Name: state, dtype: object,\n",
       " 227791    PA\n",
       " 227791    OH\n",
       " 227791    PA\n",
       " 227791    OH\n",
       " 227791    PA\n",
       " Name: state, dtype: object)"
      ]
     },
     "execution_count": 119,
     "metadata": {},
     "output_type": "execute_result"
    }
   ],
   "source": [
    "# Check first & last few rows to make sure that the explode worked and now the state names are exploded in separate rows\n",
    "brfss_df[\"state\"].head(), brfss_df[\"state\"].tail()"
   ]
  },
  {
   "cell_type": "markdown",
   "id": "436373a2-f425-48dd-a7f0-d5e546c69a67",
   "metadata": {},
   "source": [
    "###### COPD dataset"
   ]
  },
  {
   "cell_type": "code",
   "execution_count": 120,
   "id": "37fab919-f896-4a3f-8100-3a7d7764c43b",
   "metadata": {},
   "outputs": [],
   "source": [
    "# Split fullgeoname column at \",\" to separate state and county name\n",
    "copd_df[\"state\"] = copd_df[\"fullgeoname\"].apply(lambda x: x.split(\",\")[0])"
   ]
  },
  {
   "cell_type": "code",
   "execution_count": 121,
   "id": "d7a712a1-555a-42de-b860-0816d97d19b3",
   "metadata": {},
   "outputs": [
    {
     "data": {
      "text/html": [
       "<div>\n",
       "<style scoped>\n",
       "    .dataframe tbody tr th:only-of-type {\n",
       "        vertical-align: middle;\n",
       "    }\n",
       "\n",
       "    .dataframe tbody tr th {\n",
       "        vertical-align: top;\n",
       "    }\n",
       "\n",
       "    .dataframe thead th {\n",
       "        text-align: right;\n",
       "    }\n",
       "</style>\n",
       "<table border=\"1\" class=\"dataframe\">\n",
       "  <thead>\n",
       "    <tr style=\"text-align: right;\">\n",
       "      <th></th>\n",
       "      <th>fullgeoname</th>\n",
       "      <th>statedesc</th>\n",
       "      <th>county</th>\n",
       "      <th>percent_copd</th>\n",
       "      <th>state</th>\n",
       "    </tr>\n",
       "  </thead>\n",
       "  <tbody>\n",
       "    <tr>\n",
       "      <th>0</th>\n",
       "      <td>AL, Autauga</td>\n",
       "      <td>Alabama</td>\n",
       "      <td>Autauga</td>\n",
       "      <td>7.5</td>\n",
       "      <td>AL</td>\n",
       "    </tr>\n",
       "    <tr>\n",
       "      <th>1</th>\n",
       "      <td>AL, Baldwin</td>\n",
       "      <td>Alabama</td>\n",
       "      <td>Baldwin</td>\n",
       "      <td>6.9</td>\n",
       "      <td>AL</td>\n",
       "    </tr>\n",
       "    <tr>\n",
       "      <th>2</th>\n",
       "      <td>AL, Barbour</td>\n",
       "      <td>Alabama</td>\n",
       "      <td>Barbour</td>\n",
       "      <td>10.7</td>\n",
       "      <td>AL</td>\n",
       "    </tr>\n",
       "    <tr>\n",
       "      <th>3</th>\n",
       "      <td>AL, Bibb</td>\n",
       "      <td>Alabama</td>\n",
       "      <td>Bibb</td>\n",
       "      <td>9.2</td>\n",
       "      <td>AL</td>\n",
       "    </tr>\n",
       "    <tr>\n",
       "      <th>4</th>\n",
       "      <td>AL, Blount</td>\n",
       "      <td>Alabama</td>\n",
       "      <td>Blount</td>\n",
       "      <td>8.7</td>\n",
       "      <td>AL</td>\n",
       "    </tr>\n",
       "  </tbody>\n",
       "</table>\n",
       "</div>"
      ],
      "text/plain": [
       "   fullgeoname statedesc   county  percent_copd state\n",
       "0  AL, Autauga   Alabama  Autauga           7.5    AL\n",
       "1  AL, Baldwin   Alabama  Baldwin           6.9    AL\n",
       "2  AL, Barbour   Alabama  Barbour          10.7    AL\n",
       "3     AL, Bibb   Alabama     Bibb           9.2    AL\n",
       "4   AL, Blount   Alabama   Blount           8.7    AL"
      ]
     },
     "execution_count": 121,
     "metadata": {},
     "output_type": "execute_result"
    }
   ],
   "source": [
    "copd_df.head()"
   ]
  },
  {
   "cell_type": "markdown",
   "id": "64ff9709-e063-4d7b-8921-728707267949",
   "metadata": {},
   "source": [
    "##### Step 8: Agrregate BRFSS SMART dataset for summarizing at County level \n",
    "We will need to aggregate at county and state level to calculate below summary. This is required because all datasources are at county level and state level as required for this study:\n",
    "\n",
    "- Asthma Percentage\n",
    "- Smoker Percentage\n",
    "- Ecigarrets User Percentage\n",
    "- Male Percentage\n",
    "- Female Percentage\n",
    "- Average Weight\n",
    "- Average Height\n",
    "- Average BMI"
   ]
  },
  {
   "cell_type": "code",
   "execution_count": 122,
   "id": "cde0ef83-18c6-44cc-881e-f9d3dc5a14a7",
   "metadata": {},
   "outputs": [],
   "source": [
    "# This function calculates percentage of reponsdents who ansered yes. yes=2.\n",
    "def calculate_yes_percentage(data):\n",
    "    data = data.reset_index()\n",
    "    total = data.shape[0] #total count\n",
    "    #filtering rows with 2 i.e ansyered yes and calcutating percentage of such records\n",
    "    return round(data[data.iloc[:,1] == 2].shape[0]/total*100,2)\n"
   ]
  },
  {
   "cell_type": "code",
   "execution_count": 123,
   "id": "2fb77ac8-da24-4b70-916d-0485c9edcb7a",
   "metadata": {},
   "outputs": [],
   "source": [
    "# This function calculates percentage of reponsdents who ansered currently or formerly smoker. currently smokes every day=1 ,\n",
    "# currently smokes some days=2, former smoker=3, never smoked=4\n",
    "def calculate_smoker_percentage(data):\n",
    "    data = data.reset_index()\n",
    "    total = data.shape[0] #total count\n",
    "    #filtering rows other than 4 i.e never smoked and calcutating percentage of such records\n",
    "    return round(data[data.iloc[:,1] != 4].shape[0]/total*100,2) \n"
   ]
  },
  {
   "cell_type": "code",
   "execution_count": 124,
   "id": "1e6ac591-5f02-4d8a-bbb7-6b5423b76bed",
   "metadata": {},
   "outputs": [],
   "source": [
    "# These functions calculates percentage of reponsdents who ansered male or female.\n",
    "# male=1, female=2\n",
    "def calculate_male_percentage(data):\n",
    "    data = data.reset_index()\n",
    "    total = data.shape[0] #total count\n",
    "    #filtering rows with 1 i.e male and calcutating percentage of such records\n",
    "    return round(data[data.iloc[:,1] == 1].shape[0]/total*100,2)\n",
    "\n",
    "def calculate_female_percentage(data):\n",
    "    data = data.reset_index()\n",
    "    total = data.shape[0] #total count\n",
    "    #filtering rows with 2 i.e male and calcutating percentage of such records\n",
    "    return round(data[data.iloc[:,1] == 2].shape[0]/total*100,2)"
   ]
  },
  {
   "cell_type": "code",
   "execution_count": 125,
   "id": "2dff8254-062e-4b20-be9d-9dded716970c",
   "metadata": {},
   "outputs": [],
   "source": [
    "# create a copy of \"_sex\" column to apply a diffrent function for same column\n",
    "brfss_df[\"_sex_female\"] = brfss_df[\"_sex\"]"
   ]
  },
  {
   "cell_type": "code",
   "execution_count": 126,
   "id": "fa8121ba-647f-439f-b986-e391484c5ed6",
   "metadata": {},
   "outputs": [],
   "source": [
    "# Calculate the percentages and averages as mentioned above using groupby + agg functions\n",
    "grouped_brfss_df = brfss_df.groupby([\"state\",\"county\"]).agg({\n",
    "    \"_ltasth1\": calculate_yes_percentage,\n",
    "    \"_casthm1\": calculate_yes_percentage,\n",
    "    \"_smoker3\": calculate_smoker_percentage,\n",
    "    \"_cureci1\": calculate_yes_percentage,\n",
    "    \"_sex\": calculate_male_percentage,\n",
    "    \"_sex_female\": calculate_female_percentage,\n",
    "    \"wtkg3\": \"mean\",\n",
    "    \"height3\": \"mean\",\n",
    "    \"_bmi5\": \"mean\",\n",
    "})"
   ]
  },
  {
   "cell_type": "code",
   "execution_count": 127,
   "id": "2a5fd0c2-eb0b-44af-ad9c-84c3fd52d479",
   "metadata": {},
   "outputs": [],
   "source": [
    "# Convert multiindex to columns for correct format of table\n",
    "cleaned_brfss_df = grouped_brfss_df.reset_index()"
   ]
  },
  {
   "cell_type": "code",
   "execution_count": 128,
   "id": "95fe4a33-6036-49f6-96d1-304d58b4110e",
   "metadata": {},
   "outputs": [],
   "source": [
    "# Rename BRFSS columns for better redability\n",
    "cleaned_brfss_df = cleaned_brfss_df.rename(\n",
    "    columns={\n",
    "        \"_ltasth1\": \"ever_had_asthma_percentage\",\n",
    "        \"_casthm1\": \"currently_has_asthma_percentage\",\n",
    "        \"_smoker3\": \"smoker_percentage\",\n",
    "        \"_cureci1\": \"ecigarette_user_percentage\",\n",
    "        \"_sex\": \"male_percentage\",\n",
    "        \"_sex_female\": \"female_percentage\",\n",
    "        \"wtkg3\": \"weight\",\n",
    "        \"height3\": \"height\",\n",
    "        \"_bmi5\": \"body_mass_index\"\n",
    "    }\n",
    ")"
   ]
  },
  {
   "cell_type": "code",
   "execution_count": 129,
   "id": "1f03aa51-b548-4d49-bc4d-f4842436d62d",
   "metadata": {},
   "outputs": [
    {
     "data": {
      "text/html": [
       "<div>\n",
       "<style scoped>\n",
       "    .dataframe tbody tr th:only-of-type {\n",
       "        vertical-align: middle;\n",
       "    }\n",
       "\n",
       "    .dataframe tbody tr th {\n",
       "        vertical-align: top;\n",
       "    }\n",
       "\n",
       "    .dataframe thead th {\n",
       "        text-align: right;\n",
       "    }\n",
       "</style>\n",
       "<table border=\"1\" class=\"dataframe\">\n",
       "  <thead>\n",
       "    <tr style=\"text-align: right;\">\n",
       "      <th></th>\n",
       "      <th>state</th>\n",
       "      <th>county</th>\n",
       "      <th>ever_had_asthma_percentage</th>\n",
       "      <th>currently_has_asthma_percentage</th>\n",
       "      <th>smoker_percentage</th>\n",
       "      <th>ecigarette_user_percentage</th>\n",
       "      <th>male_percentage</th>\n",
       "      <th>female_percentage</th>\n",
       "      <th>weight</th>\n",
       "      <th>height</th>\n",
       "      <th>body_mass_index</th>\n",
       "    </tr>\n",
       "  </thead>\n",
       "  <tbody>\n",
       "    <tr>\n",
       "      <th>0</th>\n",
       "      <td>AK</td>\n",
       "      <td>Anchorage</td>\n",
       "      <td>17.29</td>\n",
       "      <td>11.63</td>\n",
       "      <td>47.21</td>\n",
       "      <td>6.58</td>\n",
       "      <td>51.64</td>\n",
       "      <td>48.36</td>\n",
       "      <td>85.569166</td>\n",
       "      <td>5.237674</td>\n",
       "      <td>28.913994</td>\n",
       "    </tr>\n",
       "    <tr>\n",
       "      <th>1</th>\n",
       "      <td>AL</td>\n",
       "      <td>Birmingham</td>\n",
       "      <td>17.56</td>\n",
       "      <td>10.60</td>\n",
       "      <td>42.19</td>\n",
       "      <td>6.50</td>\n",
       "      <td>42.08</td>\n",
       "      <td>57.92</td>\n",
       "      <td>85.292144</td>\n",
       "      <td>5.195713</td>\n",
       "      <td>29.314641</td>\n",
       "    </tr>\n",
       "    <tr>\n",
       "      <th>2</th>\n",
       "      <td>AL</td>\n",
       "      <td>Hoover</td>\n",
       "      <td>17.56</td>\n",
       "      <td>10.60</td>\n",
       "      <td>42.19</td>\n",
       "      <td>6.50</td>\n",
       "      <td>42.08</td>\n",
       "      <td>57.92</td>\n",
       "      <td>85.292144</td>\n",
       "      <td>5.195713</td>\n",
       "      <td>29.314641</td>\n",
       "    </tr>\n",
       "    <tr>\n",
       "      <th>3</th>\n",
       "      <td>AL</td>\n",
       "      <td>Mobile</td>\n",
       "      <td>16.78</td>\n",
       "      <td>10.96</td>\n",
       "      <td>46.98</td>\n",
       "      <td>6.26</td>\n",
       "      <td>42.28</td>\n",
       "      <td>57.72</td>\n",
       "      <td>85.836152</td>\n",
       "      <td>5.203647</td>\n",
       "      <td>29.608188</td>\n",
       "    </tr>\n",
       "    <tr>\n",
       "      <th>4</th>\n",
       "      <td>AR</td>\n",
       "      <td>Conway</td>\n",
       "      <td>13.22</td>\n",
       "      <td>9.19</td>\n",
       "      <td>47.86</td>\n",
       "      <td>4.28</td>\n",
       "      <td>44.46</td>\n",
       "      <td>55.54</td>\n",
       "      <td>83.457846</td>\n",
       "      <td>5.204521</td>\n",
       "      <td>28.798060</td>\n",
       "    </tr>\n",
       "  </tbody>\n",
       "</table>\n",
       "</div>"
      ],
      "text/plain": [
       "  state      county  ever_had_asthma_percentage  \\\n",
       "0    AK   Anchorage                       17.29   \n",
       "1    AL  Birmingham                       17.56   \n",
       "2    AL      Hoover                       17.56   \n",
       "3    AL      Mobile                       16.78   \n",
       "4    AR      Conway                       13.22   \n",
       "\n",
       "   currently_has_asthma_percentage  smoker_percentage  \\\n",
       "0                            11.63              47.21   \n",
       "1                            10.60              42.19   \n",
       "2                            10.60              42.19   \n",
       "3                            10.96              46.98   \n",
       "4                             9.19              47.86   \n",
       "\n",
       "   ecigarette_user_percentage  male_percentage  female_percentage     weight  \\\n",
       "0                        6.58            51.64              48.36  85.569166   \n",
       "1                        6.50            42.08              57.92  85.292144   \n",
       "2                        6.50            42.08              57.92  85.292144   \n",
       "3                        6.26            42.28              57.72  85.836152   \n",
       "4                        4.28            44.46              55.54  83.457846   \n",
       "\n",
       "     height  body_mass_index  \n",
       "0  5.237674        28.913994  \n",
       "1  5.195713        29.314641  \n",
       "2  5.195713        29.314641  \n",
       "3  5.203647        29.608188  \n",
       "4  5.204521        28.798060  "
      ]
     },
     "execution_count": 129,
     "metadata": {},
     "output_type": "execute_result"
    }
   ],
   "source": [
    "# view few rows of the cleaned BRFSS data to be used in further analysis\n",
    "cleaned_brfss_df.head()"
   ]
  },
  {
   "cell_type": "code",
   "execution_count": 130,
   "id": "3fa50a63-2cac-4984-a7fd-f7b8f04bbd0b",
   "metadata": {},
   "outputs": [
    {
     "data": {
      "text/html": [
       "<div>\n",
       "<style scoped>\n",
       "    .dataframe tbody tr th:only-of-type {\n",
       "        vertical-align: middle;\n",
       "    }\n",
       "\n",
       "    .dataframe tbody tr th {\n",
       "        vertical-align: top;\n",
       "    }\n",
       "\n",
       "    .dataframe thead th {\n",
       "        text-align: right;\n",
       "    }\n",
       "</style>\n",
       "<table border=\"1\" class=\"dataframe\">\n",
       "  <thead>\n",
       "    <tr style=\"text-align: right;\">\n",
       "      <th></th>\n",
       "      <th>fullgeoname</th>\n",
       "      <th>statedesc</th>\n",
       "      <th>county</th>\n",
       "      <th>percent_copd</th>\n",
       "      <th>state</th>\n",
       "    </tr>\n",
       "  </thead>\n",
       "  <tbody>\n",
       "    <tr>\n",
       "      <th>0</th>\n",
       "      <td>AL, Autauga</td>\n",
       "      <td>Alabama</td>\n",
       "      <td>Autauga</td>\n",
       "      <td>7.5</td>\n",
       "      <td>AL</td>\n",
       "    </tr>\n",
       "    <tr>\n",
       "      <th>1</th>\n",
       "      <td>AL, Baldwin</td>\n",
       "      <td>Alabama</td>\n",
       "      <td>Baldwin</td>\n",
       "      <td>6.9</td>\n",
       "      <td>AL</td>\n",
       "    </tr>\n",
       "    <tr>\n",
       "      <th>2</th>\n",
       "      <td>AL, Barbour</td>\n",
       "      <td>Alabama</td>\n",
       "      <td>Barbour</td>\n",
       "      <td>10.7</td>\n",
       "      <td>AL</td>\n",
       "    </tr>\n",
       "    <tr>\n",
       "      <th>3</th>\n",
       "      <td>AL, Bibb</td>\n",
       "      <td>Alabama</td>\n",
       "      <td>Bibb</td>\n",
       "      <td>9.2</td>\n",
       "      <td>AL</td>\n",
       "    </tr>\n",
       "    <tr>\n",
       "      <th>4</th>\n",
       "      <td>AL, Blount</td>\n",
       "      <td>Alabama</td>\n",
       "      <td>Blount</td>\n",
       "      <td>8.7</td>\n",
       "      <td>AL</td>\n",
       "    </tr>\n",
       "  </tbody>\n",
       "</table>\n",
       "</div>"
      ],
      "text/plain": [
       "   fullgeoname statedesc   county  percent_copd state\n",
       "0  AL, Autauga   Alabama  Autauga           7.5    AL\n",
       "1  AL, Baldwin   Alabama  Baldwin           6.9    AL\n",
       "2  AL, Barbour   Alabama  Barbour          10.7    AL\n",
       "3     AL, Bibb   Alabama     Bibb           9.2    AL\n",
       "4   AL, Blount   Alabama   Blount           8.7    AL"
      ]
     },
     "execution_count": 130,
     "metadata": {},
     "output_type": "execute_result"
    }
   ],
   "source": [
    "# View few rows of the cleaned copd data to be used in further analysis\n",
    "copd_df.head()"
   ]
  },
  {
   "cell_type": "markdown",
   "id": "763edc2a-ddab-451b-859b-fec5355fe222",
   "metadata": {},
   "source": [
    "#### Ethical Implications\n",
    "\n",
    "The BRFSS SMART and COPD prevalence datasets do not contain personally identifiable data, and there is no risk of data privacy breaches. These open datasets are freely available for use and redistribution without restrictions. These datasets do not contain any licensed data or copyrighted data. The COPD dataset contains estimated COPD prevalence, which may deviate from the actual COPD prevalence, and may not be an exact representation of the population. As part of data wrangling, records in the BRFSS SMART dataset where respondents didn't provide responses or missing data have been dropped. For some records in the source BRFSS SMART dataset, the county and state of the respondents are combined into one record. As part of data wrangling,  such records were split into multiple records with the assumption that the and the records are combined because the respondent's location does not belong to a single county. This approach and assumption may not be an actual case, and splitting the records in this approach may introduce bias. Records in the BRFSS SMART dataset are aggregated at the county and state levels to calculate the prevalence percentages and averages. These prevalence percentages and averages may not represent the population because not all residents participated in the survey, and information that was missing was dropped for this study. Furthermore, some records have been dropped as part of outliers removal which may also remove other associated data that might have otherwise impacted or changed the findings of this study. Hence, the tarnsformed datasets after applying the above data wrangling steps may not be an actual representation of the population and the outcomes of this study should be used with this awareness and diligence."
   ]
  },
  {
   "cell_type": "markdown",
   "id": "b89a6b86-47e1-4c3e-b0fb-2e50dd255e4c",
   "metadata": {},
   "source": [
    "### Project Milestone 3 - Cleaning/Formatting Website Data"
   ]
  },
  {
   "cell_type": "markdown",
   "id": "1fb4a535-04ef-42ff-a6f9-16bbf1df67bf",
   "metadata": {},
   "source": [
    "##### Step1: Parse Website HTML data to retrive urls for county statistics of US states\n",
    "\n",
    "The main website page contains links to each state level pages which actually contains county statistics data needed for this study. We need to parse html from country wikipedia page to retrieve the state level urls further use. "
   ]
  },
  {
   "cell_type": "code",
   "execution_count": 3,
   "id": "17f8c6e5-145e-4407-a47e-348c7729fd6b",
   "metadata": {},
   "outputs": [],
   "source": [
    "# import required package\n",
    "from bs4 import BeautifulSoup\n",
    "import requests\n",
    "import pandas as pd\n",
    "import re"
   ]
  },
  {
   "cell_type": "code",
   "execution_count": 2,
   "id": "eb164472-5e93-4e7f-94ba-e548663a8324",
   "metadata": {},
   "outputs": [
    {
     "name": "stdout",
     "output_type": "stream",
     "text": [
      "Webpage data read successfully\n"
     ]
    }
   ],
   "source": [
    "#HTTP Get request using request package to retrive webpage (url \"https://en.wikipedia.org/wiki/County_statistics_of_the_United_States\")\n",
    "\n",
    "try:\n",
    "    response = requests.get(\"https://en.wikipedia.org/wiki/County_statistics_of_the_United_States\")\n",
    "except Exception as err:\n",
    "    print(f\"Exceptions encountered in HTTP get request: {err}\")\n",
    "else:    \n",
    "    if response.status_code == 200:\n",
    "        print(\"Webpage data read successfully\")\n",
    "        html_data = response.text\n",
    "    else:\n",
    "        print(f\"Error encountered: {response.reason}\")"
   ]
  },
  {
   "cell_type": "code",
   "execution_count": 3,
   "id": "2a11f9bd-2cc1-4f3a-b8e9-af10a8b21e56",
   "metadata": {},
   "outputs": [],
   "source": [
    "# Create a soup object from retrieved html\n",
    "soup = BeautifulSoup(html_data, \"html.parser\")"
   ]
  },
  {
   "cell_type": "code",
   "execution_count": 4,
   "id": "a737bbe5-3543-437e-a71c-01b3fe7b0ca7",
   "metadata": {},
   "outputs": [],
   "source": [
    "# Find table using class attribute to locate the needed table\n",
    "tables = soup.find_all(\"table\", {\"class\":\"wikitable sortable\"})"
   ]
  },
  {
   "cell_type": "code",
   "execution_count": 5,
   "id": "6ff11c8d-6bd4-4e9c-a281-bca18969facc",
   "metadata": {},
   "outputs": [],
   "source": [
    "# we need the first table from this html. The required data is in <tr> tag of table body <tbody>\n",
    "# use find_all to get a list of all table rows from the table body\n",
    "table_rows = tables[0].tbody.find_all(\"tr\")\n",
    "\n",
    "# Exclude the first table row as its the header row\n",
    "table_rows = table_rows[1:]"
   ]
  },
  {
   "cell_type": "code",
   "execution_count": 7,
   "id": "8ea9e195-6592-4d8d-bea7-f4ab7ff3374f",
   "metadata": {},
   "outputs": [],
   "source": [
    "# Retrive state name and state state page level links from href of <a> tag in eachtable row\n",
    "hrefs = [each_row.a.get(\"href\").strip() for each_row in table_rows]\n",
    "state_names = [each_row.find(\"a\").get(\"title\").strip().lower() for each_row in table_rows]"
   ]
  },
  {
   "cell_type": "code",
   "execution_count": 8,
   "id": "6dba7541-795d-4323-a22f-3bb06ec46b76",
   "metadata": {},
   "outputs": [
    {
     "name": "stdout",
     "output_type": "stream",
     "text": [
      "href: ['/wiki/Texas', '/wiki/Georgia_(U.S._state)', '/wiki/Virginia', '/wiki/Kentucky', '/wiki/Missouri']\n",
      "state name: ['texas', 'georgia (u.s. state)', 'virginia', 'kentucky', 'missouri']\n"
     ]
    }
   ],
   "source": [
    "# View few href and state names\n",
    "print(f\"href: {hrefs[0:5]}\")\n",
    "print(f\"state name: {state_names[0:5]}\")"
   ]
  },
  {
   "cell_type": "code",
   "execution_count": 9,
   "id": "797637fa-2f9b-4c09-ae56-51e1ba4c99d7",
   "metadata": {},
   "outputs": [],
   "source": [
    "# Transform state name to lower case and remove extra charcters\n",
    "states = []\n",
    "for ref in state_names:\n",
    "    prog = re.compile(\"([a-z]+\\s*)+\")\n",
    "    name = prog.match(ref).group().strip().replace(\" \",\"_\")\n",
    "    states.append(name)"
   ]
  },
  {
   "cell_type": "code",
   "execution_count": 12,
   "id": "33cca70b-2e98-41f5-8c8e-7d48dfafce34",
   "metadata": {},
   "outputs": [],
   "source": [
    "# Convert href links from wikipedia page to a proper wikipedia url\n",
    "urls = []\n",
    "for ref in hrefs:\n",
    "    prog = re.compile(\"^/wiki/([a-zA-Z]+_?[a-zA-Z]+)|^/wiki/([a-zA-Z]+)\")\n",
    "    suffix = prog.match(ref).group(1)\n",
    "    urls.append(f\"https://en.wikipedia.org/wiki/list_of_counties_in_{suffix}\")"
   ]
  },
  {
   "cell_type": "code",
   "execution_count": 13,
   "id": "ea7ce389-5ce1-408e-8bdc-e084bc4f2bf1",
   "metadata": {},
   "outputs": [],
   "source": [
    "# Create state name and url dataframe\n",
    "state_url_df = pd.DataFrame(data={\n",
    "    \"state\":states,\n",
    "    \"state_county_stat_url\":urls\n",
    "})"
   ]
  },
  {
   "cell_type": "code",
   "execution_count": 14,
   "id": "6676f783-af63-40f1-ad46-16706917d6e7",
   "metadata": {},
   "outputs": [
    {
     "data": {
      "text/html": [
       "<div>\n",
       "<style scoped>\n",
       "    .dataframe tbody tr th:only-of-type {\n",
       "        vertical-align: middle;\n",
       "    }\n",
       "\n",
       "    .dataframe tbody tr th {\n",
       "        vertical-align: top;\n",
       "    }\n",
       "\n",
       "    .dataframe thead th {\n",
       "        text-align: right;\n",
       "    }\n",
       "</style>\n",
       "<table border=\"1\" class=\"dataframe\">\n",
       "  <thead>\n",
       "    <tr style=\"text-align: right;\">\n",
       "      <th></th>\n",
       "      <th>state</th>\n",
       "      <th>state_county_stat_url</th>\n",
       "    </tr>\n",
       "  </thead>\n",
       "  <tbody>\n",
       "    <tr>\n",
       "      <th>0</th>\n",
       "      <td>texas</td>\n",
       "      <td>https://en.wikipedia.org/wiki/list_of_counties...</td>\n",
       "    </tr>\n",
       "    <tr>\n",
       "      <th>1</th>\n",
       "      <td>georgia</td>\n",
       "      <td>https://en.wikipedia.org/wiki/list_of_counties...</td>\n",
       "    </tr>\n",
       "    <tr>\n",
       "      <th>2</th>\n",
       "      <td>virginia</td>\n",
       "      <td>https://en.wikipedia.org/wiki/list_of_counties...</td>\n",
       "    </tr>\n",
       "    <tr>\n",
       "      <th>3</th>\n",
       "      <td>kentucky</td>\n",
       "      <td>https://en.wikipedia.org/wiki/list_of_counties...</td>\n",
       "    </tr>\n",
       "    <tr>\n",
       "      <th>4</th>\n",
       "      <td>missouri</td>\n",
       "      <td>https://en.wikipedia.org/wiki/list_of_counties...</td>\n",
       "    </tr>\n",
       "    <tr>\n",
       "      <th>5</th>\n",
       "      <td>kansas</td>\n",
       "      <td>https://en.wikipedia.org/wiki/list_of_counties...</td>\n",
       "    </tr>\n",
       "    <tr>\n",
       "      <th>6</th>\n",
       "      <td>illinois</td>\n",
       "      <td>https://en.wikipedia.org/wiki/list_of_counties...</td>\n",
       "    </tr>\n",
       "    <tr>\n",
       "      <th>7</th>\n",
       "      <td>north_carolina</td>\n",
       "      <td>https://en.wikipedia.org/wiki/list_of_counties...</td>\n",
       "    </tr>\n",
       "    <tr>\n",
       "      <th>8</th>\n",
       "      <td>iowa</td>\n",
       "      <td>https://en.wikipedia.org/wiki/list_of_counties...</td>\n",
       "    </tr>\n",
       "    <tr>\n",
       "      <th>9</th>\n",
       "      <td>tennessee</td>\n",
       "      <td>https://en.wikipedia.org/wiki/list_of_counties...</td>\n",
       "    </tr>\n",
       "    <tr>\n",
       "      <th>10</th>\n",
       "      <td>nebraska</td>\n",
       "      <td>https://en.wikipedia.org/wiki/list_of_counties...</td>\n",
       "    </tr>\n",
       "    <tr>\n",
       "      <th>11</th>\n",
       "      <td>indiana</td>\n",
       "      <td>https://en.wikipedia.org/wiki/list_of_counties...</td>\n",
       "    </tr>\n",
       "    <tr>\n",
       "      <th>12</th>\n",
       "      <td>ohio</td>\n",
       "      <td>https://en.wikipedia.org/wiki/list_of_counties...</td>\n",
       "    </tr>\n",
       "    <tr>\n",
       "      <th>13</th>\n",
       "      <td>minnesota</td>\n",
       "      <td>https://en.wikipedia.org/wiki/list_of_counties...</td>\n",
       "    </tr>\n",
       "    <tr>\n",
       "      <th>14</th>\n",
       "      <td>michigan</td>\n",
       "      <td>https://en.wikipedia.org/wiki/list_of_counties...</td>\n",
       "    </tr>\n",
       "    <tr>\n",
       "      <th>15</th>\n",
       "      <td>mississippi</td>\n",
       "      <td>https://en.wikipedia.org/wiki/list_of_counties...</td>\n",
       "    </tr>\n",
       "    <tr>\n",
       "      <th>16</th>\n",
       "      <td>puerto_rico</td>\n",
       "      <td>https://en.wikipedia.org/wiki/list_of_counties...</td>\n",
       "    </tr>\n",
       "    <tr>\n",
       "      <th>17</th>\n",
       "      <td>oklahoma</td>\n",
       "      <td>https://en.wikipedia.org/wiki/list_of_counties...</td>\n",
       "    </tr>\n",
       "    <tr>\n",
       "      <th>18</th>\n",
       "      <td>arkansas</td>\n",
       "      <td>https://en.wikipedia.org/wiki/list_of_counties...</td>\n",
       "    </tr>\n",
       "    <tr>\n",
       "      <th>19</th>\n",
       "      <td>wisconsin</td>\n",
       "      <td>https://en.wikipedia.org/wiki/list_of_counties...</td>\n",
       "    </tr>\n",
       "  </tbody>\n",
       "</table>\n",
       "</div>"
      ],
      "text/plain": [
       "             state                              state_county_stat_url\n",
       "0            texas  https://en.wikipedia.org/wiki/list_of_counties...\n",
       "1          georgia  https://en.wikipedia.org/wiki/list_of_counties...\n",
       "2         virginia  https://en.wikipedia.org/wiki/list_of_counties...\n",
       "3         kentucky  https://en.wikipedia.org/wiki/list_of_counties...\n",
       "4         missouri  https://en.wikipedia.org/wiki/list_of_counties...\n",
       "5           kansas  https://en.wikipedia.org/wiki/list_of_counties...\n",
       "6         illinois  https://en.wikipedia.org/wiki/list_of_counties...\n",
       "7   north_carolina  https://en.wikipedia.org/wiki/list_of_counties...\n",
       "8             iowa  https://en.wikipedia.org/wiki/list_of_counties...\n",
       "9        tennessee  https://en.wikipedia.org/wiki/list_of_counties...\n",
       "10        nebraska  https://en.wikipedia.org/wiki/list_of_counties...\n",
       "11         indiana  https://en.wikipedia.org/wiki/list_of_counties...\n",
       "12            ohio  https://en.wikipedia.org/wiki/list_of_counties...\n",
       "13       minnesota  https://en.wikipedia.org/wiki/list_of_counties...\n",
       "14        michigan  https://en.wikipedia.org/wiki/list_of_counties...\n",
       "15     mississippi  https://en.wikipedia.org/wiki/list_of_counties...\n",
       "16     puerto_rico  https://en.wikipedia.org/wiki/list_of_counties...\n",
       "17        oklahoma  https://en.wikipedia.org/wiki/list_of_counties...\n",
       "18        arkansas  https://en.wikipedia.org/wiki/list_of_counties...\n",
       "19       wisconsin  https://en.wikipedia.org/wiki/list_of_counties..."
      ]
     },
     "execution_count": 14,
     "metadata": {},
     "output_type": "execute_result"
    }
   ],
   "source": [
    "# View few rows of the dataframe\n",
    "state_url_df.head()"
   ]
  },
  {
   "cell_type": "markdown",
   "id": "b1c79475-311e-499f-a88c-66b38d7f2a5a",
   "metadata": {},
   "source": [
    "##### Step2: Parse HTML from State level county urls to create a redabale county statistics dataframe\n",
    "\n",
    "The  state level urls are separate wikipedia pages. We need to parse each of these html pages to retrieve the needed statistics (population, area, main town, etc.) for each counties within the state."
   ]
  },
  {
   "cell_type": "code",
   "execution_count": 16,
   "id": "60e17bb0-b329-4814-b5b9-c3c036af753a",
   "metadata": {},
   "outputs": [],
   "source": [
    "# This function uses pandas read_html to read tables from the state level wikipedia pages\n",
    "\n",
    "def locate_correct_table(state, url):\n",
    "    data_found = False\n",
    "    return_df = None\n",
    "    state_data = pd.read_html(url)\n",
    "    for i in range(len(state_data)):\n",
    "        for cols in list(state_data[i].columns):\n",
    "        # if \"county\" in list(map(lambda x: str(x).lower(), list(state_data[i].columns))):\n",
    "            # return i\n",
    "            if str(cols).lower() == \"county\":\n",
    "                if len(state_data[i].index)> 0:\n",
    "                    # print(state_data[i].head())\n",
    "                    df = state_data[i]\n",
    "                    df[\"state\"] = state\n",
    "                    # print(df.head())\n",
    "                    return_df = df\n",
    "                    data_found = True\n",
    "                    break\n",
    "    return data_found, return_df"
   ]
  },
  {
   "cell_type": "code",
   "execution_count": 18,
   "id": "5e17b8f5-9900-46e5-990f-aad89a3a5fe2",
   "metadata": {},
   "outputs": [
    {
     "name": "stdout",
     "output_type": "stream",
     "text": [
      "county stats data retrived from Wikipedia for texas\n",
      "county stats data retrived from Wikipedia for georgia\n",
      "county stats data retrived from Wikipedia for virginia\n",
      "county stats data retrived from Wikipedia for kentucky\n",
      "county stats data retrived from Wikipedia for missouri\n",
      "county stats data retrived from Wikipedia for kansas\n",
      "county stats data retrived from Wikipedia for illinois\n",
      "county stats data retrived from Wikipedia for north_carolina\n",
      "county stats data retrived from Wikipedia for iowa\n",
      "county stats data retrived from Wikipedia for tennessee\n",
      "county stats data retrived from Wikipedia for nebraska\n",
      "county stats data retrived from Wikipedia for indiana\n",
      "county stats data retrived from Wikipedia for ohio\n",
      "county stats data retrived from Wikipedia for minnesota\n",
      "county stats data retrived from Wikipedia for michigan\n",
      "county stats data retrived from Wikipedia for mississippi\n",
      "county stats data retrived from Wikipedia for oklahoma\n",
      "county stats data retrived from Wikipedia for arkansas\n",
      "county stats data retrived from Wikipedia for wisconsin\n",
      "county stats data retrived from Wikipedia for alabama\n",
      "county stats data retrived from Wikipedia for florida\n",
      "county stats data retrived from Wikipedia for pennsylvania\n",
      "county stats data retrived from Wikipedia for south_dakota\n",
      "county stats data retrived from Wikipedia for colorado\n",
      "county stats data retrived from Wikipedia for new_york\n",
      "county stats data retrived from Wikipedia for california\n",
      "county stats data retrived from Wikipedia for montana\n",
      "county stats data retrived from Wikipedia for west_virginia\n",
      "county stats data retrived from Wikipedia for north_dakota\n",
      "county stats data retrived from Wikipedia for south_carolina\n",
      "county stats data retrived from Wikipedia for idaho\n",
      "county stats data retrived from Wikipedia for washington\n",
      "county stats data retrived from Wikipedia for oregon\n",
      "county stats data retrived from Wikipedia for new_mexico\n",
      "county stats data retrived from Wikipedia for utah\n",
      "county stats data retrived from Wikipedia for maryland\n",
      "county stats data retrived from Wikipedia for wyoming\n",
      "county stats data retrived from Wikipedia for new_jersey\n",
      "county stats data retrived from Wikipedia for nevada\n",
      "county stats data retrived from Wikipedia for maine\n",
      "county stats data retrived from Wikipedia for arizona\n",
      "county stats data retrived from Wikipedia for massachusetts\n",
      "county stats data retrived from Wikipedia for vermont\n",
      "county stats data retrived from Wikipedia for new_hampshire\n",
      "This state united_states does not have a county list, please ignore\n",
      "county stats data retrived from Wikipedia for connecticut\n",
      "This state american_samoa does not have a county list, please ignore\n",
      "county stats data retrived from Wikipedia for hawaii\n",
      "county stats data retrived from Wikipedia for rhode_island\n",
      "This state northern_mariana_islands does not have a county list, please ignore\n",
      "county stats data retrived from Wikipedia for delaware\n",
      "This state united_states_virgin_islands does not have a county list, please ignore\n",
      "county stats data retrived from Wikipedia for washington\n",
      "This state guam does not have a county list, please ignore\n"
     ]
    }
   ],
   "source": [
    "# Use state urls for each state in the dataframe created in Step 1 to retived the county statistics table using above user defined function.\n",
    "# each state county stats is stored as a dict where state is the key and county stats dataframe for that state is the value\n",
    "county_df_list = dict()\n",
    "for idx in state_url_df.index:\n",
    "    state = state_url_df[\"state\"][idx]\n",
    "    try:\n",
    "        flag, state_df = locate_correct_table(state,state_url_df[\"state_county_stat_url\"][idx])\n",
    "    except Exception as err:\n",
    "        if \"404\" in err.__str__().lower():\n",
    "            print(f\"This state {state} does not have a county list, please ignore\")\n",
    "        else:\n",
    "            raise\n",
    "    else:\n",
    "        if flag:\n",
    "            print(f\"county stats data retrived from Wikipedia for {state}\")\n",
    "            county_df_list[state] = state_df\n",
    "        "
   ]
  },
  {
   "cell_type": "code",
   "execution_count": 21,
   "id": "94a2f669-b1f8-4ffd-b323-10b675a9d01c",
   "metadata": {},
   "outputs": [
    {
     "data": {
      "text/html": [
       "<div>\n",
       "<style scoped>\n",
       "    .dataframe tbody tr th:only-of-type {\n",
       "        vertical-align: middle;\n",
       "    }\n",
       "\n",
       "    .dataframe tbody tr th {\n",
       "        vertical-align: top;\n",
       "    }\n",
       "\n",
       "    .dataframe thead th {\n",
       "        text-align: right;\n",
       "    }\n",
       "</style>\n",
       "<table border=\"1\" class=\"dataframe\">\n",
       "  <thead>\n",
       "    <tr style=\"text-align: right;\">\n",
       "      <th></th>\n",
       "      <th>County</th>\n",
       "      <th>FIPS code[10]</th>\n",
       "      <th>Seat[b][12]</th>\n",
       "      <th>Est.[12]</th>\n",
       "      <th>Origin[1]</th>\n",
       "      <th>Etymology[13]</th>\n",
       "      <th>Population[14]</th>\n",
       "      <th>Area[12]</th>\n",
       "      <th>Map</th>\n",
       "      <th>state</th>\n",
       "    </tr>\n",
       "  </thead>\n",
       "  <tbody>\n",
       "    <tr>\n",
       "      <th>0</th>\n",
       "      <td>Fairfield County</td>\n",
       "      <td>1</td>\n",
       "      <td>Bridgeport</td>\n",
       "      <td>1666</td>\n",
       "      <td>original county</td>\n",
       "      <td>From the hundreds of acres of salt marsh that ...</td>\n",
       "      <td>959768</td>\n",
       "      <td>626 sq mi (1,621 km2)</td>\n",
       "      <td>NaN</td>\n",
       "      <td>connecticut</td>\n",
       "    </tr>\n",
       "    <tr>\n",
       "      <th>1</th>\n",
       "      <td>Hartford County</td>\n",
       "      <td>3</td>\n",
       "      <td>Hartford</td>\n",
       "      <td>1666</td>\n",
       "      <td>original county</td>\n",
       "      <td>After Hertford, England (still said Hartford)</td>\n",
       "      <td>896854</td>\n",
       "      <td>736 sq mi (1,906 km2)</td>\n",
       "      <td>NaN</td>\n",
       "      <td>connecticut</td>\n",
       "    </tr>\n",
       "    <tr>\n",
       "      <th>2</th>\n",
       "      <td>Litchfield County</td>\n",
       "      <td>5</td>\n",
       "      <td>Litchfield</td>\n",
       "      <td>1751</td>\n",
       "      <td>From parts of Fairfield, Hartford and New Have...</td>\n",
       "      <td>City of Lichfield, Staffordshire, England</td>\n",
       "      <td>185000</td>\n",
       "      <td>920 sq mi (2,383 km2)</td>\n",
       "      <td>NaN</td>\n",
       "      <td>connecticut</td>\n",
       "    </tr>\n",
       "    <tr>\n",
       "      <th>3</th>\n",
       "      <td>Middlesex County</td>\n",
       "      <td>7</td>\n",
       "      <td>Middletown</td>\n",
       "      <td>1785</td>\n",
       "      <td>From parts of Hartford and New London Counties</td>\n",
       "      <td>Former county of Middlesex, England</td>\n",
       "      <td>164759</td>\n",
       "      <td>369 sq mi (956 km2)</td>\n",
       "      <td>NaN</td>\n",
       "      <td>connecticut</td>\n",
       "    </tr>\n",
       "    <tr>\n",
       "      <th>4</th>\n",
       "      <td>New Haven County</td>\n",
       "      <td>9</td>\n",
       "      <td>New Haven</td>\n",
       "      <td>1666</td>\n",
       "      <td>original county</td>\n",
       "      <td>After New Haven Colony, founded as a haven in ...</td>\n",
       "      <td>863700</td>\n",
       "      <td>606 sq mi (1,570 km2)</td>\n",
       "      <td>NaN</td>\n",
       "      <td>connecticut</td>\n",
       "    </tr>\n",
       "    <tr>\n",
       "      <th>5</th>\n",
       "      <td>New London County</td>\n",
       "      <td>11</td>\n",
       "      <td>New London</td>\n",
       "      <td>1666</td>\n",
       "      <td>original county</td>\n",
       "      <td>After London, England</td>\n",
       "      <td>268805</td>\n",
       "      <td>666 sq mi (1,725 km2)</td>\n",
       "      <td>NaN</td>\n",
       "      <td>connecticut</td>\n",
       "    </tr>\n",
       "    <tr>\n",
       "      <th>6</th>\n",
       "      <td>Tolland County</td>\n",
       "      <td>13</td>\n",
       "      <td>Rockville</td>\n",
       "      <td>1785</td>\n",
       "      <td>From parts of Hartford and Windham Counties</td>\n",
       "      <td>Hamlet of Tolland, Somerset, England</td>\n",
       "      <td>150293</td>\n",
       "      <td>410 sq mi (1,062 km2)</td>\n",
       "      <td>NaN</td>\n",
       "      <td>connecticut</td>\n",
       "    </tr>\n",
       "    <tr>\n",
       "      <th>7</th>\n",
       "      <td>Windham County</td>\n",
       "      <td>15</td>\n",
       "      <td>Willimantic</td>\n",
       "      <td>1726</td>\n",
       "      <td>From parts of Hartford and New London Counties</td>\n",
       "      <td>Either after Windham (now Wineham) in Sussex o...</td>\n",
       "      <td>116418</td>\n",
       "      <td>513 sq mi (1,329 km2)</td>\n",
       "      <td>NaN</td>\n",
       "      <td>connecticut</td>\n",
       "    </tr>\n",
       "  </tbody>\n",
       "</table>\n",
       "</div>"
      ],
      "text/plain": [
       "              County  FIPS code[10]  Seat[b][12]  Est.[12]  \\\n",
       "0   Fairfield County              1   Bridgeport      1666   \n",
       "1    Hartford County              3     Hartford      1666   \n",
       "2  Litchfield County              5   Litchfield      1751   \n",
       "3   Middlesex County              7   Middletown      1785   \n",
       "4   New Haven County              9    New Haven      1666   \n",
       "5  New London County             11   New London      1666   \n",
       "6     Tolland County             13    Rockville      1785   \n",
       "7     Windham County             15  Willimantic      1726   \n",
       "\n",
       "                                           Origin[1]  \\\n",
       "0                                    original county   \n",
       "1                                    original county   \n",
       "2  From parts of Fairfield, Hartford and New Have...   \n",
       "3     From parts of Hartford and New London Counties   \n",
       "4                                    original county   \n",
       "5                                    original county   \n",
       "6        From parts of Hartford and Windham Counties   \n",
       "7     From parts of Hartford and New London Counties   \n",
       "\n",
       "                                       Etymology[13]  Population[14]  \\\n",
       "0  From the hundreds of acres of salt marsh that ...          959768   \n",
       "1      After Hertford, England (still said Hartford)          896854   \n",
       "2          City of Lichfield, Staffordshire, England          185000   \n",
       "3                Former county of Middlesex, England          164759   \n",
       "4  After New Haven Colony, founded as a haven in ...          863700   \n",
       "5                              After London, England          268805   \n",
       "6               Hamlet of Tolland, Somerset, England          150293   \n",
       "7  Either after Windham (now Wineham) in Sussex o...          116418   \n",
       "\n",
       "                Area[12]  Map        state  \n",
       "0  626 sq mi (1,621 km2)  NaN  connecticut  \n",
       "1  736 sq mi (1,906 km2)  NaN  connecticut  \n",
       "2  920 sq mi (2,383 km2)  NaN  connecticut  \n",
       "3    369 sq mi (956 km2)  NaN  connecticut  \n",
       "4  606 sq mi (1,570 km2)  NaN  connecticut  \n",
       "5  666 sq mi (1,725 km2)  NaN  connecticut  \n",
       "6  410 sq mi (1,062 km2)  NaN  connecticut  \n",
       "7  513 sq mi (1,329 km2)  NaN  connecticut  "
      ]
     },
     "execution_count": 21,
     "metadata": {},
     "output_type": "execute_result"
    }
   ],
   "source": [
    "# Check if the dict has value for a state, say connecticut, to make sure the data is retrived & stored properly\n",
    "county_df_list[\"connecticut\"].head()"
   ]
  },
  {
   "cell_type": "markdown",
   "id": "1eb6c293-05a5-415e-8f07-9f2d7b82a46d",
   "metadata": {},
   "source": [
    "#### Step 3: Clean headers and convert to lower case without numbers\n",
    "\n",
    "The headers of the county stats table retrieved from state wikipedia webpages have blanks, numbers and special characters. We need to clean the headers to remove blanks, special charcters and convert to lower case for consistency. It will be easier and convinient to use and join tables with column names having same convention. "
   ]
  },
  {
   "cell_type": "code",
   "execution_count": 57,
   "id": "121ba081-82c9-4000-a6bc-d68972ba040b",
   "metadata": {},
   "outputs": [],
   "source": [
    "# This functions takes a dataframe as input and cleans the headers to convert to lower case, replace blanks with underscore. \n",
    "# Returns a dict of old header name as key and cleaned header name as value\n",
    "\n",
    "def clean_headers(df):\n",
    "    header_dict = dict()\n",
    "    for header in df.columns:\n",
    "        # print(header)\n",
    "        prog = re.compile(\"([a-z]+\\s*)+|[@#]+\")\n",
    "        try:\n",
    "            name = prog.match(header.lower()).group().strip().replace(\" \",\"_\")\n",
    "        except AttributeError:\n",
    "            print(\"Column name does not contain valid header, ignore\")\n",
    "        else:\n",
    "            header_dict[header] = name\n",
    "    df = df.rename(columns=header_dict)\n",
    "    # return header_dict\n",
    "    return df"
   ]
  },
  {
   "cell_type": "markdown",
   "id": "6346d0d4-a5ff-4198-9dd0-42583705c3a6",
   "metadata": {},
   "source": [
    "#### Step 4: Create a subset of only required columns from the website data\n",
    "\n",
    "The county statistics for state web page has multiple columns. Create a subset of the data to keep only the needed columns."
   ]
  },
  {
   "cell_type": "code",
   "execution_count": null,
   "id": "a3a0c282-3970-4fad-ad24-5dd40bed8464",
   "metadata": {},
   "outputs": [],
   "source": [
    "# List of needed columns\n",
    "col_list = [\"county\",\"county_seat\",\"fips_code\",\"population\",\"area\",\"state\"]"
   ]
  },
  {
   "cell_type": "code",
   "execution_count": 64,
   "id": "40fd163e-5921-4cb1-8c42-8e60820cb079",
   "metadata": {},
   "outputs": [],
   "source": [
    "# This function extract only needed columns. Population is a mandatory column for our study.\n",
    "def create_df_subset(df, col_list):\n",
    "    return_df = None\n",
    "    population_data_present = False\n",
    "    if \"population\" in df.columns:\n",
    "        keep_cols = []\n",
    "        for cols in col_list:\n",
    "            if cols in df.columns:\n",
    "                keep_cols.append(cols)\n",
    "            else:\n",
    "                print(f\"column {cols} not present in dataframe\")\n",
    "                # print(df.head())\n",
    "        if keep_cols:\n",
    "            return_df = df[keep_cols]\n",
    "            population_data_present = True\n",
    "        else:\n",
    "            print(f\"No matching columns in dataframe\")\n",
    "    return population_data_present, return_df"
   ]
  },
  {
   "cell_type": "code",
   "execution_count": 68,
   "id": "77fcfd8e-8f08-4060-b585-6d8ca3dd78e6",
   "metadata": {},
   "outputs": [
    {
     "name": "stdout",
     "output_type": "stream",
     "text": [
      "column area not present in dataframe\n",
      "column county_seat not present in dataframe\n",
      "column county_seat not present in dataframe\n",
      "column county_seat not present in dataframe\n",
      "column county_seat not present in dataframe\n"
     ]
    }
   ],
   "source": [
    "# Apply the transforms using the function in Step 3 and Step 4 to each state and return as list of dataframes representing each state \n",
    "\n",
    "cleaned_df_list = []\n",
    "for state, each_df in county_df_list.items():   \n",
    "    # Apply step 3 transforms\n",
    "    cleaned_header_df = clean_headers(each_df)\n",
    "    # Apply step 4 transforms\n",
    "    success_flag, subset_df = create_df_subset(cleaned_header_df, col_list)\n",
    "    if success_flag:\n",
    "        cleaned_df_list.append(subset_df)"
   ]
  },
  {
   "cell_type": "code",
   "execution_count": 69,
   "id": "5cb564c0-8377-426c-83a0-9db158ae1eaa",
   "metadata": {
    "scrolled": true
   },
   "outputs": [
    {
     "data": {
      "text/plain": [
       "38"
      ]
     },
     "execution_count": 69,
     "metadata": {},
     "output_type": "execute_result"
    }
   ],
   "source": [
    "# check the number of states in cleaned data\n",
    "len(cleaned_df_list)"
   ]
  },
  {
   "cell_type": "markdown",
   "id": "44a4dcbd-bacd-43ea-895f-0f8a4c4c5f26",
   "metadata": {},
   "source": [
    "#### Step 5 : Concat each state county statistics to a single dataframe\n",
    "\n",
    "At this point we have all county for each state are separately stored in seprate dataframes. We need to concat these dataframes to form a single dataframe for further use."
   ]
  },
  {
   "cell_type": "code",
   "execution_count": 70,
   "id": "d6f9ceca-b830-4846-ba65-a7c45020202c",
   "metadata": {},
   "outputs": [
    {
     "name": "stdout",
     "output_type": "stream",
     "text": [
      "(254, 6)\n",
      "(413, 6)\n",
      "(508, 6)\n",
      "(628, 6)\n",
      "(743, 6)\n",
      "(845, 6)\n",
      "(944, 6)\n",
      "(1039, 6)\n",
      "(1132, 6)\n",
      "(1224, 6)\n",
      "(1311, 6)\n",
      "(1394, 6)\n",
      "(1476, 6)\n",
      "(1553, 6)\n",
      "(1628, 6)\n",
      "(1700, 6)\n",
      "(1767, 6)\n",
      "(1770, 6)\n",
      "(1836, 6)\n",
      "(1894, 6)\n",
      "(1950, 6)\n",
      "(2005, 6)\n",
      "(2058, 6)\n",
      "(2104, 6)\n",
      "(2148, 6)\n",
      "(2187, 6)\n",
      "(2223, 6)\n",
      "(2252, 6)\n",
      "(2275, 6)\n",
      "(2292, 6)\n",
      "(2308, 6)\n",
      "(2323, 6)\n",
      "(2337, 6)\n",
      "(2347, 6)\n",
      "(2355, 6)\n",
      "(2360, 6)\n",
      "(2365, 6)\n",
      "(2368, 6)\n"
     ]
    }
   ],
   "source": [
    "#concat\n",
    "concated_df = pd.DataFrame(columns=[\"county\",\"county_seat\",\"fips_code\",\"population\",\"area\",\"state\"])\n",
    "for each_df in cleaned_df_list:\n",
    "    concated_df = pd.concat([concated_df,each_df], ignore_index=True)"
   ]
  },
  {
   "cell_type": "code",
   "execution_count": 71,
   "id": "08077649-9139-46bf-a68a-7e7ef6faa1af",
   "metadata": {},
   "outputs": [
    {
     "data": {
      "text/html": [
       "<div>\n",
       "<style scoped>\n",
       "    .dataframe tbody tr th:only-of-type {\n",
       "        vertical-align: middle;\n",
       "    }\n",
       "\n",
       "    .dataframe tbody tr th {\n",
       "        vertical-align: top;\n",
       "    }\n",
       "\n",
       "    .dataframe thead th {\n",
       "        text-align: right;\n",
       "    }\n",
       "</style>\n",
       "<table border=\"1\" class=\"dataframe\">\n",
       "  <thead>\n",
       "    <tr style=\"text-align: right;\">\n",
       "      <th></th>\n",
       "      <th>county</th>\n",
       "      <th>county_seat</th>\n",
       "      <th>fips_code</th>\n",
       "      <th>population</th>\n",
       "      <th>area</th>\n",
       "      <th>state</th>\n",
       "    </tr>\n",
       "  </thead>\n",
       "  <tbody>\n",
       "    <tr>\n",
       "      <th>0</th>\n",
       "      <td>Anderson County</td>\n",
       "      <td>Palestine</td>\n",
       "      <td>1</td>\n",
       "      <td>58064</td>\n",
       "      <td>1,071 sq mi (2,774 km2)</td>\n",
       "      <td>texas</td>\n",
       "    </tr>\n",
       "    <tr>\n",
       "      <th>1</th>\n",
       "      <td>Andrews County</td>\n",
       "      <td>Andrews</td>\n",
       "      <td>3</td>\n",
       "      <td>18334</td>\n",
       "      <td>1,501 sq mi (3,888 km2)</td>\n",
       "      <td>texas</td>\n",
       "    </tr>\n",
       "    <tr>\n",
       "      <th>2</th>\n",
       "      <td>Angelina County</td>\n",
       "      <td>Lufkin</td>\n",
       "      <td>5</td>\n",
       "      <td>87101</td>\n",
       "      <td>802 sq mi (2,077 km2)</td>\n",
       "      <td>texas</td>\n",
       "    </tr>\n",
       "    <tr>\n",
       "      <th>3</th>\n",
       "      <td>Aransas County</td>\n",
       "      <td>Rockport</td>\n",
       "      <td>7</td>\n",
       "      <td>24944</td>\n",
       "      <td>252 sq mi (653 km2)</td>\n",
       "      <td>texas</td>\n",
       "    </tr>\n",
       "    <tr>\n",
       "      <th>4</th>\n",
       "      <td>Archer County</td>\n",
       "      <td>Archer City</td>\n",
       "      <td>9</td>\n",
       "      <td>8835</td>\n",
       "      <td>910 sq mi (2,357 km2)</td>\n",
       "      <td>texas</td>\n",
       "    </tr>\n",
       "  </tbody>\n",
       "</table>\n",
       "</div>"
      ],
      "text/plain": [
       "            county  county_seat fips_code population                     area  \\\n",
       "0  Anderson County    Palestine         1      58064  1,071 sq mi (2,774 km2)   \n",
       "1   Andrews County      Andrews         3      18334  1,501 sq mi (3,888 km2)   \n",
       "2  Angelina County       Lufkin         5      87101    802 sq mi (2,077 km2)   \n",
       "3   Aransas County     Rockport         7      24944      252 sq mi (653 km2)   \n",
       "4    Archer County  Archer City         9       8835    910 sq mi (2,357 km2)   \n",
       "\n",
       "   state  \n",
       "0  texas  \n",
       "1  texas  \n",
       "2  texas  \n",
       "3  texas  \n",
       "4  texas  "
      ]
     },
     "execution_count": 71,
     "metadata": {},
     "output_type": "execute_result"
    }
   ],
   "source": [
    "# view few rows of the concated data\n",
    "concated_df.head()"
   ]
  },
  {
   "cell_type": "markdown",
   "id": "1aabf202-7328-4e5c-b734-c28a05506bf0",
   "metadata": {},
   "source": [
    "#### Step 6 : Convert county names, county_seat to lowercase and clean county names\n",
    "\n",
    "County names are stored with the word 'County' along with its name. Lets remove the County work and keep only county name as it will be problematic when joining on county with other datasets. Also, it is better to convert and store string values in lower case for consistency. We can always convert to needed case when showing in visualizations."
   ]
  },
  {
   "cell_type": "code",
   "execution_count": 168,
   "id": "e613e7bd-a568-42ac-be1d-0aac40090a74",
   "metadata": {},
   "outputs": [],
   "source": [
    "concated_df[\"county\"] = concated_df[\"county\"].str.lower()\n",
    "concated_df[\"county_seat\"] = concated_df[\"county_seat\"].str.lower()"
   ]
  },
  {
   "cell_type": "code",
   "execution_count": 170,
   "id": "d6238a36-da24-4f72-a694-99f769542d5d",
   "metadata": {},
   "outputs": [],
   "source": [
    "concated_df[\"county\"] = concated_df[\"county\"].str.replace(\" county\", \"\")"
   ]
  },
  {
   "cell_type": "code",
   "execution_count": 171,
   "id": "257e6a26-9434-4815-bcea-ab78ee4ef449",
   "metadata": {},
   "outputs": [
    {
     "data": {
      "text/html": [
       "<div>\n",
       "<style scoped>\n",
       "    .dataframe tbody tr th:only-of-type {\n",
       "        vertical-align: middle;\n",
       "    }\n",
       "\n",
       "    .dataframe tbody tr th {\n",
       "        vertical-align: top;\n",
       "    }\n",
       "\n",
       "    .dataframe thead th {\n",
       "        text-align: right;\n",
       "    }\n",
       "</style>\n",
       "<table border=\"1\" class=\"dataframe\">\n",
       "  <thead>\n",
       "    <tr style=\"text-align: right;\">\n",
       "      <th></th>\n",
       "      <th>county</th>\n",
       "      <th>county_seat</th>\n",
       "      <th>fips_code</th>\n",
       "      <th>population</th>\n",
       "      <th>area</th>\n",
       "      <th>state</th>\n",
       "    </tr>\n",
       "  </thead>\n",
       "  <tbody>\n",
       "    <tr>\n",
       "      <th>0</th>\n",
       "      <td>anderson</td>\n",
       "      <td>palestine</td>\n",
       "      <td>1</td>\n",
       "      <td>58064</td>\n",
       "      <td>1071</td>\n",
       "      <td>texas</td>\n",
       "    </tr>\n",
       "    <tr>\n",
       "      <th>1</th>\n",
       "      <td>andrews</td>\n",
       "      <td>andrews</td>\n",
       "      <td>3</td>\n",
       "      <td>18334</td>\n",
       "      <td>1501</td>\n",
       "      <td>texas</td>\n",
       "    </tr>\n",
       "    <tr>\n",
       "      <th>2</th>\n",
       "      <td>angelina</td>\n",
       "      <td>lufkin</td>\n",
       "      <td>5</td>\n",
       "      <td>87101</td>\n",
       "      <td>802</td>\n",
       "      <td>texas</td>\n",
       "    </tr>\n",
       "    <tr>\n",
       "      <th>3</th>\n",
       "      <td>aransas</td>\n",
       "      <td>rockport</td>\n",
       "      <td>7</td>\n",
       "      <td>24944</td>\n",
       "      <td>252</td>\n",
       "      <td>texas</td>\n",
       "    </tr>\n",
       "    <tr>\n",
       "      <th>4</th>\n",
       "      <td>archer</td>\n",
       "      <td>archer city</td>\n",
       "      <td>9</td>\n",
       "      <td>8835</td>\n",
       "      <td>910</td>\n",
       "      <td>texas</td>\n",
       "    </tr>\n",
       "  </tbody>\n",
       "</table>\n",
       "</div>"
      ],
      "text/plain": [
       "     county  county_seat fips_code population  area  state\n",
       "0  anderson    palestine         1      58064  1071  texas\n",
       "1   andrews      andrews         3      18334  1501  texas\n",
       "2  angelina       lufkin         5      87101   802  texas\n",
       "3   aransas     rockport         7      24944   252  texas\n",
       "4    archer  archer city         9       8835   910  texas"
      ]
     },
     "execution_count": 171,
     "metadata": {},
     "output_type": "execute_result"
    }
   ],
   "source": [
    "# view few rows after transformation\n",
    "concated_df.head()"
   ]
  },
  {
   "cell_type": "markdown",
   "id": "b1db0f81-68ff-4bf7-b500-0187121f7d36",
   "metadata": {},
   "source": [
    "#### Step 7 : Fill missing values and remove duplicates.\n",
    "\n",
    "Check for presence of missing data and duplicate in columns. lets fill missing values and drop duplicate rows as those will skew the findings."
   ]
  },
  {
   "cell_type": "code",
   "execution_count": 172,
   "id": "9b04776a-335d-4bca-8ebc-bbb2fb6a5499",
   "metadata": {},
   "outputs": [
    {
     "data": {
      "text/plain": [
       "county          0\n",
       "county_seat    46\n",
       "fips_code       0\n",
       "population      0\n",
       "area           39\n",
       "state           0\n",
       "dtype: int64"
      ]
     },
     "execution_count": 172,
     "metadata": {},
     "output_type": "execute_result"
    }
   ],
   "source": [
    "concated_df.isna().sum()"
   ]
  },
  {
   "cell_type": "markdown",
   "id": "1713f749-0615-4b7e-950a-cc4052cfb6db",
   "metadata": {},
   "source": [
    "We see that `county_seat` column has 46 nulls, lets check few rows with such nulls. "
   ]
  },
  {
   "cell_type": "code",
   "execution_count": 173,
   "id": "da4ffa84-9276-4b2b-94ea-0559dfb94ecf",
   "metadata": {},
   "outputs": [
    {
     "data": {
      "text/html": [
       "<div>\n",
       "<style scoped>\n",
       "    .dataframe tbody tr th:only-of-type {\n",
       "        vertical-align: middle;\n",
       "    }\n",
       "\n",
       "    .dataframe tbody tr th {\n",
       "        vertical-align: top;\n",
       "    }\n",
       "\n",
       "    .dataframe thead th {\n",
       "        text-align: right;\n",
       "    }\n",
       "</style>\n",
       "<table border=\"1\" class=\"dataframe\">\n",
       "  <thead>\n",
       "    <tr style=\"text-align: right;\">\n",
       "      <th></th>\n",
       "      <th>county</th>\n",
       "      <th>county_seat</th>\n",
       "      <th>fips_code</th>\n",
       "      <th>population</th>\n",
       "      <th>area</th>\n",
       "      <th>state</th>\n",
       "    </tr>\n",
       "  </thead>\n",
       "  <tbody>\n",
       "    <tr>\n",
       "      <th>1820</th>\n",
       "      <td>oglala lakota</td>\n",
       "      <td>NaN</td>\n",
       "      <td>102</td>\n",
       "      <td>13519</td>\n",
       "      <td>2094</td>\n",
       "      <td>south_dakota</td>\n",
       "    </tr>\n",
       "    <tr>\n",
       "      <th>1829</th>\n",
       "      <td>todd</td>\n",
       "      <td>NaN</td>\n",
       "      <td>121</td>\n",
       "      <td>9220</td>\n",
       "      <td>1388</td>\n",
       "      <td>south_dakota</td>\n",
       "    </tr>\n",
       "    <tr>\n",
       "      <th>2292</th>\n",
       "      <td>androscoggin</td>\n",
       "      <td>NaN</td>\n",
       "      <td>1</td>\n",
       "      <td>113023</td>\n",
       "      <td>497</td>\n",
       "      <td>maine</td>\n",
       "    </tr>\n",
       "    <tr>\n",
       "      <th>2293</th>\n",
       "      <td>aroostook</td>\n",
       "      <td>NaN</td>\n",
       "      <td>3</td>\n",
       "      <td>67255</td>\n",
       "      <td>6829</td>\n",
       "      <td>maine</td>\n",
       "    </tr>\n",
       "    <tr>\n",
       "      <th>2294</th>\n",
       "      <td>cumberland</td>\n",
       "      <td>NaN</td>\n",
       "      <td>5</td>\n",
       "      <td>307451</td>\n",
       "      <td>1217</td>\n",
       "      <td>maine</td>\n",
       "    </tr>\n",
       "  </tbody>\n",
       "</table>\n",
       "</div>"
      ],
      "text/plain": [
       "             county county_seat fips_code population  area         state\n",
       "1820  oglala lakota         NaN       102      13519  2094  south_dakota\n",
       "1829           todd         NaN       121       9220  1388  south_dakota\n",
       "2292   androscoggin         NaN         1     113023   497         maine\n",
       "2293      aroostook         NaN         3      67255  6829         maine\n",
       "2294     cumberland         NaN         5     307451  1217         maine"
      ]
     },
     "execution_count": 173,
     "metadata": {},
     "output_type": "execute_result"
    }
   ],
   "source": [
    "concated_df[concated_df[\"county_seat\"].isna()].head()"
   ]
  },
  {
   "cell_type": "code",
   "execution_count": 2,
   "id": "03bf0138-12dd-4ddf-b19e-05814a749ecf",
   "metadata": {},
   "outputs": [
    {
     "ename": "NameError",
     "evalue": "name 'concated_df' is not defined",
     "output_type": "error",
     "traceback": [
      "\u001b[1;31m---------------------------------------------------------------------------\u001b[0m",
      "\u001b[1;31mNameError\u001b[0m                                 Traceback (most recent call last)",
      "Cell \u001b[1;32mIn[2], line 2\u001b[0m\n\u001b[0;32m      1\u001b[0m \u001b[38;5;66;03m# Most likely there is no separate county seat name for these counties where the county_seat is missing. Therefore, we can fill the county_seatwith county name\u001b[39;00m\n\u001b[1;32m----> 2\u001b[0m concated_df[\u001b[38;5;124m\"\u001b[39m\u001b[38;5;124mcounty_seat\u001b[39m\u001b[38;5;124m\"\u001b[39m] \u001b[38;5;241m=\u001b[39m \u001b[43mconcated_df\u001b[49m[\u001b[38;5;124m\"\u001b[39m\u001b[38;5;124mcounty_seat\u001b[39m\u001b[38;5;124m\"\u001b[39m]\u001b[38;5;241m.\u001b[39mfillna(concated_df[\u001b[38;5;124m\"\u001b[39m\u001b[38;5;124mcounty\u001b[39m\u001b[38;5;124m\"\u001b[39m])\n",
      "\u001b[1;31mNameError\u001b[0m: name 'concated_df' is not defined"
     ]
    }
   ],
   "source": [
    "# Most likely there is no separate county seat name for these counties where the county_seat is missing. \n",
    "# Therefore, we can fill the county_seat with county name\n",
    "concated_df[\"county_seat\"] = concated_df[\"county_seat\"].fillna(concated_df[\"county\"])"
   ]
  },
  {
   "cell_type": "code",
   "execution_count": null,
   "id": "e1a14f48-3932-47e1-9f33-e09429fef457",
   "metadata": {},
   "outputs": [],
   "source": [
    "We see that `area` column has 39 nulls, lets check few rows with such nulls. "
   ]
  },
  {
   "cell_type": "code",
   "execution_count": null,
   "id": "11110555-6182-4ed8-acfe-6b2ad425b916",
   "metadata": {},
   "outputs": [],
   "source": [
    "concated_df[concated_df[\"area\"].isna()].head()"
   ]
  },
  {
   "cell_type": "code",
   "execution_count": null,
   "id": "aba32245-7f0c-4b27-b6f5-fc9ef4d18fec",
   "metadata": {},
   "outputs": [],
   "source": [
    "# Lets check which state has the county area has null\n",
    "concated_df[concated_df[\"area\"].isna()].groupby(\"state\").count()[\"county\"]"
   ]
  },
  {
   "cell_type": "code",
   "execution_count": null,
   "id": "06389773-c68d-427c-afd7-ee2eae139757",
   "metadata": {},
   "outputs": [],
   "source": [
    "We see that `area` column nulls for `Washington` state. "
   ]
  },
  {
   "cell_type": "code",
   "execution_count": null,
   "id": "8c3dc3a0-4818-4e40-94fe-b7646162a21b",
   "metadata": {},
   "outputs": [],
   "source": [
    "# The Nulls in `area` column will be filled with average value of county area from Washington state.\n",
    "county_area_mean_WA = concated_df[concated_df[\"state\"] == \"washington\"\n",
    "concated_df[\"area\"] = concated_df[\"area\"].fillna(county_area_mean_WA)"
   ]
  },
  {
   "cell_type": "code",
   "execution_count": 177,
   "id": "ccbb4739-31c8-49f3-9c45-defbc28f5437",
   "metadata": {},
   "outputs": [
    {
     "data": {
      "text/html": [
       "<div>\n",
       "<style scoped>\n",
       "    .dataframe tbody tr th:only-of-type {\n",
       "        vertical-align: middle;\n",
       "    }\n",
       "\n",
       "    .dataframe tbody tr th {\n",
       "        vertical-align: top;\n",
       "    }\n",
       "\n",
       "    .dataframe thead th {\n",
       "        text-align: right;\n",
       "    }\n",
       "</style>\n",
       "<table border=\"1\" class=\"dataframe\">\n",
       "  <thead>\n",
       "    <tr style=\"text-align: right;\">\n",
       "      <th></th>\n",
       "      <th>county</th>\n",
       "      <th>county_seat</th>\n",
       "      <th>fips_code</th>\n",
       "      <th>population</th>\n",
       "      <th>area</th>\n",
       "      <th>state</th>\n",
       "    </tr>\n",
       "  </thead>\n",
       "  <tbody>\n",
       "    <tr>\n",
       "      <th>0</th>\n",
       "      <td>anderson</td>\n",
       "      <td>palestine</td>\n",
       "      <td>1</td>\n",
       "      <td>58064</td>\n",
       "      <td>1071</td>\n",
       "      <td>texas</td>\n",
       "    </tr>\n",
       "    <tr>\n",
       "      <th>1</th>\n",
       "      <td>andrews</td>\n",
       "      <td>andrews</td>\n",
       "      <td>3</td>\n",
       "      <td>18334</td>\n",
       "      <td>1501</td>\n",
       "      <td>texas</td>\n",
       "    </tr>\n",
       "    <tr>\n",
       "      <th>2</th>\n",
       "      <td>angelina</td>\n",
       "      <td>lufkin</td>\n",
       "      <td>5</td>\n",
       "      <td>87101</td>\n",
       "      <td>802</td>\n",
       "      <td>texas</td>\n",
       "    </tr>\n",
       "    <tr>\n",
       "      <th>3</th>\n",
       "      <td>aransas</td>\n",
       "      <td>rockport</td>\n",
       "      <td>7</td>\n",
       "      <td>24944</td>\n",
       "      <td>252</td>\n",
       "      <td>texas</td>\n",
       "    </tr>\n",
       "    <tr>\n",
       "      <th>4</th>\n",
       "      <td>archer</td>\n",
       "      <td>archer city</td>\n",
       "      <td>9</td>\n",
       "      <td>8835</td>\n",
       "      <td>910</td>\n",
       "      <td>texas</td>\n",
       "    </tr>\n",
       "  </tbody>\n",
       "</table>\n",
       "</div>"
      ],
      "text/plain": [
       "     county  county_seat fips_code population  area  state\n",
       "0  anderson    palestine         1      58064  1071  texas\n",
       "1   andrews      andrews         3      18334  1501  texas\n",
       "2  angelina       lufkin         5      87101   802  texas\n",
       "3   aransas     rockport         7      24944   252  texas\n",
       "4    archer  archer city         9       8835   910  texas"
      ]
     },
     "execution_count": 177,
     "metadata": {},
     "output_type": "execute_result"
    }
   ],
   "source": [
    "concated_df.head()"
   ]
  },
  {
   "cell_type": "markdown",
   "id": "4e072f07-1872-485f-accc-4170e3546985",
   "metadata": {},
   "source": [
    "#### Step 8 : Clean Area column to keep values only in square miles\n",
    "\n",
    "Area column has both county area value in square miles and square kms. Lets keep only square miles value numerical format in this column."
   ]
  },
  {
   "cell_type": "code",
   "execution_count": 145,
   "id": "10c447a3-360b-441c-b62b-73df160a3575",
   "metadata": {},
   "outputs": [],
   "source": [
    "# This function takes the string in area column and cleans it to return the square miles as a number\n",
    "# e.g. 1,071 sq mi (2,774 km2) >> 1071\n",
    "\n",
    "def clean_area(area_str):\n",
    "    area = area_str\n",
    "    prog = re.compile(r\"([0-9,]+)\\s*\")\n",
    "    # prog = re.compile(r\"([0-9]+,[0-9]+)+\")\n",
    "    if area_str:\n",
    "        if isinstance(area_str,str):\n",
    "            try:\n",
    "                area = prog.match(area_str).group(1)\n",
    "                area = area.replace(\",\",\"\")\n",
    "            except AttributeError:\n",
    "                area = None\n",
    "    return area\n",
    "        "
   ]
  },
  {
   "cell_type": "code",
   "execution_count": 149,
   "id": "9f9a10f1-aea2-44a8-aeec-64d4ac56e8d6",
   "metadata": {},
   "outputs": [],
   "source": [
    "# clean area column using the user defined function\n",
    "concated_df[\"area_mod\"] = concated_df[\"area\"].apply(clean_area)\n",
    "concated_df[\"area\"] = concated_df[\"area_mod\"]\n",
    "concated_df = concated_df.drop(columns=[\"area_mod\"])"
   ]
  },
  {
   "cell_type": "code",
   "execution_count": 180,
   "id": "6a7475ee-5f9d-47a7-beed-57dcbc026954",
   "metadata": {},
   "outputs": [
    {
     "data": {
      "text/html": [
       "<div>\n",
       "<style scoped>\n",
       "    .dataframe tbody tr th:only-of-type {\n",
       "        vertical-align: middle;\n",
       "    }\n",
       "\n",
       "    .dataframe tbody tr th {\n",
       "        vertical-align: top;\n",
       "    }\n",
       "\n",
       "    .dataframe thead th {\n",
       "        text-align: right;\n",
       "    }\n",
       "</style>\n",
       "<table border=\"1\" class=\"dataframe\">\n",
       "  <thead>\n",
       "    <tr style=\"text-align: right;\">\n",
       "      <th></th>\n",
       "      <th>county</th>\n",
       "      <th>county_seat</th>\n",
       "      <th>fips_code</th>\n",
       "      <th>population</th>\n",
       "      <th>area</th>\n",
       "      <th>state</th>\n",
       "    </tr>\n",
       "  </thead>\n",
       "  <tbody>\n",
       "    <tr>\n",
       "      <th>0</th>\n",
       "      <td>anderson</td>\n",
       "      <td>palestine</td>\n",
       "      <td>1</td>\n",
       "      <td>58064</td>\n",
       "      <td>1071</td>\n",
       "      <td>texas</td>\n",
       "    </tr>\n",
       "    <tr>\n",
       "      <th>1</th>\n",
       "      <td>andrews</td>\n",
       "      <td>andrews</td>\n",
       "      <td>3</td>\n",
       "      <td>18334</td>\n",
       "      <td>1501</td>\n",
       "      <td>texas</td>\n",
       "    </tr>\n",
       "    <tr>\n",
       "      <th>2</th>\n",
       "      <td>angelina</td>\n",
       "      <td>lufkin</td>\n",
       "      <td>5</td>\n",
       "      <td>87101</td>\n",
       "      <td>802</td>\n",
       "      <td>texas</td>\n",
       "    </tr>\n",
       "    <tr>\n",
       "      <th>3</th>\n",
       "      <td>aransas</td>\n",
       "      <td>rockport</td>\n",
       "      <td>7</td>\n",
       "      <td>24944</td>\n",
       "      <td>252</td>\n",
       "      <td>texas</td>\n",
       "    </tr>\n",
       "    <tr>\n",
       "      <th>4</th>\n",
       "      <td>archer</td>\n",
       "      <td>archer city</td>\n",
       "      <td>9</td>\n",
       "      <td>8835</td>\n",
       "      <td>910</td>\n",
       "      <td>texas</td>\n",
       "    </tr>\n",
       "  </tbody>\n",
       "</table>\n",
       "</div>"
      ],
      "text/plain": [
       "     county  county_seat fips_code population  area  state\n",
       "0  anderson    palestine         1      58064  1071  texas\n",
       "1   andrews      andrews         3      18334  1501  texas\n",
       "2  angelina       lufkin         5      87101   802  texas\n",
       "3   aransas     rockport         7      24944   252  texas\n",
       "4    archer  archer city         9       8835   910  texas"
      ]
     },
     "execution_count": 180,
     "metadata": {},
     "output_type": "execute_result"
    }
   ],
   "source": [
    "# View few rows of the cleaned website data to be used in further analysis\n",
    "concated_df.head()"
   ]
  },
  {
   "cell_type": "code",
   "execution_count": 76,
   "id": "3cb7c0f4-147b-4564-bd22-d3d992588b2b",
   "metadata": {},
   "outputs": [],
   "source": [
    "# As multiple website pages were parsed to create the cleaned website data, it is better store it locally as csv as a backup.\n",
    "concated_df.to_csv(\"./datasets/county_stats.csv\",index=False)"
   ]
  },
  {
   "cell_type": "markdown",
   "id": "5f0e0fc4-ce5f-4d7f-8e7c-1a96401351ec",
   "metadata": {},
   "source": [
    "#### Ethical Implications\n",
    "\n",
    "The Wikipedia website pages used for this study do not contain personally identifiable data, and there is no risk of data privacy breaches. Wikipedia grants permission to use and distribute the content under [_Creative Commons Attribution-ShareAlike 4.0 International License_][1] and, unless otherwise noted, the [_GNU Free Documentation License_][2] (Wikipedia, n.d.). Some counties do not have _conty seat name_ available in the website data. It is assumed that county names for such counties are same as the county names and hence there is no separate county seat name available. This might not be true assumption. The nulls in _county area_ for washington column is filled with average value of county area of the Washington state, which might not be a accurate representation of the actual county area for those counties. Hence, the tarnsformed datasets after applying the above data wrangling steps may not be an actual representation of the population and the outcomes of this study should be used with this awareness and diligence.\n",
    "\n",
    "[1]: https://en.wikipedia.org/wiki/Wikipedia:Text_of_the_Creative_Commons_Attribution-ShareAlike_4.0_International_License)\n",
    "[2]: https://en.wikipedia.org/wiki/Wikipedia:Text_of_the_GNU_Free_Documentation_License)"
   ]
  },
  {
   "cell_type": "markdown",
   "id": "3ceee83f-34d3-4616-a9d9-87809ac27c3c",
   "metadata": {},
   "source": [
    "## References\n",
    "About BRFSS. (n.d.). _CDC_. **https://www.cdc.gov/brfss/about/index.htm**\n",
    "\n",
    "Wikipedia:Copyrights. (n.d.). _Wikipedia_. **https://en.wikipedia.org/wiki/Wikipedia:Copyrights**\n"
   ]
  },
  {
   "cell_type": "code",
   "execution_count": null,
   "id": "2ff71aaf-4dff-4438-a0cd-baaf8f4a1970",
   "metadata": {},
   "outputs": [],
   "source": []
  }
 ],
 "metadata": {
  "kernelspec": {
   "display_name": "Python 3 (ipykernel)",
   "language": "python",
   "name": "python3"
  },
  "language_info": {
   "codemirror_mode": {
    "name": "ipython",
    "version": 3
   },
   "file_extension": ".py",
   "mimetype": "text/x-python",
   "name": "python",
   "nbconvert_exporter": "python",
   "pygments_lexer": "ipython3",
   "version": "3.11.4"
  }
 },
 "nbformat": 4,
 "nbformat_minor": 5
}
