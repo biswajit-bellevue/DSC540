{
 "cells": [
  {
   "cell_type": "code",
   "execution_count": 1,
   "id": "63f61410-b75b-4184-9f93-3b42a99305e4",
   "metadata": {},
   "outputs": [],
   "source": [
    "import numpy as np\n",
    "import pandas as pd"
   ]
  },
  {
   "cell_type": "code",
   "execution_count": 2,
   "id": "8bc114f7-d9ea-4eae-8ff4-bc4a882d781b",
   "metadata": {},
   "outputs": [
    {
     "data": {
      "text/plain": [
       "array([ 2,  3,  4,  5,  6,  7,  8,  9, 10, 11, 12, 13, 14, 15, 16, 17, 18,\n",
       "       19])"
      ]
     },
     "execution_count": 2,
     "metadata": {},
     "output_type": "execute_result"
    }
   ],
   "source": [
    "np.arange(2,20)"
   ]
  },
  {
   "cell_type": "code",
   "execution_count": 3,
   "id": "49c894b5-14f2-4069-921e-a2d9dd9fd0e0",
   "metadata": {},
   "outputs": [
    {
     "data": {
      "text/plain": [
       "numpy.ndarray"
      ]
     },
     "execution_count": 3,
     "metadata": {},
     "output_type": "execute_result"
    }
   ],
   "source": [
    "type(np.arange(2,20))"
   ]
  },
  {
   "cell_type": "code",
   "execution_count": 8,
   "id": "82d8b679-a000-427f-8fc8-53f47e61b79e",
   "metadata": {},
   "outputs": [],
   "source": [
    "data = np.random.randint(1,20,(4,5))"
   ]
  },
  {
   "cell_type": "code",
   "execution_count": 9,
   "id": "cc94aef3-76e8-4633-a95e-8d0af9a77217",
   "metadata": {},
   "outputs": [
    {
     "data": {
      "text/plain": [
       "array([[ 7,  7, 11,  6,  5],\n",
       "       [16,  5, 13,  3, 10],\n",
       "       [ 5,  6, 18,  7, 17],\n",
       "       [ 3, 19, 14, 16, 10]])"
      ]
     },
     "execution_count": 9,
     "metadata": {},
     "output_type": "execute_result"
    }
   ],
   "source": [
    "data"
   ]
  },
  {
   "cell_type": "code",
   "execution_count": 12,
   "id": "bebb74a0-3923-49a3-a20f-2e7db9d04810",
   "metadata": {},
   "outputs": [
    {
     "data": {
      "text/plain": [
       "3"
      ]
     },
     "execution_count": 12,
     "metadata": {},
     "output_type": "execute_result"
    }
   ],
   "source": [
    "data[1,3]"
   ]
  },
  {
   "cell_type": "code",
   "execution_count": 13,
   "id": "7e6b1605-1873-4a56-a1a3-91da38cdd61d",
   "metadata": {},
   "outputs": [
    {
     "data": {
      "text/plain": [
       "array([ 7,  7, 11,  6,  5])"
      ]
     },
     "execution_count": 13,
     "metadata": {},
     "output_type": "execute_result"
    }
   ],
   "source": [
    "data[0]"
   ]
  },
  {
   "cell_type": "code",
   "execution_count": 15,
   "id": "d0f2171d-e804-4a53-acb6-13e07673e6db",
   "metadata": {},
   "outputs": [
    {
     "data": {
      "text/plain": [
       "array([ 6,  3,  7, 16])"
      ]
     },
     "execution_count": 15,
     "metadata": {},
     "output_type": "execute_result"
    }
   ],
   "source": [
    "data[:,3]"
   ]
  },
  {
   "cell_type": "code",
   "execution_count": 16,
   "id": "78c59444-6643-4d7c-a98c-091b215dea7f",
   "metadata": {},
   "outputs": [
    {
     "data": {
      "text/plain": [
       "array([7, 6])"
      ]
     },
     "execution_count": 16,
     "metadata": {},
     "output_type": "execute_result"
    }
   ],
   "source": [
    "data[0, [1,3]]"
   ]
  },
  {
   "cell_type": "code",
   "execution_count": 18,
   "id": "7db0e396-c0b8-4124-b7d7-05d284213483",
   "metadata": {},
   "outputs": [
    {
     "data": {
      "text/plain": [
       "array([ 7,  7, 11,  6,  5])"
      ]
     },
     "execution_count": 18,
     "metadata": {},
     "output_type": "execute_result"
    }
   ],
   "source": [
    "row_1_array = data[0]\n",
    "row_1_array"
   ]
  },
  {
   "cell_type": "code",
   "execution_count": 19,
   "id": "c58ceee9-3b24-4ce9-ab4e-3584298ed509",
   "metadata": {},
   "outputs": [
    {
     "data": {
      "text/plain": [
       "array([ 7, 11,  6,  5])"
      ]
     },
     "execution_count": 19,
     "metadata": {},
     "output_type": "execute_result"
    }
   ],
   "source": [
    "row_1_array[1:]"
   ]
  },
  {
   "cell_type": "code",
   "execution_count": 21,
   "id": "181cd469-8a12-4c6b-9ab2-ea6e7e123a46",
   "metadata": {},
   "outputs": [
    {
     "data": {
      "text/plain": [
       "array([ 5,  6, 11])"
      ]
     },
     "execution_count": 21,
     "metadata": {},
     "output_type": "execute_result"
    }
   ],
   "source": [
    "row_1_array[-1:-4:-1]"
   ]
  },
  {
   "cell_type": "code",
   "execution_count": 22,
   "id": "af1d81f0-9420-4b9c-9587-cd80110a8084",
   "metadata": {},
   "outputs": [
    {
     "data": {
      "text/plain": [
       "array([11, 16, 13, 18, 17, 19, 14, 16])"
      ]
     },
     "execution_count": 22,
     "metadata": {},
     "output_type": "execute_result"
    }
   ],
   "source": [
    "data[data>10]"
   ]
  },
  {
   "cell_type": "code",
   "execution_count": 23,
   "id": "545844fe-0c8d-4155-aa5a-e7a6541aa38c",
   "metadata": {},
   "outputs": [
    {
     "data": {
      "text/plain": [
       "array([[14, 14, 22, 12, 10],\n",
       "       [32, 10, 26,  6, 20],\n",
       "       [10, 12, 36, 14, 34],\n",
       "       [ 6, 38, 28, 32, 20]])"
      ]
     },
     "execution_count": 23,
     "metadata": {},
     "output_type": "execute_result"
    }
   ],
   "source": [
    "data * 2"
   ]
  },
  {
   "cell_type": "code",
   "execution_count": 24,
   "id": "d5218798-c47e-444d-ab7c-e089517d358e",
   "metadata": {},
   "outputs": [
    {
     "data": {
      "text/plain": [
       "array([[14, 14, 22, 12, 10],\n",
       "       [32, 10, 26,  6, 20],\n",
       "       [10, 12, 36, 14, 34],\n",
       "       [ 6, 38, 28, 32, 20]])"
      ]
     },
     "execution_count": 24,
     "metadata": {},
     "output_type": "execute_result"
    }
   ],
   "source": [
    "data + data"
   ]
  },
  {
   "cell_type": "code",
   "execution_count": 25,
   "id": "908a8cbc-033f-4f43-b7bb-a0f474dfbfaf",
   "metadata": {},
   "outputs": [
    {
     "data": {
      "text/plain": [
       "array([[0, 0, 0, 0, 0],\n",
       "       [0, 0, 0, 0, 0],\n",
       "       [0, 0, 0, 0, 0],\n",
       "       [0, 0, 0, 0, 0]])"
      ]
     },
     "execution_count": 25,
     "metadata": {},
     "output_type": "execute_result"
    }
   ],
   "source": [
    "data-data"
   ]
  },
  {
   "cell_type": "code",
   "execution_count": 27,
   "id": "2233fafb-79d1-4aff-96d1-57a054d24e7b",
   "metadata": {},
   "outputs": [
    {
     "data": {
      "text/plain": [
       "array([[ 7,  7, 11,  6,  5],\n",
       "       [16,  5, 13,  3, 10],\n",
       "       [ 5,  6, 18,  7, 17],\n",
       "       [ 3, 19, 14, 16, 10]])"
      ]
     },
     "execution_count": 27,
     "metadata": {},
     "output_type": "execute_result"
    }
   ],
   "source": [
    "2*data - data"
   ]
  },
  {
   "cell_type": "code",
   "execution_count": 29,
   "id": "c4eea0d1-a4f9-4bc9-8104-289116f63b2a",
   "metadata": {},
   "outputs": [
    {
     "data": {
      "text/plain": [
       "array([[1, 1, 1],\n",
       "       [2, 2, 2]])"
      ]
     },
     "execution_count": 29,
     "metadata": {},
     "output_type": "execute_result"
    }
   ],
   "source": [
    "#check power\n",
    "arr = np.array([[1,1,1,],[2,2,2]])\n",
    "arr"
   ]
  },
  {
   "cell_type": "code",
   "execution_count": 32,
   "id": "186175a4-6de6-4ddb-a213-fcb63f7c2be4",
   "metadata": {},
   "outputs": [
    {
     "data": {
      "text/plain": [
       "array([[1, 1, 1],\n",
       "       [4, 4, 4]], dtype=int32)"
      ]
     },
     "execution_count": 32,
     "metadata": {},
     "output_type": "execute_result"
    }
   ],
   "source": [
    "np.power(arr,2)"
   ]
  },
  {
   "cell_type": "code",
   "execution_count": 33,
   "id": "63f58fce-5cea-4ddb-bc9e-6d9312abe15f",
   "metadata": {},
   "outputs": [
    {
     "data": {
      "text/plain": [
       "numpy.ndarray"
      ]
     },
     "execution_count": 33,
     "metadata": {},
     "output_type": "execute_result"
    }
   ],
   "source": [
    "type(np.power(arr,2))"
   ]
  },
  {
   "cell_type": "code",
   "execution_count": 37,
   "id": "1eff5ba8-1425-475d-81dd-90b931d0984a",
   "metadata": {},
   "outputs": [],
   "source": [
    "# Stacking\n",
    "a = np.array([[1,2],[3,4]])\n",
    "b = np.array([[5,6],[7,8]])"
   ]
  },
  {
   "cell_type": "code",
   "execution_count": 39,
   "id": "94bc3716-33bf-45e4-b54d-7c891141cd76",
   "metadata": {},
   "outputs": [
    {
     "data": {
      "text/plain": [
       "array([[1, 2],\n",
       "       [3, 4],\n",
       "       [5, 6],\n",
       "       [7, 8]])"
      ]
     },
     "execution_count": 39,
     "metadata": {},
     "output_type": "execute_result"
    }
   ],
   "source": [
    "np.vstack((a,b))"
   ]
  },
  {
   "cell_type": "code",
   "execution_count": 40,
   "id": "8e0f21ac-e334-4dd2-8728-6104967e8e99",
   "metadata": {},
   "outputs": [
    {
     "data": {
      "text/plain": [
       "array([[1, 2, 5, 6],\n",
       "       [3, 4, 7, 8]])"
      ]
     },
     "execution_count": 40,
     "metadata": {},
     "output_type": "execute_result"
    }
   ],
   "source": [
    "np.hstack((a,b))"
   ]
  },
  {
   "cell_type": "code",
   "execution_count": 41,
   "id": "70b6924d-d21b-49b6-9d18-ce74647183bf",
   "metadata": {},
   "outputs": [
    {
     "data": {
      "text/plain": [
       "array([1, 2, 3, 4])"
      ]
     },
     "execution_count": 41,
     "metadata": {},
     "output_type": "execute_result"
    }
   ],
   "source": [
    "a.ravel()"
   ]
  },
  {
   "cell_type": "code",
   "execution_count": 1,
   "id": "647c8967-73e3-410c-b45e-855886d7c17e",
   "metadata": {},
   "outputs": [],
   "source": [
    "import pandas as pd"
   ]
  },
  {
   "cell_type": "code",
   "execution_count": 43,
   "id": "c4cdb2a9-d8da-46d9-8c6b-c58eca8d8f2f",
   "metadata": {},
   "outputs": [],
   "source": [
    "data = [1,2,3]\n",
    "index = [\"a\",\"b\",\"c\"]"
   ]
  },
  {
   "cell_type": "code",
   "execution_count": 45,
   "id": "e343613c-9bb8-4f3b-bfeb-6ce65d1c0d89",
   "metadata": {},
   "outputs": [
    {
     "data": {
      "text/plain": [
       "0    1\n",
       "1    2\n",
       "2    3\n",
       "dtype: int64"
      ]
     },
     "execution_count": 45,
     "metadata": {},
     "output_type": "execute_result"
    }
   ],
   "source": [
    "pd.Series(data)"
   ]
  },
  {
   "cell_type": "code",
   "execution_count": 48,
   "id": "30b2819a-74dc-4bb4-ad41-68660d20c5ac",
   "metadata": {},
   "outputs": [
    {
     "data": {
      "text/plain": [
       "a    1\n",
       "b    2\n",
       "c    3\n",
       "dtype: int64"
      ]
     },
     "execution_count": 48,
     "metadata": {},
     "output_type": "execute_result"
    }
   ],
   "source": [
    "pd.Series(data=data, index=index)"
   ]
  },
  {
   "cell_type": "code",
   "execution_count": 49,
   "id": "df46d9c5-b0f9-429c-ad51-e439e2e5f4fc",
   "metadata": {},
   "outputs": [
    {
     "data": {
      "text/plain": [
       "a    1\n",
       "b    2\n",
       "c    3\n",
       "dtype: int64"
      ]
     },
     "execution_count": 49,
     "metadata": {},
     "output_type": "execute_result"
    }
   ],
   "source": [
    "pd.Series(data,index)"
   ]
  },
  {
   "cell_type": "code",
   "execution_count": 53,
   "id": "2658a9cd-e707-4bf3-8a65-dc74d0dd868c",
   "metadata": {},
   "outputs": [],
   "source": [
    "#create dataframe\n",
    "data = np.random.randint(1,20, size=20).reshape(4,5)\n",
    "index = [\"a\",\"b\", \"d\", \"e\"]\n",
    "cols = [\"col1\", \"col2\", \"col3\", \"col4\",\"col4\"]"
   ]
  },
  {
   "cell_type": "code",
   "execution_count": 56,
   "id": "33f7a9d3-71d9-4d24-93a6-39132bf54516",
   "metadata": {},
   "outputs": [
    {
     "data": {
      "text/html": [
       "<div>\n",
       "<style scoped>\n",
       "    .dataframe tbody tr th:only-of-type {\n",
       "        vertical-align: middle;\n",
       "    }\n",
       "\n",
       "    .dataframe tbody tr th {\n",
       "        vertical-align: top;\n",
       "    }\n",
       "\n",
       "    .dataframe thead th {\n",
       "        text-align: right;\n",
       "    }\n",
       "</style>\n",
       "<table border=\"1\" class=\"dataframe\">\n",
       "  <thead>\n",
       "    <tr style=\"text-align: right;\">\n",
       "      <th></th>\n",
       "      <th>col1</th>\n",
       "      <th>col2</th>\n",
       "      <th>col3</th>\n",
       "      <th>col4</th>\n",
       "      <th>col4</th>\n",
       "    </tr>\n",
       "  </thead>\n",
       "  <tbody>\n",
       "    <tr>\n",
       "      <th>a</th>\n",
       "      <td>2</td>\n",
       "      <td>2</td>\n",
       "      <td>8</td>\n",
       "      <td>1</td>\n",
       "      <td>12</td>\n",
       "    </tr>\n",
       "    <tr>\n",
       "      <th>b</th>\n",
       "      <td>14</td>\n",
       "      <td>19</td>\n",
       "      <td>13</td>\n",
       "      <td>9</td>\n",
       "      <td>9</td>\n",
       "    </tr>\n",
       "    <tr>\n",
       "      <th>d</th>\n",
       "      <td>12</td>\n",
       "      <td>14</td>\n",
       "      <td>4</td>\n",
       "      <td>3</td>\n",
       "      <td>2</td>\n",
       "    </tr>\n",
       "    <tr>\n",
       "      <th>e</th>\n",
       "      <td>14</td>\n",
       "      <td>6</td>\n",
       "      <td>10</td>\n",
       "      <td>15</td>\n",
       "      <td>14</td>\n",
       "    </tr>\n",
       "  </tbody>\n",
       "</table>\n",
       "</div>"
      ],
      "text/plain": [
       "   col1  col2  col3  col4  col4\n",
       "a     2     2     8     1    12\n",
       "b    14    19    13     9     9\n",
       "d    12    14     4     3     2\n",
       "e    14     6    10    15    14"
      ]
     },
     "execution_count": 56,
     "metadata": {},
     "output_type": "execute_result"
    }
   ],
   "source": [
    "pd.DataFrame(data, index=index, columns=cols)"
   ]
  },
  {
   "cell_type": "code",
   "execution_count": 5,
   "id": "9238179d-72c4-4da5-a2d0-cfd1c5f3850d",
   "metadata": {},
   "outputs": [],
   "source": [
    "#create dataframe\n",
    "data = [[\"m\",23], [\"f\",27]]\n",
    "index = [\"bob\",\"mary\"]\n",
    "cols = [\"gender\", \"age\"]\n",
    "left = pd.DataFrame(data, index=index, columns=cols)\n",
    "data = [[\"1 rock creek\",77101], [\"23 main st\",30001]]\n",
    "index = [\"bob\",\"mary\"]\n",
    "cols = [\"address\", \"zip\"]\n",
    "right = pd.DataFrame(data, index=index, columns=cols)"
   ]
  },
  {
   "cell_type": "code",
   "execution_count": 6,
   "id": "ea616e52-23c4-4639-b481-8469e2027557",
   "metadata": {},
   "outputs": [
    {
     "data": {
      "text/html": [
       "<div>\n",
       "<style scoped>\n",
       "    .dataframe tbody tr th:only-of-type {\n",
       "        vertical-align: middle;\n",
       "    }\n",
       "\n",
       "    .dataframe tbody tr th {\n",
       "        vertical-align: top;\n",
       "    }\n",
       "\n",
       "    .dataframe thead th {\n",
       "        text-align: right;\n",
       "    }\n",
       "</style>\n",
       "<table border=\"1\" class=\"dataframe\">\n",
       "  <thead>\n",
       "    <tr style=\"text-align: right;\">\n",
       "      <th></th>\n",
       "      <th>gender</th>\n",
       "      <th>age</th>\n",
       "    </tr>\n",
       "  </thead>\n",
       "  <tbody>\n",
       "    <tr>\n",
       "      <th>bob</th>\n",
       "      <td>m</td>\n",
       "      <td>23</td>\n",
       "    </tr>\n",
       "    <tr>\n",
       "      <th>mary</th>\n",
       "      <td>f</td>\n",
       "      <td>27</td>\n",
       "    </tr>\n",
       "  </tbody>\n",
       "</table>\n",
       "</div>"
      ],
      "text/plain": [
       "     gender  age\n",
       "bob       m   23\n",
       "mary      f   27"
      ]
     },
     "execution_count": 6,
     "metadata": {},
     "output_type": "execute_result"
    }
   ],
   "source": [
    "left"
   ]
  },
  {
   "cell_type": "code",
   "execution_count": 7,
   "id": "d2491819-114f-45fe-bfae-2b6a2722f001",
   "metadata": {},
   "outputs": [
    {
     "data": {
      "text/html": [
       "<div>\n",
       "<style scoped>\n",
       "    .dataframe tbody tr th:only-of-type {\n",
       "        vertical-align: middle;\n",
       "    }\n",
       "\n",
       "    .dataframe tbody tr th {\n",
       "        vertical-align: top;\n",
       "    }\n",
       "\n",
       "    .dataframe thead th {\n",
       "        text-align: right;\n",
       "    }\n",
       "</style>\n",
       "<table border=\"1\" class=\"dataframe\">\n",
       "  <thead>\n",
       "    <tr style=\"text-align: right;\">\n",
       "      <th></th>\n",
       "      <th>address</th>\n",
       "      <th>zip</th>\n",
       "    </tr>\n",
       "  </thead>\n",
       "  <tbody>\n",
       "    <tr>\n",
       "      <th>bob</th>\n",
       "      <td>1 rock creek</td>\n",
       "      <td>77101</td>\n",
       "    </tr>\n",
       "    <tr>\n",
       "      <th>mary</th>\n",
       "      <td>23 main st</td>\n",
       "      <td>30001</td>\n",
       "    </tr>\n",
       "  </tbody>\n",
       "</table>\n",
       "</div>"
      ],
      "text/plain": [
       "           address    zip\n",
       "bob   1 rock creek  77101\n",
       "mary    23 main st  30001"
      ]
     },
     "execution_count": 7,
     "metadata": {},
     "output_type": "execute_result"
    }
   ],
   "source": [
    "right"
   ]
  },
  {
   "cell_type": "code",
   "execution_count": 8,
   "id": "ec6eba76-9c5f-4ca8-a92b-20881eb27543",
   "metadata": {},
   "outputs": [
    {
     "data": {
      "text/html": [
       "<div>\n",
       "<style scoped>\n",
       "    .dataframe tbody tr th:only-of-type {\n",
       "        vertical-align: middle;\n",
       "    }\n",
       "\n",
       "    .dataframe tbody tr th {\n",
       "        vertical-align: top;\n",
       "    }\n",
       "\n",
       "    .dataframe thead th {\n",
       "        text-align: right;\n",
       "    }\n",
       "</style>\n",
       "<table border=\"1\" class=\"dataframe\">\n",
       "  <thead>\n",
       "    <tr style=\"text-align: right;\">\n",
       "      <th></th>\n",
       "      <th>gender</th>\n",
       "      <th>age</th>\n",
       "      <th>address</th>\n",
       "      <th>zip</th>\n",
       "    </tr>\n",
       "  </thead>\n",
       "  <tbody>\n",
       "    <tr>\n",
       "      <th>bob</th>\n",
       "      <td>m</td>\n",
       "      <td>23</td>\n",
       "      <td>1 rock creek</td>\n",
       "      <td>77101</td>\n",
       "    </tr>\n",
       "    <tr>\n",
       "      <th>mary</th>\n",
       "      <td>f</td>\n",
       "      <td>27</td>\n",
       "      <td>23 main st</td>\n",
       "      <td>30001</td>\n",
       "    </tr>\n",
       "  </tbody>\n",
       "</table>\n",
       "</div>"
      ],
      "text/plain": [
       "     gender  age       address    zip\n",
       "bob       m   23  1 rock creek  77101\n",
       "mary      f   27    23 main st  30001"
      ]
     },
     "execution_count": 8,
     "metadata": {},
     "output_type": "execute_result"
    }
   ],
   "source": [
    "left.join(right,how=\"inner\")"
   ]
  },
  {
   "cell_type": "code",
   "execution_count": 11,
   "id": "4f39c8f6-a9e8-4e67-9320-93c5cff63c28",
   "metadata": {},
   "outputs": [
    {
     "data": {
      "text/html": [
       "<div>\n",
       "<style scoped>\n",
       "    .dataframe tbody tr th:only-of-type {\n",
       "        vertical-align: middle;\n",
       "    }\n",
       "\n",
       "    .dataframe tbody tr th {\n",
       "        vertical-align: top;\n",
       "    }\n",
       "\n",
       "    .dataframe thead th {\n",
       "        text-align: right;\n",
       "    }\n",
       "</style>\n",
       "<table border=\"1\" class=\"dataframe\">\n",
       "  <thead>\n",
       "    <tr style=\"text-align: right;\">\n",
       "      <th></th>\n",
       "      <th>gender</th>\n",
       "      <th>age</th>\n",
       "      <th>address</th>\n",
       "      <th>zip</th>\n",
       "    </tr>\n",
       "  </thead>\n",
       "  <tbody>\n",
       "    <tr>\n",
       "      <th>bob</th>\n",
       "      <td>m</td>\n",
       "      <td>23</td>\n",
       "      <td>1 rock creek</td>\n",
       "      <td>77101</td>\n",
       "    </tr>\n",
       "    <tr>\n",
       "      <th>mary</th>\n",
       "      <td>f</td>\n",
       "      <td>27</td>\n",
       "      <td>23 main st</td>\n",
       "      <td>30001</td>\n",
       "    </tr>\n",
       "  </tbody>\n",
       "</table>\n",
       "</div>"
      ],
      "text/plain": [
       "     gender  age       address    zip\n",
       "bob       m   23  1 rock creek  77101\n",
       "mary      f   27    23 main st  30001"
      ]
     },
     "execution_count": 11,
     "metadata": {},
     "output_type": "execute_result"
    }
   ],
   "source": [
    "left.merge(right,how=\"inner\",left_index=True,right_index=True)"
   ]
  },
  {
   "cell_type": "code",
   "execution_count": 9,
   "id": "e900fdba-f8e7-4c79-a9bd-92b7e370f2b1",
   "metadata": {},
   "outputs": [
    {
     "data": {
      "text/plain": [
       "{'bob': 31, 'veronica': 30}"
      ]
     },
     "execution_count": 9,
     "metadata": {},
     "output_type": "execute_result"
    }
   ],
   "source": [
    "#dict comprehension with if\n",
    "mylist = [(\"bob\", 31), (\"sam\", 26), (\"veronica\",30)]\n",
    "{name:age for name,age in mylist if age >= 30}"
   ]
  },
  {
   "cell_type": "code",
   "execution_count": 21,
   "id": "d9ebdf40-9d7c-4d35-8116-41fad0352b51",
   "metadata": {},
   "outputs": [],
   "source": [
    "# using argument and key word arguments\n",
    "#lets create a function which takes in two strings adds it and print uppercase/lowercase based on type passed to the function\n",
    "def my_string_function(*args, **kwargs):\n",
    "    x = args[0] #args will have positional arguments as list\n",
    "    y = args[1]\n",
    "\n",
    "    operation = kwargs[\"conversion_type\"] # keyword arguments are passed as dict with keyword as the key of the dict\n",
    "    if operation == \"lower\":\n",
    "        return(f\"{(x+y).lower()}\")\n",
    "    else:\n",
    "        return(f\"{(x+y).upper()}\")\n"
   ]
  },
  {
   "cell_type": "code",
   "execution_count": 24,
   "id": "9d29735c-7db9-4389-bf29-49106c129d04",
   "metadata": {},
   "outputs": [
    {
     "data": {
      "text/plain": [
       "'goodday'"
      ]
     },
     "execution_count": 24,
     "metadata": {},
     "output_type": "execute_result"
    }
   ],
   "source": [
    "my_string_function(\"Good\",\"Day\", conversion_type=\"lower\")"
   ]
  },
  {
   "cell_type": "code",
   "execution_count": 25,
   "id": "923bbb7a-94f6-4a47-a803-c9f0e5e8840a",
   "metadata": {},
   "outputs": [
    {
     "data": {
      "text/plain": [
       "'GOODDAY'"
      ]
     },
     "execution_count": 25,
     "metadata": {},
     "output_type": "execute_result"
    }
   ],
   "source": [
    "my_string_function(\"Good\",\"Day\", conversion_type=\"upper\")"
   ]
  },
  {
   "cell_type": "code",
   "execution_count": 2,
   "id": "7cca50f1-567d-4dd9-bd82-240e183cdd9a",
   "metadata": {},
   "outputs": [],
   "source": [
    "df = pd.read_csv(\"sales_record.csv\")"
   ]
  },
  {
   "cell_type": "code",
   "execution_count": 3,
   "id": "9b6f2cf5-96bc-4e25-b85b-cd641dae487b",
   "metadata": {},
   "outputs": [
    {
     "name": "stdout",
     "output_type": "stream",
     "text": [
      "<class 'pandas.core.frame.DataFrame'>\n",
      "RangeIndex: 5000 entries, 0 to 4999\n",
      "Data columns (total 14 columns):\n",
      " #   Column          Non-Null Count  Dtype  \n",
      "---  ------          --------------  -----  \n",
      " 0   Region          5000 non-null   object \n",
      " 1   Country         5000 non-null   object \n",
      " 2   Item Type       5000 non-null   object \n",
      " 3   Sales Channel   5000 non-null   object \n",
      " 4   Order Priority  5000 non-null   object \n",
      " 5   Order Date      5000 non-null   object \n",
      " 6   Order ID        5000 non-null   int64  \n",
      " 7   Ship Date       5000 non-null   object \n",
      " 8   Units Sold      5000 non-null   int64  \n",
      " 9   Unit Price      5000 non-null   float64\n",
      " 10  Unit Cost       5000 non-null   float64\n",
      " 11  Total Revenue   5000 non-null   float64\n",
      " 12  Total Cost      5000 non-null   float64\n",
      " 13  Total Profit    5000 non-null   float64\n",
      "dtypes: float64(5), int64(2), object(7)\n",
      "memory usage: 547.0+ KB\n"
     ]
    }
   ],
   "source": [
    "df.info()"
   ]
  },
  {
   "cell_type": "code",
   "execution_count": 6,
   "id": "8935d4a3-ce4d-4afb-b171-c42ece5b6b53",
   "metadata": {},
   "outputs": [],
   "source": [
    "df[\"Order ID\"] = df[\"Order ID\"].astype(\"int8\")"
   ]
  },
  {
   "cell_type": "code",
   "execution_count": 7,
   "id": "b3a8c913-da23-4664-97a5-ca680219fecb",
   "metadata": {},
   "outputs": [
    {
     "name": "stdout",
     "output_type": "stream",
     "text": [
      "<class 'pandas.core.frame.DataFrame'>\n",
      "RangeIndex: 5000 entries, 0 to 4999\n",
      "Data columns (total 14 columns):\n",
      " #   Column          Non-Null Count  Dtype  \n",
      "---  ------          --------------  -----  \n",
      " 0   Region          5000 non-null   object \n",
      " 1   Country         5000 non-null   object \n",
      " 2   Item Type       5000 non-null   object \n",
      " 3   Sales Channel   5000 non-null   object \n",
      " 4   Order Priority  5000 non-null   object \n",
      " 5   Order Date      5000 non-null   object \n",
      " 6   Order ID        5000 non-null   int8   \n",
      " 7   Ship Date       5000 non-null   object \n",
      " 8   Units Sold      5000 non-null   int64  \n",
      " 9   Unit Price      5000 non-null   float64\n",
      " 10  Unit Cost       5000 non-null   float64\n",
      " 11  Total Revenue   5000 non-null   float64\n",
      " 12  Total Cost      5000 non-null   float64\n",
      " 13  Total Profit    5000 non-null   float64\n",
      "dtypes: float64(5), int64(1), int8(1), object(7)\n",
      "memory usage: 512.8+ KB\n"
     ]
    }
   ],
   "source": [
    "df.info()"
   ]
  },
  {
   "cell_type": "code",
   "execution_count": 1,
   "id": "1f24ec4d-7a2a-404c-aea3-bac67508c974",
   "metadata": {},
   "outputs": [],
   "source": [
    "import pandas as pd"
   ]
  },
  {
   "cell_type": "code",
   "execution_count": 2,
   "id": "61e51c5b-fa1d-485d-a22c-c12ee98adb53",
   "metadata": {},
   "outputs": [],
   "source": [
    "df = pd.read_html(\"https://www.fdic.gov/resources/resolutions/bank-failures/failed-bank-list/\")"
   ]
  },
  {
   "cell_type": "code",
   "execution_count": 5,
   "id": "5f2899d4-5e22-461e-a898-e9b950f9b316",
   "metadata": {},
   "outputs": [
    {
     "data": {
      "text/plain": [
       "list"
      ]
     },
     "execution_count": 5,
     "metadata": {},
     "output_type": "execute_result"
    }
   ],
   "source": [
    "type(df)"
   ]
  },
  {
   "cell_type": "code",
   "execution_count": 8,
   "id": "204bb4b0-a53b-4fb9-8190-756be4c082e2",
   "metadata": {},
   "outputs": [
    {
     "data": {
      "text/html": [
       "<div>\n",
       "<style scoped>\n",
       "    .dataframe tbody tr th:only-of-type {\n",
       "        vertical-align: middle;\n",
       "    }\n",
       "\n",
       "    .dataframe tbody tr th {\n",
       "        vertical-align: top;\n",
       "    }\n",
       "\n",
       "    .dataframe thead th {\n",
       "        text-align: right;\n",
       "    }\n",
       "</style>\n",
       "<table border=\"1\" class=\"dataframe\">\n",
       "  <thead>\n",
       "    <tr style=\"text-align: right;\">\n",
       "      <th></th>\n",
       "      <th>Bank NameBank</th>\n",
       "      <th>CityCity</th>\n",
       "      <th>StateSt</th>\n",
       "      <th>CertCert</th>\n",
       "      <th>Acquiring InstitutionAI</th>\n",
       "      <th>Closing DateClosing</th>\n",
       "      <th>FundFund</th>\n",
       "    </tr>\n",
       "  </thead>\n",
       "  <tbody>\n",
       "    <tr>\n",
       "      <th>0</th>\n",
       "      <td>Citizens Bank</td>\n",
       "      <td>Sac City</td>\n",
       "      <td>IA</td>\n",
       "      <td>8758</td>\n",
       "      <td>Iowa Trust &amp; Savings Bank</td>\n",
       "      <td>November 3, 2023</td>\n",
       "      <td>10545</td>\n",
       "    </tr>\n",
       "    <tr>\n",
       "      <th>1</th>\n",
       "      <td>Heartland Tri-State Bank</td>\n",
       "      <td>Elkhart</td>\n",
       "      <td>KS</td>\n",
       "      <td>25851</td>\n",
       "      <td>Dream First Bank, N.A.</td>\n",
       "      <td>July 28, 2023</td>\n",
       "      <td>10544</td>\n",
       "    </tr>\n",
       "    <tr>\n",
       "      <th>2</th>\n",
       "      <td>First Republic Bank</td>\n",
       "      <td>San Francisco</td>\n",
       "      <td>CA</td>\n",
       "      <td>59017</td>\n",
       "      <td>JPMorgan Chase Bank, N.A.</td>\n",
       "      <td>May 1, 2023</td>\n",
       "      <td>10543</td>\n",
       "    </tr>\n",
       "    <tr>\n",
       "      <th>3</th>\n",
       "      <td>Signature Bank</td>\n",
       "      <td>New York</td>\n",
       "      <td>NY</td>\n",
       "      <td>57053</td>\n",
       "      <td>Flagstar Bank, N.A.</td>\n",
       "      <td>March 12, 2023</td>\n",
       "      <td>10540</td>\n",
       "    </tr>\n",
       "    <tr>\n",
       "      <th>4</th>\n",
       "      <td>Silicon Valley Bank</td>\n",
       "      <td>Santa Clara</td>\n",
       "      <td>CA</td>\n",
       "      <td>24735</td>\n",
       "      <td>First–Citizens Bank &amp; Trust Company</td>\n",
       "      <td>March 10, 2023</td>\n",
       "      <td>10539</td>\n",
       "    </tr>\n",
       "  </tbody>\n",
       "</table>\n",
       "</div>"
      ],
      "text/plain": [
       "              Bank NameBank       CityCity StateSt  CertCert  \\\n",
       "0             Citizens Bank       Sac City      IA      8758   \n",
       "1  Heartland Tri-State Bank        Elkhart      KS     25851   \n",
       "2       First Republic Bank  San Francisco      CA     59017   \n",
       "3            Signature Bank       New York      NY     57053   \n",
       "4       Silicon Valley Bank    Santa Clara      CA     24735   \n",
       "\n",
       "               Acquiring InstitutionAI Closing DateClosing  FundFund  \n",
       "0            Iowa Trust & Savings Bank    November 3, 2023     10545  \n",
       "1               Dream First Bank, N.A.       July 28, 2023     10544  \n",
       "2            JPMorgan Chase Bank, N.A.         May 1, 2023     10543  \n",
       "3                  Flagstar Bank, N.A.      March 12, 2023     10540  \n",
       "4  First–Citizens Bank & Trust Company      March 10, 2023     10539  "
      ]
     },
     "execution_count": 8,
     "metadata": {},
     "output_type": "execute_result"
    }
   ],
   "source": [
    "df[0].head()"
   ]
  },
  {
   "cell_type": "markdown",
   "id": "e025b147-3e52-4f9f-974e-80e240745924",
   "metadata": {},
   "source": [
    "### Exercise 69"
   ]
  },
  {
   "cell_type": "code",
   "execution_count": 10,
   "id": "da963949-87bc-4201-aace-3bf0fa26c18d",
   "metadata": {},
   "outputs": [],
   "source": [
    "# !pip install beautifulsoup4"
   ]
  },
  {
   "cell_type": "code",
   "execution_count": 11,
   "id": "f0e2849a-3e29-43a1-a5fa-3af2f678778f",
   "metadata": {},
   "outputs": [],
   "source": [
    "from bs4 import BeautifulSoup"
   ]
  },
  {
   "cell_type": "code",
   "execution_count": 12,
   "id": "4ac331b3-51ae-4156-a806-2504596e53c7",
   "metadata": {},
   "outputs": [
    {
     "name": "stdout",
     "output_type": "stream",
     "text": [
      "<class 'bs4.BeautifulSoup'>\n"
     ]
    }
   ],
   "source": [
    "with open(\"dwsample2-html.html\", \"r\") as fd:\n",
    "    soup = BeautifulSoup(fd)\n",
    "    print(type(soup))"
   ]
  },
  {
   "cell_type": "code",
   "execution_count": 14,
   "id": "5aa25425-1f43-44d9-b52e-ee1a40b0555a",
   "metadata": {},
   "outputs": [
    {
     "name": "stdout",
     "output_type": "stream",
     "text": [
      "<!DOCTYPE html>\n",
      "<html>\n",
      " <head>\n",
      "  <title>\n",
      "   DWSampleFiles\n",
      "  </title>\n",
      "  <meta charset=\"utf-8\"/>\n",
      "  <meta content=\"A blank HTML document for testing purposes.\" name=\"description\"/>\n",
      "  <meta content=\"Six Revisions\" name=\"author\"/>\n",
      "  <meta content=\"width=device-width, initial-scale=1\" name=\"viewport\"/>\n",
      " </head>\n",
      " <body>\n",
      "  <h1>\n",
      "   HTML Document Sample 2\n",
      "  </h1>\n",
      "  <p>\n",
      "   A blank HTML document for testing purposes.\n",
      "  </p>\n",
      "  <p>\n",
      "   <a href=\"https://www.dwsamplefiles.com/\">\n",
      "    Read More\n",
      "   </a>\n",
      "  </p>\n",
      " </body>\n",
      "</html>\n",
      "\n"
     ]
    }
   ],
   "source": [
    "print(soup.prettify())"
   ]
  },
  {
   "cell_type": "code",
   "execution_count": 15,
   "id": "bd1e5baa-575f-48b3-ac1e-770f292b02a0",
   "metadata": {},
   "outputs": [
    {
     "data": {
      "text/plain": [
       "<p>A blank HTML document for testing purposes.</p>"
      ]
     },
     "execution_count": 15,
     "metadata": {},
     "output_type": "execute_result"
    }
   ],
   "source": [
    "#fetch element\n",
    "soup.p"
   ]
  },
  {
   "cell_type": "code",
   "execution_count": 16,
   "id": "501b9ffc-bae4-4a7c-a538-777ab7fc91bd",
   "metadata": {},
   "outputs": [
    {
     "data": {
      "text/plain": [
       "[<p>A blank HTML document for testing purposes.</p>,\n",
       " <p><a href=\"https://www.dwsamplefiles.com/\">Read More</a></p>]"
      ]
     },
     "execution_count": 16,
     "metadata": {},
     "output_type": "execute_result"
    }
   ],
   "source": [
    "# Find all element\n",
    "soup.find_all(\"p\")"
   ]
  },
  {
   "cell_type": "code",
   "execution_count": 17,
   "id": "60d8cd78-20af-413b-bd69-9228857ccb74",
   "metadata": {},
   "outputs": [
    {
     "data": {
      "text/plain": [
       "<h1>HTML Document Sample 2</h1>"
      ]
     },
     "execution_count": 17,
     "metadata": {},
     "output_type": "execute_result"
    }
   ],
   "source": [
    "soup.h1"
   ]
  },
  {
   "cell_type": "code",
   "execution_count": 18,
   "id": "bec38851-282d-4809-9fac-d18b4474014b",
   "metadata": {},
   "outputs": [
    {
     "data": {
      "text/plain": [
       "['HTML Document Sample 2']"
      ]
     },
     "execution_count": 18,
     "metadata": {},
     "output_type": "execute_result"
    }
   ],
   "source": [
    "# Get contents of a element\n",
    "soup.h1.contents"
   ]
  },
  {
   "cell_type": "code",
   "execution_count": 23,
   "id": "50008b2c-7b4e-4bb1-8b4e-a2e7c136fe52",
   "metadata": {},
   "outputs": [
    {
     "name": "stdout",
     "output_type": "stream",
     "text": [
      "\n",
      "\n",
      "<h1>HTML Document Sample 2</h1>\n",
      "\n",
      "\n",
      "<p>A blank HTML document for testing purposes.</p>\n",
      "\n",
      "\n",
      "<p><a href=\"https://www.dwsamplefiles.com/\">Read More</a></p>\n",
      "\n",
      "\n"
     ]
    }
   ],
   "source": [
    "# get children of an element\n",
    "for i in soup.body.children:\n",
    "    print(i)"
   ]
  },
  {
   "cell_type": "code",
   "execution_count": 1,
   "id": "1dba225d-86ae-4c26-b14d-1177d8cf9e43",
   "metadata": {},
   "outputs": [],
   "source": [
    "name = (\"bob\", \"rob\")\n",
    "age = (6,8,10)"
   ]
  },
  {
   "cell_type": "code",
   "execution_count": 2,
   "id": "3771a98a-23d6-4967-a852-82be62481aca",
   "metadata": {},
   "outputs": [
    {
     "data": {
      "text/plain": [
       "<zip at 0x1be2971d6c0>"
      ]
     },
     "execution_count": 2,
     "metadata": {},
     "output_type": "execute_result"
    }
   ],
   "source": [
    "zip(name, age)"
   ]
  },
  {
   "cell_type": "code",
   "execution_count": 5,
   "id": "f7709536-7289-4983-b3d0-b3f21dfce62b",
   "metadata": {},
   "outputs": [
    {
     "data": {
      "text/plain": [
       "[('bob', 6), ('rob', 8)]"
      ]
     },
     "execution_count": 5,
     "metadata": {},
     "output_type": "execute_result"
    }
   ],
   "source": [
    "list (zip(name,age))"
   ]
  },
  {
   "cell_type": "code",
   "execution_count": 6,
   "id": "61163d51-999a-4f1a-8ebb-b4c0e5430cdf",
   "metadata": {},
   "outputs": [
    {
     "data": {
      "text/plain": [
       "{'bob': 6, 'rob': 8}"
      ]
     },
     "execution_count": 6,
     "metadata": {},
     "output_type": "execute_result"
    }
   ],
   "source": [
    "dict(zip(name,age))"
   ]
  },
  {
   "cell_type": "code",
   "execution_count": 8,
   "id": "78339a0d-be97-4a50-bfe7-6370d345745c",
   "metadata": {},
   "outputs": [
    {
     "name": "stdout",
     "output_type": "stream",
     "text": [
      "Age of Bob  is 6 and Rob is 8\n"
     ]
    }
   ],
   "source": [
    "print(\"Age of Bob  is {bob} and Rob is {rob}\".format(**dict(zip(name,age))))"
   ]
  },
  {
   "cell_type": "code",
   "execution_count": 9,
   "id": "3131d062-ee9d-46e7-9f52-893a58fa21c1",
   "metadata": {},
   "outputs": [],
   "source": [
    "from datetime import datetime as dt"
   ]
  },
  {
   "cell_type": "code",
   "execution_count": 10,
   "id": "adb06442-2342-44a0-8d85-0a42b14f1ed5",
   "metadata": {},
   "outputs": [
    {
     "name": "stdout",
     "output_type": "stream",
     "text": [
      "The current time in UTC is 2023-12-23 19:22:05\n"
     ]
    }
   ],
   "source": [
    "print(f\"The current time in UTC is {dt.utcnow():%Y-%m-%d %H:%M:%S}\")"
   ]
  },
  {
   "cell_type": "code",
   "execution_count": 11,
   "id": "b4f9338b-f118-43bb-8860-a8ea3c224672",
   "metadata": {},
   "outputs": [],
   "source": [
    "from math import sin, pi"
   ]
  },
  {
   "cell_type": "code",
   "execution_count": 12,
   "id": "e38acfbd-28fd-4751-827c-5243c59cfee5",
   "metadata": {},
   "outputs": [],
   "source": [
    "ys = [sin(i*pi/6)for i in range(50)]"
   ]
  },
  {
   "cell_type": "code",
   "execution_count": 13,
   "id": "e4a7ea3f-abe1-4baa-b984-403400753c8a",
   "metadata": {},
   "outputs": [],
   "source": [
    "from matplotlib import pyplot as plt"
   ]
  },
  {
   "cell_type": "code",
   "execution_count": 14,
   "id": "e8ce5873-d62a-4b7b-95a8-dbd4bb37ab40",
   "metadata": {},
   "outputs": [
    {
     "data": {
      "image/png": "[encoded data removed]",
      "text/plain": [
       "<Figure size 640x480 with 1 Axes>"
      ]
     },
     "metadata": {},
     "output_type": "display_data"
    }
   ],
   "source": [
    "plt.plot(ys)\n",
    "plt.show()"
   ]
  },
  {
   "cell_type": "code",
   "execution_count": 20,
   "id": "88017ed3-493c-4c63-8148-7b8c751d1f54",
   "metadata": {},
   "outputs": [],
   "source": [
    "ys[5] = ys[5] + 10\n",
    "ys[41] = ys[41] + 5"
   ]
  },
  {
   "cell_type": "code",
   "execution_count": 21,
   "id": "fae99e3e-a54c-4d9a-b484-09532440d0b0",
   "metadata": {},
   "outputs": [
    {
     "data": {
      "image/png": "[encoded data removed]",
      "text/plain": [
       "<Figure size 640x480 with 1 Axes>"
      ]
     },
     "metadata": {},
     "output_type": "display_data"
    }
   ],
   "source": [
    "plt.plot(ys)\n",
    "plt.show()"
   ]
  },
  {
   "cell_type": "code",
   "execution_count": null,
   "id": "26efc636-f56c-461c-8431-7156af1c610b",
   "metadata": {},
   "outputs": [],
   "source": []
  }
 ],
 "metadata": {
  "kernelspec": {
   "display_name": "Python 3 (ipykernel)",
   "language": "python",
   "name": "python3"
  },
  "language_info": {
   "codemirror_mode": {
    "name": "ipython",
    "version": 3
   },
   "file_extension": ".py",
   "mimetype": "text/x-python",
   "name": "python",
   "nbconvert_exporter": "python",
   "pygments_lexer": "ipython3",
   "version": "3.11.4"
  }
 },
 "nbformat": 4,
 "nbformat_minor": 5
}
