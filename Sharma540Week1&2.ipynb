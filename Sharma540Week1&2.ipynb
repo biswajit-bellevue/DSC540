{
 "cells": [
  {
   "cell_type": "markdown",
   "id": "9f7e66ee-65cc-4baf-9c26-b4989e3a9d57",
   "metadata": {},
   "source": [
    "# Assigment for Week 1 & 2"
   ]
  },
  {
   "cell_type": "markdown",
   "id": "7c08de31-85e1-4aea-8c33-6d35c6569e54",
   "metadata": {},
   "source": [
    "#### Setup the packages"
   ]
  },
  {
   "cell_type": "code",
   "execution_count": 13,
   "id": "b17f4300-f13f-4c29-82b1-2df0aa7e81ec",
   "metadata": {},
   "outputs": [],
   "source": [
    "import pandas as pd\n",
    "import matplotlib.pyplot as plt\n",
    "import random\n",
    "import re\n",
    "import itertools\n",
    "from math import pow\n",
    "import numpy as np"
   ]
  },
  {
   "cell_type": "code",
   "execution_count": 14,
   "id": "4cfb0692-1917-4b2b-b8a4-f63df6b875aa",
   "metadata": {},
   "outputs": [],
   "source": [
    "# Set up display options\n",
    "pd.options.display.max_columns=20\n",
    "pd.options.display.max_rows=20\n",
    "pd.options.display.max_colwidth=80"
   ]
  },
  {
   "cell_type": "markdown",
   "id": "9c4be5e6-c659-4c8f-b656-4a38a9ac4233",
   "metadata": {},
   "source": [
    "## Question #2"
   ]
  },
  {
   "cell_type": "code",
   "execution_count": 15,
   "id": "f2257a34-e155-4f51-af54-ae4faa6b014e",
   "metadata": {},
   "outputs": [
    {
     "name": "stdout",
     "output_type": "stream",
     "text": [
      "The newly created list is\n",
      "[58, 4, 82, 78, 32, 32, 52, 39, 72, 22]\n"
     ]
    }
   ],
   "source": [
    "# generate list of random 10 numbers\n",
    "new_list = [random.randint(0,100) for x in range(0,10) ]\n",
    "print(f\"The newly created list is\\n{new_list}\")"
   ]
  },
  {
   "cell_type": "code",
   "execution_count": 16,
   "id": "ffcde178-4671-42ca-8841-0e56d8b17543",
   "metadata": {},
   "outputs": [
    {
     "name": "stdout",
     "output_type": "stream",
     "text": [
      "The element at position 0 is 58\n",
      "The element at position 1 is 4\n",
      "The element at position 2 is 82\n",
      "The element at position 3 is 78\n",
      "The element at position 4 is 32\n",
      "The element at position 5 is 32\n",
      "The element at position 6 is 52\n",
      "The element at position 7 is 39\n",
      "The element at position 8 is 72\n",
      "The element at position 9 is 22\n",
      "The sorted list is\n",
      "[4, 22, 32, 32, 39, 52, 58, 72, 78, 82]\n"
     ]
    }
   ],
   "source": [
    "# Iterate and sort the results\n",
    "for idx, element in enumerate(new_list):\n",
    "    print(f\"The element at position {idx} is {element}\")\n",
    "new_list.sort()\n",
    "print(f\"The sorted list is\\n{new_list}\")"
   ]
  },
  {
   "cell_type": "code",
   "execution_count": 17,
   "id": "ecf786d6-5b5f-4c20-896b-2050c38e6db5",
   "metadata": {},
   "outputs": [
    {
     "name": "stdout",
     "output_type": "stream",
     "text": [
      "The newly appended list is\n",
      "[4, 22, 32, 32, 39, 52, 58, 72, 78, 82, 152, 129, 133, 147, 193]\n"
     ]
    }
   ],
   "source": [
    "# Generate random 5 numbers and then to the list\n",
    "for i in range(0,5):\n",
    "    new_list.append(random.randint(100,200))\n",
    "print(f\"The newly appended list is\\n{new_list}\")"
   ]
  },
  {
   "cell_type": "markdown",
   "id": "50282f4c-1256-4e8d-a879-72c2bb0242a9",
   "metadata": {},
   "source": [
    "## Question #3"
   ]
  },
  {
   "cell_type": "code",
   "execution_count": 18,
   "id": "fd217809-019e-4a3c-ac26-38742f918f60",
   "metadata": {},
   "outputs": [],
   "source": [
    "# Ingest data from URL <- http://content.bellevue.edu/cst/dsc/540/id/data-files/12-week/weeks-1-&-2/world-population.xlsm\n",
    "df = pd.read_excel(\"http://content.bellevue.edu/cst/dsc/540/id/data-files/12-week/weeks-1-&-2/world-population.xlsm\")"
   ]
  },
  {
   "cell_type": "code",
   "execution_count": 19,
   "id": "4f993847-b32d-4dcf-abe1-1d1d1a0dcc3e",
   "metadata": {},
   "outputs": [
    {
     "data": {
      "text/html": [
       "<div>\n",
       "<style scoped>\n",
       "    .dataframe tbody tr th:only-of-type {\n",
       "        vertical-align: middle;\n",
       "    }\n",
       "\n",
       "    .dataframe tbody tr th {\n",
       "        vertical-align: top;\n",
       "    }\n",
       "\n",
       "    .dataframe thead th {\n",
       "        text-align: right;\n",
       "    }\n",
       "</style>\n",
       "<table border=\"1\" class=\"dataframe\">\n",
       "  <thead>\n",
       "    <tr style=\"text-align: right;\">\n",
       "      <th></th>\n",
       "      <th>Year</th>\n",
       "      <th>Population</th>\n",
       "    </tr>\n",
       "  </thead>\n",
       "  <tbody>\n",
       "    <tr>\n",
       "      <th>0</th>\n",
       "      <td>1960</td>\n",
       "      <td>3028654024</td>\n",
       "    </tr>\n",
       "    <tr>\n",
       "      <th>1</th>\n",
       "      <td>1961</td>\n",
       "      <td>3068356747</td>\n",
       "    </tr>\n",
       "    <tr>\n",
       "      <th>2</th>\n",
       "      <td>1962</td>\n",
       "      <td>3121963107</td>\n",
       "    </tr>\n",
       "    <tr>\n",
       "      <th>3</th>\n",
       "      <td>1963</td>\n",
       "      <td>3187471383</td>\n",
       "    </tr>\n",
       "    <tr>\n",
       "      <th>4</th>\n",
       "      <td>1964</td>\n",
       "      <td>3253112403</td>\n",
       "    </tr>\n",
       "  </tbody>\n",
       "</table>\n",
       "</div>"
      ],
      "text/plain": [
       "   Year  Population\n",
       "0  1960  3028654024\n",
       "1  1961  3068356747\n",
       "2  1962  3121963107\n",
       "3  1963  3187471383\n",
       "4  1964  3253112403"
      ]
     },
     "execution_count": 19,
     "metadata": {},
     "output_type": "execute_result"
    }
   ],
   "source": [
    "# View few rows\n",
    "df.head()"
   ]
  },
  {
   "cell_type": "code",
   "execution_count": 20,
   "id": "09832fab-9213-4fb0-a87b-23abc0cca741",
   "metadata": {},
   "outputs": [
    {
     "data": {
      "image/png": "[encoded data removed]",
      "text/plain": [
       "<Figure size 640x480 with 1 Axes>"
      ]
     },
     "metadata": {},
     "output_type": "display_data"
    }
   ],
   "source": [
    "# Generate Line Plot \n",
    "plt.plot(\"Year\", \"Population\", data=df)\n",
    "plt.title(\"Line plot of Population against Year\")\n",
    "plt.xlabel(\"Year\")\n",
    "plt.ylabel(\"Population\")\n",
    "plt.show()"
   ]
  },
  {
   "cell_type": "markdown",
   "id": "cfee2241-b04e-47ae-8eb1-842cac1b2958",
   "metadata": {},
   "source": [
    "## Question # 4.a"
   ]
  },
  {
   "cell_type": "code",
   "execution_count": 21,
   "id": "278cfc1a-be99-4fad-b33e-9ab8dc21b49e",
   "metadata": {},
   "outputs": [],
   "source": [
    "# Generate a list of 100 numbers\n",
    "base_list = [random.randint(0,1000) for i in range(0,100)]"
   ]
  },
  {
   "cell_type": "code",
   "execution_count": 22,
   "id": "75dbe701-34d9-4899-8768-71a2b1218cb0",
   "metadata": {},
   "outputs": [],
   "source": [
    "# subset of baselist with numbers only divisible by 3\n",
    "sub_list = [each_num for each_num in base_list if each_num % 3 == 0]"
   ]
  },
  {
   "cell_type": "code",
   "execution_count": 23,
   "id": "c203fdff-1b05-4368-9e3d-5d90065434cd",
   "metadata": {},
   "outputs": [
    {
     "name": "stdout",
     "output_type": "stream",
     "text": [
      "69\n"
     ]
    }
   ],
   "source": [
    "# Difference of length of base and sub lists\n",
    "difference = len(base_list) - len(sub_list)\n",
    "print(difference)"
   ]
  },
  {
   "cell_type": "code",
   "execution_count": 24,
   "id": "a473f8d2-e38f-4e5b-9b72-be92b4a4feba",
   "metadata": {},
   "outputs": [
    {
     "name": "stdout",
     "output_type": "stream",
     "text": [
      "The mean difference is 67.0000\n"
     ]
    }
   ],
   "source": [
    "# Execute the above logic three times and find the mean difference\n",
    "difference = []\n",
    "for each_iteration in range(0,3):\n",
    "    base_list = [random.randint(0,1000) for i in range(0,100)]\n",
    "    sub_list = [each_num for each_num in base_list if each_num % 3 == 0]\n",
    "    difference.append((len(base_list) - len(sub_list)))\n",
    "print(f\"The mean difference is {sum(difference)/len(difference):.4f}\")"
   ]
  },
  {
   "cell_type": "markdown",
   "id": "4f28102d-1233-4fe7-a74e-f36561bf6147",
   "metadata": {},
   "source": [
    "## Question 4.b"
   ]
  },
  {
   "cell_type": "code",
   "execution_count": 25,
   "id": "53ebb9a9-2051-4288-9439-f01500d84c46",
   "metadata": {},
   "outputs": [],
   "source": [
    "#First chapter of Pride and prejudice book\n",
    "multiline_text = '''It is a truth universally acknowledged, that a single man in possession of a good fortune, must be in want of a wife.\n",
    "\n",
    "However little known the feelings or views of such a man may be on his first entering a neighbourhood, this truth is so well fixed in the minds of the surrounding families, that he is considered the rightful property of some one or other of their daughters.\n",
    "\n",
    "\"My dear Mr. Bennet,\" said his lady to him one day, \"have you heard that Netherfield Park is let at last?\"\n",
    "\n",
    "Mr. Bennet replied that he had not.\n",
    "\n",
    "\"But it is,\" returned she; \"for Mrs. Long has just been here, and she told me all about it.\"\n",
    "\n",
    "Mr. Bennet made no answer.\n",
    "\n",
    "\"Do you not want to know who has taken it?\" cried his wife impatiently.\n",
    "\n",
    "\"You want to tell me, and I have no objection to hearing it.\"\n",
    "\n",
    "This was invitation enough.\n",
    "\n",
    "\"Why, my dear, you must know, Mrs. Long says that Netherfield is taken by a young man of large fortune from the north of England; that he came down on Monday in a chaise and four to see the place, and was so much delighted with it, that he agreed with Mr. Morris immediately; that he is to take possession before Michaelmas, and some of his servants are to be in the house by the end of next week.\"\n",
    "\n",
    "\"What is his name?\"\n",
    "\n",
    "\"Bingley.\"\n",
    "\n",
    "\"Is he married or single?\"\n",
    "\n",
    "\"Oh! Single, my dear, to be sure! A single man of large fortune; four or five thousand a year. What a fine thing for our girls!\"\n",
    "\n",
    "\"How so? How can it affect them?\"\n",
    "\n",
    "\"My dear Mr. Bennet,\" replied his wife, \"how can you be so tiresome! You must know that I am thinking of his marrying one of them.\"\n",
    "\n",
    "\"Is that his design in settling here?\"\n",
    "\n",
    "\"Design! Nonsense, how can you talk so! But it is very likely that he may fall in love with one of them, and therefore you must visit him as soon as he comes.\"\n",
    "\n",
    "\"I see no occasion for that. You and the girls may go, or you may send them by themselves, which perhaps will be still better, for as you are as handsome as any of them, Mr. Bingley may like you the best of the party.\"\n",
    "\n",
    "\"My dear, you flatter me. I certainly have had my share of beauty, but I do not pretend to be anything extraordinary now. When a woman has five grown-up daughters, she ought to give over thinking of her own beauty.\"\n",
    "\n",
    "\"In such cases, a woman has not often much beauty to think of.\"\n",
    "\n",
    "\"But, my dear, you must indeed go and see Mr. Bingley when he comes into the neighbourhood.\"\n",
    "\n",
    "\"It is more than I engage for, I assure you.\"\n",
    "\n",
    "\"But consider your daughters. Only think what an establishment it would be for one of them. Sir William and Lady Lucas are determined to go, merely on that account, for in general, you know, they visit no newcomers. Indeed you must go, for it will be impossible for us to visit him if you do not.\"\n",
    "\n",
    "\"You are over-scrupulous, surely. I dare say Mr. Bingley will be very glad to see you; and I will send a few lines by you to assure him of my hearty consent to his marrying whichever he chooses of the girls; though I must throw in a good word for my little Lizzy.\"\n",
    "\n",
    "\"I desire you will do no such thing. Lizzy is not a bit better than the others; and I am sure she is not half so handsome as Jane, nor half so good-humoured as Lydia. But you are always giving her the preference.\"\n",
    "\n",
    "\"They have none of them much to recommend them,\" replied he; \"they are all silly and ignorant like other girls; but Lizzy has something more of quickness than her sisters.\"\n",
    "\n",
    "\"Mr. Bennet, how can you abuse your own children in such a way? You take delight in vexing me. You have no compassion for my poor nerves.\"\n",
    "\n",
    "\"You mistake me, my dear. I have a high respect for your nerves. They are my old friends. I have heard you mention them with consideration these last twenty years at least.\"\n",
    "\n",
    "\"Ah, you do not know what I suffer.\"\n",
    "\n",
    "\"But I hope you will get over it, and live to see many young men of four thousand a year come into the neighbourhood.\"\n",
    "\n",
    "\"It will be no use to us, if twenty such should come, since you will not visit them.\"\n",
    "\n",
    "\"Depend upon it, my dear, that when there are twenty, I will visit them all.\"\n",
    "\n",
    "Mr. Bennet was so odd a mixture of quick parts, sarcastic humour, reserve, and caprice, that the experience of three-and-twenty years had been insufficient to make his wife understand his character. Her mind was less difficult to develop. She was a woman of mean understanding, little information, and uncertain temper. When she was discontented, she fancied herself nervous. The business of her life was to get her daughters married; its solace was visiting and news.'''"
   ]
  },
  {
   "cell_type": "code",
   "execution_count": 26,
   "id": "208a40b8-7072-4971-a4ef-c95cc82b9c4b",
   "metadata": {},
   "outputs": [
    {
     "name": "stdout",
     "output_type": "stream",
     "text": [
      "<class 'str'>\n",
      "4474\n"
     ]
    }
   ],
   "source": [
    "print(type(multiline_text))\n",
    "print(len(multiline_text))"
   ]
  },
  {
   "cell_type": "code",
   "execution_count": 27,
   "id": "652ee5b1-18a6-4610-ab5e-1f997a095953",
   "metadata": {},
   "outputs": [],
   "source": [
    "# Remove \"\\n\", blank spaces and symbols. Convert all text to lower case\n",
    "pp_text = multiline_text.replace(\"\\n\",\"\")\n",
    "for symbol in \"!-;:\\'\\\",.?@#$%&*_\":\n",
    "    multiline_text = multiline_text.replace(symbol,\" \")\n",
    "multiline_text = multiline_text.lower()"
   ]
  },
  {
   "cell_type": "code",
   "execution_count": 28,
   "id": "5fd0d1e3-4bf4-4238-a1a5-cbd601c79259",
   "metadata": {},
   "outputs": [
    {
     "name": "stdout",
     "output_type": "stream",
     "text": [
      "Total words: 852\n",
      "Total unique words: 320\n"
     ]
    }
   ],
   "source": [
    "import string\n",
    "words = multiline_text.split()\n",
    "print(f\"Total words: {len(words)}\")\n",
    "unique_words = set(words)\n",
    "print(f\"Total unique words: {len(unique_words)}\")"
   ]
  },
  {
   "cell_type": "code",
   "execution_count": 29,
   "id": "10935b4f-c0d1-47be-a2e2-b987d619b277",
   "metadata": {},
   "outputs": [],
   "source": [
    "# Count number of words in the list and store in a dict\n",
    "word_count_dict = dict()\n",
    "for each_word in words:\n",
    "    word_count_dict[each_word] = word_count_dict.get(each_word, 0) + 1\n",
    "\n",
    "# Sort the dict key, value pairs based on count of words in descending order \n",
    "sorted_word_count =  sorted(word_count_dict.items(), key=lambda x: x[1], reverse=True)"
   ]
  },
  {
   "cell_type": "code",
   "execution_count": 30,
   "id": "8806ce3d-1caf-4470-8cbd-e2102f9fc1b6",
   "metadata": {},
   "outputs": [
    {
     "data": {
      "text/plain": [
       "[('you', 31),\n",
       " ('of', 29),\n",
       " ('to', 22),\n",
       " ('a', 21),\n",
       " ('the', 18),\n",
       " ('and', 17),\n",
       " ('i', 17),\n",
       " ('that', 15),\n",
       " ('it', 14),\n",
       " ('is', 14),\n",
       " ('my', 13),\n",
       " ('in', 12),\n",
       " ('for', 12),\n",
       " ('be', 11),\n",
       " ('his', 11),\n",
       " ('he', 11),\n",
       " ('them', 11),\n",
       " ('mr', 10),\n",
       " ('not', 9),\n",
       " ('will', 9),\n",
       " ('so', 8),\n",
       " ('dear', 8),\n",
       " ('but', 8),\n",
       " ('was', 8),\n",
       " ('are', 8)]"
      ]
     },
     "execution_count": 30,
     "metadata": {},
     "output_type": "execute_result"
    }
   ],
   "source": [
    "# Take top 25 words\n",
    "sorted_word_count[:25]"
   ]
  },
  {
   "cell_type": "markdown",
   "id": "439317e5-e7f4-4d0f-afbb-db32551eeba4",
   "metadata": {},
   "source": [
    "## Question 4.c"
   ]
  },
  {
   "cell_type": "code",
   "execution_count": 31,
   "id": "8c513daa-0baf-482b-b69e-36d37e6edad8",
   "metadata": {},
   "outputs": [],
   "source": [
    "# Generate various permutation of numbers 0,1 and 2\n",
    "permt = list(itertools.permutations(range(0,3)))"
   ]
  },
  {
   "cell_type": "code",
   "execution_count": 32,
   "id": "88b8d4e9-5e15-42c0-b82f-0fb8a2b049d7",
   "metadata": {},
   "outputs": [
    {
     "name": "stdout",
     "output_type": "stream",
     "text": [
      "Item (0, 1, 2)\n",
      "Item (0, 2, 1)\n",
      "Item (1, 0, 2)\n",
      "Item (1, 2, 0)\n",
      "Item (2, 0, 1)\n",
      "Item (2, 1, 0)\n"
     ]
    }
   ],
   "source": [
    "# print and check if each item is a tuple\n",
    "for each_item in permt:\n",
    "    print(f\"Item {each_item}\")\n",
    "    assert isinstance(each_item, tuple)"
   ]
  },
  {
   "cell_type": "code",
   "execution_count": 33,
   "id": "fab35f6d-c035-4c8b-8dd7-b6baa35fa5ef",
   "metadata": {},
   "outputs": [
    {
     "name": "stdout",
     "output_type": "stream",
     "text": [
      "[1, 2]\n",
      "[2, 1]\n",
      "[1, 0, 2]\n",
      "[1, 2, 0]\n",
      "[2, 0, 1]\n",
      "[2, 1, 0]\n"
     ]
    }
   ],
   "source": [
    "# Print items after dropping elements having a leading 0 \n",
    "for each_item in permt:\n",
    "    print(list(itertools.dropwhile(lambda x: x == 0, each_item)))"
   ]
  },
  {
   "cell_type": "code",
   "execution_count": 34,
   "id": "7be1220e-3164-481a-8101-83797e453427",
   "metadata": {},
   "outputs": [],
   "source": [
    "# Function to takes a list of numbers as input and combines all elements to form a single number, i.e. [1,2] -> 12\n",
    "def combine_digits(input_list):\n",
    "    combined_num = 0\n",
    "    for i in range(0, len(input_list)):\n",
    "        try:\n",
    "            combined_num = combined_num + (input_list.pop() * pow(10, i))\n",
    "        except ValueError:\n",
    "            print(\"The input list passed to the function do not contain all valid numerical digits\")\n",
    "    return int(combined_num)"
   ]
  },
  {
   "cell_type": "code",
   "execution_count": 35,
   "id": "0a97351c-7a5c-48ac-9dd5-f83aa0b7daa5",
   "metadata": {},
   "outputs": [
    {
     "name": "stdout",
     "output_type": "stream",
     "text": [
      "Item (0, 1, 2)\n",
      "The number after leading zero removal is 12\n",
      "Item (0, 2, 1)\n",
      "The number after leading zero removal is 21\n",
      "Item (1, 0, 2)\n",
      "The number after leading zero removal is 102\n",
      "Item (1, 2, 0)\n",
      "The number after leading zero removal is 120\n",
      "Item (2, 0, 1)\n",
      "The number after leading zero removal is 201\n",
      "Item (2, 1, 0)\n",
      "The number after leading zero removal is 210\n"
     ]
    }
   ],
   "source": [
    "# Generates list of all posible combinations of 0, 1 and 2. Drops elements having leading zeros \n",
    "# and then combines digits to generate single number from remaining elements\n",
    "permt = list(itertools.permutations(range(0,3)))\n",
    "for each_item in permt:\n",
    "    print(f\"Item {each_item}\")\n",
    "    assert isinstance(each_item, tuple)\n",
    "    combined_num = combine_digits(list(itertools.dropwhile(lambda x: x == 0, each_item)))\n",
    "    assert isinstance(combined_num, int)\n",
    "    print(f\"The number after leading zero removal is {combined_num}\")"
   ]
  },
  {
   "cell_type": "markdown",
   "id": "61028fcb-78f5-4517-a032-cabcfc1d8c6a",
   "metadata": {},
   "source": [
    "## Question 4.d"
   ]
  },
  {
   "cell_type": "code",
   "execution_count": 36,
   "id": "9a948813-aebc-4320-a34d-be70736402d2",
   "metadata": {},
   "outputs": [],
   "source": [
    "# Function to zip column headers with value, populates None if value is missing\n",
    "def convert_to_dict(header, line, fillvalue=None):\n",
    "    return {each_object[0] : each_object[1] for each_object in itertools.zip_longest(header, line, fillvalue=fillvalue)}        "
   ]
  },
  {
   "cell_type": "code",
   "execution_count": 37,
   "id": "03cb3d42-1e5b-4d7a-a7bd-b98e159d97f7",
   "metadata": {},
   "outputs": [
    {
     "name": "stdout",
     "output_type": "stream",
     "text": [
      "File is open\n",
      "{'Region': 'Central America and the Caribbean', 'Country': 'Antigua and Barbuda ', 'Item Type': 'Baby Food', 'Sales Channel': 'Online', 'Order Priority': 'M', 'Order Date': '12/20/2013', 'Order ID': '957081544', 'Ship Date': '1/11/2014', 'Units Sold': '552', 'Unit Price': '255.28', 'Unit Cost': '159.42', 'Total Revenue': '140914.56', 'Total Cost': '87999.84', 'Total Profit': '52914.72'}\n",
      "{'Region': 'Central America and the Caribbean', 'Country': 'Panama', 'Item Type': 'Snacks', 'Sales Channel': 'Offline', 'Order Priority': 'C', 'Order Date': '7/5/2010', 'Order ID': '301644504', 'Ship Date': '7/26/2010', 'Units Sold': '2167', 'Unit Price': '152.58', 'Unit Cost': '97.44', 'Total Revenue': '330640.86', 'Total Cost': '211152.48', 'Total Profit': '119488.38'}\n",
      "{'Region': 'Europe', 'Country': 'Czech Republic', 'Item Type': 'Beverages', 'Sales Channel': 'Offline', 'Order Priority': 'C', 'Order Date': '9/12/2011', 'Order ID': '478051030', 'Ship Date': '9/29/2011', 'Units Sold': '4778', 'Unit Price': '47.45', 'Unit Cost': '31.79', 'Total Revenue': '226716.10', 'Total Cost': '151892.62', 'Total Profit': '74823.48'}\n",
      "{'Region': 'Asia', 'Country': 'North Korea', 'Item Type': 'Cereal', 'Sales Channel': 'Offline', 'Order Priority': 'L', 'Order Date': '5/13/2010', 'Order ID': '892599952', 'Ship Date': '6/15/2010', 'Units Sold': '9016', 'Unit Price': '205.70', 'Unit Cost': '117.11', 'Total Revenue': '1854591.20', 'Total Cost': '1055863.76', 'Total Profit': '798727.44'}\n",
      "{'Region': 'Asia', 'Country': 'Sri Lanka', 'Item Type': 'Snacks', 'Sales Channel': 'Offline', 'Order Priority': 'C', 'Order Date': '7/20/2015', 'Order ID': '571902596', 'Ship Date': '7/27/2015', 'Units Sold': '7542', 'Unit Price': '152.58', 'Unit Cost': '97.44', 'Total Revenue': '1150758.36', 'Total Cost': '734892.48', 'Total Profit': '415865.88'}\n",
      "{'Region': 'Middle East and North Africa', 'Country': 'Morocco', 'Item Type': 'Personal Care', 'Sales Channel': 'Offline', 'Order Priority': 'L', 'Order Date': '11/8/2010', 'Order ID': '412882792', 'Ship Date': '11/22/2010', 'Units Sold': '48', 'Unit Price': '81.73', 'Unit Cost': '56.67', 'Total Revenue': '3923.04', 'Total Cost': '2720.16', 'Total Profit': '1202.88'}\n",
      "{'Region': 'Australia and Oceania', 'Country': 'Federated States of Micronesia', 'Item Type': 'Clothes', 'Sales Channel': 'Offline', 'Order Priority': 'H', 'Order Date': '3/28/2011', 'Order ID': '932776868', 'Ship Date': '5/10/2011', 'Units Sold': '8258', 'Unit Price': '109.28', 'Unit Cost': '35.84', 'Total Revenue': '902434.24', 'Total Cost': '295966.72', 'Total Profit': '606467.52'}\n",
      "{'Region': 'Europe', 'Country': 'Bosnia and Herzegovina', 'Item Type': 'Clothes', 'Sales Channel': 'Online', 'Order Priority': 'M', 'Order Date': '10/14/2013', 'Order ID': '919133651', 'Ship Date': '11/4/2013', 'Units Sold': '927', 'Unit Price': '109.28', 'Unit Cost': '35.84', 'Total Revenue': '101302.56', 'Total Cost': '33223.68', 'Total Profit': '68078.88'}\n",
      "{'Region': 'Middle East and North Africa', 'Country': 'Afghanistan', 'Item Type': 'Clothes', 'Sales Channel': 'Offline', 'Order Priority': 'M', 'Order Date': '8/27/2016', 'Order ID': '579814469', 'Ship Date': '10/5/2016', 'Units Sold': '8841', 'Unit Price': '109.28', 'Unit Cost': '35.84', 'Total Revenue': '966144.48', 'Total Cost': '316861.44', 'Total Profit': '649283.04'}\n",
      "{'Region': 'Sub-Saharan Africa', 'Country': 'Ethiopia', 'Item Type': 'Baby Food', 'Sales Channel': 'Online', 'Order Priority': 'M', 'Order Date': '4/13/2015', 'Order ID': '192993152', 'Ship Date': '5/7/2015', 'Units Sold': '9817', 'Unit Price': '255.28', 'Unit Cost': '159.42', 'Total Revenue': '2506083.76', 'Total Cost': '1565026.14', 'Total Profit': '941057.62'}\n"
     ]
    }
   ],
   "source": [
    "# Open file in read mode and check if its open. Set a counter variable to 0 and start reading each line from the file.\n",
    "# We are not parsing first line (counter=0) as it is a header. All other lines are parsed to a dict using the above user defined function\n",
    "with open(\"sales_record.csv\", \"r\") as csv_file:\n",
    "    if not csv_file.closed:\n",
    "        print(\"File is open\")\n",
    "        i = 0\n",
    "        for each_line in csv_file:\n",
    "            splitted_line = each_line.strip(\"\\n\").split(\",\")\n",
    "            if i < 1:\n",
    "                column_names = splitted_line\n",
    "            else:\n",
    "                parsed_line = convert_to_dict(column_names, splitted_line)\n",
    "                print(parsed_line)\n",
    "            i += 1\n",
    "            \n",
    "            # Added hradcode check to only keep 10 results in output\n",
    "            if i > 10: \n",
    "                break"
   ]
  },
  {
   "cell_type": "code",
   "execution_count": null,
   "id": "9ceccefa-21af-4089-b576-0acf2f3bb18d",
   "metadata": {},
   "outputs": [],
   "source": []
  }
 ],
 "metadata": {
  "kernelspec": {
   "display_name": "Python 3 (ipykernel)",
   "language": "python",
   "name": "python3"
  },
  "language_info": {
   "codemirror_mode": {
    "name": "ipython",
    "version": 3
   },
   "file_extension": ".py",
   "mimetype": "text/x-python",
   "name": "python",
   "nbconvert_exporter": "python",
   "pygments_lexer": "ipython3",
   "version": "3.11.4"
  }
 },
 "nbformat": 4,
 "nbformat_minor": 5
}
