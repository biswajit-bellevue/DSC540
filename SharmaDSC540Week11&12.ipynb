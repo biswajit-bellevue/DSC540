{
 "cells": [
  {
   "cell_type": "markdown",
   "id": "2953ede7-fed0-479f-b63a-714c6b6ad1cd",
   "metadata": {},
   "source": [
    "## Assignment Week 11 and 12 - Biswajit Sharma"
   ]
  },
  {
   "cell_type": "markdown",
   "id": "47c98d2a-d828-4d05-9901-a5d904c4eb93",
   "metadata": {},
   "source": [
    "### Activity 11"
   ]
  },
  {
   "cell_type": "code",
   "execution_count": 1,
   "id": "361f87df-8ff3-4de0-82cf-d20f0c33cc4c",
   "metadata": {},
   "outputs": [],
   "source": [
    "import sqlite3"
   ]
  },
  {
   "cell_type": "code",
   "execution_count": 2,
   "id": "eb8eb891-d3ec-4c2b-9789-a68c28193480",
   "metadata": {},
   "outputs": [],
   "source": [
    "# create a connection\n",
    "conn = sqlite3.connect(\"petsdb\")"
   ]
  },
  {
   "cell_type": "code",
   "execution_count": 3,
   "id": "ca42f1b6-cdda-4a26-8a2b-76de587b3b87",
   "metadata": {},
   "outputs": [],
   "source": [
    "# check for connection was successful by fethcing one row from a table\n",
    "def check_successful_connection(conn):\n",
    "    try:\n",
    "        conn.execute(\"select * from persons limit 1\")\n",
    "        print(\"Connection successful\")\n",
    "    except sqlite3.ProgrammingError as err:\n",
    "        print(f\"Connection not succesful, faced error {err}\")"
   ]
  },
  {
   "cell_type": "code",
   "execution_count": 4,
   "id": "73bc5846-935e-4d9e-8fc2-3ae1cf67662c",
   "metadata": {},
   "outputs": [
    {
     "name": "stdout",
     "output_type": "stream",
     "text": [
      "Connection successful\n"
     ]
    }
   ],
   "source": [
    "check_successful_connection(conn)"
   ]
  },
  {
   "cell_type": "markdown",
   "id": "03397fd7-0de0-4523-9f32-5af294570354",
   "metadata": {},
   "source": [
    "Find diifferent age group in persons table"
   ]
  },
  {
   "cell_type": "code",
   "execution_count": 5,
   "id": "b3cd8eaa-8bf8-4fd5-8e47-52ce5e191052",
   "metadata": {},
   "outputs": [],
   "source": [
    "# declare a cursor\n",
    "cur = conn.cursor()"
   ]
  },
  {
   "cell_type": "code",
   "execution_count": 6,
   "id": "c656368f-cc0f-4016-b51d-2758e1cc10ef",
   "metadata": {},
   "outputs": [],
   "source": [
    "# sql satement\n",
    "sqlstmt = \"select age, count(*) from persons group by age\""
   ]
  },
  {
   "cell_type": "code",
   "execution_count": 7,
   "id": "f185ca48-8ee0-4dfc-b76d-76abd36568e3",
   "metadata": {},
   "outputs": [
    {
     "name": "stdout",
     "output_type": "stream",
     "text": [
      "There is 2 persons with age 5\n",
      "There is 1 persons with age 6\n",
      "There is 1 persons with age 7\n",
      "There is 3 persons with age 8\n",
      "There is 1 persons with age 9\n",
      "There is 2 persons with age 11\n",
      "There is 3 persons with age 12\n",
      "There is 1 persons with age 13\n",
      "There is 4 persons with age 14\n",
      "There is 2 persons with age 16\n",
      "There is 2 persons with age 17\n",
      "There is 3 persons with age 18\n",
      "There is 1 persons with age 19\n",
      "There is 3 persons with age 22\n",
      "There is 2 persons with age 23\n",
      "There is 3 persons with age 24\n",
      "There is 2 persons with age 25\n",
      "There is 1 persons with age 27\n",
      "There is 1 persons with age 30\n",
      "There is 3 persons with age 31\n",
      "There is 1 persons with age 32\n",
      "There is 1 persons with age 33\n",
      "There is 2 persons with age 34\n",
      "There is 3 persons with age 35\n",
      "There is 3 persons with age 36\n",
      "There is 1 persons with age 37\n",
      "There is 2 persons with age 39\n",
      "There is 1 persons with age 40\n",
      "There is 1 persons with age 42\n",
      "There is 2 persons with age 44\n",
      "There is 2 persons with age 48\n",
      "There is 1 persons with age 49\n",
      "There is 1 persons with age 50\n",
      "There is 2 persons with age 51\n",
      "There is 2 persons with age 52\n",
      "There is 2 persons with age 53\n",
      "There is 2 persons with age 54\n",
      "There is 1 persons with age 58\n",
      "There is 1 persons with age 59\n",
      "There is 1 persons with age 60\n",
      "There is 1 persons with age 61\n",
      "There is 2 persons with age 62\n",
      "There is 1 persons with age 63\n",
      "There is 2 persons with age 65\n",
      "There is 2 persons with age 66\n",
      "There is 1 persons with age 67\n",
      "There is 3 persons with age 68\n",
      "There is 1 persons with age 69\n",
      "There is 1 persons with age 70\n",
      "There is 4 persons with age 71\n",
      "There is 1 persons with age 72\n",
      "There is 5 persons with age 73\n",
      "There is 3 persons with age 74\n"
     ]
    }
   ],
   "source": [
    "# execute sql statement and display data\n",
    "data = cur.execute(sqlstmt)\n",
    "for row in data:\n",
    "    print(f\"There is {row[1]} persons with age {row[0]}\")"
   ]
  },
  {
   "cell_type": "markdown",
   "id": "7b0cb8e2-5e80-4184-ada1-bd59b9fd5a38",
   "metadata": {},
   "source": [
    "Find the age group with maximum number of people"
   ]
  },
  {
   "cell_type": "code",
   "execution_count": 8,
   "id": "8875b673-8f58-4cc8-a4e3-a75bd147bf5c",
   "metadata": {},
   "outputs": [],
   "source": [
    "# sql satement\n",
    "sqlstmt = \"select age, count(*) as cnt from persons group by age order by cnt desc\""
   ]
  },
  {
   "cell_type": "code",
   "execution_count": 9,
   "id": "5fe13e3f-2e0c-4c33-9c31-830b90c06ace",
   "metadata": {},
   "outputs": [
    {
     "name": "stdout",
     "output_type": "stream",
     "text": [
      "age group 73 has maximum number of people with 5 people\n"
     ]
    }
   ],
   "source": [
    "# execute sql statement and display data\n",
    "cur.execute(sqlstmt)\n",
    "row = cur.fetchone() # fetchone returns only one row from the resultset\n",
    "print(f\"age group {row[0]} has maximum number of people with {row[1]} people\")"
   ]
  },
  {
   "cell_type": "markdown",
   "id": "6683225c-3c64-40f7-908c-d7d91ae7b587",
   "metadata": {},
   "source": [
    "Find the people who do not have a last name"
   ]
  },
  {
   "cell_type": "code",
   "execution_count": 10,
   "id": "77a9ee21-b4a0-4ddb-9201-f99be77cb2d7",
   "metadata": {},
   "outputs": [],
   "source": [
    "# sql satement\n",
    "sqlstmt = \"select first_name from persons where last_name is null\""
   ]
  },
  {
   "cell_type": "code",
   "execution_count": 11,
   "id": "be4debe2-af21-4dc1-a6e6-725f219f1413",
   "metadata": {},
   "outputs": [
    {
     "name": "stdout",
     "output_type": "stream",
     "text": [
      "Erica do not have a last name\n",
      "Jordi do not have a last name\n",
      "Chasity do not have a last name\n",
      "Gregg do not have a last name\n",
      "Cary do not have a last name\n",
      "Francisca do not have a last name\n",
      "Raleigh do not have a last name\n",
      "Maria do not have a last name\n",
      "Mariane do not have a last name\n",
      "Mona do not have a last name\n",
      "Kayla do not have a last name\n",
      "Karlie do not have a last name\n",
      "Morris do not have a last name\n",
      "Sandy do not have a last name\n",
      "Hector do not have a last name\n",
      "Hiram do not have a last name\n",
      "Tressa do not have a last name\n",
      "Berry do not have a last name\n",
      "Pearline do not have a last name\n",
      "Maynard do not have a last name\n",
      "Dorian do not have a last name\n",
      "Mylene do not have a last name\n",
      "Lafayette do not have a last name\n",
      "Tara do not have a last name\n",
      "Destiny do not have a last name\n",
      "Lesly do not have a last name\n",
      "Perry do not have a last name\n",
      "Maritza do not have a last name\n",
      "Grant do not have a last name\n",
      "Laury do not have a last name\n",
      "Name do not have a last name\n",
      "Estefania do not have a last name\n",
      "Destiney do not have a last name\n",
      "Jaquelin do not have a last name\n",
      "Alfonzo do not have a last name\n",
      "Lisandro do not have a last name\n",
      "Priscilla do not have a last name\n",
      "Elenora do not have a last name\n",
      "Rudolph do not have a last name\n",
      "Ona do not have a last name\n",
      "Rebeca do not have a last name\n",
      "Sigurd do not have a last name\n",
      "Alice do not have a last name\n",
      "Dane do not have a last name\n",
      "Judge do not have a last name\n",
      "Allene do not have a last name\n",
      "Jalen do not have a last name\n",
      "Myron do not have a last name\n",
      "Travon do not have a last name\n",
      "Shayna do not have a last name\n",
      "Myah do not have a last name\n",
      "Letha do not have a last name\n",
      "Felton do not have a last name\n",
      "London do not have a last name\n",
      "Koby do not have a last name\n",
      "Golden do not have a last name\n",
      "Anissa do not have a last name\n",
      "Sid do not have a last name\n",
      "Ernesto do not have a last name\n",
      "Josianne do not have a last name\n"
     ]
    }
   ],
   "source": [
    "# execute sql statement and display data\n",
    "data = cur.execute(sqlstmt)\n",
    "for row in data:\n",
    "    print(f\"{row[0]} do not have a last name\")"
   ]
  },
  {
   "cell_type": "code",
   "execution_count": 12,
   "id": "a00d90d6-4fcd-4494-965d-505c78b8997e",
   "metadata": {},
   "outputs": [],
   "source": [
    "# sql satement\n",
    "sqlstmt = \"select count(*) from persons where last_name is null\""
   ]
  },
  {
   "cell_type": "code",
   "execution_count": 13,
   "id": "7659526a-5edf-429d-8c6a-c8d862f917b6",
   "metadata": {},
   "outputs": [
    {
     "name": "stdout",
     "output_type": "stream",
     "text": [
      "60 people do not have last name\n"
     ]
    }
   ],
   "source": [
    "# execute sql statement and display data\n",
    "cur.execute(sqlstmt)\n",
    "row = cur.fetchone()\n",
    "print(f\"{row[0]} people do not have last name\")"
   ]
  },
  {
   "cell_type": "markdown",
   "id": "1fd1430f-6125-4faa-b58c-8ba95d5aa219",
   "metadata": {},
   "source": [
    "Find how many people have more than one pet"
   ]
  },
  {
   "cell_type": "code",
   "execution_count": 14,
   "id": "44e45f7f-1d7d-404e-9dc6-0897a790ac2c",
   "metadata": {},
   "outputs": [],
   "source": [
    "# sql satement\n",
    "sqlstmt = \"select count(*) from (select count(owner_id) as cnt from pets group by owner_id having cnt > 1)\""
   ]
  },
  {
   "cell_type": "code",
   "execution_count": 15,
   "id": "42c8282c-bb31-45ea-8f27-52a2aa377402",
   "metadata": {},
   "outputs": [
    {
     "name": "stdout",
     "output_type": "stream",
     "text": [
      "43 persons have more than one pet\n"
     ]
    }
   ],
   "source": [
    "# execute sql statement and display data\n",
    "cur.execute(sqlstmt)\n",
    "row = cur.fetchone()\n",
    "print(f\"{row[0]} persons have more than one pet\")"
   ]
  },
  {
   "cell_type": "markdown",
   "id": "765a1e2d-a7f8-4467-8e5a-4cec37c46057",
   "metadata": {},
   "source": [
    "Find how many pets have received treatment"
   ]
  },
  {
   "cell_type": "code",
   "execution_count": 16,
   "id": "cc137723-0cef-4753-bf67-8ef903b7ad88",
   "metadata": {},
   "outputs": [],
   "source": [
    "# sql satement\n",
    "sqlstmt = \"select count(*) from pets where treatment_done=1\""
   ]
  },
  {
   "cell_type": "code",
   "execution_count": 17,
   "id": "7d06eecd-57eb-429f-9fc5-d919f3bb64db",
   "metadata": {},
   "outputs": [
    {
     "name": "stdout",
     "output_type": "stream",
     "text": [
      "36 pets have received treatment\n"
     ]
    }
   ],
   "source": [
    "# execute sql statement and display data\n",
    "cur.execute(sqlstmt)\n",
    "row = cur.fetchone()\n",
    "print(f\"{row[0]} pets have received treatment\")"
   ]
  },
  {
   "cell_type": "markdown",
   "id": "a10531dc-906b-4ad7-a1b1-fb89d079e3a9",
   "metadata": {},
   "source": [
    "How many pets have received treatment and the type of pet is known"
   ]
  },
  {
   "cell_type": "code",
   "execution_count": 18,
   "id": "ae840bda-1126-4187-8006-d58c2b37135c",
   "metadata": {},
   "outputs": [],
   "source": [
    "# sql satement\n",
    "sqlstmt = f\"select count(*) from pets where treatment_done=1 and pet_type is not null\""
   ]
  },
  {
   "cell_type": "code",
   "execution_count": 19,
   "id": "d1b6acf7-448e-43a2-8b05-583d4c1a4b60",
   "metadata": {},
   "outputs": [
    {
     "name": "stdout",
     "output_type": "stream",
     "text": [
      "16 pets have received treatment when the pet type is known\n"
     ]
    }
   ],
   "source": [
    "# execute sql statement and display data\n",
    "cur.execute(sqlstmt)\n",
    "row = cur.fetchone()\n",
    "print(f\"{row[0]} pets have received treatment when the pet type is known\")"
   ]
  },
  {
   "cell_type": "markdown",
   "id": "9302a3c6-4a9e-4278-beff-a83741da82b4",
   "metadata": {},
   "source": [
    "How many pets are from city east port"
   ]
  },
  {
   "cell_type": "code",
   "execution_count": 20,
   "id": "37c70e63-c74b-496f-8b88-b5ab1f8aa530",
   "metadata": {},
   "outputs": [],
   "source": [
    "# sql satement\n",
    "sqlstmt = f\"select count(*) from pets inner join persons on pets.owner_id=persons.id where persons.city='east port'\""
   ]
  },
  {
   "cell_type": "code",
   "execution_count": 21,
   "id": "b7f0aa28-2f1c-4e33-a694-d614498cc2be",
   "metadata": {},
   "outputs": [
    {
     "name": "stdout",
     "output_type": "stream",
     "text": [
      "49 pets are from city east port\n"
     ]
    }
   ],
   "source": [
    "# execute sql statement and display data\n",
    "cur.execute(sqlstmt)\n",
    "row = cur.fetchone()\n",
    "print(f\"{row[0]} pets are from city east port\")"
   ]
  },
  {
   "cell_type": "markdown",
   "id": "e8df6ca8-b515-414c-bd96-f337b2b72594",
   "metadata": {},
   "source": [
    "How many pets are from city east port who received a treatment"
   ]
  },
  {
   "cell_type": "code",
   "execution_count": 22,
   "id": "964394da-04ec-45a5-bc92-a324f9403e85",
   "metadata": {},
   "outputs": [],
   "source": [
    "# sql satement\n",
    "sqlstmt = f\"select count(*) from pets inner join persons on pets.owner_id=persons.id where persons.city='east port' and pets.treatment_done=1\""
   ]
  },
  {
   "cell_type": "code",
   "execution_count": 23,
   "id": "bc443bd5-1dcc-4d4d-b7e4-a53ab62996b4",
   "metadata": {},
   "outputs": [
    {
     "name": "stdout",
     "output_type": "stream",
     "text": [
      "11 pets are from city east port and who received treatment\n"
     ]
    }
   ],
   "source": [
    "# execute sql statement and display data\n",
    "cur.execute(sqlstmt)\n",
    "row = cur.fetchone()\n",
    "print(f\"{row[0]} pets are from city east port and who received treatment\")"
   ]
  },
  {
   "cell_type": "code",
   "execution_count": 24,
   "id": "5b8a9ed7-e1a5-4583-8182-5b997ccf7d28",
   "metadata": {},
   "outputs": [],
   "source": [
    "# Close connection to the DB\n",
    "cur.close()"
   ]
  },
  {
   "cell_type": "code",
   "execution_count": null,
   "id": "395c128b-bda5-45a6-b8e8-0a82fe6232ad",
   "metadata": {},
   "outputs": [],
   "source": []
  }
 ],
 "metadata": {
  "kernelspec": {
   "display_name": "Python 3 (ipykernel)",
   "language": "python",
   "name": "python3"
  },
  "language_info": {
   "codemirror_mode": {
    "name": "ipython",
    "version": 3
   },
   "file_extension": ".py",
   "mimetype": "text/x-python",
   "name": "python",
   "nbconvert_exporter": "python",
   "pygments_lexer": "ipython3",
   "version": "3.11.4"
  }
 },
 "nbformat": 4,
 "nbformat_minor": 5
}
