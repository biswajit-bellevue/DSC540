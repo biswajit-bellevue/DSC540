{
 "cells": [
  {
   "cell_type": "markdown",
   "id": "54886fbe-29fa-4a93-81fb-e1d99f1157eb",
   "metadata": {},
   "source": [
    "# Assignment Weelk 5 and 6 - Biswajit Sharma"
   ]
  },
  {
   "cell_type": "markdown",
   "id": "9272df37-7cda-483a-8621-2632ae8687f9",
   "metadata": {},
   "source": [
    "## Question 1 - Activity 7"
   ]
  },
  {
   "cell_type": "code",
   "execution_count": 12,
   "id": "79130e33-4e90-4654-b14d-423b3075c593",
   "metadata": {},
   "outputs": [],
   "source": [
    "from bs4 import BeautifulSoup\n",
    "import pandas as pd\n",
    "from matplotlib import pyplot as plt"
   ]
  },
  {
   "cell_type": "code",
   "execution_count": 2,
   "id": "8af4d1f1-77d8-42d2-a706-2880ad821956",
   "metadata": {},
   "outputs": [],
   "source": [
    "# Had to read in binary(rb) and decode to utf-8 unicode to avoid unicode error\n",
    "with open(\"List of countries by GDP (nominal) - Wikipedia.htm\", \"rb\") as html_file:\n",
    "    soup = BeautifulSoup(html_file.read().decode(\"utf-8\"))\n",
    "    table = soup.find_all(\"table\")"
   ]
  },
  {
   "cell_type": "code",
   "execution_count": 3,
   "id": "6f8aae1e-ef7b-4485-9c09-68fb23784836",
   "metadata": {},
   "outputs": [
    {
     "name": "stdout",
     "output_type": "stream",
     "text": [
      "Number of tables in webpage: 9\n"
     ]
    }
   ],
   "source": [
    "# Check how many tables in the html page\n",
    "print(f\"Number of tables in webpage: {len(table)}\")"
   ]
  },
  {
   "cell_type": "code",
   "execution_count": 10,
   "id": "61e6822a-6c5e-45b7-99fe-91a748dfb4d5",
   "metadata": {},
   "outputs": [],
   "source": [
    "#Find the correct table using class attribute\n",
    "table = soup.find(\"table\", {\"class\": '\"wikitable\"|}'})"
   ]
  },
  {
   "cell_type": "code",
   "execution_count": 11,
   "id": "66aada0e-fc19-4302-999a-7a702abcbd4f",
   "metadata": {},
   "outputs": [],
   "source": [
    "# Find all table rows within table body element\n",
    "table_row1 = table.tbody.findAll(\"tr\", recursive=False)[0]"
   ]
  },
  {
   "cell_type": "code",
   "execution_count": 12,
   "id": "9679b951-36a3-4b18-b33d-43989042fd0e",
   "metadata": {},
   "outputs": [
    {
     "data": {
      "text/plain": [
       "['International Monetary Fund', 'World Bank', 'United Nations']"
      ]
     },
     "execution_count": 12,
     "metadata": {},
     "output_type": "execute_result"
    }
   ],
   "source": [
    "# Extract text from a tag of all the td element --> these contain the source names\n",
    "source_names = [td.b.a.get_text() for td in table_row1.findAll(\"td\", recursive=False)]\n",
    "source_names"
   ]
  },
  {
   "cell_type": "code",
   "execution_count": null,
   "id": "d32b8ec5-7825-4425-b7c9-54b8d3157628",
   "metadata": {},
   "outputs": [],
   "source": [
    "#Extract the data tables\n",
    "data_tables = [tbl.table for tbl in table.tbody.findAll(\"tr\", recursive=False)[1].find_all(\"td\", recursive=False)]"
   ]
  },
  {
   "cell_type": "code",
   "execution_count": 41,
   "id": "cb346e31-3d28-46ed-844a-9c7a5c4d7ae2",
   "metadata": {},
   "outputs": [
    {
     "data": {
      "text/plain": [
       "['Rank', 'Country', 'GDP(US$MM)']"
      ]
     },
     "execution_count": 41,
     "metadata": {},
     "output_type": "execute_result"
    }
   ],
   "source": [
    "# Separate header from data table of first source\n",
    "header_src1 = [th.get_text().strip() for th in data_tables[0].find_all(\"thead\", recursive=False)[0].tr.find_all(\"th\")]\n",
    "header_src1"
   ]
  },
  {
   "cell_type": "code",
   "execution_count": 43,
   "id": "0c412bda-2a45-40ff-8d84-db85a53c63bc",
   "metadata": {},
   "outputs": [],
   "source": [
    "# Separate data for first source\n",
    "data = []\n",
    "table_rows = data_tables[0].find_all(\"tbody\")[0].find_all(\"tr\")\n",
    "for tr in table_rows[1:]:\n",
    "    data.append([td.get_text().strip() for td in tr.find_all(\"td\")])"
   ]
  },
  {
   "cell_type": "code",
   "execution_count": 45,
   "id": "4d298681-c220-41cd-89ac-822dca3ce075",
   "metadata": {},
   "outputs": [],
   "source": [
    "imf_df = pd.DataFrame(data=data, columns=header_src1)"
   ]
  },
  {
   "cell_type": "code",
   "execution_count": 46,
   "id": "a51fc7b5-4439-4907-9f6d-7fb1b33622f9",
   "metadata": {},
   "outputs": [
    {
     "data": {
      "text/html": [
       "<div>\n",
       "<style scoped>\n",
       "    .dataframe tbody tr th:only-of-type {\n",
       "        vertical-align: middle;\n",
       "    }\n",
       "\n",
       "    .dataframe tbody tr th {\n",
       "        vertical-align: top;\n",
       "    }\n",
       "\n",
       "    .dataframe thead th {\n",
       "        text-align: right;\n",
       "    }\n",
       "</style>\n",
       "<table border=\"1\" class=\"dataframe\">\n",
       "  <thead>\n",
       "    <tr style=\"text-align: right;\">\n",
       "      <th></th>\n",
       "      <th>Rank</th>\n",
       "      <th>Country</th>\n",
       "      <th>GDP(US$MM)</th>\n",
       "    </tr>\n",
       "  </thead>\n",
       "  <tbody>\n",
       "    <tr>\n",
       "      <th>0</th>\n",
       "      <td>1</td>\n",
       "      <td>United States</td>\n",
       "      <td>19,390,600</td>\n",
       "    </tr>\n",
       "    <tr>\n",
       "      <th>1</th>\n",
       "      <td>2</td>\n",
       "      <td>China[n 1]</td>\n",
       "      <td>12,014,610</td>\n",
       "    </tr>\n",
       "    <tr>\n",
       "      <th>2</th>\n",
       "      <td>3</td>\n",
       "      <td>Japan</td>\n",
       "      <td>4,872,135</td>\n",
       "    </tr>\n",
       "    <tr>\n",
       "      <th>3</th>\n",
       "      <td>4</td>\n",
       "      <td>Germany</td>\n",
       "      <td>3,684,816</td>\n",
       "    </tr>\n",
       "    <tr>\n",
       "      <th>4</th>\n",
       "      <td>5</td>\n",
       "      <td>United Kingdom</td>\n",
       "      <td>2,624,529</td>\n",
       "    </tr>\n",
       "  </tbody>\n",
       "</table>\n",
       "</div>"
      ],
      "text/plain": [
       "  Rank         Country  GDP(US$MM)\n",
       "0    1   United States  19,390,600\n",
       "1    2      China[n 1]  12,014,610\n",
       "2    3           Japan   4,872,135\n",
       "3    4         Germany   3,684,816\n",
       "4    5  United Kingdom   2,624,529"
      ]
     },
     "execution_count": 46,
     "metadata": {},
     "output_type": "execute_result"
    }
   ],
   "source": [
    "imf_df.head()"
   ]
  },
  {
   "cell_type": "markdown",
   "id": "b528a49c-698b-4168-8fda-d8f43fb4cb94",
   "metadata": {},
   "source": [
    "### Do the same for the other two sources"
   ]
  },
  {
   "cell_type": "code",
   "execution_count": 166,
   "id": "afd4285f-db7d-481f-af64-fd4c4b2e4074",
   "metadata": {},
   "outputs": [],
   "source": [
    "# # Function to extract gdp data from html table \n",
    "# def extract_gdp_data(data_tables, table_index):\n",
    "#     data = []\n",
    "#     table_rows = data_tables[table_index].find_all(\"tr\")[1:]\n",
    "#     for tr in table_rows:\n",
    "#         for num, td in enumerate(tr.find_all(\"td\", limit=3)):\n",
    "#             if num == 0:\n",
    "#                 rank=td.get_text().strip()\n",
    "#             elif num == 1:\n",
    "#                 country=td.get_text().strip()\n",
    "#             elif num == 2:\n",
    "#                 if table_index > 0:\n",
    "#                     td.span.extract()\n",
    "#                 gdp=td.get_text().strip()\n",
    "#         data.append([rank, country, gdp])\n",
    "#     return data"
   ]
  },
  {
   "cell_type": "code",
   "execution_count": 160,
   "id": "d891f839-30c6-451e-8a5f-002368d986e4",
   "metadata": {},
   "outputs": [],
   "source": [
    "# Extarct data for World Bank source\n",
    "# wb_data = extract_gdp_data(data_tables, 1)"
   ]
  },
  {
   "cell_type": "code",
   "execution_count": 48,
   "id": "6d9f3f77-466b-43c8-bf61-43d8a0ac73db",
   "metadata": {},
   "outputs": [
    {
     "data": {
      "text/plain": [
       "['Rank', 'Country', 'GDP(US$MM)']"
      ]
     },
     "execution_count": 48,
     "metadata": {},
     "output_type": "execute_result"
    }
   ],
   "source": [
    "# Separate header from data table of second source\n",
    "header_src2 = [th.get_text().strip() for th in data_tables[1].find_all(\"thead\", recursive=False)[0].tr.find_all(\"th\")]\n",
    "header_src2"
   ]
  },
  {
   "cell_type": "code",
   "execution_count": 49,
   "id": "a57dd76d-099a-408b-95dc-11f9a7b5b172",
   "metadata": {},
   "outputs": [],
   "source": [
    "# Clean text function\n",
    "def clean_text(idx, text):\n",
    "    if idx > 1:\n",
    "        return text.split(\"♠\")[1].strip()\n",
    "    else:\n",
    "        return text.strip()\n",
    "    "
   ]
  },
  {
   "cell_type": "code",
   "execution_count": 50,
   "id": "40f6f347-83fe-4fb4-9a7e-1e773ec5bf9d",
   "metadata": {},
   "outputs": [],
   "source": [
    "# Separate data for second source\n",
    "data = []\n",
    "table_rows = data_tables[1].find_all(\"tbody\")[0].find_all(\"tr\")\n",
    "for tr in table_rows[1:]:\n",
    "    data.append([clean_text(i, td.get_text()) for i, td in enumerate(tr.find_all(\"td\"))])"
   ]
  },
  {
   "cell_type": "code",
   "execution_count": 52,
   "id": "e520845d-2c4f-4eac-9765-d6348034e035",
   "metadata": {},
   "outputs": [],
   "source": [
    "world_df = pd.DataFrame(data=data, columns=header_src2)"
   ]
  },
  {
   "cell_type": "code",
   "execution_count": 53,
   "id": "0fa74098-35e5-4954-8edb-b3106e1bd5b1",
   "metadata": {},
   "outputs": [
    {
     "data": {
      "text/html": [
       "<div>\n",
       "<style scoped>\n",
       "    .dataframe tbody tr th:only-of-type {\n",
       "        vertical-align: middle;\n",
       "    }\n",
       "\n",
       "    .dataframe tbody tr th {\n",
       "        vertical-align: top;\n",
       "    }\n",
       "\n",
       "    .dataframe thead th {\n",
       "        text-align: right;\n",
       "    }\n",
       "</style>\n",
       "<table border=\"1\" class=\"dataframe\">\n",
       "  <thead>\n",
       "    <tr style=\"text-align: right;\">\n",
       "      <th></th>\n",
       "      <th>Rank</th>\n",
       "      <th>Country</th>\n",
       "      <th>GDP(US$MM)</th>\n",
       "    </tr>\n",
       "  </thead>\n",
       "  <tbody>\n",
       "    <tr>\n",
       "      <th>0</th>\n",
       "      <td>1</td>\n",
       "      <td>United States</td>\n",
       "      <td>19,390,604</td>\n",
       "    </tr>\n",
       "    <tr>\n",
       "      <th>1</th>\n",
       "      <td></td>\n",
       "      <td>European Union[23]</td>\n",
       "      <td>17,277,698</td>\n",
       "    </tr>\n",
       "    <tr>\n",
       "      <th>2</th>\n",
       "      <td>2</td>\n",
       "      <td>China[n 4]</td>\n",
       "      <td>12,237,700</td>\n",
       "    </tr>\n",
       "    <tr>\n",
       "      <th>3</th>\n",
       "      <td>3</td>\n",
       "      <td>Japan</td>\n",
       "      <td>4,872,137</td>\n",
       "    </tr>\n",
       "    <tr>\n",
       "      <th>4</th>\n",
       "      <td>4</td>\n",
       "      <td>Germany</td>\n",
       "      <td>3,677,439</td>\n",
       "    </tr>\n",
       "  </tbody>\n",
       "</table>\n",
       "</div>"
      ],
      "text/plain": [
       "  Rank             Country  GDP(US$MM)\n",
       "0    1       United States  19,390,604\n",
       "1       European Union[23]  17,277,698\n",
       "2    2          China[n 4]  12,237,700\n",
       "3    3               Japan   4,872,137\n",
       "4    4             Germany   3,677,439"
      ]
     },
     "execution_count": 53,
     "metadata": {},
     "output_type": "execute_result"
    }
   ],
   "source": [
    "world_df.head()"
   ]
  },
  {
   "cell_type": "code",
   "execution_count": 54,
   "id": "3061dbb8-c826-4d1f-acd5-6ead6cdf61af",
   "metadata": {},
   "outputs": [
    {
     "data": {
      "text/plain": [
       "['Rank', 'Country', 'GDP(US$MM)']"
      ]
     },
     "execution_count": 54,
     "metadata": {},
     "output_type": "execute_result"
    }
   ],
   "source": [
    "# Separate header from data table of second source\n",
    "header_src3 = [th.get_text().strip() for th in data_tables[2].find_all(\"thead\", recursive=False)[0].tr.find_all(\"th\")]\n",
    "header_src3"
   ]
  },
  {
   "cell_type": "code",
   "execution_count": 55,
   "id": "f6e70a6d-ee41-418b-b439-2ed75649ace7",
   "metadata": {},
   "outputs": [],
   "source": [
    "# Separate data for third source\n",
    "data = []\n",
    "table_rows = data_tables[2].find_all(\"tbody\")[0].find_all(\"tr\")\n",
    "for tr in table_rows[1:]:\n",
    "    data.append([clean_text(i, td.get_text()) for i, td in enumerate(tr.find_all(\"td\"))])"
   ]
  },
  {
   "cell_type": "code",
   "execution_count": 56,
   "id": "df13b913-7f6b-4170-8c12-b13c02cbb706",
   "metadata": {},
   "outputs": [],
   "source": [
    "un_df = pd.DataFrame(data=data, columns=header_src3)"
   ]
  },
  {
   "cell_type": "code",
   "execution_count": 57,
   "id": "57cbf613-d550-4aee-8101-80eb1c6b202e",
   "metadata": {},
   "outputs": [
    {
     "data": {
      "text/html": [
       "<div>\n",
       "<style scoped>\n",
       "    .dataframe tbody tr th:only-of-type {\n",
       "        vertical-align: middle;\n",
       "    }\n",
       "\n",
       "    .dataframe tbody tr th {\n",
       "        vertical-align: top;\n",
       "    }\n",
       "\n",
       "    .dataframe thead th {\n",
       "        text-align: right;\n",
       "    }\n",
       "</style>\n",
       "<table border=\"1\" class=\"dataframe\">\n",
       "  <thead>\n",
       "    <tr style=\"text-align: right;\">\n",
       "      <th></th>\n",
       "      <th>Rank</th>\n",
       "      <th>Country</th>\n",
       "      <th>GDP(US$MM)</th>\n",
       "    </tr>\n",
       "  </thead>\n",
       "  <tbody>\n",
       "    <tr>\n",
       "      <th>0</th>\n",
       "      <td>1</td>\n",
       "      <td>United States</td>\n",
       "      <td>18,624,475</td>\n",
       "    </tr>\n",
       "    <tr>\n",
       "      <th>1</th>\n",
       "      <td>2</td>\n",
       "      <td>China[n 4]</td>\n",
       "      <td>11,218,281</td>\n",
       "    </tr>\n",
       "    <tr>\n",
       "      <th>2</th>\n",
       "      <td>3</td>\n",
       "      <td>Japan</td>\n",
       "      <td>4,936,211</td>\n",
       "    </tr>\n",
       "    <tr>\n",
       "      <th>3</th>\n",
       "      <td>4</td>\n",
       "      <td>Germany</td>\n",
       "      <td>3,477,796</td>\n",
       "    </tr>\n",
       "    <tr>\n",
       "      <th>4</th>\n",
       "      <td>5</td>\n",
       "      <td>United Kingdom</td>\n",
       "      <td>2,647,898</td>\n",
       "    </tr>\n",
       "  </tbody>\n",
       "</table>\n",
       "</div>"
      ],
      "text/plain": [
       "  Rank         Country  GDP(US$MM)\n",
       "0    1   United States  18,624,475\n",
       "1    2      China[n 4]  11,218,281\n",
       "2    3           Japan   4,936,211\n",
       "3    4         Germany   3,477,796\n",
       "4    5  United Kingdom   2,647,898"
      ]
     },
     "execution_count": 57,
     "metadata": {},
     "output_type": "execute_result"
    }
   ],
   "source": [
    "un_df.head()"
   ]
  },
  {
   "cell_type": "markdown",
   "id": "b0ed0523-ef78-44e7-b104-650af0b1c5c4",
   "metadata": {},
   "source": [
    "## Question 2 - Activity 8"
   ]
  },
  {
   "cell_type": "code",
   "execution_count": 17,
   "id": "b950e63b-cbf5-47ae-9d3b-d64258565421",
   "metadata": {},
   "outputs": [],
   "source": [
    "#read visit_data.csv\n",
    "visit_df = pd.read_csv(\"visit_data.csv\")"
   ]
  },
  {
   "cell_type": "code",
   "execution_count": 18,
   "id": "bdc442aa-c028-4396-af1e-c47d386b1d0a",
   "metadata": {},
   "outputs": [
    {
     "data": {
      "text/html": [
       "<div>\n",
       "<style scoped>\n",
       "    .dataframe tbody tr th:only-of-type {\n",
       "        vertical-align: middle;\n",
       "    }\n",
       "\n",
       "    .dataframe tbody tr th {\n",
       "        vertical-align: top;\n",
       "    }\n",
       "\n",
       "    .dataframe thead th {\n",
       "        text-align: right;\n",
       "    }\n",
       "</style>\n",
       "<table border=\"1\" class=\"dataframe\">\n",
       "  <thead>\n",
       "    <tr style=\"text-align: right;\">\n",
       "      <th></th>\n",
       "      <th>id</th>\n",
       "      <th>first_name</th>\n",
       "      <th>last_name</th>\n",
       "      <th>email</th>\n",
       "      <th>gender</th>\n",
       "      <th>ip_address</th>\n",
       "      <th>visit</th>\n",
       "    </tr>\n",
       "  </thead>\n",
       "  <tbody>\n",
       "    <tr>\n",
       "      <th>0</th>\n",
       "      <td>1</td>\n",
       "      <td>Sonny</td>\n",
       "      <td>Dahl</td>\n",
       "      <td>sdahl0@mysql.com</td>\n",
       "      <td>Male</td>\n",
       "      <td>135.36.96.183</td>\n",
       "      <td>1225.0</td>\n",
       "    </tr>\n",
       "    <tr>\n",
       "      <th>1</th>\n",
       "      <td>2</td>\n",
       "      <td>NaN</td>\n",
       "      <td>NaN</td>\n",
       "      <td>dhoovart1@hud.gov</td>\n",
       "      <td>NaN</td>\n",
       "      <td>237.165.194.143</td>\n",
       "      <td>919.0</td>\n",
       "    </tr>\n",
       "    <tr>\n",
       "      <th>2</th>\n",
       "      <td>3</td>\n",
       "      <td>Gar</td>\n",
       "      <td>Armal</td>\n",
       "      <td>garmal2@technorati.com</td>\n",
       "      <td>NaN</td>\n",
       "      <td>166.43.137.224</td>\n",
       "      <td>271.0</td>\n",
       "    </tr>\n",
       "    <tr>\n",
       "      <th>3</th>\n",
       "      <td>4</td>\n",
       "      <td>Chiarra</td>\n",
       "      <td>Nulty</td>\n",
       "      <td>cnulty3@newyorker.com</td>\n",
       "      <td>NaN</td>\n",
       "      <td>139.98.137.108</td>\n",
       "      <td>1002.0</td>\n",
       "    </tr>\n",
       "    <tr>\n",
       "      <th>4</th>\n",
       "      <td>5</td>\n",
       "      <td>NaN</td>\n",
       "      <td>NaN</td>\n",
       "      <td>sleaver4@elegantthemes.com</td>\n",
       "      <td>NaN</td>\n",
       "      <td>46.117.117.27</td>\n",
       "      <td>2434.0</td>\n",
       "    </tr>\n",
       "  </tbody>\n",
       "</table>\n",
       "</div>"
      ],
      "text/plain": [
       "   id first_name last_name                       email gender  \\\n",
       "0   1      Sonny      Dahl            sdahl0@mysql.com   Male   \n",
       "1   2        NaN       NaN           dhoovart1@hud.gov    NaN   \n",
       "2   3        Gar     Armal      garmal2@technorati.com    NaN   \n",
       "3   4    Chiarra     Nulty       cnulty3@newyorker.com    NaN   \n",
       "4   5        NaN       NaN  sleaver4@elegantthemes.com    NaN   \n",
       "\n",
       "        ip_address   visit  \n",
       "0    135.36.96.183  1225.0  \n",
       "1  237.165.194.143   919.0  \n",
       "2   166.43.137.224   271.0  \n",
       "3   139.98.137.108  1002.0  \n",
       "4    46.117.117.27  2434.0  "
      ]
     },
     "execution_count": 18,
     "metadata": {},
     "output_type": "execute_result"
    }
   ],
   "source": [
    "# View few rows\n",
    "visit_df.head()"
   ]
  },
  {
   "cell_type": "code",
   "execution_count": 19,
   "id": "0ac3980f-ff7a-4c6b-b6d6-b039689a3dc0",
   "metadata": {},
   "outputs": [
    {
     "data": {
      "text/plain": [
       "0"
      ]
     },
     "execution_count": 19,
     "metadata": {},
     "output_type": "execute_result"
    }
   ],
   "source": [
    "#check for duplicates\n",
    "visit_df.duplicated().sum()"
   ]
  },
  {
   "cell_type": "code",
   "execution_count": 20,
   "id": "9bcc2407-f340-4526-a91d-33f7aee6be91",
   "metadata": {},
   "outputs": [
    {
     "data": {
      "text/plain": [
       "id              0\n",
       "first_name    296\n",
       "last_name     296\n",
       "email           0\n",
       "gender        505\n",
       "ip_address      0\n",
       "visit          26\n",
       "dtype: int64"
      ]
     },
     "execution_count": 20,
     "metadata": {},
     "output_type": "execute_result"
    }
   ],
   "source": [
    "#check for NaNs\n",
    "visit_df.isna().sum()"
   ]
  },
  {
   "cell_type": "markdown",
   "id": "ba9f17f1-4b1e-4e41-8ee6-a80217de1fd2",
   "metadata": {},
   "source": [
    "we see that first_name, lat_name, gender,visit columns have NaN.\n",
    "Seems like based on the task visit is the only numerical column and probably be used in analysis, sp this column should not have NaN at all.\n",
    "These NaN vales are `outliers` for this column."
   ]
  },
  {
   "cell_type": "code",
   "execution_count": 21,
   "id": "6f736b50-71ae-489a-b0b0-ec061d5f1ab6",
   "metadata": {},
   "outputs": [
    {
     "name": "stdout",
     "output_type": "stream",
     "text": [
      "The size before drop is 1000\n",
      "The size before drop is 974\n"
     ]
    }
   ],
   "source": [
    "#Drop outliers(NaN) in visit column\n",
    "prev_size = visit_df.shape[0]\n",
    "print(f\"The size before drop is {prev_size}\")\n",
    "visit_df = visit_df[visit_df[\"visit\"].isna() == False]\n",
    "after_size = visit_df.shape[0]\n",
    "print(f\"The size before drop is {after_size}\")"
   ]
  },
  {
   "cell_type": "code",
   "execution_count": 22,
   "id": "8f2aa975-dda3-4e9f-b9a6-34178b885912",
   "metadata": {},
   "outputs": [
    {
     "name": "stdout",
     "output_type": "stream",
     "text": [
      "The difference size is 26\n"
     ]
    }
   ],
   "source": [
    "#difference in size\n",
    "print(f\"The difference size is {prev_size - after_size}\")"
   ]
  },
  {
   "cell_type": "code",
   "execution_count": 16,
   "id": "fe32ea82-e503-420b-a2b5-a49448f6f074",
   "metadata": {},
   "outputs": [
    {
     "data": {
      "image/png": "[encoded data removed]",
      "text/plain": [
       "<Figure size 640x480 with 1 Axes>"
      ]
     },
     "metadata": {},
     "output_type": "display_data"
    }
   ],
   "source": [
    "#check for outliers in visit column\n",
    "plt.boxplot(visit_df[\"visit\"])\n",
    "plt.ylabel(\"Count\")\n",
    "plt.title(\"Box plot of visits\")\n",
    "plt.show()"
   ]
  },
  {
   "cell_type": "markdown",
   "id": "4476808d-dc75-42ce-90c5-249a707fe989",
   "metadata": {},
   "source": [
    "As we can see that we have data in visit column between 0-3000. However, the main concentration of the data is between ~700 to ~2300. Let us say that anything beyond 2900 and bellow 100 are outliers and lets get rid of them"
   ]
  },
  {
   "cell_type": "code",
   "execution_count": 24,
   "id": "45d9235f-82a6-442a-bca0-f73ee072f6dd",
   "metadata": {},
   "outputs": [],
   "source": [
    "modified_df = visit_df[(visit_df[\"visit\"] > 100) & (visit_df[\"visit\"] < 2900) ]"
   ]
  },
  {
   "cell_type": "code",
   "execution_count": 25,
   "id": "c801f681-3787-4d9a-83b8-240ffdb4d412",
   "metadata": {},
   "outputs": [
    {
     "name": "stdout",
     "output_type": "stream",
     "text": [
      "The size of the dataframe after dropping outliers is 923\n"
     ]
    }
   ],
   "source": [
    "print(f\"The size of the dataframe after dropping outliers is {modified_df.shape[0]}\")"
   ]
  },
  {
   "cell_type": "markdown",
   "id": "f6ab194f-0ca3-4e92-82c1-174d65021e2b",
   "metadata": {},
   "source": [
    "## Question 3 "
   ]
  },
  {
   "cell_type": "code",
   "execution_count": 2,
   "id": "1931b23a-b59b-4a41-80b5-2623bf2dfaee",
   "metadata": {},
   "outputs": [],
   "source": [
    "import sqlite3"
   ]
  },
  {
   "cell_type": "code",
   "execution_count": 3,
   "id": "8a98384c-c1e9-44de-984f-e8ecd2fcf6ff",
   "metadata": {},
   "outputs": [],
   "source": [
    "# create a connection to a sqlite datanbase\n",
    "conn = sqlite3.connect(\"week5.sqlite\")"
   ]
  },
  {
   "cell_type": "code",
   "execution_count": 4,
   "id": "4c6d82d8-8479-456d-98e1-1065bf8dce46",
   "metadata": {},
   "outputs": [],
   "source": [
    "#create a cursor object\n",
    "cur = conn.cursor()"
   ]
  },
  {
   "cell_type": "code",
   "execution_count": 33,
   "id": "536afca0-f594-4e07-aa95-d718ccc065c6",
   "metadata": {},
   "outputs": [
    {
     "data": {
      "text/plain": [
       "<sqlite3.Cursor at 0x27d20b8ce40>"
      ]
     },
     "execution_count": 33,
     "metadata": {},
     "output_type": "execute_result"
    }
   ],
   "source": [
    "#create a table name students in the sqlite databse\n",
    "cur.execute(\"\"\"\n",
    "create table if not exists students(\n",
    "name text,\n",
    "address text,\n",
    "city text,\n",
    "state text,\n",
    "zip text,\n",
    "phone_number text,\n",
    "primary key(phone_number))\"\"\")"
   ]
  },
  {
   "cell_type": "code",
   "execution_count": 34,
   "id": "68aa2b32-d343-441b-b271-5708ca6e8b29",
   "metadata": {},
   "outputs": [
    {
     "data": {
      "text/plain": [
       "<sqlite3.Cursor at 0x27d20b8ce40>"
      ]
     },
     "execution_count": 34,
     "metadata": {},
     "output_type": "execute_result"
    }
   ],
   "source": [
    "# Add 10 rows of data\n",
    "cur.execute(\"insert into students values('bob', '1 tudor ln', 'manchester', 'ct', '06042', '860-111-1111')\")\n",
    "cur.execute(\"insert into students values('rob', '12 tudor ln', 'manchester', 'ct', '06042', '860-111-1112')\")\n",
    "cur.execute(\"insert into students values('mary', '51 main st', 'south windsor', 'ct', '06028', '929-111-3368')\")\n",
    "cur.execute(\"insert into students values('donnie', '21 red ln', 'hartford', '06101', 'ct', '860-671-8976')\")\n",
    "cur.execute(\"insert into students values('kai', '43 jupiter ln', 'hartford', '06174', 'ct', '860-879-8976')\")\n",
    "cur.execute(\"insert into students values('julian', '24 saturn ave', 'hartford', '06103', 'ct', '860-876-9856')\")\n",
    "cur.execute(\"insert into students values('aiden', '67 north main st', 'hartford', '06103', 'ct', '860-786-8972')\")\n",
    "cur.execute(\"insert into students values('lonnie', '35 red ln', 'hartford', '06183', 'ct', '860-671-7972')\")\n",
    "cur.execute(\"insert into students values('jeff', '2 nature ave', 'hartford', '06074', 'ct', '860-879-8876')\")\n",
    "cur.execute(\"insert into students values('anya', '21 blue ln', 'hartford', '06183', 'ct', '860-893-9067')\")"
   ]
  },
  {
   "cell_type": "code",
   "execution_count": 35,
   "id": "e3548b4a-1fe5-421c-a3a8-56a75237ed67",
   "metadata": {},
   "outputs": [],
   "source": [
    "# Commit after rows are inserted\n",
    "conn.commit()"
   ]
  },
  {
   "cell_type": "code",
   "execution_count": 36,
   "id": "b3bf23d9-8a6b-488c-a77a-642bd59a512d",
   "metadata": {},
   "outputs": [
    {
     "name": "stdout",
     "output_type": "stream",
     "text": [
      "('bob', '1 tudor ln', 'manchester', 'ct', '06042', '860-111-1111')\n",
      "('rob', '12 tudor ln', 'manchester', 'ct', '06042', '860-111-1112')\n",
      "('mary', '51 main st', 'south windsor', 'ct', '06028', '929-111-3368')\n",
      "('donnie', '21 red ln', 'hartford', '06101', 'ct', '860-671-8976')\n",
      "('kai', '43 jupiter ln', 'hartford', '06174', 'ct', '860-879-8976')\n",
      "('julian', '24 saturn ave', 'hartford', '06103', 'ct', '860-876-9856')\n",
      "('aiden', '67 north main st', 'hartford', '06103', 'ct', '860-786-8972')\n",
      "('lonnie', '35 red ln', 'hartford', '06183', 'ct', '860-671-7972')\n",
      "('jeff', '2 nature ave', 'hartford', '06074', 'ct', '860-879-8876')\n",
      "('anya', '21 blue ln', 'hartford', '06183', 'ct', '860-893-9067')\n"
     ]
    }
   ],
   "source": [
    "# execute Query to fetch all rows\n",
    "rows = cur.execute(\"select  * from students\")\n",
    "for row in rows:\n",
    "    print(row)"
   ]
  },
  {
   "cell_type": "code",
   "execution_count": null,
   "id": "9950a994-2e5d-4205-b8a8-ffe9c4493e4b",
   "metadata": {},
   "outputs": [],
   "source": []
  }
 ],
 "metadata": {
  "kernelspec": {
   "display_name": "Python 3 (ipykernel)",
   "language": "python",
   "name": "python3"
  },
  "language_info": {
   "codemirror_mode": {
    "name": "ipython",
    "version": 3
   },
   "file_extension": ".py",
   "mimetype": "text/x-python",
   "name": "python",
   "nbconvert_exporter": "python",
   "pygments_lexer": "ipython3",
   "version": "3.11.4"
  }
 },
 "nbformat": 4,
 "nbformat_minor": 5
}
