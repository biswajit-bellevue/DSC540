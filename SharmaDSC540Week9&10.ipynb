{
 "cells": [
  {
   "cell_type": "markdown",
   "id": "44486fdd-6c70-487e-97a2-70eb651c2ca3",
   "metadata": {},
   "source": [
    "## Assignment Week 9 and 10 - Biswajit Sharma"
   ]
  },
  {
   "cell_type": "markdown",
   "id": "4279535e-0a0c-4420-a8c3-3660a3a73db6",
   "metadata": {},
   "source": [
    "### Question 1 - Activity 9"
   ]
  },
  {
   "cell_type": "code",
   "execution_count": 1,
   "id": "ea5212d1-1fdc-460c-9260-ff285c2fc8c0",
   "metadata": {},
   "outputs": [],
   "source": [
    "# import modules\n",
    "\n",
    "import re\n",
    "import requests\n",
    "from bs4 import BeautifulSoup\n",
    "import pandas as pd\n",
    "import numpy as np\n",
    "from matplotlib import pyplot as plt"
   ]
  },
  {
   "cell_type": "code",
   "execution_count": 2,
   "id": "2d6fab9c-f56d-429f-ba48-5455dbb52feb",
   "metadata": {},
   "outputs": [],
   "source": [
    "# Set up display options\n",
    "pd.options.display.max_columns=60\n",
    "pd.options.display.max_rows=50\n",
    "pd.options.display.max_colwidth=80"
   ]
  },
  {
   "cell_type": "code",
   "execution_count": 3,
   "id": "73cfcdba-14a2-45df-bfc3-668fabfe27dd",
   "metadata": {},
   "outputs": [],
   "source": [
    "#Read the HTML from Gutenberg top 100 ebooks url \"https://www.gutenberg.org/browse/scores/top\"\n",
    "\n",
    "# Using verify=True parameters checks the SSL in a HTTP call via reuests package\n",
    "response = requests.get(\"https://www.gutenberg.org/browse/scores/top\", verify=True)"
   ]
  },
  {
   "cell_type": "code",
   "execution_count": 4,
   "id": "1d4bf8fa-ea67-4d85-9a6f-1e39dfe2ab3c",
   "metadata": {},
   "outputs": [],
   "source": [
    "#function to check status of web request\n",
    "def check_web_request_status(response):\n",
    "    if response.status_code == 200:\n",
    "        print(\"Successful web request\")\n",
    "    else:\n",
    "        print(f\"Web request unsuccessful, Http code: {response.status_code}\")"
   ]
  },
  {
   "cell_type": "code",
   "execution_count": 5,
   "id": "6cdcaecf-2ed7-4e37-bfe9-32a39be845e0",
   "metadata": {},
   "outputs": [
    {
     "name": "stdout",
     "output_type": "stream",
     "text": [
      "Successful web request\n"
     ]
    }
   ],
   "source": [
    "# check the status of web request using the above user defined function\n",
    "check_web_request_status(response)"
   ]
  },
  {
   "cell_type": "code",
   "execution_count": 6,
   "id": "189d4cb9-a314-45ce-8f77-2e2a8dea3568",
   "metadata": {},
   "outputs": [],
   "source": [
    "#decode the web response from bytes to string\n",
    "html_data = response.content.decode()"
   ]
  },
  {
   "cell_type": "code",
   "execution_count": 7,
   "id": "057108ad-a4d0-41af-b95c-2dd0cc4be797",
   "metadata": {},
   "outputs": [],
   "source": [
    "# Use BeautifulSoup for parsing the web html response data\n",
    "soup = BeautifulSoup(html_data, \"html.parser\")"
   ]
  },
  {
   "cell_type": "code",
   "execution_count": 8,
   "id": "cbec8868-6e92-4fee-b2f2-912c24b200ad",
   "metadata": {},
   "outputs": [],
   "source": [
    "#Find all href tags and store in a list\n",
    "hrefs = [a_tag.get(\"href\") for a_tag in soup.find_all(\"a\") ]"
   ]
  },
  {
   "cell_type": "code",
   "execution_count": 9,
   "id": "de83b593-84dc-45bf-a812-a939cd247770",
   "metadata": {},
   "outputs": [
    {
     "name": "stdout",
     "output_type": "stream",
     "text": [
      "First 30 elements:\n",
      " ['/', '/about/', '/about/', '/policy/collection_development.html', '/about/contact_information.html', '/about/background/', '/policy/permission.html', '/policy/privacy_policy.html', '/policy/terms_of_use.html', '/ebooks/', '/ebooks/', '/ebooks/bookshelf/', '/browse/scores/top', '/ebooks/offline_catalogs.html', '/help/', '/help/', '/help/copyright.html', '/help/errata.html', '/help/file_formats.html', '/help/faq.html', '/policy/', '/help/public_domain_ebook_submission.html', '/help/submitting_your_own_work.html', '/help/mobile.html', '/attic/', '/donate/', '/donate/', '#books-last1', '#authors-last1', '#books-last7']\n"
     ]
    }
   ],
   "source": [
    "#print first 30 elements\n",
    "print(f\"First 30 elements:\\n {hrefs[:30]}\")"
   ]
  },
  {
   "cell_type": "code",
   "execution_count": 10,
   "id": "9fe6e0aa-0580-4dbf-881b-fde4b90bbf97",
   "metadata": {},
   "outputs": [],
   "source": [
    "#use a regular expression to find numeric digits in the href links\n",
    "prog = re.compile(r\"\\d+\")"
   ]
  },
  {
   "cell_type": "code",
   "execution_count": 11,
   "id": "4e7badc2-e528-4d0e-9e6f-fec850149b11",
   "metadata": {},
   "outputs": [],
   "source": [
    "file_num = []\n",
    "# the top 100 ebook links we are looking for starts from 33rd position in the above extracted href list\n",
    "for i in range(33,133):\n",
    "    link_str = prog.findall(hrefs[i])\n",
    "    #checks if the regex found the link and didn't returned an empty list\n",
    "    if link_str: \n",
    "        file_num.append(int(link_str[0].strip()))"
   ]
  },
  {
   "cell_type": "code",
   "execution_count": 12,
   "id": "0b65f7ca-c766-41a5-a4cf-d905e409fa2c",
   "metadata": {},
   "outputs": [
    {
     "name": "stdout",
     "output_type": "stream",
     "text": [
      "File numbers of top 100 eBooks:\n",
      "[84, 1342, 2701, 1513, 145, 2641, 100, 37106, 16389, 67979, 6761, 394, 2160, 4085, 1259, 5197, 6593, 11, 64317, 72971, 72969, 174, 72966, 2542, 1952, 1080, 844, 5200, 98, 345, 2554, 76, 28054, 25344, 43, 408, 1260, 72968, 72970, 1400, 72972, 1661, 1232, 6130, 2591, 72967, 46, 5740, 58585, 205, 219, 1727, 1998, 2000, 4300, 72963, 2600, 74, 768, 3207, 72950, 30254, 23, 36034, 1184, 7370, 45, 1497, 41445, 2814, 996, 8492, 514, 42324, 33283, 8800, 4363, 55, 600, 244, 730, 27827, 35, 2680, 16, 3296, 15399, 120, 161, 2852, 67098, 158, 10007, 5827, 10, 16328, 1399, 36, 24869, 16119]\n"
     ]
    }
   ],
   "source": [
    "# Print the file numbers of top 100 eBooks\n",
    "print(f\"File numbers of top 100 eBooks:\\n{file_num}\")"
   ]
  },
  {
   "cell_type": "code",
   "execution_count": 13,
   "id": "71307581-3d6d-4423-8119-f7fea2748ddd",
   "metadata": {},
   "outputs": [
    {
     "name": "stdout",
     "output_type": "stream",
     "text": [
      "\n",
      "\n",
      "\n",
      "\n",
      "Top 100 | Project Gutenberg\n",
      "\n",
      "\n",
      "\n",
      "\n",
      "\n",
      "\n",
      "\n",
      "\n",
      "\n",
      "\n",
      "\n",
      "\n",
      "\n",
      "\n",
      "\n",
      "\n",
      "\n",
      "\n",
      "\n",
      "\n",
      "\n",
      "\n",
      "\n",
      "\n",
      "\n",
      "\n",
      "\n",
      "Menu▾\n",
      "\n",
      "\n",
      "\n",
      "About\n",
      "          ▾\n",
      "\n",
      "▾\n",
      "\n",
      "\n",
      "About Project Gutenberg\n",
      "Collection Development\n",
      "Contact Us\n",
      "History & Philosophy\n",
      "Permissions & License\n",
      "Privacy Policy\n",
      "Terms of Use\n",
      "\n",
      "\n",
      "\n",
      "Search and Browse\n",
      "      \t  ▾\n",
      "\n",
      "▾\n",
      "\n",
      "\n",
      "Book Search\n",
      "Bookshelves\n",
      "Frequently Downloaded\n",
      "Offline Catalogs\n",
      "\n",
      "\n",
      "\n",
      "Help\n",
      "          ▾\n",
      "\n",
      "▾\n",
      "\n",
      "\n",
      "All help topics →\n",
      "Copyright How-To\n",
      "Errata, Fixes and Bug Reports\n",
      "File Formats\n",
      "Frequently Asked Questions\n",
      "Policies →\n",
      "Public Domain eBook Submission\n",
      "Submitting Your Own Work\n",
      "Tablets, Phones and eReaders\n",
      "The Attic →\n",
      "\n",
      "\n",
      "Donate\n",
      "\n",
      "\n",
      "\n",
      "\n",
      "\n",
      "\n",
      "\n",
      "\n",
      "\n",
      "\n",
      "Donation\n",
      "\n",
      "\n",
      "\n",
      "\n",
      "\n",
      "\n",
      "\n",
      "Frequently Viewed or Downloaded\n",
      "These listings are based on the number of times each eBook gets downloaded.\n",
      "      Multiple downloads from the same Internet address on the same day count as one download, and addresses that download more than 100 eBooks in a day are considered robots and are not counted.\n",
      "\n",
      "Downloaded Books\n",
      "2024-02-16289145\n",
      "last 7 days2086226\n",
      "last 30 days7432239\n",
      "\n",
      "\n",
      "\n",
      "Top 100 EBooks yesterday\n",
      "Top 100 Authors yesterday\n",
      "Top 100 EBooks last 7 days\n",
      "Top 100 Authors last 7 days\n",
      "Top 100 EBooks last 30 days\n",
      "Top 100 Authors last 30 days\n",
      "\n",
      "\n",
      "Top 100 EBooks yesterday\n",
      "\n",
      "Frankenstein; Or, The Modern Prometheus by Mary Wollstonecraft Shelley (2749)\n",
      "Pride and Prejudice by Jane Austen (2520)\n",
      "Moby Dick; Or, The Whale by Herman Melville (2175)\n",
      "Romeo and Juliet by William Shakespeare (2064)\n",
      "Middlemarch by George Eliot (1635)\n",
      "A Room with a View by E. M.  Forster (1527)\n",
      "The Complete Works of William Shakespeare by William Shakespeare (1522)\n",
      "Little Women; Or, Meg, Jo, Beth, and Amy by Louisa May Alcott (1501)\n",
      "The Enchanted April by Elizabeth Von Arnim (1358)\n",
      "The Blue Castle: a novel by L. M.  Montgomery (1353)\n",
      "The Adventures of Ferdinand Count Fathom — Complete by T.  Smollett (1275)\n",
      "Cranford by Elizabeth Cleghorn Gaskell (1253)\n",
      "The Expedition of Humphry Clinker by T.  Smollett (1251)\n",
      "The Adventures of Roderick Random by T.  Smollett (1247)\n",
      "Twenty years after by Alexandre Dumas and Auguste Maquet (1\n"
     ]
    }
   ],
   "source": [
    "# Print first 2000 text chars of soup object\n",
    "print(soup.text[:2000])"
   ]
  },
  {
   "cell_type": "code",
   "execution_count": 14,
   "id": "269e30b5-55b5-42af-a1f4-5c438aaab42a",
   "metadata": {},
   "outputs": [
    {
     "data": {
      "text/plain": [
       "113"
      ]
     },
     "execution_count": 14,
     "metadata": {},
     "output_type": "execute_result"
    }
   ],
   "source": [
    "# Find the index of \"Top 100 EBooks yesterday\" in the soup text\n",
    "\n",
    "# splitlines method will split the soup text into list of all lines. Then we can use the index method of that list to locate the index of line\n",
    "# that contains \"Top 100 EBooks yesterday\" text\n",
    "index_num = soup.text.splitlines().index('Top 100 EBooks yesterday')\n",
    "\n",
    "index_num"
   ]
  },
  {
   "cell_type": "code",
   "execution_count": 15,
   "id": "adf34b2e-187f-4dbb-95eb-6adde0f2038f",
   "metadata": {},
   "outputs": [],
   "source": [
    "#Find the next 100 lines of text starting with the above index to create a list\n",
    "# Index method only returns the first occurence, for this problem we necond second occurrence which is 10 lines from the first one, so\n",
    "#start index is index_num + 10\n",
    "start_index = index_num + 10\n",
    "end_index = start_index + 100 # we are fetching the next 100 lines of text\n",
    "temp_list = [line for line in soup.text.splitlines()[start_index: end_index]]"
   ]
  },
  {
   "cell_type": "code",
   "execution_count": 16,
   "id": "50b4ce3c-365a-4c35-87fa-5e178f354f30",
   "metadata": {},
   "outputs": [],
   "source": [
    "# extract book names\n",
    "titles=[]\n",
    "for i in range(len(temp_list)):\n",
    "    # using regex match to extarct only alphabets, . and blanks to locate the start end position of the book name in the string\n",
    "    start,end=re.match('^[a-zA-Z .]*',temp_list[i]).span()\n",
    "    # Using span object to separate book name from the entire text string\n",
    "    titles.append(temp_list[i][start:end].strip())"
   ]
  },
  {
   "cell_type": "code",
   "execution_count": 17,
   "id": "ac3b8b21-1f07-4a1a-9247-0c622b17aa23",
   "metadata": {},
   "outputs": [
    {
     "name": "stdout",
     "output_type": "stream",
     "text": [
      "Frankenstein\n",
      "Pride and Prejudice by Jane Austen\n",
      "Moby Dick\n",
      "Romeo and Juliet by William Shakespeare\n",
      "Middlemarch by George Eliot\n",
      "A Room with a View by E. M.  Forster\n",
      "The Complete Works of William Shakespeare by William Shakespeare\n",
      "Little Women\n",
      "The Enchanted April by Elizabeth Von Arnim\n",
      "The Blue Castle\n",
      "The Adventures of Ferdinand Count Fathom\n",
      "Cranford by Elizabeth Cleghorn Gaskell\n",
      "The Expedition of Humphry Clinker by T.  Smollett\n",
      "The Adventures of Roderick Random by T.  Smollett\n",
      "Twenty years after by Alexandre Dumas and Auguste Maquet\n",
      "My Life\n",
      "History of Tom Jones\n",
      "Alice\n",
      "The Great Gatsby by F. Scott  Fitzgerald\n",
      "A dead man\n",
      "The girl from nowhere by Mrs. Baillie Reynolds\n",
      "The Picture of Dorian Gray by Oscar Wilde\n",
      "The horror at Red Hook by H. P.  Lovecraft\n",
      "A Doll\n",
      "The Yellow Wallpaper by Charlotte Perkins Gilman\n",
      "A Modest Proposal by Jonathan Swift\n",
      "The Importance of Being Earnest\n",
      "Metamorphosis by Franz Kafka\n",
      "A Tale of Two Cities by Charles Dickens\n",
      "Dracula by Bram Stoker\n",
      "Crime and Punishment by Fyodor Dostoyevsky\n",
      "Adventures of Huckleberry Finn by Mark Twain\n",
      "The Brothers Karamazov by Fyodor Dostoyevsky\n",
      "The Scarlet Letter by Nathaniel Hawthorne\n",
      "The Strange Case of Dr. Jekyll and Mr. Hyde by Robert Louis Stevenson\n",
      "The Souls of Black Folk by W. E. B.  Du Bois\n",
      "Jane Eyre\n",
      "Friend and foe\n",
      "Harebell\n",
      "Great Expectations by Charles Dickens\n",
      "Money for nothing by P. G.  Wodehouse\n",
      "The Adventures of Sherlock Holmes by Arthur Conan Doyle\n",
      "The Prince by Niccol\n",
      "The Iliad by Homer\n",
      "Grimms\n",
      "Chalk face by Waldo David Frank\n",
      "A Christmas Carol in Prose\n",
      "Tractatus Logico\n",
      "The Prophet by Kahlil Gibran\n",
      "Walden\n",
      "Heart of Darkness by Joseph Conrad\n",
      "The Odyssey by Homer\n",
      "Thus Spake Zarathustra\n",
      "Don Quijote by Miguel de Cervantes Saavedra\n",
      "Ulysses by James Joyce\n",
      "The nature of the physical world by Sir Arthur Stanley Eddington\n",
      "War and Peace by graf Leo Tolstoy\n",
      "The Adventures of Tom Sawyer\n",
      "Wuthering Heights by Emily Bront\n",
      "Leviathan by Thomas Hobbes\n",
      "The Bunnikins\n",
      "The Romance of Lust\n",
      "Narrative of the Life of Frederick Douglass\n",
      "White Nights and Other Stories by Fyodor Dostoyevsky\n",
      "The Count of Monte Cristo by Alexandre Dumas and Auguste Maquet\n",
      "Second Treatise of Government by John Locke\n",
      "Anne of Green Gables by L. M.  Montgomery\n",
      "The Republic by Plato\n",
      "Frankenstein\n",
      "Dubliners by James Joyce\n",
      "Don Quixote by Miguel de Cervantes Saavedra\n",
      "The King in Yellow by Robert W.  Chambers\n",
      "Little Women by Louisa May Alcott\n",
      "Frankenstein\n",
      "Calculus Made Easy by Silvanus P.  Thompson\n",
      "The divine comedy by Dante Alighieri\n",
      "Beyond Good and Evil by Friedrich Wilhelm Nietzsche\n",
      "The Wonderful Wizard of Oz by L. Frank  Baum\n",
      "Notes from the Underground by Fyodor Dostoyevsky\n",
      "A Study in Scarlet by Arthur Conan Doyle\n",
      "Oliver Twist by Charles Dickens\n",
      "The Kama Sutra of Vatsyayana by Vatsyayana\n",
      "The Time Machine by H. G.  Wells\n",
      "Meditations by Emperor of Rome Marcus Aurelius\n",
      "Peter Pan by J. M.  Barrie\n",
      "The Confessions of St. Augustine by Bishop of Hippo Saint Augustine\n",
      "The Interesting Narrative of the Life of Olaudah Equiano\n",
      "Treasure Island by Robert Louis Stevenson\n",
      "Sense and Sensibility by Jane Austen\n",
      "The Hound of the Baskervilles by Arthur Conan Doyle\n",
      "Winnie\n",
      "Emma by Jane Austen\n",
      "Carmilla by Joseph Sheridan Le Fanu\n",
      "The Problems of Philosophy by Bertrand Russell\n",
      "The King James Version of the Bible\n",
      "Beowulf\n",
      "Anna Karenina by graf Leo Tolstoy\n",
      "The War of the Worlds by H. G.  Wells\n",
      "The R\n",
      "Doctrina Christiana\n"
     ]
    }
   ],
   "source": [
    "# Print the book names\n",
    "for book_name in titles:\n",
    "    print(book_name)"
   ]
  },
  {
   "cell_type": "markdown",
   "id": "40e3cafa-26b9-4a57-b3f4-6836e270982e",
   "metadata": {},
   "source": [
    "### Question 2 - Activity 10"
   ]
  },
  {
   "cell_type": "code",
   "execution_count": 18,
   "id": "53014ccf-adde-44e6-bef5-24bdd094a99d",
   "metadata": {},
   "outputs": [],
   "source": [
    "# import modules\n",
    "\n",
    "import json\n",
    "import urllib.request, urllib.parse, urllib.error\n",
    "import os"
   ]
  },
  {
   "cell_type": "code",
   "execution_count": 19,
   "id": "ddce42d5-21fa-4191-8647-27e27a7ce245",
   "metadata": {},
   "outputs": [],
   "source": [
    "# Retrieve apikey for OMDB from APIkeys.json file\n",
    "with open(\"APIkeys.json\") as fhandle:\n",
    "    secretapikey = json.load(fhandle)[\"apikey\"]"
   ]
  },
  {
   "cell_type": "code",
   "execution_count": 20,
   "id": "74d9214d-7fb0-4bd3-8c2e-277fe1c0cbaf",
   "metadata": {},
   "outputs": [],
   "source": [
    "# OMDB API url\n",
    "serviceurl = \"https://www.omdbapi.com/?\"\n",
    "apikey = f\"&apikey={secretapikey}\""
   ]
  },
  {
   "cell_type": "code",
   "execution_count": 21,
   "id": "8a4f83fe-96d1-47ad-8cb8-0e347f72fa85",
   "metadata": {},
   "outputs": [],
   "source": [
    "# Function to print output data from api response\n",
    "def print_json(json_data):\n",
    "    list_keys=['Title', 'Year', 'Rated', 'Released', 'Runtime', 'Genre', 'Director', 'Writer', \n",
    "               'Actors', 'Plot', 'Language', 'Country', 'Awards', 'Ratings', \n",
    "               'Metascore', 'imdbRating', 'imdbVotes', 'imdbID']\n",
    "    for field_name in list_keys:\n",
    "        if field_name in json_data:\n",
    "            print(f\"{field_name}: {json_data[field_name]}\")"
   ]
  },
  {
   "cell_type": "code",
   "execution_count": 22,
   "id": "da7e3a02-558a-415c-a20b-d5a243a93363",
   "metadata": {},
   "outputs": [],
   "source": [
    "# This function downloads movie poster from poster url provided in OMDB api response\n",
    "def download_poster(data):\n",
    "    title = str(data[\"Title\"]) # converting to string as some movies name can be numbers only like 2012\n",
    "    poster_url = data[\"Poster\"].strip()\n",
    "\n",
    "    # get poster from the poster url\n",
    "    poster_data = urllib.request.urlopen(poster_url).read()\n",
    "    \n",
    "    # Get file extension by splitting at . \n",
    "    file_extension = poster_url.split(\".\")[-1]\n",
    "    \n",
    "    # Prepare file name for storing locally\n",
    "    file_name = f\"{title}.{file_extension}\"\n",
    "    \n",
    "    \n",
    "    cur_dir = os.getcwd()\n",
    "    savelocation=f\"{cur_dir}/Posters\"\n",
    "    \n",
    "    # Creates new directory if the Posters directory does not exist. Otherwise, just use the existing path.\n",
    "    if not os.path.isdir(savelocation):\n",
    "        os.mkdir(savelocation)\n",
    "    \n",
    "    # save in current working directory\n",
    "    with open(f\"{savelocation}/{file_name}\", \"wb\") as outfile:\n",
    "        outfile.write(poster_data)\n",
    "    "
   ]
  },
  {
   "cell_type": "code",
   "execution_count": 23,
   "id": "8584c877-79da-4aa5-b7f5-cca685f207f5",
   "metadata": {},
   "outputs": [],
   "source": [
    "# This function searches movie in OMDB\n",
    "def search_movie(movie_name):\n",
    "    # build full url including qury parameters for HTTP get\n",
    "    full_encoded_url = serviceurl + urllib.parse.urlencode({\"t\":str(movie_name).lower()}) + apikey\n",
    "    try:\n",
    "        data = urllib.request.urlopen(full_encoded_url).read()\n",
    "    except urllib.error.URLError as err:\n",
    "        print(f\"HTTPS error encountered: {err}\")\n",
    "    else:\n",
    "        json_data = json.loads(data)\n",
    "        if json_data[\"Response\"] == \"True\":\n",
    "            print_json(json_data)\n",
    "            download_poster(json_data)\n",
    "        else:\n",
    "            print(f\"Error encountered while getting data from OMDB: {json_data['Error']}\")"
   ]
  },
  {
   "cell_type": "code",
   "execution_count": 24,
   "id": "b2f5d80e-ada1-4950-8224-89c8116bf127",
   "metadata": {},
   "outputs": [
    {
     "name": "stdout",
     "output_type": "stream",
     "text": [
      "Title: Titanic\n",
      "Year: 1997\n",
      "Rated: PG-13\n",
      "Released: 19 Dec 1997\n",
      "Runtime: 194 min\n",
      "Genre: Drama, Romance\n",
      "Director: James Cameron\n",
      "Writer: James Cameron\n",
      "Actors: Leonardo DiCaprio, Kate Winslet, Billy Zane\n",
      "Plot: A seventeen-year-old aristocrat falls in love with a kind but poor artist aboard the luxurious, ill-fated R.M.S. Titanic.\n",
      "Language: English, Swedish, Italian, French\n",
      "Country: United States, Mexico\n",
      "Awards: Won 11 Oscars. 126 wins & 83 nominations total\n",
      "Ratings: [{'Source': 'Internet Movie Database', 'Value': '7.9/10'}, {'Source': 'Rotten Tomatoes', 'Value': '88%'}, {'Source': 'Metacritic', 'Value': '75/100'}]\n",
      "Metascore: 75\n",
      "imdbRating: 7.9\n",
      "imdbVotes: 1,267,049\n",
      "imdbID: tt0120338\n"
     ]
    }
   ],
   "source": [
    "# Searching for movie Titanic\n",
    "search_movie(\"titanic\")"
   ]
  },
  {
   "cell_type": "code",
   "execution_count": 25,
   "id": "3c01f23c-e621-49ee-b6a5-a7feaa291c11",
   "metadata": {},
   "outputs": [
    {
     "name": "stdout",
     "output_type": "stream",
     "text": [
      "Error encountered while getting data from OMDB: Movie not found!\n"
     ]
    }
   ],
   "source": [
    "# Searching for movie Random_error\n",
    "search_movie(\"Random_error\")"
   ]
  },
  {
   "cell_type": "markdown",
   "id": "d1d79b33-880a-4b01-ae37-c2e28982c664",
   "metadata": {},
   "source": [
    "### Question 3"
   ]
  },
  {
   "cell_type": "code",
   "execution_count": 26,
   "id": "4311a2c0-2cef-47f0-a191-6e3060f438aa",
   "metadata": {},
   "outputs": [],
   "source": [
    "# Top headlines API url\n",
    "api_url = \"https://newsapi.org/v2/top-headlines?\""
   ]
  },
  {
   "cell_type": "code",
   "execution_count": 27,
   "id": "c7468db0-4aae-4b5b-a6d8-84c31e269f6e",
   "metadata": {},
   "outputs": [],
   "source": [
    "# Retrieve apikey for News api from APIkeys.json file\n",
    "with open(\"APIkeys.json\") as fhandle:\n",
    "    news_apikey = json.load(fhandle)[\"news_apikey\"]"
   ]
  },
  {
   "cell_type": "code",
   "execution_count": 28,
   "id": "2015cad1-aaaa-405f-86d6-63c7b19ccd7e",
   "metadata": {},
   "outputs": [],
   "source": [
    "# API query parameters in dict format\n",
    "query_params = {\n",
    "    \"apiKey\":news_apikey,\n",
    "    \"country\": \"us\",\n",
    "    \"category\":\"science\"}"
   ]
  },
  {
   "cell_type": "code",
   "execution_count": 29,
   "id": "31ffa19c-5d32-4fcd-88ca-088e0b990e0d",
   "metadata": {},
   "outputs": [],
   "source": [
    "#GET method request to fetch api data using above params\n",
    "response = requests.get(api_url,params=query_params)"
   ]
  },
  {
   "cell_type": "code",
   "execution_count": 30,
   "id": "bd30f903-fe28-44fd-b871-ff3e398e7dba",
   "metadata": {},
   "outputs": [],
   "source": [
    "# This function prints news headlines retrived from HTTP get News API call\n",
    "def print_headlines(data):\n",
    "    for i, article in enumerate(data[\"articles\"]):\n",
    "        if i > 4:\n",
    "            pass\n",
    "        else:\n",
    "            print(f\"News# {i}\")\n",
    "            print(f\"Title: {article['title']}\")\n",
    "            print(f\"Description: {article['description']}\")\n",
    "            print(f\"Source: {article['source']['name']}\")\n",
    "            print(f\"News url: {article['url']}\")\n",
    "            print(\"-\"*100)\n",
    "    "
   ]
  },
  {
   "cell_type": "code",
   "execution_count": 31,
   "id": "a7102408-97ea-4cc2-9187-9582415fd672",
   "metadata": {
    "scrolled": true
   },
   "outputs": [
    {
     "name": "stdout",
     "output_type": "stream",
     "text": [
      "success\n",
      "News# 0\n",
      "Title: Ancient Fossil That Baffled Scientists For Decades Finally Reveals Its True Identity - ScienceAlert\n",
      "Description: In the 90-odd years since it was discovered, we've never found anything like an ancient, early Permian fossil discovered in the Italian Alps.\n",
      "Source: ScienceAlert\n",
      "News url: https://www.sciencealert.com/ancient-fossil-that-baffled-scientists-for-decades-finally-reveals-its-true-identity\n",
      "----------------------------------------------------------------------------------------------------\n",
      "News# 1\n",
      "Title: CRISPR gene editing tool gets a revolutionary high-tech upgrade - Earth.com\n",
      "Description: In the realm of scientific innovation, the past decade has seen the CRISPR/Cas systems emerge as a groundbreaking tool in genome editing.\n",
      "Source: Earth.com\n",
      "News url: https://www.earth.com/news/crispr-gene-editing-gets-a-revolutionary-upgrade-with-new-tool/\n",
      "----------------------------------------------------------------------------------------------------\n",
      "News# 2\n",
      "Title: NASA Telescopes Are Unlocking the Secrets Behind Mysterious Deep Space Signals - SciTechDaily\n",
      "Description: Using two of the agency’s X-ray telescopes, researchers were able to zoom in on a dead star’s erratic behavior as it released a bright, brief burst of radio waves. What’s causing mysterious bursts of radio waves from deep space? Astronomers may be a step clos…\n",
      "Source: SciTechDaily\n",
      "News url: https://scitechdaily.com/nasa-telescopes-are-unlocking-the-secrets-behind-mysterious-deep-space-signals/\n",
      "----------------------------------------------------------------------------------------------------\n",
      "News# 3\n",
      "Title: SpaceX's 300th Falcon 9 rocket launches Starlink satellites from California – Spaceflight Now - Spaceflight Now\n",
      "Description: SpaceX's Falcon 9 rocket flew its 300th mission on Thursday Feb. 16, lifting off from Vandenberg Space Force Base in California at 1:34 p.m. PST (4:34 p.m. EST, 2134 UTC) carrying another batch of sat\n",
      "Source: Spaceflight Now\n",
      "News url: https://spaceflightnow.com/2024/02/15/live-coverage-spacex-to-launch-starlink-satellites-on-falcon-9-rocket-from-vandenberg-space-force-base/\n",
      "----------------------------------------------------------------------------------------------------\n",
      "News# 4\n",
      "Title: Success! SpaceX Launches US Moon Lander in Bid to Make Space History - ScienceAlert\n",
      "Description: A US spaceship attempting a lunar landing lifted off early Thursday from the Kennedy Space Center in Florida, the second such private-led effort this year after the first ended in failure.\n",
      "Source: ScienceAlert\n",
      "News url: https://www.sciencealert.com/success-spacex-launches-us-moon-lander-in-bid-to-make-space-history\n",
      "----------------------------------------------------------------------------------------------------\n"
     ]
    }
   ],
   "source": [
    "# Check if request was successful based on HTTPstatus code and print first 5 headlines\n",
    "if response.status_code == 200:\n",
    "    print(\"success\")\n",
    "    print_headlines(response.json())\n",
    "else:\n",
    "    print(f\"HTTP Error {response.status_code}\")"
   ]
  },
  {
   "cell_type": "markdown",
   "id": "57f7d5c5-0f14-42ef-b1cb-8b079bb51bc8",
   "metadata": {},
   "source": [
    "### Question 4"
   ]
  },
  {
   "cell_type": "code",
   "execution_count": 32,
   "id": "973b7589-c0ba-44f1-882c-46002afb9db4",
   "metadata": {},
   "outputs": [],
   "source": [
    "# Read the CA housing dataset\n",
    "df = pd.read_csv(\"ca_housing_prices.csv\")"
   ]
  },
  {
   "cell_type": "code",
   "execution_count": 33,
   "id": "22d6ca31-10e1-42bb-971e-ff92fe1416f4",
   "metadata": {},
   "outputs": [
    {
     "data": {
      "text/html": [
       "<div>\n",
       "<style scoped>\n",
       "    .dataframe tbody tr th:only-of-type {\n",
       "        vertical-align: middle;\n",
       "    }\n",
       "\n",
       "    .dataframe tbody tr th {\n",
       "        vertical-align: top;\n",
       "    }\n",
       "\n",
       "    .dataframe thead th {\n",
       "        text-align: right;\n",
       "    }\n",
       "</style>\n",
       "<table border=\"1\" class=\"dataframe\">\n",
       "  <thead>\n",
       "    <tr style=\"text-align: right;\">\n",
       "      <th></th>\n",
       "      <th>longitude</th>\n",
       "      <th>latitude</th>\n",
       "      <th>housing_median_age</th>\n",
       "      <th>total_rooms</th>\n",
       "      <th>total_bedrooms</th>\n",
       "      <th>population</th>\n",
       "      <th>households</th>\n",
       "      <th>median_income</th>\n",
       "      <th>median_house_value</th>\n",
       "      <th>ocean_proximity</th>\n",
       "    </tr>\n",
       "  </thead>\n",
       "  <tbody>\n",
       "    <tr>\n",
       "      <th>0</th>\n",
       "      <td>-122.23</td>\n",
       "      <td>37.88</td>\n",
       "      <td>41.0</td>\n",
       "      <td>880.0</td>\n",
       "      <td>129.0</td>\n",
       "      <td>322.0</td>\n",
       "      <td>126.0</td>\n",
       "      <td>8.3252</td>\n",
       "      <td>452600.0</td>\n",
       "      <td>NEAR BAY</td>\n",
       "    </tr>\n",
       "    <tr>\n",
       "      <th>1</th>\n",
       "      <td>-122.22</td>\n",
       "      <td>37.86</td>\n",
       "      <td>21.0</td>\n",
       "      <td>7099.0</td>\n",
       "      <td>1106.0</td>\n",
       "      <td>2401.0</td>\n",
       "      <td>1138.0</td>\n",
       "      <td>8.3014</td>\n",
       "      <td>358500.0</td>\n",
       "      <td>NEAR BAY</td>\n",
       "    </tr>\n",
       "    <tr>\n",
       "      <th>2</th>\n",
       "      <td>-122.24</td>\n",
       "      <td>37.85</td>\n",
       "      <td>52.0</td>\n",
       "      <td>1467.0</td>\n",
       "      <td>190.0</td>\n",
       "      <td>496.0</td>\n",
       "      <td>177.0</td>\n",
       "      <td>7.2574</td>\n",
       "      <td>352100.0</td>\n",
       "      <td>NEAR BAY</td>\n",
       "    </tr>\n",
       "    <tr>\n",
       "      <th>3</th>\n",
       "      <td>-122.25</td>\n",
       "      <td>37.85</td>\n",
       "      <td>52.0</td>\n",
       "      <td>1274.0</td>\n",
       "      <td>235.0</td>\n",
       "      <td>558.0</td>\n",
       "      <td>219.0</td>\n",
       "      <td>5.6431</td>\n",
       "      <td>341300.0</td>\n",
       "      <td>NEAR BAY</td>\n",
       "    </tr>\n",
       "    <tr>\n",
       "      <th>4</th>\n",
       "      <td>-122.25</td>\n",
       "      <td>37.85</td>\n",
       "      <td>52.0</td>\n",
       "      <td>1627.0</td>\n",
       "      <td>280.0</td>\n",
       "      <td>565.0</td>\n",
       "      <td>259.0</td>\n",
       "      <td>3.8462</td>\n",
       "      <td>342200.0</td>\n",
       "      <td>NEAR BAY</td>\n",
       "    </tr>\n",
       "  </tbody>\n",
       "</table>\n",
       "</div>"
      ],
      "text/plain": [
       "   longitude  latitude  housing_median_age  total_rooms  total_bedrooms  \\\n",
       "0    -122.23     37.88                41.0        880.0           129.0   \n",
       "1    -122.22     37.86                21.0       7099.0          1106.0   \n",
       "2    -122.24     37.85                52.0       1467.0           190.0   \n",
       "3    -122.25     37.85                52.0       1274.0           235.0   \n",
       "4    -122.25     37.85                52.0       1627.0           280.0   \n",
       "\n",
       "   population  households  median_income  median_house_value ocean_proximity  \n",
       "0       322.0       126.0         8.3252            452600.0        NEAR BAY  \n",
       "1      2401.0      1138.0         8.3014            358500.0        NEAR BAY  \n",
       "2       496.0       177.0         7.2574            352100.0        NEAR BAY  \n",
       "3       558.0       219.0         5.6431            341300.0        NEAR BAY  \n",
       "4       565.0       259.0         3.8462            342200.0        NEAR BAY  "
      ]
     },
     "execution_count": 33,
     "metadata": {},
     "output_type": "execute_result"
    }
   ],
   "source": [
    "# view few rows\n",
    "df.head()"
   ]
  },
  {
   "cell_type": "code",
   "execution_count": 34,
   "id": "5d78f6b8-8ceb-44b9-ae0d-a7f101a936a2",
   "metadata": {},
   "outputs": [
    {
     "data": {
      "image/png": "[encoded data removed]",
      "text/plain": [
       "<Figure size 640x480 with 1 Axes>"
      ]
     },
     "metadata": {},
     "output_type": "display_data"
    }
   ],
   "source": [
    "# create a histogram of house value\n",
    "plt.hist(df[\"median_house_value\"], bins=50)\n",
    "plt.title(\"Histogram of House Value\")\n",
    "plt.xlabel(\"House Value\")\n",
    "plt.ylabel(\"Frequency\")\n",
    "plt.show()"
   ]
  },
  {
   "cell_type": "code",
   "execution_count": 35,
   "id": "478ce1da-21c7-4bde-a271-a7e53519f6fb",
   "metadata": {},
   "outputs": [
    {
     "data": {
      "image/png": "[encoded data removed]",
      "text/plain": [
       "<Figure size 640x480 with 1 Axes>"
      ]
     },
     "metadata": {},
     "output_type": "display_data"
    }
   ],
   "source": [
    "# create scatter plot of number of bedrooms vs house age\n",
    "plt.scatter(df[\"housing_median_age\"],df[\"total_bedrooms\"])\n",
    "plt.xlabel(\"Housing Age\")\n",
    "plt.ylabel(\"Total Bedrooms\")\n",
    "plt.title(\"Scatter Plot of Total Bedrooms vs Housing Age\")\n",
    "plt.show()"
   ]
  },
  {
   "cell_type": "code",
   "execution_count": 36,
   "id": "016ed3b2-b2e2-45f6-9e86-ee81367049c7",
   "metadata": {},
   "outputs": [
    {
     "data": {
      "image/png": "[encoded data removed]",
      "text/plain": [
       "<Figure size 640x480 with 1 Axes>"
      ]
     },
     "metadata": {},
     "output_type": "display_data"
    }
   ],
   "source": [
    "# create a bar plot of average housing value for ocean proximity\n",
    "\n",
    "# get average median housing value for ocean proximity using group by function\n",
    "grouped = df.groupby(\"ocean_proximity\").mean(\"median_house_value\")[\"median_house_value\"]\n",
    "\n",
    "plt.bar(grouped.index,grouped, width=0.4)\n",
    "plt.xlabel(\"Ocean Proximity\")\n",
    "plt.ylabel(\"Average Housing Age\")\n",
    "plt.title(\"Bar plot of Average Housing Value by Ocean Proximity\")\n",
    "plt.show()"
   ]
  },
  {
   "cell_type": "code",
   "execution_count": null,
   "id": "cdbc891c-67e7-4964-8a5f-0b3a15bae2d5",
   "metadata": {},
   "outputs": [],
   "source": []
  }
 ],
 "metadata": {
  "kernelspec": {
   "display_name": "Python 3 (ipykernel)",
   "language": "python",
   "name": "python3"
  },
  "language_info": {
   "codemirror_mode": {
    "name": "ipython",
    "version": 3
   },
   "file_extension": ".py",
   "mimetype": "text/x-python",
   "name": "python",
   "nbconvert_exporter": "python",
   "pygments_lexer": "ipython3",
   "version": "3.11.4"
  }
 },
 "nbformat": 4,
 "nbformat_minor": 5
}
